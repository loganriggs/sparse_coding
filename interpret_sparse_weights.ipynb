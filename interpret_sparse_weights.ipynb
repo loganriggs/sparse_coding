{
 "cells": [
  {
   "cell_type": "code",
   "execution_count": 6,
   "metadata": {},
   "outputs": [],
   "source": [
    "import torch as torch\n",
    "import os\n",
    "from torch import nn\n",
    "    \n",
    "class mlp_no_bias(nn.Module):\n",
    "    def __init__(self, input_size, output_size=None):\n",
    "        super().__init__()\n",
    "        if(output_size is None):\n",
    "            output_size = input_size\n",
    "        self.linear = nn.Linear(input_size, input_size, bias=False)\n",
    "        self.linear2 = nn.Linear(input_size, output_size, bias=False)\n",
    "        self.relu = nn.ReLU()\n",
    "    def forward(self, x):\n",
    "        x = self.linear(x)\n",
    "        x = self.relu(x)\n",
    "        x = self.linear2(x)\n",
    "        return x\n",
    "    \n",
    "class linear_no_bias(nn.Module):\n",
    "    def __init__(self, input_size, output_size=None):\n",
    "        super().__init__()\n",
    "        if(output_size is None):\n",
    "            output_size = input_size\n",
    "        self.linear = nn.Linear(input_size, output_size, bias=False)\n",
    "    def forward(self, x):\n",
    "        x = self.linear(x)\n",
    "        return x\n",
    "\n",
    "num_layers = 5\n",
    "dir = \"sparse_weights\"\n",
    "linear_name = \"linear_weights_no_bias_{layer}.pt\"\n",
    "mlp_name = \"mlp_weights_no_bias_{layer}.pt\"\n",
    "linear_sparse_connections = []\n",
    "mlp_sparse_connections = []\n",
    "for layer in range(num_layers):\n",
    "    linear_sparse_connections.append(torch.load(os.path.join(dir, linear_name.format(layer=layer))))\n",
    "    mlp_sparse_connections.append(torch.load(os.path.join(dir, mlp_name.format(layer=layer))))"
   ]
  },
  {
   "cell_type": "code",
   "execution_count": 9,
   "metadata": {},
   "outputs": [
    {
     "name": "stdout",
     "output_type": "stream",
     "text": [
      "Large weights: 5\n",
      "Large weights: 6\n",
      "Large weights: 3\n",
      "Large weights: 6\n",
      "Large weights: 13\n",
      "Large weights: 21\n",
      "Large weights: 3\n",
      "Large weights: 3\n",
      "Large weights: 4\n",
      "Large weights: 3\n"
     ]
    }
   ],
   "source": [
    "threshold = 0.0005\n",
    "for i in range (10):\n",
    "    large_weights = (linear_sparse_connections[0].linear.weight[i] > threshold).sum()\n",
    "    print(f\"Large weights: {large_weights}\")"
   ]
  }
 ],
 "metadata": {
  "kernelspec": {
   "display_name": "logan",
   "language": "python",
   "name": "python3"
  },
  "language_info": {
   "codemirror_mode": {
    "name": "ipython",
    "version": 3
   },
   "file_extension": ".py",
   "mimetype": "text/x-python",
   "name": "python",
   "nbconvert_exporter": "python",
   "pygments_lexer": "ipython3",
   "version": "3.10.13"
  }
 },
 "nbformat": 4,
 "nbformat_minor": 2
}
