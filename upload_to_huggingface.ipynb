{
 "cells": [
  {
   "cell_type": "code",
   "execution_count": 1,
   "metadata": {},
   "outputs": [],
   "source": [
    "from huggingface_hub import login"
   ]
  },
  {
   "cell_type": "markdown",
   "metadata": {},
   "source": [
    "## Saving Models\n",
    "Be careful not to overwrite!"
   ]
  },
  {
   "cell_type": "code",
   "execution_count": 2,
   "metadata": {},
   "outputs": [],
   "source": [
    "model_repo_name = \"Benw8888/pythia-6.9b-sae\"\n",
    "model_id = \"Benw8888/pythia-6.9b-sae\"\n",
    "mode = \"scale\"\n",
    "local_file = f\"/root/sparse_coding/trained_models/dahoas-gptj-rm-static_transfer_{mode}_sp204_r4_transformer.h.10.pt\"\n",
    "file_in_repo = f\"transfer_rm_ppo_6b_{mode}.pt\" # \"base_sae_6b.pt\" \"sft_sae_6b.pt\" \"transfer_sft_ppo_6b.pt\""
   ]
  },
  {
   "cell_type": "code",
   "execution_count": null,
   "metadata": {},
   "outputs": [],
   "source": [
    "from huggingface_hub import HfApi\n",
    "api = HfApi()\n",
    "# api.upload_file(\n",
    "#     path_or_fileobj=local_file,\n",
    "#     path_in_repo=file_in_repo,\n",
    "#     repo_id=model_id,\n",
    "#     repo_type=\"model\",\n",
    "# )"
   ]
  },
  {
   "cell_type": "markdown",
   "metadata": {},
   "source": [
    "Saving Dead Features"
   ]
  },
  {
   "cell_type": "code",
   "execution_count": null,
   "metadata": {},
   "outputs": [],
   "source": [
    "model_repo_name = \"Benw8888/pythia-6.9b-sae\"\n",
    "model_id = \"Benw8888/pythia-6.9b-sae\"\n",
    "local_file = f\"/root/sparse_coding/trained_models/target_dead_features.pt\"\n",
    "file_in_repo = f\"ppo_on_rm_dead_features.pt\" # \"base_sae_6b.pt\" \"sft_sae_6b.pt\" \"transfer_sft_ppo_6b.pt\" \"rm_dead_features.pt\""
   ]
  },
  {
   "cell_type": "code",
   "execution_count": null,
   "metadata": {},
   "outputs": [],
   "source": [
    "from huggingface_hub import HfApi\n",
    "api = HfApi()\n",
    "api.upload_file(\n",
    "    path_or_fileobj=local_file,\n",
    "    path_in_repo=file_in_repo,\n",
    "    repo_id=model_id,\n",
    "    repo_type=\"model\",\n",
    ")"
   ]
  },
  {
   "cell_type": "markdown",
   "metadata": {},
   "source": [
    "## Loading Models"
   ]
  },
  {
   "cell_type": "code",
   "execution_count": null,
   "metadata": {},
   "outputs": [],
   "source": []
  },
  {
   "cell_type": "code",
   "execution_count": 3,
   "metadata": {},
   "outputs": [],
   "source": [
    "model_repo_name = \"Benw8888/pythia-6.9b-sae\"\n",
    "model_id = \"Benw8888/pythia-6.9b-sae\"\n",
    "modes = [\"scale\", \"rotation\", \"bias\", \"free\"]\n",
    "huggingface_model_names = [\"rm_sae_gptj.pt\", \"ppo_sae_6b.pt\"] + [f\"transfer_rm_ppo_6b_{mode}.pt\" for mode in modes]\n",
    "huggingface_model_names += [\"base_sae_6b.pt\", \"sft_sae_6b.pt\"] + [f\"transfer_base_sft_6b_{mode}.pt\" for mode in modes]\n",
    "huggingface_model_names += [f\"{model}_dead_features.pt\" for model in [\"base\",\"sft\",\"rm\",\"ppo\"]]"
   ]
  },
  {
   "cell_type": "code",
   "execution_count": 4,
   "metadata": {},
   "outputs": [
    {
     "data": {
      "application/vnd.jupyter.widget-view+json": {
       "model_id": "3bc3ba926b374958811963790cf1b5c1",
       "version_major": 2,
       "version_minor": 0
      },
      "text/plain": [
       "Downloading rm_sae_gptj.pt:   0%|          | 0.00/537M [00:00<?, ?B/s]"
      ]
     },
     "metadata": {},
     "output_type": "display_data"
    },
    {
     "data": {
      "application/vnd.jupyter.widget-view+json": {
       "model_id": "299ab46cb5c244efb75ba752cf3504c9",
       "version_major": 2,
       "version_minor": 0
      },
      "text/plain": [
       "Downloading ppo_sae_6b.pt:   0%|          | 0.00/537M [00:00<?, ?B/s]"
      ]
     },
     "metadata": {},
     "output_type": "display_data"
    },
    {
     "data": {
      "application/vnd.jupyter.widget-view+json": {
       "model_id": "244eabd2c75e47f79c76c1e2e41776e6",
       "version_major": 2,
       "version_minor": 0
      },
      "text/plain": [
       "Downloading (…)r_rm_ppo_6b_scale.pt:   0%|          | 0.00/537M [00:00<?, ?B/s]"
      ]
     },
     "metadata": {},
     "output_type": "display_data"
    },
    {
     "data": {
      "application/vnd.jupyter.widget-view+json": {
       "model_id": "bb609c9bcb1940b19a081b5483a3022c",
       "version_major": 2,
       "version_minor": 0
      },
      "text/plain": [
       "Downloading (…)m_ppo_6b_rotation.pt:   0%|          | 0.00/537M [00:00<?, ?B/s]"
      ]
     },
     "metadata": {},
     "output_type": "display_data"
    },
    {
     "data": {
      "application/vnd.jupyter.widget-view+json": {
       "model_id": "ec516a58b0a840c5bbd0f7ee749b7975",
       "version_major": 2,
       "version_minor": 0
      },
      "text/plain": [
       "Downloading (…)er_rm_ppo_6b_bias.pt:   0%|          | 0.00/537M [00:00<?, ?B/s]"
      ]
     },
     "metadata": {},
     "output_type": "display_data"
    },
    {
     "data": {
      "application/vnd.jupyter.widget-view+json": {
       "model_id": "f289f0079147479c8e13ebe75349b4ee",
       "version_major": 2,
       "version_minor": 0
      },
      "text/plain": [
       "Downloading (…)er_rm_ppo_6b_free.pt:   0%|          | 0.00/537M [00:00<?, ?B/s]"
      ]
     },
     "metadata": {},
     "output_type": "display_data"
    },
    {
     "data": {
      "application/vnd.jupyter.widget-view+json": {
       "model_id": "a8b5dfd513e9486ea8bf05941988874c",
       "version_major": 2,
       "version_minor": 0
      },
      "text/plain": [
       "Downloading base_sae_6b.pt:   0%|          | 0.00/537M [00:00<?, ?B/s]"
      ]
     },
     "metadata": {},
     "output_type": "display_data"
    },
    {
     "data": {
      "application/vnd.jupyter.widget-view+json": {
       "model_id": "ac1bf5b4c03c46219725f937a4986495",
       "version_major": 2,
       "version_minor": 0
      },
      "text/plain": [
       "Downloading sft_sae_6b.pt:   0%|          | 0.00/537M [00:00<?, ?B/s]"
      ]
     },
     "metadata": {},
     "output_type": "display_data"
    },
    {
     "data": {
      "application/vnd.jupyter.widget-view+json": {
       "model_id": "9b011f7b25e944e285df398041d55390",
       "version_major": 2,
       "version_minor": 0
      },
      "text/plain": [
       "Downloading (…)base_sft_6b_scale.pt:   0%|          | 0.00/537M [00:00<?, ?B/s]"
      ]
     },
     "metadata": {},
     "output_type": "display_data"
    },
    {
     "data": {
      "application/vnd.jupyter.widget-view+json": {
       "model_id": "370ba83795ab4017962b6eba51fe82e0",
       "version_major": 2,
       "version_minor": 0
      },
      "text/plain": [
       "Downloading (…)e_sft_6b_rotation.pt:   0%|          | 0.00/537M [00:00<?, ?B/s]"
      ]
     },
     "metadata": {},
     "output_type": "display_data"
    },
    {
     "data": {
      "application/vnd.jupyter.widget-view+json": {
       "model_id": "54507b5b3003479bb4610d56745556c3",
       "version_major": 2,
       "version_minor": 0
      },
      "text/plain": [
       "Downloading (…)_base_sft_6b_bias.pt:   0%|          | 0.00/537M [00:00<?, ?B/s]"
      ]
     },
     "metadata": {},
     "output_type": "display_data"
    },
    {
     "data": {
      "application/vnd.jupyter.widget-view+json": {
       "model_id": "0f5e95944f5c43e4b5a081e92894d109",
       "version_major": 2,
       "version_minor": 0
      },
      "text/plain": [
       "Downloading (…)_base_sft_6b_free.pt:   0%|          | 0.00/537M [00:00<?, ?B/s]"
      ]
     },
     "metadata": {},
     "output_type": "display_data"
    },
    {
     "data": {
      "application/vnd.jupyter.widget-view+json": {
       "model_id": "ad26b84867074df48acf5d6e898ae75b",
       "version_major": 2,
       "version_minor": 0
      },
      "text/plain": [
       "Downloading base_dead_features.pt:   0%|          | 0.00/66.3k [00:00<?, ?B/s]"
      ]
     },
     "metadata": {},
     "output_type": "display_data"
    },
    {
     "data": {
      "application/vnd.jupyter.widget-view+json": {
       "model_id": "a71b5065448e4741ae77ea5e4d6537b0",
       "version_major": 2,
       "version_minor": 0
      },
      "text/plain": [
       "Downloading sft_dead_features.pt:   0%|          | 0.00/66.3k [00:00<?, ?B/s]"
      ]
     },
     "metadata": {},
     "output_type": "display_data"
    },
    {
     "data": {
      "application/vnd.jupyter.widget-view+json": {
       "model_id": "2a6ffe79d69b4d0ea98d70f20586f389",
       "version_major": 2,
       "version_minor": 0
      },
      "text/plain": [
       "Downloading rm_dead_features.pt:   0%|          | 0.00/66.3k [00:00<?, ?B/s]"
      ]
     },
     "metadata": {},
     "output_type": "display_data"
    },
    {
     "data": {
      "application/vnd.jupyter.widget-view+json": {
       "model_id": "d58d6702f3864751951c22a6e305a0d0",
       "version_major": 2,
       "version_minor": 0
      },
      "text/plain": [
       "Downloading ppo_dead_features.pt:   0%|          | 0.00/66.3k [00:00<?, ?B/s]"
      ]
     },
     "metadata": {},
     "output_type": "display_data"
    }
   ],
   "source": [
    "from huggingface_hub import hf_hub_download\n",
    "import torch\n",
    "# model_id = \"Elriggs/pythia-70m-deduped-layer-2\"\n",
    "\n",
    "for hf_name in huggingface_model_names:\n",
    "    ae_download_location = hf_hub_download(repo_id=model_id, filename=hf_name)\n",
    "    downloaded_autoencoder = torch.load(ae_download_location)\n",
    "        \n",
    "    import os\n",
    "    if not os.path.exists(\"trained_models\"):\n",
    "        os.makedirs(\"trained_models\")\n",
    "    # Save model\n",
    "    torch.save(downloaded_autoencoder, f\"trained_models/{hf_name}\")"
   ]
  },
  {
   "cell_type": "code",
   "execution_count": null,
   "metadata": {},
   "outputs": [],
   "source": []
  },
  {
   "cell_type": "code",
   "execution_count": null,
   "metadata": {},
   "outputs": [],
   "source": [
    "# save reward model\n",
    "\n",
    "from huggingface_hub import hf_hub_download\n",
    "import torch\n",
    "\n",
    "ae_download_location = hf_hub_download(repo_id=\"Dahoas/gptj-rm-static\", filename=\"hf_ckpt.pt\")\n",
    "downloaded_rm = torch.load(ae_download_location)\n",
    "    \n",
    "import os\n",
    "if not os.path.exists(\"llms\"):\n",
    "    os.makedirs(\"llms\")\n",
    "# Save model\n",
    "torch.save(downloaded_rm, f\"llms/gptj-rm-static.pt\")"
   ]
  },
  {
   "cell_type": "code",
   "execution_count": null,
   "metadata": {},
   "outputs": [],
   "source": [
    "downloaded_rm"
   ]
  },
  {
   "cell_type": "code",
   "execution_count": null,
   "metadata": {},
   "outputs": [],
   "source": []
  }
 ],
 "metadata": {
  "kernelspec": {
   "display_name": "logan",
   "language": "python",
   "name": "python3"
  },
  "language_info": {
   "codemirror_mode": {
    "name": "ipython",
    "version": 3
   },
   "file_extension": ".py",
   "mimetype": "text/x-python",
   "name": "python",
   "nbconvert_exporter": "python",
   "pygments_lexer": "ipython3",
   "version": "3.10.13"
  },
  "orig_nbformat": 4
 },
 "nbformat": 4,
 "nbformat_minor": 2
}
