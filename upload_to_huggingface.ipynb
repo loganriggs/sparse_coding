{
 "cells": [
  {
   "cell_type": "code",
   "execution_count": null,
   "metadata": {},
   "outputs": [],
   "source": [
    "from huggingface_hub import login"
   ]
  },
  {
   "cell_type": "markdown",
   "metadata": {},
   "source": [
    "## Saving Models\n",
    "Be careful not to overwrite!"
   ]
  },
  {
   "cell_type": "code",
   "execution_count": null,
   "metadata": {},
   "outputs": [],
   "source": [
    "model_repo_name = \"Benw8888/pythia-6.9b-sae\"\n",
    "model_id = \"Benw8888/pythia-6.9b-sae\"\n",
    "mode = \"bias\"\n",
    "chkpt = 0\n",
    "local_file = f\"/root/sparse_coding/trained_models/pythia-70m-helpful-sft_sp25_r4_gpt_neox.layers.4.pt\"\n",
    "file_in_repo = f\"sft_sae_70m.pt\" # \"sft_sae_6b.pt\" \"transfer_sft_ppo_6b.pt\" f\"transfer_sft_base_6b_{mode}.pt\"\n",
    "# each checkpoint was 8mil tokens, so chkpt 6 was 56mil tokens (0 indexed)"
   ]
  },
  {
   "cell_type": "code",
   "execution_count": null,
   "metadata": {},
   "outputs": [],
   "source": [
    "from huggingface_hub import HfApi\n",
    "api = HfApi()\n",
    "api.upload_file(\n",
    "    path_or_fileobj=local_file,\n",
    "    path_in_repo=file_in_repo,\n",
    "    repo_id=model_id,\n",
    "    repo_type=\"model\",\n",
    ")"
   ]
  },
  {
   "cell_type": "code",
   "execution_count": null,
   "metadata": {},
   "outputs": [],
   "source": [
    "model_repo_name = \"Benw8888/pythia-6.9b-sae\"\n",
    "model_id = \"Benw8888/pythia-6.9b-sae\"\n",
    "modes = [\"scale\", \"rotation\", \"bias\", \"free\"]\n",
    "\n",
    "for mode in modes:\n",
    "    # for chkpt in [0,1,2,3,4,5,6]:\n",
    "        \n",
    "        local_file = f\"/root/sparse_coding/trained_models/pythia-70m-helpful-sft_pythia-70m_{mode}_r4_gpt_neox.layers.4_ckpt4.pt\"\n",
    "        file_in_repo = f\"transfer_sft_base_70m_{mode}.pt\" # \"sft_sae_6b.pt\" \"transfer_sft_ppo_6b.pt\" f\"transfer_sft_base_6b_{mode}.pt\"\n",
    "        # each checkpoint was 8mil tokens, so chkpt 6 was 56mil tokens (0 indexed)\n",
    "\n",
    "        from huggingface_hub import HfApi\n",
    "        api = HfApi()\n",
    "        api.upload_file(\n",
    "            path_or_fileobj=local_file,\n",
    "            path_in_repo=file_in_repo,\n",
    "            repo_id=model_id,\n",
    "            repo_type=\"model\",\n",
    "        )"
   ]
  },
  {
   "cell_type": "markdown",
   "metadata": {},
   "source": [
    "Saving Dead Features"
   ]
  },
  {
   "cell_type": "code",
   "execution_count": null,
   "metadata": {},
   "outputs": [],
   "source": [
    "model_repo_name = \"Benw8888/pythia-6.9b-sae\"\n",
    "model_id = \"Benw8888/pythia-6.9b-sae\"\n",
    "local_file = f\"/root/sparse_coding/trained_models/sft_dead_features_70m.pt\"\n",
    "file_in_repo = f\"sft_dead_features_70m.pt\" # \"base_sae_6b.pt\" \"sft_sae_6b.pt\" \"transfer_sft_ppo_6b.pt\" \"rm_dead_features.pt\" \"base_dead_features_70m.pt\""
   ]
  },
  {
   "cell_type": "code",
   "execution_count": null,
   "metadata": {},
   "outputs": [],
   "source": [
    "from huggingface_hub import HfApi\n",
    "api = HfApi()\n",
    "api.upload_file(\n",
    "    path_or_fileobj=local_file,\n",
    "    path_in_repo=file_in_repo,\n",
    "    repo_id=model_id,\n",
    "    repo_type=\"model\",\n",
    ")"
   ]
  },
  {
   "cell_type": "markdown",
   "metadata": {},
   "source": [
    "## Loading Models"
   ]
  },
  {
   "cell_type": "code",
   "execution_count": null,
   "metadata": {},
   "outputs": [],
   "source": []
  },
  {
   "cell_type": "code",
   "execution_count": null,
   "metadata": {},
   "outputs": [],
   "source": [
    "\n",
    "model_repo_name = \"Benw8888/pythia-6.9b-sae\"\n",
    "model_id = \"Benw8888/pythia-6.9b-sae\"\n",
    "modes = [\"scale\", \"rotation\", \"bias\", \"free\"]\n",
    "huggingface_model_names = []\n",
    "# huggingface_model_names += [\"rm_sae_gptj.pt\", \"ppo_sae_6b.pt\"] + [f\"transfer_rm_ppo_6b_{mode}.pt\" for mode in modes]\n",
    "# huggingface_model_names += [\"base_sae_6b.pt\", \"sft_sae_6b.pt\"] + [f\"transfer_base_sft_6b_{mode}.pt\" for mode in modes]\n",
    "# huggingface_model_names += [f\"transfer_sft_base_6b_{mode}_6.pt\" for mode in modes]\n",
    "# huggingface_model_names += [f\"transfer_base_sft_6b_{mode}_6.pt\" for mode in modes]\n",
    "# huggingface_model_names += [f\"{model}_dead_features.pt\" for model in [\"base\",\"sft\",\"rm\",\"ppo\"]]\n",
    "# huggingface_model_names += [\"base_sae_70m.pt\", \"sft_sae_70m.pt\"]\n",
    "huggingface_model_names += [f\"transfer_base_sft_70m_{mode}.pt\" for mode in modes]\n",
    "huggingface_model_names += [f\"transfer_sft_base_70m_{mode}.pt\" for mode in modes]\n",
    "\n",
    "\n",
    "# huggingface_model_names = [\"base_sae_6b.pt\"]"
   ]
  },
  {
   "cell_type": "code",
   "execution_count": null,
   "metadata": {},
   "outputs": [],
   "source": [
    "from huggingface_hub import hf_hub_download\n",
    "import torch\n",
    "# model_id = \"Elriggs/pythia-70m-deduped-layer-2\"\n",
    "\n",
    "for hf_name in huggingface_model_names:\n",
    "    ae_download_location = hf_hub_download(repo_id=model_id, filename=hf_name)\n",
    "    downloaded_autoencoder = torch.load(ae_download_location)\n",
    "        \n",
    "    import os\n",
    "    if not os.path.exists(\"trained_models\"):\n",
    "        os.makedirs(\"trained_models\")\n",
    "    # Save model\n",
    "    torch.save(downloaded_autoencoder, f\"trained_models/{hf_name}\")"
   ]
  },
  {
   "cell_type": "code",
   "execution_count": null,
   "metadata": {},
   "outputs": [],
   "source": []
  },
  {
   "cell_type": "code",
   "execution_count": null,
   "metadata": {},
   "outputs": [],
   "source": [
    "# save reward model\n",
    "\n",
    "from huggingface_hub import hf_hub_download\n",
    "import torch\n",
    "\n",
    "ae_download_location = hf_hub_download(repo_id=\"Dahoas/gptj-rm-static\", filename=\"hf_ckpt.pt\")\n",
    "downloaded_rm = torch.load(ae_download_location)\n",
    "    \n",
    "import os\n",
    "if not os.path.exists(\"llms\"):\n",
    "    os.makedirs(\"llms\")\n",
    "# Save model\n",
    "torch.save(downloaded_rm, f\"llms/gptj-rm-static.pt\")"
   ]
  },
  {
   "cell_type": "code",
   "execution_count": null,
   "metadata": {},
   "outputs": [],
   "source": [
    "downloaded_rm"
   ]
  },
  {
   "cell_type": "code",
   "execution_count": null,
   "metadata": {},
   "outputs": [],
   "source": []
  }
 ],
 "metadata": {
  "kernelspec": {
   "display_name": "logan",
   "language": "python",
   "name": "python3"
  },
  "language_info": {
   "codemirror_mode": {
    "name": "ipython",
    "version": 3
   },
   "file_extension": ".py",
   "mimetype": "text/x-python",
   "name": "python",
   "nbconvert_exporter": "python",
   "pygments_lexer": "ipython3",
   "version": "3.10.13"
  },
  "orig_nbformat": 4
 },
 "nbformat": 4,
 "nbformat_minor": 2
}
