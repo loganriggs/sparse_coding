{
 "cells": [
  {
   "cell_type": "code",
   "execution_count": null,
   "metadata": {},
   "outputs": [],
   "source": [
    "import torch\n",
    "import numpy as np\n",
    "import argparse\n",
    "from utils import dotdict\n",
    "from activation_dataset import setup_token_data\n",
    "import wandb\n",
    "import json\n",
    "from datetime import datetime\n",
    "from tqdm import tqdm\n",
    "from einops import rearrange\n",
    "import matplotlib.pyplot as plt\n",
    "\n",
    "\n",
    "cfg = dotdict()\n",
    "# models: \"EleutherAI/pythia-6.9b\", \"usvsnsp/pythia-6.9b-ppo\", \"lomahony/eleuther-pythia6.9b-hh-sft\", \"reciprocate/dahoas-gptj-rm-static\"\n",
    "# \"EleutherAI/pythia-70m\", \"lomahony/eleuther-pythia70m-hh-sft\"\n",
    "cfg.model_name=\"EleutherAI/pythia-70m\"\n",
    "cfg.target_name=\"lomahony/eleuther-pythia70m-hh-sft\"\n",
    "cfg.layers=[0,1,2,3,4,5]\n",
    "cfg.setting=\"residual\"\n",
    "# cfg.tensor_name=\"gpt_neox.layers.{layer}\"\n",
    "cfg.tensor_name=\"gpt_neox.layers.{layer}\" # \"gpt_neox.layers.{layer}\" (pythia), \"transformer.h.{layer}\" (rm)\n",
    "cfg.target_tensor_name=\"gpt_neox.layers.{layer}\"\n",
    "original_l1_alpha = 8e-4\n",
    "cfg.l1_alpha=original_l1_alpha\n",
    "cfg.l1_alphas=[0, 1e-5, 2e-5, 4e-5, 8e-5, 1e-4, 2e-4, 4e-4, 8e-4, 1e-3, 2e-3, 4e-3, 8e-3]\n",
    "# cfg.l1_alphas=[0, 1e-5, 1e-4, 2e-4, 4e-4, 8e-4, 1e-3, 2e-3, 4e-3, 8e-3]\n",
    "cfg.sparsity=None\n",
    "cfg.num_epochs=10\n",
    "cfg.model_batch_size=8 * 8\n",
    "cfg.lr=1e-3\n",
    "cfg.kl=False\n",
    "cfg.reconstruction=False\n",
    "# cfg.dataset_name=\"NeelNanda/pile-10k\"\n",
    "cfg.dataset_name=\"Elriggs/openwebtext-100k\"\n",
    "cfg.device=\"cuda:0\"\n",
    "cfg.ratio = 4\n",
    "cfg.seed = 0\n",
    "cfg.max_length = 256\n",
    "# cfg.device=\"cpu\""
   ]
  },
  {
   "cell_type": "code",
   "execution_count": null,
   "metadata": {},
   "outputs": [],
   "source": [
    "# base_name = \"sft\"  # base, rm\n",
    "# capitalized_base_name = \"SFT'd\" # Base, RM, SFT'd\n",
    "# target_name = \"base\"  # sft, ppo\n",
    "# finetuning_type = \"Base\"  # SFT'd, RLHF'd\n",
    "\n",
    "base_name = \"base\"  # base, rm\n",
    "capitalized_base_name = \"Base\" # Base, RM, SFT'd\n",
    "target_name = \"sft\"  # sft, ppo\n",
    "finetuning_type = \"SFT'd\"  # SFT'd, RLHF'd\n"
   ]
  },
  {
   "cell_type": "code",
   "execution_count": null,
   "metadata": {},
   "outputs": [],
   "source": [
    "tensor_names = [cfg.tensor_name.format(layer=layer) for layer in cfg.layers]\n",
    "target_tensor_names = [cfg.target_tensor_name.format(layer=layer) for layer in cfg.layers]"
   ]
  },
  {
   "cell_type": "code",
   "execution_count": null,
   "metadata": {},
   "outputs": [],
   "source": [
    "# Initialize New transfer autoencoder\n",
    "# from autoencoders.learned_dict import TiedSAE, UntiedSAE, AnthropicSAE, TransferSAE\n",
    "from torch import nn\n",
    "\n",
    "modes = [\"scale\", \"rotation\", \"bias\", \"free\"]\n",
    "mode = \"free\"\n",
    "\n",
    "checkpoint = 0\n",
    "\n",
    "# mode_tsae = torch.load(f\"trained_models/transfer_{base_name}_{target_name}_70m_{mode}.pt\")\n",
    "mode_tsaes = []\n",
    "autoTEDs = []\n",
    "dead_features = []\n",
    "\n",
    "model_dir = \"/root/sparse_coding/trained_models\"\n",
    "for layer in cfg.layers:\n",
    "    l1_tsaes = []\n",
    "    l1_autoTEDS = []\n",
    "    l1_dead_features = []\n",
    "    for l1_alpha in cfg.l1_alphas:\n",
    "        mode_tsae = torch.load(f\"{model_dir}/transfer_base_sft_70m/transfer_base_sft_70m_{mode}_{layer}_{l1_alpha}.pt\")\n",
    "        mode_tsae.to_device(cfg.device)\n",
    "        l1_tsaes.append(mode_tsae)\n",
    "        \n",
    "        autoTED = torch.load(f\"{model_dir}/base_autoTED_70m/base_autoTED_70m_{layer}_{l1_alpha}.pt\")\n",
    "        autoTED.to_device(cfg.device)\n",
    "        l1_autoTEDS.append(autoTED)\n",
    "        \n",
    "        c = torch.load(f\"{model_dir}/base_dead_features_70m/base_dead_features_70m_{layer}_{l1_alpha}.pt\")\n",
    "        c.to(cfg.device)\n",
    "        l1_dead_features.append(c)\n",
    "        \n",
    "    mode_tsaes.append(l1_tsaes)\n",
    "    autoTEDs.append(l1_autoTEDS)\n",
    "    dead_features.append(l1_dead_features)\n"
   ]
  },
  {
   "cell_type": "code",
   "execution_count": null,
   "metadata": {},
   "outputs": [],
   "source": [
    "scales = mode_tsae.get_feature_scales()[live_features]\n",
    "reference_scales = autoTED.get_feature_scales()[live_features]\n",
    "# feature_vectors = transfer_free.get_learned_dict()[live_features]\n",
    "list_scales = list((scales/reference_scales).abs().detach().cpu().numpy())\n",
    "print(sorted(list_scales))\n",
    "# plt.plot(scales.detach().cpu().numpy())"
   ]
  },
  {
   "cell_type": "code",
   "execution_count": null,
   "metadata": {},
   "outputs": [],
   "source": [
    "plt.plot(sorted(list_scales))\n",
    "plt.title(f\"Feature Scaling from {capitalized_base_name} to {finetuning_type} 70m LLM (Checkpoint {checkpoint})\")\n",
    "plt.xlabel(\"Feature\")\n",
    "plt.savefig(f\"feature_scaling_{base_name}_{target_name}_{mode}_ckpt{checkpoint}_70m\")"
   ]
  },
  {
   "cell_type": "code",
   "execution_count": null,
   "metadata": {},
   "outputs": [],
   "source": [
    "dead_features[live_features]"
   ]
  },
  {
   "cell_type": "code",
   "execution_count": null,
   "metadata": {},
   "outputs": [],
   "source": [
    "for lay in range(len(cfg.layers)):\n",
    "    for l1 in range(len(cfg.l1_alphas)):\n",
    "        layer = cfg.layers[lay]\n",
    "        l1_alpha = cfg.l1_alphas[l1]\n",
    "        \n",
    "        mode_tsae = mode_tsaes[lay][l1]\n",
    "        autoTED = autoTEDs[lay][l1]\n",
    "        acts = dead_features[lay][l1]\n",
    "        \n",
    "        scales = mode_tsae.get_feature_scales()\n",
    "        reference_scales = autoTED.get_feature_scales()\n",
    "        list_scales = list((scales/reference_scales).abs().detach().cpu().numpy())\n",
    "\n",
    "        plt.scatter(acts.log10(), list_scales, s=5)\n",
    "        plt.title(f\"Feature Scaling from {capitalized_base_name} to {finetuning_type} 70m LLM vs Activations (Layer {layer}, L1 {l1_alpha})\")\n",
    "        plt.xlabel(\"Log10 of Total Feature Activations\")\n",
    "        plt.ylabel(\"Feature Scaling\")\n",
    "        plt.ylim(0,6)\n",
    "        # plt.savefig(f\"feature_scaling_vs_activations_{base_name}_{target_name}_{mode}_ckpt{checkpoint}_70m\")"
   ]
  },
  {
   "cell_type": "code",
   "execution_count": null,
   "metadata": {},
   "outputs": [],
   "source": [
    "lay = 3\n",
    "# l1 = 12\n",
    "for l1 in range(0,len(cfg.l1_alphas), 3):\n",
    "    layer = cfg.layers[lay]\n",
    "    l1_alpha = cfg.l1_alphas[l1]\n",
    "    print(l1_alpha)\n",
    "\n",
    "    mode_tsae = mode_tsaes[lay][l1]\n",
    "    autoTED = autoTEDs[lay][l1]\n",
    "    acts = dead_features[lay][l1]\n",
    "\n",
    "    print(sum(acts < 10**6))\n",
    "    print(sum(acts > 10**6))\n",
    "\n",
    "    scales = mode_tsae.get_feature_scales()\n",
    "    reference_scales = autoTED.get_feature_scales()\n",
    "    list_scales = list((scales/reference_scales).abs().detach().cpu().numpy())\n",
    "    list_scales = list((reference_scales).abs().detach().cpu().numpy())\n",
    "    # list_scales = list((scales).abs().detach().cpu().numpy())\n",
    "\n",
    "    plt.scatter(acts.log10(), list_scales, s=5)\n",
    "    plt.title(f\"AutoTED Scaling from {capitalized_base_name} to {finetuning_type} 70m LLM vs Activations (Layer {layer})\")\n",
    "    plt.xlabel(\"Log10 of Total Feature Activations\")\n",
    "    plt.ylabel(\"Feature Scaling\")\n",
    "    plt.ylim(0,6)\n",
    "    # plt.savefig(f\"feature_scaling_vs_activations_{base_name}_{target_name}_{mode}_ckpt{checkpoint}_70m\")"
   ]
  },
  {
   "cell_type": "code",
   "execution_count": null,
   "metadata": {},
   "outputs": [],
   "source": [
    "lay = 4\n",
    "# l1 = 12\n",
    "for l1 in range(0,len(cfg.l1_alphas), 3):\n",
    "    layer = cfg.layers[lay]\n",
    "    l1_alpha = cfg.l1_alphas[l1]\n",
    "\n",
    "    mode_tsae = mode_tsaes[lay][l1]\n",
    "    autoTED = autoTEDs[lay][l1]\n",
    "    acts = dead_features[lay][l1]\n",
    "    print(sum(acts < 10**4))\n",
    "    print(sum((acts > 10**4) * (acts < 10**6)))\n",
    "    print(sum(acts > 10**6))\n",
    "\n",
    "    scales = mode_tsae.get_feature_scales()\n",
    "    reference_scales = autoTED.get_feature_scales()\n",
    "    list_scales = list((scales/reference_scales).abs().detach().cpu().numpy())\n",
    "    # list_scales = list((reference_scales).abs().detach().cpu().numpy())\n",
    "    # list_scales = list((scales).abs().detach().cpu().numpy())\n",
    "\n",
    "    plt.scatter(acts.log10(), list_scales, s=2)\n",
    "    plt.title(f\"Feature Scaling from {capitalized_base_name} to {finetuning_type} 70m LLM vs Activations (Layer {layer})\")\n",
    "    plt.xlabel(\"Log10 of Total Feature Activations\")\n",
    "    plt.ylabel(\"Feature Scaling\")\n",
    "    plt.ylim(0,6)\n",
    "    # plt.savefig(f\"feature_scaling_vs_activations_{base_name}_{target_name}_{mode}_ckpt{checkpoint}_70m\")"
   ]
  },
  {
   "cell_type": "code",
   "execution_count": null,
   "metadata": {},
   "outputs": [],
   "source": [
    "# most scaled features\n",
    "lay = 4\n",
    "l1 = 8\n",
    "layer = cfg.layers[lay]\n",
    "l1_alpha = cfg.l1_alphas[l1]\n",
    "\n",
    "print(f\"Layer {lay} (0 indexed), l1 {l1_alpha}\")\n",
    "\n",
    "mode_tsae = mode_tsaes[lay][l1]\n",
    "autoTED = autoTEDs[lay][l1]\n",
    "acts = dead_features[lay][l1]\n",
    "print(sum(acts < 10**4))\n",
    "print(sum((acts > 10**4) * (acts < 10**6)))\n",
    "print(sum(acts > 10**6))\n",
    "\n",
    "large_filter = acts > 10**6\n",
    "\n",
    "scales = mode_tsae.get_feature_scales()\n",
    "reference_scales = autoTED.get_feature_scales()\n",
    "list_scales = ((scales/reference_scales).abs().detach().cpu().numpy())\n",
    "\n",
    "argsorted_scales = [id for id in np.argsort(list_scales) if large_filter[id]==1]  # filtered to only include features with large activations\n",
    "\n",
    "print(f\"Top 10 scaled are: {argsorted_scales[-10:][::-1]}\")\n",
    "print(f\"Bottom 10 scaled are: {argsorted_scales[:10]}\")"
   ]
  },
  {
   "cell_type": "code",
   "execution_count": null,
   "metadata": {},
   "outputs": [],
   "source": [
    "argsorted_scales[0]"
   ]
  },
  {
   "cell_type": "code",
   "execution_count": null,
   "metadata": {},
   "outputs": [],
   "source": [
    "large_filter[662]"
   ]
  },
  {
   "cell_type": "code",
   "execution_count": null,
   "metadata": {},
   "outputs": [],
   "source": [
    "list_scales[662]"
   ]
  },
  {
   "cell_type": "code",
   "execution_count": null,
   "metadata": {},
   "outputs": [],
   "source": []
  }
 ],
 "metadata": {
  "kernelspec": {
   "display_name": "logan",
   "language": "python",
   "name": "python3"
  },
  "language_info": {
   "codemirror_mode": {
    "name": "ipython",
    "version": 3
   },
   "file_extension": ".py",
   "mimetype": "text/x-python",
   "name": "python",
   "nbconvert_exporter": "python",
   "pygments_lexer": "ipython3",
   "version": "3.10.13"
  },
  "orig_nbformat": 4
 },
 "nbformat": 4,
 "nbformat_minor": 2
}
