{
 "cells": [
  {
   "cell_type": "code",
   "execution_count": 2,
   "metadata": {},
   "outputs": [
    {
     "name": "stderr",
     "output_type": "stream",
     "text": [
      "/root/logan/lib/python3.10/site-packages/tqdm/auto.py:21: TqdmWarning: IProgress not found. Please update jupyter and ipywidgets. See https://ipywidgets.readthedocs.io/en/stable/user_install.html\n",
      "  from .autonotebook import tqdm as notebook_tqdm\n"
     ]
    },
    {
     "name": "stdout",
     "output_type": "stream",
     "text": [
      "Using device: cuda\n"
     ]
    }
   ],
   "source": [
    "import os\n",
    "from pathlib import Path\n",
    "\n",
    "import torch\n",
    "from transformer_lens import HookedTransformer\n",
    "from transformers import PreTrainedTokenizerBase\n",
    "import wandb\n",
    "\n",
    "from sparse_autoencoder import (\n",
    "    ActivationResampler,\n",
    "    AdamWithReset,\n",
    "    L2ReconstructionLoss,\n",
    "    LearnedActivationsL1Loss,\n",
    "    LossReducer,\n",
    "    Pipeline,\n",
    "    PreTokenizedDataset,\n",
    "    SparseAutoencoder,\n",
    ")\n",
    "\n",
    "\n",
    "os.environ[\"TOKENIZERS_PARALLELISM\"] = \"false\"\n",
    "\n",
    "device = torch.device(\"cuda\" if torch.cuda.is_available() else \"cpu\")\n",
    "print(f\"Using device: {device}\")  # You will need a GPU"
   ]
  },
  {
   "cell_type": "code",
   "execution_count": 3,
   "metadata": {},
   "outputs": [],
   "source": [
    "torch.random.manual_seed(49)\n",
    "\n",
    "hyperparameters = {\n",
    "    # Expansion factor is the number of features in the sparse representation, relative to the\n",
    "    # number of features in the original MLP layer. The original paper experimented with 1x to 256x,\n",
    "    # and we have found that 4x is a good starting point.\n",
    "    \"expansion_factor\": 4,\n",
    "    # L1 coefficient is the coefficient of the L1 regularization term (used to encourage sparsity).\n",
    "    \"l1_coefficient\": 1e-3,\n",
    "    # Adam parameters (set to the default ones here)\n",
    "    \"lr\": 3e-4,\n",
    "    \"adam_beta_1\": 0.9,\n",
    "    \"adam_beta_2\": 0.999,\n",
    "    \"adam_epsilon\": 1e-8,\n",
    "    \"adam_weight_decay\": 0.0,\n",
    "    # Batch sizes\n",
    "    \"train_batch_size\": 4096,\n",
    "    \"context_size\": 128,\n",
    "    # Source model hook point\n",
    "    \"source_model_name\": \"EleutherAI/Pythia-70M-deduped\",\n",
    "    \"source_model_dtype\": \"float32\",\n",
    "    \"source_model_hook_point\": \"blocks.0.hook_mlp_out\",\n",
    "    \"source_model_hook_point_layer\": 0,\n",
    "    # Train pipeline parameters\n",
    "    \"max_store_size\": 384 * 4096 * 2,\n",
    "    \"max_activations\": 2_000_000_000,\n",
    "    \"resample_frequency\": 122_880_000,\n",
    "    \"checkpoint_frequency\": 100_000_000,\n",
    "    \"validation_frequency\": 384 * 4096 * 2 * 100,  # Every 100 generations\n",
    "}"
   ]
  },
  {
   "cell_type": "code",
   "execution_count": 4,
   "metadata": {},
   "outputs": [
    {
     "name": "stderr",
     "output_type": "stream",
     "text": [
      "Using pad_token, but it is not set yet.\n"
     ]
    },
    {
     "name": "stdout",
     "output_type": "stream",
     "text": [
      "Loaded pretrained model EleutherAI/Pythia-70M-deduped into HookedTransformer\n"
     ]
    },
    {
     "data": {
      "text/plain": [
       "'Source: EleutherAI/Pythia-70M-deduped,     Hook: blocks.0.hook_mlp_out,     Features: 512'"
      ]
     },
     "execution_count": 4,
     "metadata": {},
     "output_type": "execute_result"
    }
   ],
   "source": [
    "# Source model setup with TransformerLens\n",
    "src_model = HookedTransformer.from_pretrained(\n",
    "    str(hyperparameters[\"source_model_name\"])\n",
    ")\n",
    "\n",
    "# Details about the activations we'll train the sparse autoencoder on\n",
    "autoencoder_input_dim: int = src_model.cfg.d_model  # type: ignore (TransformerLens typing is currently broken)\n",
    "\n",
    "f\"Source: {hyperparameters['source_model_name']}, \\\n",
    "    Hook: {hyperparameters['source_model_hook_point']}, \\\n",
    "    Features: {autoencoder_input_dim}\""
   ]
  },
  {
   "cell_type": "code",
   "execution_count": 5,
   "metadata": {},
   "outputs": [
    {
     "data": {
      "text/plain": [
       "SparseAutoencoder(\n",
       "  (_pre_encoder_bias): TiedBias(position=pre_encoder)\n",
       "  (_encoder): LinearEncoder(\n",
       "    in_features=512, out_features=2048\n",
       "    (activation_function): ReLU()\n",
       "  )\n",
       "  (_decoder): UnitNormDecoder(in_features=2048, out_features=512)\n",
       "  (_post_decoder_bias): TiedBias(position=post_decoder)\n",
       ")"
      ]
     },
     "execution_count": 5,
     "metadata": {},
     "output_type": "execute_result"
    }
   ],
   "source": [
    "expansion_factor = hyperparameters[\"expansion_factor\"]\n",
    "autoencoder = SparseAutoencoder(\n",
    "    n_input_features=autoencoder_input_dim,  # size of the activations we are autoencoding\n",
    "    n_learned_features=int(autoencoder_input_dim * expansion_factor),  # size of SAE\n",
    "    geometric_median_dataset=torch.zeros(\n",
    "        autoencoder_input_dim\n",
    "    ),  # this is used to initialize the tied bias\n",
    ").to(device)\n",
    "autoencoder  # Print the model (it's pretty straightforward)"
   ]
  },
  {
   "cell_type": "code",
   "execution_count": 6,
   "metadata": {},
   "outputs": [
    {
     "data": {
      "text/plain": [
       "LossReducer(\n",
       "  (0): LearnedActivationsL1Loss(l1_coefficient=0.001)\n",
       "  (1): L2ReconstructionLoss()\n",
       ")"
      ]
     },
     "execution_count": 6,
     "metadata": {},
     "output_type": "execute_result"
    }
   ],
   "source": [
    "# We use a loss reducer, which simply adds up the losses from the underlying loss functions.\n",
    "loss = LossReducer(\n",
    "    LearnedActivationsL1Loss(\n",
    "        l1_coefficient=float(hyperparameters[\"l1_coefficient\"]),\n",
    "    ),\n",
    "    L2ReconstructionLoss(),\n",
    ")\n",
    "loss"
   ]
  },
  {
   "cell_type": "code",
   "execution_count": 7,
   "metadata": {},
   "outputs": [
    {
     "data": {
      "text/plain": [
       "AdamWithReset (\n",
       "Parameter Group 0\n",
       "    amsgrad: False\n",
       "    betas: (0.9, 0.999)\n",
       "    capturable: False\n",
       "    differentiable: False\n",
       "    eps: 1e-08\n",
       "    foreach: None\n",
       "    fused: None\n",
       "    lr: 0.0003\n",
       "    maximize: False\n",
       "    weight_decay: 0.0\n",
       ")"
      ]
     },
     "execution_count": 7,
     "metadata": {},
     "output_type": "execute_result"
    }
   ],
   "source": [
    "optimizer = AdamWithReset(\n",
    "    params=autoencoder.parameters(),\n",
    "    named_parameters=autoencoder.named_parameters(),\n",
    "    lr=float(hyperparameters[\"lr\"]),\n",
    "    betas=(float(hyperparameters[\"adam_beta_1\"]), float(hyperparameters[\"adam_beta_2\"])),\n",
    "    eps=float(hyperparameters[\"adam_epsilon\"]),\n",
    "    weight_decay=float(hyperparameters[\"adam_weight_decay\"]),\n",
    ")\n",
    "optimizer"
   ]
  },
  {
   "cell_type": "code",
   "execution_count": 8,
   "metadata": {},
   "outputs": [],
   "source": [
    "activation_resampler = ActivationResampler()"
   ]
  },
  {
   "cell_type": "code",
   "execution_count": 9,
   "metadata": {},
   "outputs": [],
   "source": [
    "tokenizer: PreTrainedTokenizerBase = src_model.tokenizer  # type: ignore\n",
    "source_data = PreTokenizedDataset(\n",
    "    dataset_path=\"NeelNanda/c4-code-tokenized-2b\", context_size=int(hyperparameters[\"context_size\"])\n",
    ")"
   ]
  },
  {
   "cell_type": "code",
   "execution_count": 10,
   "metadata": {},
   "outputs": [
    {
     "name": "stderr",
     "output_type": "stream",
     "text": [
      "Failed to detect the name of this notebook, you can set it manually with the WANDB_NOTEBOOK_NAME environment variable to enable code saving.\n"
     ]
    },
    {
     "name": "stderr",
     "output_type": "stream",
     "text": [
      "\u001b[34m\u001b[1mwandb\u001b[0m: W&B API key is configured. Use \u001b[1m`wandb login --relogin`\u001b[0m to force relogin\n",
      "\u001b[34m\u001b[1mwandb\u001b[0m: \u001b[33mWARNING\u001b[0m If you're specifying your api key in code, ensure this code is not shared publicly.\n",
      "\u001b[34m\u001b[1mwandb\u001b[0m: \u001b[33mWARNING\u001b[0m Consider setting the WANDB_API_KEY environment variable, or running `wandb login` from the command line.\n",
      "\u001b[34m\u001b[1mwandb\u001b[0m: Appending key for api.wandb.ai to your netrc file: /root/.netrc\n",
      "\u001b[34m\u001b[1mwandb\u001b[0m: Currently logged in as: \u001b[33melriggs\u001b[0m (\u001b[33msparse_coding\u001b[0m). Use \u001b[1m`wandb login --relogin`\u001b[0m to force relogin\n"
     ]
    },
    {
     "data": {
      "text/html": [
       "Tracking run with wandb version 0.16.0"
      ],
      "text/plain": [
       "<IPython.core.display.HTML object>"
      ]
     },
     "metadata": {},
     "output_type": "display_data"
    },
    {
     "data": {
      "text/html": [
       "Run data is saved locally in <code>.cache/wandb/run-20231128_202527-5u32unnh</code>"
      ],
      "text/plain": [
       "<IPython.core.display.HTML object>"
      ]
     },
     "metadata": {},
     "output_type": "display_data"
    },
    {
     "data": {
      "text/html": [
       "Syncing run <strong><a href='https://wandb.ai/sparse_coding/sparse-autoencoder/runs/5u32unnh' target=\"_blank\">whole-frost-1</a></strong> to <a href='https://wandb.ai/sparse_coding/sparse-autoencoder' target=\"_blank\">Weights & Biases</a> (<a href='https://wandb.me/run' target=\"_blank\">docs</a>)<br/>"
      ],
      "text/plain": [
       "<IPython.core.display.HTML object>"
      ]
     },
     "metadata": {},
     "output_type": "display_data"
    },
    {
     "data": {
      "text/html": [
       " View project at <a href='https://wandb.ai/sparse_coding/sparse-autoencoder' target=\"_blank\">https://wandb.ai/sparse_coding/sparse-autoencoder</a>"
      ],
      "text/plain": [
       "<IPython.core.display.HTML object>"
      ]
     },
     "metadata": {},
     "output_type": "display_data"
    },
    {
     "data": {
      "text/html": [
       " View run at <a href='https://wandb.ai/sparse_coding/sparse-autoencoder/runs/5u32unnh' target=\"_blank\">https://wandb.ai/sparse_coding/sparse-autoencoder/runs/5u32unnh</a>"
      ],
      "text/plain": [
       "<IPython.core.display.HTML object>"
      ]
     },
     "metadata": {},
     "output_type": "display_data"
    },
    {
     "data": {
      "text/html": [
       "<button onClick=\"this.nextSibling.style.display='block';this.style.display='none';\">Display W&B run</button><iframe src='https://wandb.ai/sparse_coding/sparse-autoencoder/runs/5u32unnh?jupyter=true' style='border:none;width:100%;height:420px;display:none;'></iframe>"
      ],
      "text/plain": [
       "<wandb.sdk.wandb_run.Run at 0x7fe7815c8490>"
      ]
     },
     "execution_count": 10,
     "metadata": {},
     "output_type": "execute_result"
    }
   ],
   "source": [
    "import json\n",
    "secrets = json.load(open(\"secrets.json\"))\n",
    "wandb.login(key=secrets[\"wandb_key\"])\n",
    "checkpoint_path = Path(\"../../.checkpoints\")\n",
    "checkpoint_path.mkdir(exist_ok=True)\n",
    "Path(\".cache/\").mkdir(exist_ok=True)\n",
    "wandb.init(\n",
    "    project=\"sparse-autoencoder\",\n",
    "    dir=\".cache\",\n",
    "    config=hyperparameters,\n",
    ")"
   ]
  },
  {
   "cell_type": "code",
   "execution_count": 11,
   "metadata": {},
   "outputs": [
    {
     "name": "stderr",
     "output_type": "stream",
     "text": [
      "Activations trained on:   0%|          | 0/2000000000 [00:07<?, ?it/s, stage=generate]\n"
     ]
    },
    {
     "ename": "AttributeError",
     "evalue": "'list' object has no attribute 'to'",
     "output_type": "error",
     "traceback": [
      "\u001b[0;31m---------------------------------------------------------------------------\u001b[0m",
      "\u001b[0;31mAttributeError\u001b[0m                            Traceback (most recent call last)",
      "\u001b[1;32m/root/sparse_coding/train_saes.ipynb Cell 10\u001b[0m line \u001b[0;36m1\n\u001b[1;32m      <a href='vscode-notebook-cell://ssh-remote%2B199.195.151.121/root/sparse_coding/train_saes.ipynb#X12sdnNjb2RlLXJlbW90ZQ%3D%3D?line=0'>1</a>\u001b[0m pipeline \u001b[39m=\u001b[39m Pipeline(\n\u001b[1;32m      <a href='vscode-notebook-cell://ssh-remote%2B199.195.151.121/root/sparse_coding/train_saes.ipynb#X12sdnNjb2RlLXJlbW90ZQ%3D%3D?line=1'>2</a>\u001b[0m     activation_resampler\u001b[39m=\u001b[39mactivation_resampler,\n\u001b[1;32m      <a href='vscode-notebook-cell://ssh-remote%2B199.195.151.121/root/sparse_coding/train_saes.ipynb#X12sdnNjb2RlLXJlbW90ZQ%3D%3D?line=2'>3</a>\u001b[0m     autoencoder\u001b[39m=\u001b[39mautoencoder,\n\u001b[0;32m   (...)\u001b[0m\n\u001b[1;32m     <a href='vscode-notebook-cell://ssh-remote%2B199.195.151.121/root/sparse_coding/train_saes.ipynb#X12sdnNjb2RlLXJlbW90ZQ%3D%3D?line=10'>11</a>\u001b[0m     source_model\u001b[39m=\u001b[39msrc_model,\n\u001b[1;32m     <a href='vscode-notebook-cell://ssh-remote%2B199.195.151.121/root/sparse_coding/train_saes.ipynb#X12sdnNjb2RlLXJlbW90ZQ%3D%3D?line=11'>12</a>\u001b[0m )\n\u001b[0;32m---> <a href='vscode-notebook-cell://ssh-remote%2B199.195.151.121/root/sparse_coding/train_saes.ipynb#X12sdnNjb2RlLXJlbW90ZQ%3D%3D?line=13'>14</a>\u001b[0m pipeline\u001b[39m.\u001b[39;49mrun_pipeline(\n\u001b[1;32m     <a href='vscode-notebook-cell://ssh-remote%2B199.195.151.121/root/sparse_coding/train_saes.ipynb#X12sdnNjb2RlLXJlbW90ZQ%3D%3D?line=14'>15</a>\u001b[0m     train_batch_size\u001b[39m=\u001b[39;49m\u001b[39mint\u001b[39;49m(hyperparameters[\u001b[39m\"\u001b[39;49m\u001b[39mtrain_batch_size\u001b[39;49m\u001b[39m\"\u001b[39;49m]),\n\u001b[1;32m     <a href='vscode-notebook-cell://ssh-remote%2B199.195.151.121/root/sparse_coding/train_saes.ipynb#X12sdnNjb2RlLXJlbW90ZQ%3D%3D?line=15'>16</a>\u001b[0m     max_store_size\u001b[39m=\u001b[39;49m\u001b[39mint\u001b[39;49m(hyperparameters[\u001b[39m\"\u001b[39;49m\u001b[39mmax_store_size\u001b[39;49m\u001b[39m\"\u001b[39;49m]),\n\u001b[1;32m     <a href='vscode-notebook-cell://ssh-remote%2B199.195.151.121/root/sparse_coding/train_saes.ipynb#X12sdnNjb2RlLXJlbW90ZQ%3D%3D?line=16'>17</a>\u001b[0m     max_activations\u001b[39m=\u001b[39;49m\u001b[39mint\u001b[39;49m(hyperparameters[\u001b[39m\"\u001b[39;49m\u001b[39mmax_activations\u001b[39;49m\u001b[39m\"\u001b[39;49m]),\n\u001b[1;32m     <a href='vscode-notebook-cell://ssh-remote%2B199.195.151.121/root/sparse_coding/train_saes.ipynb#X12sdnNjb2RlLXJlbW90ZQ%3D%3D?line=17'>18</a>\u001b[0m     resample_frequency\u001b[39m=\u001b[39;49m\u001b[39mint\u001b[39;49m(hyperparameters[\u001b[39m\"\u001b[39;49m\u001b[39mresample_frequency\u001b[39;49m\u001b[39m\"\u001b[39;49m]),\n\u001b[1;32m     <a href='vscode-notebook-cell://ssh-remote%2B199.195.151.121/root/sparse_coding/train_saes.ipynb#X12sdnNjb2RlLXJlbW90ZQ%3D%3D?line=18'>19</a>\u001b[0m     checkpoint_frequency\u001b[39m=\u001b[39;49m\u001b[39mint\u001b[39;49m(hyperparameters[\u001b[39m\"\u001b[39;49m\u001b[39mcheckpoint_frequency\u001b[39;49m\u001b[39m\"\u001b[39;49m]),\n\u001b[1;32m     <a href='vscode-notebook-cell://ssh-remote%2B199.195.151.121/root/sparse_coding/train_saes.ipynb#X12sdnNjb2RlLXJlbW90ZQ%3D%3D?line=19'>20</a>\u001b[0m     validate_frequency\u001b[39m=\u001b[39;49m\u001b[39mint\u001b[39;49m(hyperparameters[\u001b[39m\"\u001b[39;49m\u001b[39mvalidation_frequency\u001b[39;49m\u001b[39m\"\u001b[39;49m]),\n\u001b[1;32m     <a href='vscode-notebook-cell://ssh-remote%2B199.195.151.121/root/sparse_coding/train_saes.ipynb#X12sdnNjb2RlLXJlbW90ZQ%3D%3D?line=20'>21</a>\u001b[0m )\n",
      "File \u001b[0;32m~/logan/lib/python3.10/site-packages/sparse_autoencoder/train/pipeline.py:393\u001b[0m, in \u001b[0;36mPipeline.run_pipeline\u001b[0;34m(self, train_batch_size, max_store_size, max_activations, resample_frequency, validation_number_activations, validate_frequency, checkpoint_frequency)\u001b[0m\n\u001b[1;32m    390\u001b[0m \u001b[39mfor\u001b[39;00m _ \u001b[39min\u001b[39;00m \u001b[39mrange\u001b[39m(\u001b[39m0\u001b[39m, max_activations, store_size):\n\u001b[1;32m    391\u001b[0m     \u001b[39m# Generate\u001b[39;00m\n\u001b[1;32m    392\u001b[0m     progress_bar\u001b[39m.\u001b[39mset_postfix({\u001b[39m\"\u001b[39m\u001b[39mstage\u001b[39m\u001b[39m\"\u001b[39m: \u001b[39m\"\u001b[39m\u001b[39mgenerate\u001b[39m\u001b[39m\"\u001b[39m})\n\u001b[0;32m--> 393\u001b[0m     activation_store: TensorActivationStore \u001b[39m=\u001b[39m \u001b[39mself\u001b[39;49m\u001b[39m.\u001b[39;49mgenerate_activations(store_size)\n\u001b[1;32m    395\u001b[0m     \u001b[39m# Update the counters\u001b[39;00m\n\u001b[1;32m    396\u001b[0m     num_activation_vectors_in_store \u001b[39m=\u001b[39m \u001b[39mlen\u001b[39m(activation_store)\n",
      "File \u001b[0;32m~/logan/lib/python3.10/site-packages/sparse_autoencoder/train/pipeline.py:153\u001b[0m, in \u001b[0;36mPipeline.generate_activations\u001b[0;34m(self, store_size)\u001b[0m\n\u001b[1;32m    151\u001b[0m \u001b[39mwith\u001b[39;00m torch\u001b[39m.\u001b[39mno_grad():\n\u001b[1;32m    152\u001b[0m     \u001b[39mfor\u001b[39;00m batch \u001b[39min\u001b[39;00m \u001b[39mself\u001b[39m\u001b[39m.\u001b[39msource_data:\n\u001b[0;32m--> 153\u001b[0m         input_ids: BatchTokenizedPrompts \u001b[39m=\u001b[39m batch[\u001b[39m\"\u001b[39;49m\u001b[39minput_ids\u001b[39;49m\u001b[39m\"\u001b[39;49m]\u001b[39m.\u001b[39;49mto(source_model_device)\n\u001b[1;32m    154\u001b[0m         \u001b[39mself\u001b[39m\u001b[39m.\u001b[39msource_model\u001b[39m.\u001b[39mforward(input_ids, stop_at_layer\u001b[39m=\u001b[39m\u001b[39mself\u001b[39m\u001b[39m.\u001b[39mlayer \u001b[39m+\u001b[39m \u001b[39m1\u001b[39m)  \u001b[39m# type: ignore (TLens is typed incorrectly)\u001b[39;00m\n\u001b[1;32m    156\u001b[0m         \u001b[39mif\u001b[39;00m \u001b[39mlen\u001b[39m(store) \u001b[39m>\u001b[39m\u001b[39m=\u001b[39m store_size:\n",
      "\u001b[0;31mAttributeError\u001b[0m: 'list' object has no attribute 'to'"
     ]
    }
   ],
   "source": [
    "pipeline = Pipeline(\n",
    "    activation_resampler=activation_resampler,\n",
    "    autoencoder=autoencoder,\n",
    "    cache_name=str(hyperparameters[\"source_model_hook_point\"]),\n",
    "    checkpoint_directory=checkpoint_path,\n",
    "    layer=int(hyperparameters[\"source_model_hook_point_layer\"]),\n",
    "    loss=loss,\n",
    "    optimizer=optimizer,\n",
    "    source_data_batch_size=6,\n",
    "    source_dataset=source_data,\n",
    "    source_model=src_model,\n",
    ")\n",
    "\n",
    "pipeline.run_pipeline(\n",
    "    train_batch_size=int(hyperparameters[\"train_batch_size\"]),\n",
    "    max_store_size=int(hyperparameters[\"max_store_size\"]),\n",
    "    max_activations=int(hyperparameters[\"max_activations\"]),\n",
    "    resample_frequency=int(hyperparameters[\"resample_frequency\"]),\n",
    "    checkpoint_frequency=int(hyperparameters[\"checkpoint_frequency\"]),\n",
    "    validate_frequency=int(hyperparameters[\"validation_frequency\"]),\n",
    ")"
   ]
  },
  {
   "cell_type": "code",
   "execution_count": 12,
   "metadata": {},
   "outputs": [],
   "source": [
    "source_dataloader = source_data.get_dataloader(6)\n",
    "# self.stateful_dataloader_iterable(source_dataloader)"
   ]
  },
  {
   "cell_type": "code",
   "execution_count": null,
   "metadata": {},
   "outputs": [],
   "source": []
  },
  {
   "cell_type": "code",
   "execution_count": null,
   "metadata": {},
   "outputs": [],
   "source": [
    "wandb.finish()"
   ]
  }
 ],
 "metadata": {
  "kernelspec": {
   "display_name": "logan",
   "language": "python",
   "name": "python3"
  },
  "language_info": {
   "codemirror_mode": {
    "name": "ipython",
    "version": 3
   },
   "file_extension": ".py",
   "mimetype": "text/x-python",
   "name": "python",
   "nbconvert_exporter": "python",
   "pygments_lexer": "ipython3",
   "version": "3.10.13"
  }
 },
 "nbformat": 4,
 "nbformat_minor": 2
}
