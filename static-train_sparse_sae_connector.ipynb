{
 "cells": [
  {
   "cell_type": "code",
   "execution_count": 1,
   "metadata": {},
   "outputs": [],
   "source": [
    "# Train on only MLP part\n",
    "# Make the hidden layer sparse w/ L1\n",
    "# No need to normalize decoder weights since we're making those weights sparse anyways"
   ]
  },
  {
   "cell_type": "code",
   "execution_count": 1,
   "metadata": {},
   "outputs": [
    {
     "name": "stderr",
     "output_type": "stream",
     "text": [
      "/root/logan/lib/python3.10/site-packages/tqdm/auto.py:21: TqdmWarning: IProgress not found. Please update jupyter and ipywidgets. See https://ipywidgets.readthedocs.io/en/stable/user_install.html\n",
      "  from .autonotebook import tqdm as notebook_tqdm\n"
     ]
    }
   ],
   "source": [
    "import torch\n",
    "import numpy as np\n",
    "from torch.utils.data import DataLoader\n",
    "from datasets import Dataset, load_dataset\n",
    "from tqdm.auto import tqdm\n",
    "from functools import partial\n",
    "from einops import rearrange\n",
    "from huggingface_hub import hf_hub_download\n",
    "from transformers import AutoTokenizer, AutoModelForCausalLM, AutoModelForSequenceClassification\n",
    "from baukit import TraceDict\n",
    "\n",
    "# Download the model\n",
    "device = \"cuda:0\"\n",
    "model_name=\"EleutherAI/Pythia-70M-deduped\"\n",
    "model = AutoModelForCausalLM.from_pretrained(model_name).to(device)\n",
    "tokenizer = AutoTokenizer.from_pretrained(model_name)\n",
    "# set seed\n",
    "torch.manual_seed(0)\n",
    "np.random.seed(0)"
   ]
  },
  {
   "cell_type": "code",
   "execution_count": 2,
   "metadata": {},
   "outputs": [],
   "source": [
    "from autoencoders import *\n",
    "# ae_model_id = [\"jbrinkma/Pythia-70M-chess_sp51_r4_gpt_neox.layers.1\", \"jbrinkma/Pythia-70M-chess_sp51_r4_gpt_neox.layers.2.mlp\"]\n",
    "model_id = \"jbrinkma/Pythia-70M-deduped-SAEs\"\n",
    "autoencoders = []\n",
    "# layers = model.config.num_hidden_layers\n",
    "layers = 6\n",
    "cache_names = [(f\"gpt_neox.layers.{i}\", f\"gpt_neox.layers.{i+1}.mlp\") for i in range(layers-1)]\n",
    "# cache_names = [(f\"gpt_neox.layers.{i}\", f\"gpt_neox.layers.{i+1}.attention\") for i in range(layers-1)]\n",
    "# cache_names = [(f\"gpt_neox.layers.{i}\", f\"gpt_neox.layers.{i+1}.mlp\") for i in range(1,2)]\n",
    "num_layers = len(cache_names)\n",
    "cache_names = [item for sublist in cache_names for item in sublist]\n",
    "filenames = [(f\"Pythia-70M-deduped-{i}.pt\", f\"Pythia-70M-deduped-mlp-{i+1}.pt\") for i in range(layers-1)]\n",
    "# filenames = [(f\"Pythia-70M-deduped-{i}.pt\", f\"Pythia-70M-deduped-attention-{i+1}.pt\") for i in range(layers-1)]\n",
    "# filenames = [(f\"Pythia-70M-deduped-{i}.pt\", f\"Pythia-70M-deduped-mlp-{i+1}.pt\") for i in range(1,2)]\n",
    "filenames = [item for sublist in filenames for item in sublist]\n",
    "for filen in filenames:\n",
    "    ae_download_location = hf_hub_download(repo_id=model_id, filename=filen)\n",
    "    autoencoder = torch.load(ae_download_location)\n",
    "    autoencoder.to_device(device)\n",
    "    # Freeze autoencoder weights\n",
    "    autoencoder.encoder.requires_grad_(False)\n",
    "    autoencoder.encoder_bias.requires_grad_(False)\n",
    "    autoencoders.append(autoencoder)"
   ]
  },
  {
   "cell_type": "code",
   "execution_count": 3,
   "metadata": {},
   "outputs": [
    {
     "name": "stderr",
     "output_type": "stream",
     "text": [
      "Found cached dataset openwebtext-10k (/root/.cache/huggingface/datasets/stas___openwebtext-10k/plain_text/1.0.0/3a8df094c671b4cb63ed0b41f40fb3bd855e9ce2e3765e5df50abcdfb5ec144b)\n",
      "Loading cached processed dataset at /root/.cache/huggingface/datasets/stas___openwebtext-10k/plain_text/1.0.0/3a8df094c671b4cb63ed0b41f40fb3bd855e9ce2e3765e5df50abcdfb5ec144b/cache-89f7d956ed9de0f6_*_of_00008.arrow\n"
     ]
    },
    {
     "name": "stdout",
     "output_type": "stream",
     "text": [
      "Number of tokens: 11226112\n"
     ]
    }
   ],
   "source": [
    "from activation_dataset import setup_token_data\n",
    "from utils import dotdict\n",
    "\n",
    "# Download the dataset\n",
    "# This formats it, so every datapoint is max_length tokens long\n",
    "# The batch size is for loading activations from the LLM, not for inference on the autoencoder\n",
    "cfg = dotdict()\n",
    "cfg.dataset_name=\"stas/openwebtext-10k\"\n",
    "cfg.max_length = 256\n",
    "cfg.model_batch_size = 4\n",
    "dataset = setup_token_data(cfg, tokenizer, model)\n",
    "num_tokens = cfg.max_length*cfg.model_batch_size*len(dataset)\n",
    "print(f\"Number of tokens: {num_tokens}\")\n",
    "num_features, d_model = autoencoder.encoder.shape"
   ]
  },
  {
   "cell_type": "code",
   "execution_count": 4,
   "metadata": {},
   "outputs": [],
   "source": [
    "from torch.optim import Adam\n",
    "from torch import nn  \n",
    "class sae(nn.Module):\n",
    "    def __init__(self, input_size, output_size=None):\n",
    "        super().__init__()\n",
    "        if(output_size is None):\n",
    "            output_size = input_size\n",
    "        self.linear = nn.Linear(input_size, input_size, bias=False)\n",
    "        self.linear2 = nn.Linear(input_size, output_size, bias=False)\n",
    "        self.relu = nn.ReLU()\n",
    "    def forward(self, x):\n",
    "        x = self.linear(x)\n",
    "        x_hidden = self.relu(x)\n",
    "        x = self.linear2(x_hidden)\n",
    "        return x, x_hidden"
   ]
  },
  {
   "cell_type": "code",
   "execution_count": 5,
   "metadata": {},
   "outputs": [],
   "source": [
    "# Load in the features indices\n",
    "# Note: linear & MLP features are a subet of alive features, not total features\n",
    "import pickle\n",
    "with open(\"linear_features.pkl\", \"rb\") as f:\n",
    "    linear_features = pickle.load(f)\n",
    "with open(\"mlp_features.pkl\", \"rb\") as f:\n",
    "    mlp_features = pickle.load(f)\n",
    "with open(\"alive_features.pkl\", \"rb\") as f:\n",
    "    alive_features_ind = pickle.load(f)\n",
    "normalization_per_layer = torch.load(\"normalization_per_layer.pt\")"
   ]
  },
  {
   "cell_type": "code",
   "execution_count": 6,
   "metadata": {},
   "outputs": [],
   "source": [
    "\n",
    "def train_sparse_model(model, dataset, device, sparse_weights, autoencoders, cache_names, optimizers, l1_alphas, feature_ind, max_batches = 500):\n",
    "    mse = nn.MSELoss()\n",
    "    losses = [[[] for _ in range(len(l1_alphas))] for _ in range(len(sparse_weights))]\n",
    "    losses_mse = [[[] for _ in range(len(l1_alphas))] for _ in range(len(sparse_weights))]\n",
    "    losses_l1 = [[[] for _ in range(len(l1_alphas))] for _ in range(len(sparse_weights))]\n",
    "    losses_l1_hidden = [[[] for _ in range(len(l1_alphas))] for _ in range(len(sparse_weights))]\n",
    "    \n",
    "    # with dataset.formatted_as(\"pt\"):\n",
    "    #     dl = DataLoader(dataset[\"input_ids\"], batch_size=batch_size)\n",
    "    for i, batch in enumerate(tqdm(dataset)):\n",
    "        batch = batch[\"input_ids\"].to(device)\n",
    "        with torch.no_grad():\n",
    "            with TraceDict(model, cache_names) as ret:\n",
    "                _ = model(batch)\n",
    "        \n",
    "        for cache_name_ind in range(len(cache_names) // 2):\n",
    "            with torch.no_grad():\n",
    "                input_cache_name = cache_names[cache_name_ind * 2]\n",
    "                output_cache_name = cache_names[cache_name_ind * 2 + 1]\n",
    "                input_autoencoder = autoencoders[cache_name_ind * 2]\n",
    "                output_autoencoder = autoencoders[cache_name_ind * 2 + 1]\n",
    "                input_activations = ret[input_cache_name].output\n",
    "                output_activations = ret[output_cache_name].output\n",
    "\n",
    "                if isinstance(input_activations, tuple):\n",
    "                    input_activations = input_activations[0]\n",
    "                if isinstance(output_activations, tuple):\n",
    "                    output_activations = output_activations[0]\n",
    "\n",
    "                input_internal_activations = rearrange(input_activations, \"b s n -> (b s) n\")\n",
    "                output_internal_activations = rearrange(output_activations, \"b s n -> (b s) n\")\n",
    "\n",
    "                input_internal_activations = input_autoencoder.encode(input_internal_activations)\n",
    "                output_internal_activations = output_autoencoder.encode(output_internal_activations)\n",
    "\n",
    "            for l1_alpha_ind, l1_alpha in enumerate(l1_alphas):\n",
    "                sparse_weight = sparse_weights[cache_name_ind][l1_alpha_ind].to(device)\n",
    "                x_hat, hidden_act = sparse_weight(input_internal_activations)\n",
    "\n",
    "                # Find ind of alive features & selected features (linear or MLP features)\n",
    "                alive_features = alive_features_ind[cache_name_ind].nonzero(as_tuple=True)[0]\n",
    "                alive_and_selected_features = alive_features[feature_ind[cache_name_ind]].to(device)\n",
    "                indexed_x_hat = x_hat\n",
    "                indexed_output_internal_activations = output_internal_activations.index_select(dim=1, index=alive_and_selected_features)\n",
    "                \n",
    "                # Divide MSE_loss by normalization factor\n",
    "                mse_loss = mse(indexed_x_hat, indexed_output_internal_activations) / normalization_per_layer[cache_name_ind]\n",
    "                l1_loss = torch.norm(sparse_weight.linear.weight, dim=1, p=1).mean()\n",
    "                # check if sparse_weight.linear2 exists\n",
    "                if hasattr(sparse_weight, \"linear2\"):\n",
    "                    l1_loss += torch.norm(sparse_weight.linear2.weight, dim=1, p=1).mean()\n",
    "                    l1_loss /= 2\n",
    "                hidden_loss = torch.norm(hidden_act, 1, dim=-1).mean()\n",
    "                unweighted_loss = mse_loss + l1_loss + hidden_loss\n",
    "                loss = mse_loss + l1_alpha * l1_loss + l1_alpha * hidden_loss\n",
    "                \n",
    "\n",
    "                loss.backward()\n",
    "                optimizers[cache_name_ind][l1_alpha_ind].step()\n",
    "                optimizers[cache_name_ind][l1_alpha_ind].zero_grad()\n",
    "                losses[cache_name_ind][l1_alpha_ind].append(unweighted_loss.item())\n",
    "                losses_mse[cache_name_ind][l1_alpha_ind].append(mse_loss.item())\n",
    "                losses_l1[cache_name_ind][l1_alpha_ind].append(l1_loss.item())\n",
    "                losses_l1_hidden[cache_name_ind][l1_alpha_ind].append(hidden_loss.item())\n",
    "\n",
    "                sparse_weight = sparse_weight.to(\"cpu\")\n",
    "                if i % 100 == 0:\n",
    "                    sparsity = (hidden_act != 0).float().mean(dim=0).sum().cpu().item()\n",
    "                    print(f\"Layers: {cache_name_ind} | l1 alpha MSE Loss: {mse_loss.item():.4f} | L1 Loss: {l1_loss.item():.2f} | Hidden Loss: {hidden_loss.item():.2f}  L0: {sparsity:.0f}\")\n",
    "\n",
    "                del x_hat, indexed_x_hat, indexed_output_internal_activations, loss, l1_loss, mse_loss, unweighted_loss, alive_and_selected_features\n",
    "                torch.cuda.empty_cache()\n",
    "        if i > max_batches:\n",
    "            # Stop training after 1000 batches\n",
    "            break\n",
    "    return losses, losses_mse, losses_l1, losses_l1_hidden\n"
   ]
  },
  {
   "cell_type": "code",
   "execution_count": 7,
   "metadata": {},
   "outputs": [
    {
     "name": "stderr",
     "output_type": "stream",
     "text": [
      "  0%|          | 0/10963 [00:00<?, ?it/s]"
     ]
    },
    {
     "name": "stdout",
     "output_type": "stream",
     "text": [
      "Layers: 0 | l1 alpha MSE Loss: 0.0120 | L1 Loss: 27.72 | Hidden Loss: 56.12  L0: 1536\n",
      "Layers: 1 | l1 alpha MSE Loss: 0.5441 | L1 Loss: 27.73 | Hidden Loss: 65.02  L0: 1530\n",
      "Layers: 2 | l1 alpha MSE Loss: 0.1212 | L1 Loss: 27.69 | Hidden Loss: 89.69  L0: 1533\n"
     ]
    },
    {
     "name": "stderr",
     "output_type": "stream",
     "text": [
      "  0%|          | 1/10963 [00:00<2:38:08,  1.16it/s]"
     ]
    },
    {
     "name": "stdout",
     "output_type": "stream",
     "text": [
      "Layers: 3 | l1 alpha MSE Loss: 0.1912 | L1 Loss: 27.70 | Hidden Loss: 111.81  L0: 1548\n",
      "Layers: 4 | l1 alpha MSE Loss: 1.6684 | L1 Loss: 27.73 | Hidden Loss: 113.56  L0: 1532\n"
     ]
    },
    {
     "name": "stderr",
     "output_type": "stream",
     "text": [
      "  1%|          | 101/10963 [00:32<51:43,  3.50it/s] "
     ]
    },
    {
     "name": "stdout",
     "output_type": "stream",
     "text": [
      "Layers: 0 | l1 alpha MSE Loss: 0.0067 | L1 Loss: 1.37 | Hidden Loss: 1.08  L0: 34\n",
      "Layers: 1 | l1 alpha MSE Loss: 0.0590 | L1 Loss: 20.76 | Hidden Loss: 25.37  L0: 349\n",
      "Layers: 2 | l1 alpha MSE Loss: 0.0139 | L1 Loss: 13.30 | Hidden Loss: 29.41  L0: 251\n",
      "Layers: 3 | l1 alpha MSE Loss: 0.0121 | L1 Loss: 12.30 | Hidden Loss: 49.32  L0: 254\n",
      "Layers: 4 | l1 alpha MSE Loss: 0.0567 | L1 Loss: 21.55 | Hidden Loss: 644.89  L0: 1306\n"
     ]
    },
    {
     "name": "stderr",
     "output_type": "stream",
     "text": [
      "  2%|▏         | 201/10963 [01:01<55:59,  3.20it/s]  "
     ]
    },
    {
     "name": "stdout",
     "output_type": "stream",
     "text": [
      "Layers: 0 | l1 alpha MSE Loss: 0.0073 | L1 Loss: 1.39 | Hidden Loss: 1.24  L0: 33\n",
      "Layers: 1 | l1 alpha MSE Loss: 0.0242 | L1 Loss: 19.36 | Hidden Loss: 19.00  L0: 233\n",
      "Layers: 2 | l1 alpha MSE Loss: 0.0108 | L1 Loss: 11.09 | Hidden Loss: 19.08  L0: 117\n",
      "Layers: 3 | l1 alpha MSE Loss: 0.0101 | L1 Loss: 10.82 | Hidden Loss: 28.51  L0: 118\n",
      "Layers: 4 | l1 alpha MSE Loss: 0.0330 | L1 Loss: 20.90 | Hidden Loss: 413.53  L0: 1108\n"
     ]
    },
    {
     "name": "stderr",
     "output_type": "stream",
     "text": [
      "  3%|▎         | 301/10963 [01:32<47:43,  3.72it/s]  "
     ]
    },
    {
     "name": "stdout",
     "output_type": "stream",
     "text": [
      "Layers: 0 | l1 alpha MSE Loss: 0.0054 | L1 Loss: 1.47 | Hidden Loss: 1.06  L0: 48\n",
      "Layers: 1 | l1 alpha MSE Loss: 0.0308 | L1 Loss: 18.13 | Hidden Loss: 16.44  L0: 184\n",
      "Layers: 2 | l1 alpha MSE Loss: 0.0116 | L1 Loss: 9.59 | Hidden Loss: 13.25  L0: 83\n",
      "Layers: 3 | l1 alpha MSE Loss: 0.0083 | L1 Loss: 9.49 | Hidden Loss: 18.06  L0: 65\n",
      "Layers: 4 | l1 alpha MSE Loss: 0.0846 | L1 Loss: 20.12 | Hidden Loss: 144.86  L0: 467\n"
     ]
    },
    {
     "name": "stderr",
     "output_type": "stream",
     "text": [
      "  4%|▎         | 400/10963 [02:03<53:52,  3.27it/s]  "
     ]
    },
    {
     "name": "stdout",
     "output_type": "stream",
     "text": [
      "Layers: 0 | l1 alpha MSE Loss: 0.0070 | L1 Loss: 1.50 | Hidden Loss: 1.21  L0: 25\n",
      "Layers: 1 | l1 alpha MSE Loss: 0.0154 | L1 Loss: 17.28 | Hidden Loss: 15.62  L0: 125\n",
      "Layers: 2 | l1 alpha MSE Loss: 0.0085 | L1 Loss: 8.61 | Hidden Loss: 11.89  L0: 55\n",
      "Layers: 3 | l1 alpha MSE Loss: 0.0074 | L1 Loss: 8.61 | Hidden Loss: 17.17  L0: 51\n"
     ]
    },
    {
     "name": "stderr",
     "output_type": "stream",
     "text": [
      "  4%|▎         | 401/10963 [02:03<56:40,  3.11it/s]"
     ]
    },
    {
     "name": "stdout",
     "output_type": "stream",
     "text": [
      "Layers: 4 | l1 alpha MSE Loss: 0.0226 | L1 Loss: 18.58 | Hidden Loss: 120.87  L0: 274\n"
     ]
    },
    {
     "name": "stderr",
     "output_type": "stream",
     "text": [
      "  5%|▍         | 500/10963 [02:33<50:04,  3.48it/s]  "
     ]
    },
    {
     "name": "stdout",
     "output_type": "stream",
     "text": [
      "Layers: 0 | l1 alpha MSE Loss: 0.0058 | L1 Loss: 1.53 | Hidden Loss: 1.25  L0: 31\n",
      "Layers: 1 | l1 alpha MSE Loss: 0.0199 | L1 Loss: 16.88 | Hidden Loss: 14.06  L0: 118\n",
      "Layers: 2 | l1 alpha MSE Loss: 0.0090 | L1 Loss: 7.90 | Hidden Loss: 10.52  L0: 48\n",
      "Layers: 3 | l1 alpha MSE Loss: 0.0083 | L1 Loss: 7.97 | Hidden Loss: 15.38  L0: 46\n"
     ]
    },
    {
     "name": "stderr",
     "output_type": "stream",
     "text": [
      "  5%|▍         | 501/10963 [02:34<50:35,  3.45it/s]"
     ]
    },
    {
     "name": "stdout",
     "output_type": "stream",
     "text": [
      "Layers: 4 | l1 alpha MSE Loss: 0.0276 | L1 Loss: 17.25 | Hidden Loss: 108.11  L0: 190\n"
     ]
    },
    {
     "name": "stderr",
     "output_type": "stream",
     "text": [
      "  5%|▌         | 600/10963 [03:03<51:43,  3.34it/s]"
     ]
    },
    {
     "name": "stdout",
     "output_type": "stream",
     "text": [
      "Layers: 0 | l1 alpha MSE Loss: 0.0060 | L1 Loss: 1.57 | Hidden Loss: 0.94  L0: 53\n",
      "Layers: 1 | l1 alpha MSE Loss: 0.0259 | L1 Loss: 16.26 | Hidden Loss: 12.52  L0: 113\n",
      "Layers: 2 | l1 alpha MSE Loss: 0.0118 | L1 Loss: 7.32 | Hidden Loss: 10.28  L0: 50\n",
      "Layers: 3 | l1 alpha MSE Loss: 0.0064 | L1 Loss: 7.50 | Hidden Loss: 11.98  L0: 35\n"
     ]
    },
    {
     "name": "stderr",
     "output_type": "stream",
     "text": [
      "  5%|▌         | 601/10963 [03:03<51:47,  3.33it/s]"
     ]
    },
    {
     "name": "stdout",
     "output_type": "stream",
     "text": [
      "Layers: 4 | l1 alpha MSE Loss: 0.0265 | L1 Loss: 16.29 | Hidden Loss: 88.48  L0: 178\n"
     ]
    },
    {
     "name": "stderr",
     "output_type": "stream",
     "text": [
      "  6%|▋         | 701/10963 [03:32<41:58,  4.07it/s]  "
     ]
    },
    {
     "name": "stdout",
     "output_type": "stream",
     "text": [
      "Layers: 0 | l1 alpha MSE Loss: 0.0055 | L1 Loss: 1.60 | Hidden Loss: 0.84  L0: 30\n",
      "Layers: 1 | l1 alpha MSE Loss: 0.0173 | L1 Loss: 15.86 | Hidden Loss: 11.19  L0: 82\n",
      "Layers: 2 | l1 alpha MSE Loss: 0.0086 | L1 Loss: 6.86 | Hidden Loss: 7.67  L0: 33\n",
      "Layers: 3 | l1 alpha MSE Loss: 0.0065 | L1 Loss: 7.14 | Hidden Loss: 11.46  L0: 30\n",
      "Layers: 4 | l1 alpha MSE Loss: 0.0319 | L1 Loss: 15.49 | Hidden Loss: 77.15  L0: 68\n"
     ]
    },
    {
     "name": "stderr",
     "output_type": "stream",
     "text": [
      "  7%|▋         | 801/10963 [04:00<46:02,  3.68it/s]  "
     ]
    },
    {
     "name": "stdout",
     "output_type": "stream",
     "text": [
      "Layers: 0 | l1 alpha MSE Loss: 0.0059 | L1 Loss: 1.58 | Hidden Loss: 1.04  L0: 32\n",
      "Layers: 1 | l1 alpha MSE Loss: 0.0267 | L1 Loss: 15.35 | Hidden Loss: 12.25  L0: 87\n",
      "Layers: 2 | l1 alpha MSE Loss: 0.0089 | L1 Loss: 6.46 | Hidden Loss: 8.47  L0: 33\n",
      "Layers: 3 | l1 alpha MSE Loss: 0.0060 | L1 Loss: 6.73 | Hidden Loss: 11.30  L0: 29\n",
      "Layers: 4 | l1 alpha MSE Loss: 0.0193 | L1 Loss: 14.76 | Hidden Loss: 78.10  L0: 84\n"
     ]
    },
    {
     "name": "stderr",
     "output_type": "stream",
     "text": [
      "  8%|▊         | 900/10963 [04:27<46:04,  3.64it/s]  "
     ]
    },
    {
     "name": "stdout",
     "output_type": "stream",
     "text": [
      "Layers: 0 | l1 alpha MSE Loss: 0.0064 | L1 Loss: 1.64 | Hidden Loss: 1.06  L0: 35\n",
      "Layers: 1 | l1 alpha MSE Loss: 0.0185 | L1 Loss: 15.07 | Hidden Loss: 9.87  L0: 70\n",
      "Layers: 2 | l1 alpha MSE Loss: 0.0078 | L1 Loss: 6.17 | Hidden Loss: 6.72  L0: 28\n",
      "Layers: 3 | l1 alpha MSE Loss: 0.0065 | L1 Loss: 6.46 | Hidden Loss: 10.44  L0: 29\n"
     ]
    },
    {
     "name": "stderr",
     "output_type": "stream",
     "text": [
      "  8%|▊         | 901/10963 [04:27<46:55,  3.57it/s]"
     ]
    },
    {
     "name": "stdout",
     "output_type": "stream",
     "text": [
      "Layers: 4 | l1 alpha MSE Loss: 0.0290 | L1 Loss: 14.30 | Hidden Loss: 78.05  L0: 94\n"
     ]
    },
    {
     "name": "stderr",
     "output_type": "stream",
     "text": [
      "  9%|▉         | 1000/10963 [04:57<49:16,  3.37it/s]"
     ]
    },
    {
     "name": "stdout",
     "output_type": "stream",
     "text": [
      "Layers: 0 | l1 alpha MSE Loss: 0.0065 | L1 Loss: 1.63 | Hidden Loss: 0.93  L0: 34\n",
      "Layers: 1 | l1 alpha MSE Loss: 0.0174 | L1 Loss: 14.95 | Hidden Loss: 10.64  L0: 76\n",
      "Layers: 2 | l1 alpha MSE Loss: 0.0082 | L1 Loss: 5.91 | Hidden Loss: 7.68  L0: 29\n",
      "Layers: 3 | l1 alpha MSE Loss: 0.0055 | L1 Loss: 6.23 | Hidden Loss: 10.30  L0: 25\n"
     ]
    },
    {
     "name": "stderr",
     "output_type": "stream",
     "text": [
      "  9%|▉         | 1001/10963 [04:58<48:50,  3.40it/s]"
     ]
    },
    {
     "name": "stdout",
     "output_type": "stream",
     "text": [
      "Layers: 4 | l1 alpha MSE Loss: 0.0176 | L1 Loss: 13.90 | Hidden Loss: 69.39  L0: 54\n"
     ]
    },
    {
     "name": "stderr",
     "output_type": "stream",
     "text": [
      " 10%|█         | 1101/10963 [05:28<47:01,  3.50it/s]"
     ]
    },
    {
     "name": "stdout",
     "output_type": "stream",
     "text": [
      "Layers: 0 | l1 alpha MSE Loss: 0.0056 | L1 Loss: 1.65 | Hidden Loss: 0.89  L0: 32\n",
      "Layers: 1 | l1 alpha MSE Loss: 0.0121 | L1 Loss: 14.48 | Hidden Loss: 10.82  L0: 58\n",
      "Layers: 2 | l1 alpha MSE Loss: 0.0079 | L1 Loss: 5.70 | Hidden Loss: 6.71  L0: 25\n",
      "Layers: 3 | l1 alpha MSE Loss: 0.0060 | L1 Loss: 6.03 | Hidden Loss: 9.79  L0: 25\n",
      "Layers: 4 | l1 alpha MSE Loss: 0.0198 | L1 Loss: 13.62 | Hidden Loss: 67.04  L0: 54\n"
     ]
    },
    {
     "name": "stderr",
     "output_type": "stream",
     "text": [
      " 11%|█         | 1200/10963 [05:56<43:36,  3.73it/s]"
     ]
    },
    {
     "name": "stdout",
     "output_type": "stream",
     "text": [
      "Layers: 0 | l1 alpha MSE Loss: 0.0059 | L1 Loss: 1.68 | Hidden Loss: 0.90  L0: 36\n",
      "Layers: 1 | l1 alpha MSE Loss: 0.0181 | L1 Loss: 14.24 | Hidden Loss: 9.32  L0: 56\n",
      "Layers: 2 | l1 alpha MSE Loss: 0.0072 | L1 Loss: 5.51 | Hidden Loss: 6.74  L0: 24\n",
      "Layers: 3 | l1 alpha MSE Loss: 0.0059 | L1 Loss: 5.78 | Hidden Loss: 8.97  L0: 23\n"
     ]
    },
    {
     "name": "stderr",
     "output_type": "stream",
     "text": [
      " 11%|█         | 1201/10963 [05:57<44:13,  3.68it/s]"
     ]
    },
    {
     "name": "stdout",
     "output_type": "stream",
     "text": [
      "Layers: 4 | l1 alpha MSE Loss: 0.0228 | L1 Loss: 13.28 | Hidden Loss: 63.72  L0: 63\n"
     ]
    },
    {
     "name": "stderr",
     "output_type": "stream",
     "text": [
      " 12%|█▏        | 1301/10963 [06:25<46:20,  3.47it/s]"
     ]
    },
    {
     "name": "stdout",
     "output_type": "stream",
     "text": [
      "Layers: 0 | l1 alpha MSE Loss: 0.0062 | L1 Loss: 1.71 | Hidden Loss: 0.88  L0: 29\n",
      "Layers: 1 | l1 alpha MSE Loss: 0.0130 | L1 Loss: 14.00 | Hidden Loss: 9.35  L0: 52\n",
      "Layers: 2 | l1 alpha MSE Loss: 0.0074 | L1 Loss: 5.34 | Hidden Loss: 5.74  L0: 21\n",
      "Layers: 3 | l1 alpha MSE Loss: 0.0059 | L1 Loss: 5.60 | Hidden Loss: 8.73  L0: 22\n",
      "Layers: 4 | l1 alpha MSE Loss: 0.0287 | L1 Loss: 12.99 | Hidden Loss: 60.30  L0: 72\n"
     ]
    },
    {
     "name": "stderr",
     "output_type": "stream",
     "text": [
      " 13%|█▎        | 1401/10963 [06:53<44:57,  3.54it/s]"
     ]
    },
    {
     "name": "stdout",
     "output_type": "stream",
     "text": [
      "Layers: 0 | l1 alpha MSE Loss: 0.0057 | L1 Loss: 1.71 | Hidden Loss: 0.85  L0: 33\n",
      "Layers: 1 | l1 alpha MSE Loss: 0.0178 | L1 Loss: 13.77 | Hidden Loss: 9.21  L0: 48\n",
      "Layers: 2 | l1 alpha MSE Loss: 0.0094 | L1 Loss: 5.19 | Hidden Loss: 6.36  L0: 23\n",
      "Layers: 3 | l1 alpha MSE Loss: 0.0057 | L1 Loss: 5.40 | Hidden Loss: 8.59  L0: 22\n",
      "Layers: 4 | l1 alpha MSE Loss: 0.0174 | L1 Loss: 12.72 | Hidden Loss: 58.69  L0: 52\n"
     ]
    },
    {
     "name": "stderr",
     "output_type": "stream",
     "text": [
      " 14%|█▎        | 1501/10963 [07:23<43:42,  3.61it/s]  "
     ]
    },
    {
     "name": "stdout",
     "output_type": "stream",
     "text": [
      "Layers: 0 | l1 alpha MSE Loss: 0.0062 | L1 Loss: 1.75 | Hidden Loss: 0.88  L0: 31\n",
      "Layers: 1 | l1 alpha MSE Loss: 0.0233 | L1 Loss: 13.72 | Hidden Loss: 9.45  L0: 48\n",
      "Layers: 2 | l1 alpha MSE Loss: 0.0081 | L1 Loss: 5.07 | Hidden Loss: 5.47  L0: 20\n",
      "Layers: 3 | l1 alpha MSE Loss: 0.0058 | L1 Loss: 5.26 | Hidden Loss: 8.67  L0: 21\n",
      "Layers: 4 | l1 alpha MSE Loss: 0.0208 | L1 Loss: 12.55 | Hidden Loss: 57.84  L0: 48\n"
     ]
    },
    {
     "name": "stderr",
     "output_type": "stream",
     "text": [
      " 15%|█▍        | 1600/10963 [07:50<42:17,  3.69it/s]"
     ]
    },
    {
     "name": "stdout",
     "output_type": "stream",
     "text": [
      "Layers: 0 | l1 alpha MSE Loss: 0.0053 | L1 Loss: 1.74 | Hidden Loss: 1.02  L0: 37\n",
      "Layers: 1 | l1 alpha MSE Loss: 0.0130 | L1 Loss: 13.57 | Hidden Loss: 8.58  L0: 42\n",
      "Layers: 2 | l1 alpha MSE Loss: 0.0079 | L1 Loss: 4.95 | Hidden Loss: 5.37  L0: 19\n",
      "Layers: 3 | l1 alpha MSE Loss: 0.0057 | L1 Loss: 5.10 | Hidden Loss: 7.83  L0: 20\n"
     ]
    },
    {
     "name": "stderr",
     "output_type": "stream",
     "text": [
      " 15%|█▍        | 1601/10963 [07:50<42:54,  3.64it/s]"
     ]
    },
    {
     "name": "stdout",
     "output_type": "stream",
     "text": [
      "Layers: 4 | l1 alpha MSE Loss: 0.0213 | L1 Loss: 12.31 | Hidden Loss: 54.39  L0: 50\n"
     ]
    },
    {
     "name": "stderr",
     "output_type": "stream",
     "text": [
      " 16%|█▌        | 1701/10963 [08:17<42:34,  3.63it/s]"
     ]
    },
    {
     "name": "stdout",
     "output_type": "stream",
     "text": [
      "Layers: 0 | l1 alpha MSE Loss: 0.0063 | L1 Loss: 1.73 | Hidden Loss: 0.89  L0: 28\n",
      "Layers: 1 | l1 alpha MSE Loss: 0.0116 | L1 Loss: 13.37 | Hidden Loss: 9.32  L0: 46\n",
      "Layers: 2 | l1 alpha MSE Loss: 0.0081 | L1 Loss: 4.83 | Hidden Loss: 5.51  L0: 19\n",
      "Layers: 3 | l1 alpha MSE Loss: 0.0075 | L1 Loss: 4.96 | Hidden Loss: 8.33  L0: 21\n",
      "Layers: 4 | l1 alpha MSE Loss: 0.0265 | L1 Loss: 12.11 | Hidden Loss: 56.31  L0: 43\n"
     ]
    },
    {
     "name": "stderr",
     "output_type": "stream",
     "text": [
      " 16%|█▋        | 1800/10963 [08:47<51:58,  2.94it/s]"
     ]
    },
    {
     "name": "stdout",
     "output_type": "stream",
     "text": [
      "Layers: 0 | l1 alpha MSE Loss: 0.0053 | L1 Loss: 1.73 | Hidden Loss: 0.84  L0: 38\n",
      "Layers: 1 | l1 alpha MSE Loss: 0.0155 | L1 Loss: 13.36 | Hidden Loss: 7.97  L0: 54\n",
      "Layers: 2 | l1 alpha MSE Loss: 0.0078 | L1 Loss: 4.75 | Hidden Loss: 5.51  L0: 21\n"
     ]
    },
    {
     "name": "stderr",
     "output_type": "stream",
     "text": [
      " 16%|█▋        | 1801/10963 [08:48<52:40,  2.90it/s]"
     ]
    },
    {
     "name": "stdout",
     "output_type": "stream",
     "text": [
      "Layers: 3 | l1 alpha MSE Loss: 0.0066 | L1 Loss: 4.84 | Hidden Loss: 7.76  L0: 20\n",
      "Layers: 4 | l1 alpha MSE Loss: 0.0175 | L1 Loss: 11.95 | Hidden Loss: 49.85  L0: 38\n"
     ]
    },
    {
     "name": "stderr",
     "output_type": "stream",
     "text": [
      " 17%|█▋        | 1900/10963 [09:20<50:27,  2.99it/s]"
     ]
    },
    {
     "name": "stdout",
     "output_type": "stream",
     "text": [
      "Layers: 0 | l1 alpha MSE Loss: 0.0053 | L1 Loss: 1.74 | Hidden Loss: 0.69  L0: 55\n",
      "Layers: 1 | l1 alpha MSE Loss: 0.0153 | L1 Loss: 13.08 | Hidden Loss: 7.73  L0: 51\n",
      "Layers: 2 | l1 alpha MSE Loss: 0.0077 | L1 Loss: 4.66 | Hidden Loss: 4.74  L0: 18\n",
      "Layers: 3 | l1 alpha MSE Loss: 0.0064 | L1 Loss: 4.75 | Hidden Loss: 6.79  L0: 21\n"
     ]
    },
    {
     "name": "stderr",
     "output_type": "stream",
     "text": [
      " 17%|█▋        | 1901/10963 [09:20<48:18,  3.13it/s]"
     ]
    },
    {
     "name": "stdout",
     "output_type": "stream",
     "text": [
      "Layers: 4 | l1 alpha MSE Loss: 0.0213 | L1 Loss: 11.75 | Hidden Loss: 47.41  L0: 49\n"
     ]
    },
    {
     "name": "stderr",
     "output_type": "stream",
     "text": [
      " 18%|█▊        | 2000/10963 [09:49<41:42,  3.58it/s]"
     ]
    },
    {
     "name": "stdout",
     "output_type": "stream",
     "text": [
      "Layers: 0 | l1 alpha MSE Loss: 0.0055 | L1 Loss: 1.77 | Hidden Loss: 0.86  L0: 28\n",
      "Layers: 1 | l1 alpha MSE Loss: 0.0187 | L1 Loss: 12.82 | Hidden Loss: 8.50  L0: 47\n",
      "Layers: 2 | l1 alpha MSE Loss: 0.0089 | L1 Loss: 4.58 | Hidden Loss: 5.51  L0: 19\n",
      "Layers: 3 | l1 alpha MSE Loss: 0.0055 | L1 Loss: 4.64 | Hidden Loss: 7.77  L0: 18\n",
      "Layers: 4 | l1 alpha MSE Loss: 0.0167 | L1 Loss: 11.55 | Hidden Loss: 51.18  L0: 37\n"
     ]
    },
    {
     "name": "stderr",
     "output_type": "stream",
     "text": [
      " 19%|█▉        | 2101/10963 [10:18<43:42,  3.38it/s]"
     ]
    },
    {
     "name": "stdout",
     "output_type": "stream",
     "text": [
      "Layers: 0 | l1 alpha MSE Loss: 0.0054 | L1 Loss: 1.74 | Hidden Loss: 0.74  L0: 31\n",
      "Layers: 1 | l1 alpha MSE Loss: 0.0132 | L1 Loss: 12.53 | Hidden Loss: 7.83  L0: 40\n",
      "Layers: 2 | l1 alpha MSE Loss: 0.0073 | L1 Loss: 4.52 | Hidden Loss: 5.22  L0: 18\n",
      "Layers: 3 | l1 alpha MSE Loss: 0.0059 | L1 Loss: 4.54 | Hidden Loss: 7.41  L0: 18\n",
      "Layers: 4 | l1 alpha MSE Loss: 0.0160 | L1 Loss: 11.39 | Hidden Loss: 49.64  L0: 37\n"
     ]
    },
    {
     "name": "stderr",
     "output_type": "stream",
     "text": [
      " 20%|██        | 2200/10963 [10:50<40:29,  3.61it/s]  "
     ]
    },
    {
     "name": "stdout",
     "output_type": "stream",
     "text": [
      "Layers: 0 | l1 alpha MSE Loss: 0.0057 | L1 Loss: 1.76 | Hidden Loss: 0.80  L0: 30\n",
      "Layers: 1 | l1 alpha MSE Loss: 0.0146 | L1 Loss: 12.39 | Hidden Loss: 8.17  L0: 32\n",
      "Layers: 2 | l1 alpha MSE Loss: 0.0078 | L1 Loss: 4.46 | Hidden Loss: 4.90  L0: 17\n",
      "Layers: 3 | l1 alpha MSE Loss: 0.0057 | L1 Loss: 4.46 | Hidden Loss: 7.17  L0: 18\n"
     ]
    },
    {
     "name": "stderr",
     "output_type": "stream",
     "text": [
      " 20%|██        | 2201/10963 [10:50<41:33,  3.51it/s]"
     ]
    },
    {
     "name": "stdout",
     "output_type": "stream",
     "text": [
      "Layers: 4 | l1 alpha MSE Loss: 0.0176 | L1 Loss: 11.19 | Hidden Loss: 46.84  L0: 41\n"
     ]
    },
    {
     "name": "stderr",
     "output_type": "stream",
     "text": [
      " 21%|██        | 2301/10963 [11:21<39:29,  3.66it/s]"
     ]
    },
    {
     "name": "stdout",
     "output_type": "stream",
     "text": [
      "Layers: 0 | l1 alpha MSE Loss: 0.0063 | L1 Loss: 1.79 | Hidden Loss: 0.77  L0: 34\n",
      "Layers: 1 | l1 alpha MSE Loss: 0.0146 | L1 Loss: 12.11 | Hidden Loss: 8.03  L0: 43\n",
      "Layers: 2 | l1 alpha MSE Loss: 0.0083 | L1 Loss: 4.41 | Hidden Loss: 5.37  L0: 19\n",
      "Layers: 3 | l1 alpha MSE Loss: 0.0053 | L1 Loss: 4.38 | Hidden Loss: 7.06  L0: 17\n",
      "Layers: 4 | l1 alpha MSE Loss: 0.0176 | L1 Loss: 11.00 | Hidden Loss: 47.23  L0: 40\n"
     ]
    },
    {
     "name": "stderr",
     "output_type": "stream",
     "text": [
      " 22%|██▏       | 2400/10963 [11:50<39:44,  3.59it/s]  "
     ]
    },
    {
     "name": "stdout",
     "output_type": "stream",
     "text": [
      "Layers: 0 | l1 alpha MSE Loss: 0.0056 | L1 Loss: 1.77 | Hidden Loss: 0.84  L0: 43\n",
      "Layers: 1 | l1 alpha MSE Loss: 0.0147 | L1 Loss: 12.06 | Hidden Loss: 8.12  L0: 37\n",
      "Layers: 2 | l1 alpha MSE Loss: 0.0076 | L1 Loss: 4.37 | Hidden Loss: 5.29  L0: 17\n",
      "Layers: 3 | l1 alpha MSE Loss: 0.0055 | L1 Loss: 4.30 | Hidden Loss: 6.69  L0: 17\n"
     ]
    },
    {
     "name": "stderr",
     "output_type": "stream",
     "text": [
      " 22%|██▏       | 2401/10963 [11:50<39:34,  3.61it/s]"
     ]
    },
    {
     "name": "stdout",
     "output_type": "stream",
     "text": [
      "Layers: 4 | l1 alpha MSE Loss: 0.0166 | L1 Loss: 10.85 | Hidden Loss: 41.12  L0: 34\n"
     ]
    },
    {
     "name": "stderr",
     "output_type": "stream",
     "text": [
      " 23%|██▎       | 2500/10963 [12:20<42:39,  3.31it/s]"
     ]
    },
    {
     "name": "stdout",
     "output_type": "stream",
     "text": [
      "Layers: 0 | l1 alpha MSE Loss: 0.0051 | L1 Loss: 1.80 | Hidden Loss: 0.77  L0: 32\n",
      "Layers: 1 | l1 alpha MSE Loss: 0.0223 | L1 Loss: 11.80 | Hidden Loss: 8.06  L0: 36\n",
      "Layers: 2 | l1 alpha MSE Loss: 0.0085 | L1 Loss: 4.30 | Hidden Loss: 5.62  L0: 17\n",
      "Layers: 3 | l1 alpha MSE Loss: 0.0058 | L1 Loss: 4.24 | Hidden Loss: 7.33  L0: 17\n"
     ]
    },
    {
     "name": "stderr",
     "output_type": "stream",
     "text": [
      " 23%|██▎       | 2501/10963 [12:20<44:38,  3.16it/s]"
     ]
    },
    {
     "name": "stdout",
     "output_type": "stream",
     "text": [
      "Layers: 4 | l1 alpha MSE Loss: 0.0151 | L1 Loss: 10.71 | Hidden Loss: 46.76  L0: 33\n"
     ]
    },
    {
     "name": "stderr",
     "output_type": "stream",
     "text": [
      " 24%|██▎       | 2600/10963 [12:52<39:48,  3.50it/s]"
     ]
    },
    {
     "name": "stdout",
     "output_type": "stream",
     "text": [
      "Layers: 0 | l1 alpha MSE Loss: 0.0047 | L1 Loss: 1.80 | Hidden Loss: 0.85  L0: 32\n",
      "Layers: 1 | l1 alpha MSE Loss: 0.0112 | L1 Loss: 11.72 | Hidden Loss: 7.73  L0: 33\n",
      "Layers: 2 | l1 alpha MSE Loss: 0.0081 | L1 Loss: 4.26 | Hidden Loss: 4.68  L0: 16\n",
      "Layers: 3 | l1 alpha MSE Loss: 0.0063 | L1 Loss: 4.16 | Hidden Loss: 6.69  L0: 17\n",
      "Layers: 4 | l1 alpha MSE Loss: 0.0210 | L1 Loss: 10.53 | Hidden Loss: 42.11  L0: 34\n"
     ]
    },
    {
     "name": "stderr",
     "output_type": "stream",
     "text": [
      " 25%|██▍       | 2700/10963 [13:20<36:44,  3.75it/s]"
     ]
    },
    {
     "name": "stdout",
     "output_type": "stream",
     "text": [
      "Layers: 0 | l1 alpha MSE Loss: 0.0052 | L1 Loss: 1.84 | Hidden Loss: 0.83  L0: 38\n",
      "Layers: 1 | l1 alpha MSE Loss: 0.0168 | L1 Loss: 11.51 | Hidden Loss: 7.14  L0: 32\n",
      "Layers: 2 | l1 alpha MSE Loss: 0.0073 | L1 Loss: 4.23 | Hidden Loss: 4.85  L0: 17\n",
      "Layers: 3 | l1 alpha MSE Loss: 0.0064 | L1 Loss: 4.13 | Hidden Loss: 6.76  L0: 17\n",
      "Layers: 4 | l1 alpha MSE Loss: 0.0169 | L1 Loss: 10.38 | Hidden Loss: 42.32  L0: 33\n"
     ]
    },
    {
     "name": "stderr",
     "output_type": "stream",
     "text": [
      " 26%|██▌       | 2800/10963 [13:50<41:02,  3.31it/s]"
     ]
    },
    {
     "name": "stdout",
     "output_type": "stream",
     "text": [
      "Layers: 0 | l1 alpha MSE Loss: 0.0060 | L1 Loss: 1.76 | Hidden Loss: 0.80  L0: 33\n",
      "Layers: 1 | l1 alpha MSE Loss: 0.0167 | L1 Loss: 11.44 | Hidden Loss: 7.01  L0: 32\n",
      "Layers: 2 | l1 alpha MSE Loss: 0.0067 | L1 Loss: 4.19 | Hidden Loss: 4.39  L0: 15\n",
      "Layers: 3 | l1 alpha MSE Loss: 0.0052 | L1 Loss: 4.06 | Hidden Loss: 6.18  L0: 16\n"
     ]
    },
    {
     "name": "stderr",
     "output_type": "stream",
     "text": [
      " 26%|██▌       | 2801/10963 [13:50<41:15,  3.30it/s]"
     ]
    },
    {
     "name": "stdout",
     "output_type": "stream",
     "text": [
      "Layers: 4 | l1 alpha MSE Loss: 0.0167 | L1 Loss: 10.18 | Hidden Loss: 39.76  L0: 32\n"
     ]
    },
    {
     "name": "stderr",
     "output_type": "stream",
     "text": [
      " 26%|██▋       | 2900/10963 [14:20<38:00,  3.53it/s]"
     ]
    },
    {
     "name": "stdout",
     "output_type": "stream",
     "text": [
      "Layers: 0 | l1 alpha MSE Loss: 0.0042 | L1 Loss: 1.75 | Hidden Loss: 0.85  L0: 34\n",
      "Layers: 1 | l1 alpha MSE Loss: 0.0101 | L1 Loss: 11.29 | Hidden Loss: 7.06  L0: 29\n",
      "Layers: 2 | l1 alpha MSE Loss: 0.0075 | L1 Loss: 4.16 | Hidden Loss: 4.35  L0: 15\n",
      "Layers: 3 | l1 alpha MSE Loss: 0.0056 | L1 Loss: 4.02 | Hidden Loss: 5.94  L0: 15\n",
      "Layers: 4 | l1 alpha MSE Loss: 0.0157 | L1 Loss: 10.05 | Hidden Loss: 38.87  L0: 32\n"
     ]
    },
    {
     "name": "stderr",
     "output_type": "stream",
     "text": [
      " 27%|██▋       | 3000/10963 [14:53<45:16,  2.93it/s]"
     ]
    },
    {
     "name": "stdout",
     "output_type": "stream",
     "text": [
      "Layers: 0 | l1 alpha MSE Loss: 0.0052 | L1 Loss: 1.81 | Hidden Loss: 0.86  L0: 27\n",
      "Layers: 1 | l1 alpha MSE Loss: 0.0119 | L1 Loss: 10.90 | Hidden Loss: 6.95  L0: 26\n",
      "Layers: 2 | l1 alpha MSE Loss: 0.0073 | L1 Loss: 4.14 | Hidden Loss: 4.10  L0: 14\n",
      "Layers: 3 | l1 alpha MSE Loss: 0.0073 | L1 Loss: 3.97 | Hidden Loss: 5.85  L0: 15\n"
     ]
    },
    {
     "name": "stderr",
     "output_type": "stream",
     "text": [
      " 27%|██▋       | 3001/10963 [14:54<43:54,  3.02it/s]"
     ]
    },
    {
     "name": "stdout",
     "output_type": "stream",
     "text": [
      "Layers: 4 | l1 alpha MSE Loss: 0.0514 | L1 Loss: 9.87 | Hidden Loss: 38.25  L0: 34\n"
     ]
    },
    {
     "name": "stderr",
     "output_type": "stream",
     "text": [
      " 27%|██▋       | 3001/10963 [14:54<39:32,  3.36it/s]\n"
     ]
    }
   ],
   "source": [
    "# Let's just think about this for 1 layer\n",
    "# If we're doing 10-different l1 alpha terms, then we have 10 different sparse weights\n",
    "mlp_weights_no_bias = []\n",
    "# l1_alphas = [1e-5, 4e-5, 7e-5, 1e-4, 4e-4, 7e-4, 1e-3, 4e-3, 7e-3, 1e-2]\n",
    "l1_alphas = [4e-4]\n",
    "\n",
    "mlp_optimizers_no_bias = []\n",
    "l1_alpha = len(l1_alphas)\n",
    "for layer in range(num_layers): # This is per layer\n",
    "    num_linear_features = linear_features[layer].sum()\n",
    "    num_mlp_features = mlp_features[layer].sum()\n",
    "    mlp_weights_no_bias.append([])\n",
    "    mlp_optimizers_no_bias.append([])\n",
    "    for l1_alpha_ind in range(l1_alpha):\n",
    "        mlp_weights_no_bias[-1].append(sae(num_features, output_size=num_mlp_features))\n",
    "        mlp_optimizers_no_bias[-1].append(Adam(mlp_weights_no_bias[-1][-1].parameters(), lr=1e-3))\n",
    "max_batches = 3000\n",
    "mlp_losses_no_bias, mlp_losses_no_bias_mse, mlp_losses_no_bias_l1, mlp_losses_no_bias_l1_hidden = train_sparse_model(model, dataset, device, mlp_weights_no_bias, autoencoders, cache_names, mlp_optimizers_no_bias, l1_alphas, mlp_features, max_batches=max_batches)"
   ]
  },
  {
   "cell_type": "code",
   "execution_count": 8,
   "metadata": {},
   "outputs": [
    {
     "data": {
      "image/png": "[encoded data removed]",
      "text/plain": [
       "<Figure size 1200x3000 with 5 Axes>"
      ]
     },
     "metadata": {},
     "output_type": "display_data"
    }
   ],
   "source": [
    "# Plot both losses, just the last value for both MSE and L1\n",
    "import matplotlib.pyplot as plt\n",
    "# mlp_losses_no_bias, mlp_losses_no_bias_mse, mlp_losses_no_bias_l1, mlp_losses_no_bias_l1_hidden\n",
    "num_layers = len(mlp_losses_no_bias)\n",
    "num_columns = 2  # Two columns: one for each type of loss\n",
    "num_rows = num_layers  # One row for each layer\n",
    "\n",
    "l1_alpha_num = len(l1_alphas)\n",
    "mlp_mse_losses_last = np.zeros((num_layers, l1_alpha_num))\n",
    "mlp_l1_losses_last = np.zeros((num_layers, l1_alpha_num))\n",
    "mlp_l1_hidden_losses_last = np.zeros((num_layers, l1_alpha_num))\n",
    "for layer in range(num_layers):\n",
    "    for l1_alpha_ind, l1_alpha in enumerate(l1_alphas):\n",
    "        mlp_mse_losses_last[layer, l1_alpha_ind] = mlp_losses_no_bias_mse[layer][l1_alpha_ind][-1]\n",
    "        mlp_l1_losses_last[layer, l1_alpha_ind] = mlp_losses_no_bias_l1[layer][l1_alpha_ind][-1]\n",
    "        mlp_l1_hidden_losses_last[layer, l1_alpha_ind] = mlp_losses_no_bias_l1_hidden[layer][l1_alpha_ind][-1]\n",
    "\n",
    "plt.figure(figsize=(12, 6 * num_rows))  # Adjust the size as needed\n",
    "\n",
    "for layer in range(num_layers):\n",
    "    # Subplot for MSE Loss\n",
    "    plt.subplot(num_rows, num_columns, layer+1)\n",
    "    plt.title(f\"MSE vs L1 : Layer {layer+1}\")\n",
    "    # Grabe the last value of MSE and L1\n",
    "    mlp_l1_loss = mlp_l1_losses_last[layer] \n",
    "    mlp_mse_loss = mlp_mse_losses_last[layer] \n",
    "    mlp_l1_hidden_loss = mlp_l1_hidden_losses_last[layer]\n",
    "    # Plot\n",
    "    plt.plot(mlp_l1_loss, mlp_mse_loss, 'o', label=\"MLP_no_bias\")\n",
    "    plt.xlabel(\"L1 Loss\")\n",
    "    plt.ylabel(\"MSE Loss\")\n",
    "    # put both on logplot\n",
    "    plt.yscale('log')\n",
    "    plt.xscale('log')\n",
    "    plt.legend()\n",
    "plt.show()"
   ]
  },
  {
   "cell_type": "code",
   "execution_count": 9,
   "metadata": {},
   "outputs": [],
   "source": [
    "# Save these mlp weights\n",
    "dir = \"sparse_weights\"\n",
    "for layer in range(num_layers):\n",
    "    for l1_alpha_ind, l1_alpha in enumerate(l1_alphas):\n",
    "        torch.save(mlp_weights_no_bias[layer][l1_alpha_ind], f\"{dir}/Pythia-70M-deduped-mlp-{layer+1}-l1_alpha-{l1_alpha}.pt\")"
   ]
  },
  {
   "cell_type": "code",
   "execution_count": 23,
   "metadata": {},
   "outputs": [
    {
     "name": "stdout",
     "output_type": "stream",
     "text": [
      "l1_alpha: 1.0E-05 | MSE: 1.8E-03 | L1: 28.6 | Hidden: 11.76\n",
      "l1_alpha: 4.0E-05 | MSE: 1.9E-03 | L1: 13.2 | Hidden: 5.45\n",
      "l1_alpha: 7.0E-05 | MSE: 2.0E-03 | L1: 9.2 | Hidden: 3.90\n",
      "l1_alpha: 1.0E-04 | MSE: 2.0E-03 | L1: 7.3 | Hidden: 3.16\n",
      "l1_alpha: 4.0E-04 | MSE: 5.7E-03 | L1: 1.8 | Hidden: 0.81\n",
      "l1_alpha: 7.0E-04 | MSE: 7.5E-03 | L1: 1.2 | Hidden: 0.35\n",
      "l1_alpha: 1.0E-03 | MSE: 8.3E-03 | L1: 1.0 | Hidden: 0.23\n",
      "l1_alpha: 4.0E-03 | MSE: 1.3E-02 | L1: 0.8 | Hidden: 0.02\n",
      "l1_alpha: 7.0E-03 | MSE: 1.3E-02 | L1: 0.8 | Hidden: 0.02\n",
      "l1_alpha: 1.0E-02 | MSE: 1.3E-02 | L1: 0.8 | Hidden: 0.02\n"
     ]
    }
   ],
   "source": [
    "for l1_alpha, mse, l1, hidden in zip(l1_alphas, mlp_mse_loss, mlp_l1_loss, mlp_l1_hidden_loss):\n",
    "    print(f\"l1_alpha: {l1_alpha:.1E} | MSE: {mse:.1E} | L1: {l1:.1f} | Hidden: {hidden:.2f}\")"
   ]
  },
  {
   "cell_type": "code",
   "execution_count": 11,
   "metadata": {},
   "outputs": [
    {
     "data": {
      "text/plain": [
       "Text(0, 0.5, 'l1_hidden')"
      ]
     },
     "execution_count": 11,
     "metadata": {},
     "output_type": "execute_result"
    },
    {
     "data": {
      "image/png": "[encoded data removed]",
      "text/plain": [
       "<Figure size 640x480 with 1 Axes>"
      ]
     },
     "metadata": {},
     "output_type": "display_data"
    }
   ],
   "source": [
    "plt.plot(mlp_l1_loss, mlp_l1_hidden_loss, 'o', label=\"MLP_no_bias\")\n",
    "plt.xlabel(\"L1 Loss\")\n",
    "plt.ylabel(\"l1_hidden\")"
   ]
  }
 ],
 "metadata": {
  "kernelspec": {
   "display_name": "logan",
   "language": "python",
   "name": "python3"
  },
  "language_info": {
   "codemirror_mode": {
    "name": "ipython",
    "version": 3
   },
   "file_extension": ".py",
   "mimetype": "text/x-python",
   "name": "python",
   "nbconvert_exporter": "python",
   "pygments_lexer": "ipython3",
   "version": "3.10.13"
  }
 },
 "nbformat": 4,
 "nbformat_minor": 2
}
