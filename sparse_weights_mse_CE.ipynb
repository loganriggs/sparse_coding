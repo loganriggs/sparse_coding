{
 "cells": [
  {
   "cell_type": "code",
   "execution_count": 4,
   "metadata": {},
   "outputs": [
    {
     "name": "stderr",
     "output_type": "stream",
     "text": [
      "/root/logan/lib/python3.10/site-packages/tqdm/auto.py:21: TqdmWarning: IProgress not found. Please update jupyter and ipywidgets. See https://ipywidgets.readthedocs.io/en/stable/user_install.html\n",
      "  from .autonotebook import tqdm as notebook_tqdm\n"
     ]
    }
   ],
   "source": [
    "import torch\n",
    "import numpy as np\n",
    "from torch.utils.data import DataLoader\n",
    "from datasets import Dataset, load_dataset\n",
    "from tqdm.auto import tqdm\n",
    "from functools import partial\n",
    "from einops import rearrange\n",
    "from huggingface_hub import hf_hub_download\n",
    "from transformers import AutoTokenizer, AutoModelForCausalLM, AutoModelForSequenceClassification\n",
    "from baukit import TraceDict\n",
    "\n",
    "# Download the modelz\n",
    "device = \"cuda:0\"\n",
    "model_name=\"EleutherAI/Pythia-70M-deduped\"\n",
    "model = AutoModelForCausalLM.from_pretrained(model_name).to(device)\n",
    "tokenizer = AutoTokenizer.from_pretrained(model_name)\n",
    "# set seed\n",
    "torch.manual_seed(0)\n",
    "np.random.seed(0)"
   ]
  },
  {
   "cell_type": "code",
   "execution_count": 5,
   "metadata": {},
   "outputs": [],
   "source": [
    "from autoencoders import *\n",
    "# ae_model_id = [\"jbrinkma/Pythia-70M-chess_sp51_r4_gpt_neox.layers.1\", \"jbrinkma/Pythia-70M-chess_sp51_r4_gpt_neox.layers.2.mlp\"]\n",
    "model_id = \"jbrinkma/Pythia-70M-deduped-SAEs\"\n",
    "autoencoders = []\n",
    "layers = model.config.num_hidden_layers\n",
    "cache_names = [(f\"gpt_neox.layers.{i}\", f\"gpt_neox.layers.{i+1}.mlp\") for i in range(layers-1)]\n",
    "# cache_names = [(f\"gpt_neox.layers.{i}\", f\"gpt_neox.layers.{i+1}.attention\") for i in range(layers-1)]\n",
    "# cache_names = [(f\"gpt_neox.layers.{i}\", f\"gpt_neox.layers.{i+1}.mlp\") for i in range(1,2)]\n",
    "num_layers = len(cache_names)\n",
    "cache_names = [item for sublist in cache_names for item in sublist]\n",
    "filenames = [(f\"Pythia-70M-deduped-{i}.pt\", f\"Pythia-70M-deduped-mlp-{i+1}.pt\") for i in range(layers-1)]\n",
    "# filenames = [(f\"Pythia-70M-deduped-{i}.pt\", f\"Pythia-70M-deduped-attention-{i+1}.pt\") for i in range(layers-1)]\n",
    "# filenames = [(f\"Pythia-70M-deduped-{i}.pt\", f\"Pythia-70M-deduped-mlp-{i+1}.pt\") for i in range(1,2)]\n",
    "filenames = [item for sublist in filenames for item in sublist]\n",
    "for filen in filenames:\n",
    "    ae_download_location = hf_hub_download(repo_id=model_id, filename=filen)\n",
    "    autoencoder = torch.load(ae_download_location)\n",
    "    autoencoder.to_device(device)\n",
    "    # Freeze autoencoder weights\n",
    "    autoencoder.encoder.requires_grad_(False)\n",
    "    autoencoder.encoder_bias.requires_grad_(False)\n",
    "    autoencoders.append(autoencoder)"
   ]
  },
  {
   "cell_type": "code",
   "execution_count": 6,
   "metadata": {},
   "outputs": [
    {
     "name": "stderr",
     "output_type": "stream",
     "text": [
      "Found cached dataset openwebtext-10k (/root/.cache/huggingface/datasets/stas___openwebtext-10k/plain_text/1.0.0/3a8df094c671b4cb63ed0b41f40fb3bd855e9ce2e3765e5df50abcdfb5ec144b)\n",
      "Loading cached processed dataset at /root/.cache/huggingface/datasets/stas___openwebtext-10k/plain_text/1.0.0/3a8df094c671b4cb63ed0b41f40fb3bd855e9ce2e3765e5df50abcdfb5ec144b/cache-89f7d956ed9de0f6_*_of_00008.arrow\n"
     ]
    },
    {
     "name": "stdout",
     "output_type": "stream",
     "text": [
      "Number of tokens: 11.23M\n"
     ]
    }
   ],
   "source": [
    "from activation_dataset import chunk_and_tokenize\n",
    "# Download the dataset\n",
    "# This formats it, so every datapoint is max_length tokens long\n",
    "# The batch size is for loading activations from the LLM, not for inference on the autoencoder\n",
    "dataset_name=\"stas/openwebtext-10k\"\n",
    "max_seq_length=256\n",
    "dataset = load_dataset(dataset_name, split=\"train\")\n",
    "dataset, _ = chunk_and_tokenize(dataset, tokenizer, max_length=max_seq_length)\n",
    "max_tokens = dataset.num_rows*max_seq_length\n",
    "print(f\"Number of tokens: {max_tokens/1e6:.2f}M\")"
   ]
  },
  {
   "cell_type": "code",
   "execution_count": 7,
   "metadata": {},
   "outputs": [
    {
     "name": "stdout",
     "output_type": "stream",
     "text": [
      "Number of Train Tokens: 10.10M\n",
      "Number of Test Tokens: 1.12M\n"
     ]
    }
   ],
   "source": [
    "# split dataset into both a train & test set\n",
    "test_size = 0.1\n",
    "test_size = int(len(dataset)*test_size)\n",
    "train_size = len(dataset)-test_size\n",
    "train_dataset, test_dataset = torch.utils.data.random_split(dataset, [train_size, test_size])\n",
    "print(f\"Number of Train Tokens: {len(train_dataset)*max_seq_length/1e6:.2f}M\")\n",
    "print(f\"Number of Test Tokens: {len(test_dataset)*max_seq_length/1e6:.2f}M\")"
   ]
  },
  {
   "cell_type": "code",
   "execution_count": 8,
   "metadata": {},
   "outputs": [],
   "source": [
    "# Create dataloaders\n",
    "batch_size = 32\n",
    "train_dataloader = DataLoader(train_dataset, batch_size=batch_size, shuffle=True, num_workers=8)\n",
    "test_dataloader = DataLoader(test_dataset, batch_size=batch_size, shuffle=True, num_workers=8)"
   ]
  },
  {
   "cell_type": "code",
   "execution_count": 9,
   "metadata": {},
   "outputs": [],
   "source": [
    "from torch.optim import Adam\n",
    "from torch import nn\n",
    "    \n",
    "class mlp(nn.Module):\n",
    "    def __init__(self, input_size, output_size=None, hidden_size=None, bias=True):\n",
    "        super().__init__()\n",
    "        if(output_size is None):\n",
    "            output_size = input_size\n",
    "        if(hidden_size is None):\n",
    "            hidden_size = input_size\n",
    "        # Only adding a bias to the latent layer\n",
    "        self.linear = nn.Linear(input_size, hidden_size, bias=bias)\n",
    "        self.linear2 = nn.Linear(hidden_size, output_size, bias=False)\n",
    "        self.relu = nn.ReLU()\n",
    "    def forward(self, x):\n",
    "        x = self.linear(x)\n",
    "        x = self.relu(x)\n",
    "        x = self.linear2(x)\n",
    "        return x\n",
    "    def latent(self, x):\n",
    "        x = self.linear(x)\n",
    "        x = self.relu(x)\n",
    "        return x\n",
    "    \n",
    "class linear(nn.Module):\n",
    "    def __init__(self, input_size, output_size=None, bias=True):\n",
    "        super().__init__()\n",
    "        if(output_size is None):\n",
    "            output_size = input_size\n",
    "        self.linear = nn.Linear(input_size, output_size, bias=bias)\n",
    "    def forward(self, x):\n",
    "        x = self.linear(x)\n",
    "        return x"
   ]
  },
  {
   "cell_type": "code",
   "execution_count": 10,
   "metadata": {},
   "outputs": [],
   "source": [
    "# Load in the features indices\n",
    "# Note: linear & MLP features are a subet of alive features, not total features\n",
    "import pickle\n",
    "with open(\"linear_features.pkl\", \"rb\") as f:\n",
    "    linear_features = pickle.load(f)\n",
    "with open(\"mlp_features.pkl\", \"rb\") as f:\n",
    "    mlp_features = pickle.load(f)\n",
    "with open(\"alive_features.pkl\", \"rb\") as f:\n",
    "    alive_features_ind = pickle.load(f)\n",
    "normalization_per_layer = torch.load(\"normalization_per_layer.pt\")"
   ]
  },
  {
   "cell_type": "code",
   "execution_count": 11,
   "metadata": {},
   "outputs": [],
   "source": [
    "num_features, d_model = autoencoder.encoder.shape\n",
    "\n",
    "mlp_weights = []\n",
    "mlp_optimizers = []\n",
    "for auto_ind in range(num_layers):\n",
    "    mlp_weights.append(mlp(num_features, bias=False))\n",
    "    mlp_weights[-1].to(device)\n",
    "    mlp_optimizers.append(Adam(mlp_weights[-1].parameters(), lr=1e-3))"
   ]
  },
  {
   "cell_type": "code",
   "execution_count": 24,
   "metadata": {},
   "outputs": [
    {
     "name": "stderr",
     "output_type": "stream",
     "text": [
      "  0%|          | 0/138 [00:01<?, ?it/s]\n"
     ]
    }
   ],
   "source": [
    "for i, batch in enumerate(tqdm(test_dataloader)):\n",
    "    batch = batch[\"input_ids\"].to(device)\n",
    "    with torch.no_grad():\n",
    "        with TraceDict(model, cache_names) as ret:\n",
    "            original_logits = model(batch)\n",
    "    break"
   ]
  },
  {
   "cell_type": "code",
   "execution_count": 35,
   "metadata": {},
   "outputs": [
    {
     "name": "stdout",
     "output_type": "stream",
     "text": [
      "tensor(12.4122, device='cuda:0')\n"
     ]
    }
   ],
   "source": [
    "logits = original_logits.logits\n",
    "\n",
    "# Assuming logits and batch are provided as follows\n",
    "# logits.shape = (batch_size, seq, vocab_size)\n",
    "# batch.shape = (batch_size, seq)\n",
    "\n",
    "# Reshape logits and labels for CrossEntropyLoss\n",
    "logits = logits.view(-1, logits.size(-1))  # Reshape to (batch_size * seq, vocab_size)\n",
    "labels = batch.view(-1)  # Flatten to (batch_size * seq)\n",
    "\n",
    "# Define the loss function\n",
    "loss_fn = nn.CrossEntropyLoss()\n",
    "\n",
    "# Calculate loss\n",
    "loss = loss_fn(logits, labels)\n",
    "\n",
    "# Print or return the loss\n",
    "print(loss)"
   ]
  },
  {
   "cell_type": "code",
   "execution_count": 34,
   "metadata": {},
   "outputs": [
    {
     "data": {
      "text/plain": [
       "torch.Size([804864, 512])"
      ]
     },
     "execution_count": 34,
     "metadata": {},
     "output_type": "execute_result"
    }
   ],
   "source": []
  },
  {
   "cell_type": "code",
   "execution_count": 30,
   "metadata": {},
   "outputs": [
    {
     "data": {
      "text/plain": [
       "torch.Size([32, 256])"
      ]
     },
     "execution_count": 30,
     "metadata": {},
     "output_type": "execute_result"
    }
   ],
   "source": [
    "batch.shape"
   ]
  },
  {
   "cell_type": "code",
   "execution_count": 15,
   "metadata": {},
   "outputs": [
    {
     "data": {
      "text/plain": [
       "('self',\n",
       " 'input_ids',\n",
       " 'attention_mask',\n",
       " 'position_ids',\n",
       " 'inputs_embeds',\n",
       " 'head_mask',\n",
       " 'past_key_values',\n",
       " 'labels',\n",
       " 'use_cache',\n",
       " 'output_attentions',\n",
       " 'output_hidden_states',\n",
       " 'return_dict',\n",
       " 'outputs',\n",
       " 'hidden_states',\n",
       " 'lm_logits',\n",
       " 'lm_loss',\n",
       " 'shift_logits',\n",
       " 'loss_fct',\n",
       " 'output')"
      ]
     },
     "execution_count": 15,
     "metadata": {},
     "output_type": "execute_result"
    }
   ],
   "source": [
    "# Find the arguments that model() takes in (ie def of model.forward())\n",
    "arguments = model.forward.__code__.co_varnames\n",
    "arguments"
   ]
  },
  {
   "cell_type": "code",
   "execution_count": 23,
   "metadata": {},
   "outputs": [],
   "source": []
  },
  {
   "cell_type": "code",
   "execution_count": 20,
   "metadata": {},
   "outputs": [
    {
     "data": {
      "text/plain": [
       "('a', 'b', 'c')"
      ]
     },
     "execution_count": 20,
     "metadata": {},
     "output_type": "execute_result"
    }
   ],
   "source": [
    "def x(a = 1, b = 2, c = 3):\n",
    "    return a+b+c\n",
    "x.__code__.co_varnames"
   ]
  },
  {
   "cell_type": "code",
   "execution_count": 41,
   "metadata": {},
   "outputs": [
    {
     "name": "stderr",
     "output_type": "stream",
     "text": [
      "  0%|          | 0/138 [00:00<?, ?it/s]"
     ]
    },
    {
     "name": "stdout",
     "output_type": "stream",
     "text": [
      "Layer:1 | Original Loss: 10.93 | Reconstructed Loss: 9.30 | Difference: -1.63\n",
      "Layer:2 | Original Loss: 10.93 | Reconstructed Loss: 9.73 | Difference: -1.20\n",
      "Layer:3 | Original Loss: 10.93 | Reconstructed Loss: 10.80 | Difference: -0.13\n",
      "Layer:4 | Original Loss: 10.93 | Reconstructed Loss: 9.44 | Difference: -1.48\n"
     ]
    },
    {
     "name": "stderr",
     "output_type": "stream",
     "text": [
      "  1%|          | 1/138 [00:03<07:33,  3.31s/it]"
     ]
    },
    {
     "name": "stdout",
     "output_type": "stream",
     "text": [
      "Layer:5 | Original Loss: 10.93 | Reconstructed Loss: 16.37 | Difference: 5.44\n",
      "Layer:1 | Original Loss: 10.86 | Reconstructed Loss: 9.34 | Difference: -1.52\n",
      "Layer:2 | Original Loss: 10.86 | Reconstructed Loss: 9.69 | Difference: -1.17\n",
      "Layer:3 | Original Loss: 10.86 | Reconstructed Loss: 10.68 | Difference: -0.18\n",
      "Layer:4 | Original Loss: 10.86 | Reconstructed Loss: 9.44 | Difference: -1.42\n"
     ]
    },
    {
     "name": "stderr",
     "output_type": "stream",
     "text": [
      "  1%|▏         | 2/138 [00:05<05:25,  2.39s/it]"
     ]
    },
    {
     "name": "stdout",
     "output_type": "stream",
     "text": [
      "Layer:5 | Original Loss: 10.86 | Reconstructed Loss: 16.28 | Difference: 5.42\n",
      "Layer:1 | Original Loss: 10.94 | Reconstructed Loss: 9.41 | Difference: -1.53\n",
      "Layer:2 | Original Loss: 10.94 | Reconstructed Loss: 9.75 | Difference: -1.19\n",
      "Layer:3 | Original Loss: 10.94 | Reconstructed Loss: 10.75 | Difference: -0.19\n",
      "Layer:4 | Original Loss: 10.94 | Reconstructed Loss: 9.55 | Difference: -1.39\n"
     ]
    },
    {
     "name": "stderr",
     "output_type": "stream",
     "text": [
      "  2%|▏         | 3/138 [00:06<04:44,  2.10s/it]"
     ]
    },
    {
     "name": "stdout",
     "output_type": "stream",
     "text": [
      "Layer:5 | Original Loss: 10.94 | Reconstructed Loss: 16.34 | Difference: 5.40\n",
      "Layer:1 | Original Loss: 10.90 | Reconstructed Loss: 9.35 | Difference: -1.54\n",
      "Layer:2 | Original Loss: 10.90 | Reconstructed Loss: 9.71 | Difference: -1.18\n",
      "Layer:3 | Original Loss: 10.90 | Reconstructed Loss: 10.71 | Difference: -0.18\n",
      "Layer:4 | Original Loss: 10.90 | Reconstructed Loss: 9.52 | Difference: -1.37\n"
     ]
    },
    {
     "name": "stderr",
     "output_type": "stream",
     "text": [
      "  3%|▎         | 4/138 [00:08<04:23,  1.97s/it]"
     ]
    },
    {
     "name": "stdout",
     "output_type": "stream",
     "text": [
      "Layer:5 | Original Loss: 10.90 | Reconstructed Loss: 16.33 | Difference: 5.43\n",
      "Layer:1 | Original Loss: 10.94 | Reconstructed Loss: 9.38 | Difference: -1.56\n",
      "Layer:2 | Original Loss: 10.94 | Reconstructed Loss: 9.76 | Difference: -1.18\n",
      "Layer:3 | Original Loss: 10.94 | Reconstructed Loss: 10.75 | Difference: -0.20\n",
      "Layer:4 | Original Loss: 10.94 | Reconstructed Loss: 9.57 | Difference: -1.37\n"
     ]
    },
    {
     "name": "stderr",
     "output_type": "stream",
     "text": [
      "  4%|▎         | 5/138 [00:10<04:11,  1.89s/it]"
     ]
    },
    {
     "name": "stdout",
     "output_type": "stream",
     "text": [
      "Layer:5 | Original Loss: 10.94 | Reconstructed Loss: 16.38 | Difference: 5.43\n",
      "Layer:1 | Original Loss: 10.92 | Reconstructed Loss: 9.38 | Difference: -1.54\n",
      "Layer:2 | Original Loss: 10.92 | Reconstructed Loss: 9.73 | Difference: -1.19\n",
      "Layer:3 | Original Loss: 10.92 | Reconstructed Loss: 10.72 | Difference: -0.20\n",
      "Layer:4 | Original Loss: 10.92 | Reconstructed Loss: 9.55 | Difference: -1.37\n"
     ]
    },
    {
     "name": "stderr",
     "output_type": "stream",
     "text": [
      "  4%|▍         | 6/138 [00:12<04:03,  1.85s/it]"
     ]
    },
    {
     "name": "stdout",
     "output_type": "stream",
     "text": [
      "Layer:5 | Original Loss: 10.92 | Reconstructed Loss: 16.37 | Difference: 5.45\n",
      "Layer:1 | Original Loss: 10.92 | Reconstructed Loss: 9.41 | Difference: -1.51\n",
      "Layer:2 | Original Loss: 10.92 | Reconstructed Loss: 9.73 | Difference: -1.19\n",
      "Layer:3 | Original Loss: 10.92 | Reconstructed Loss: 10.72 | Difference: -0.20\n",
      "Layer:4 | Original Loss: 10.92 | Reconstructed Loss: 9.54 | Difference: -1.38\n"
     ]
    },
    {
     "name": "stderr",
     "output_type": "stream",
     "text": [
      "  5%|▌         | 7/138 [00:13<03:58,  1.82s/it]"
     ]
    },
    {
     "name": "stdout",
     "output_type": "stream",
     "text": [
      "Layer:5 | Original Loss: 10.92 | Reconstructed Loss: 16.39 | Difference: 5.47\n",
      "Layer:1 | Original Loss: 10.92 | Reconstructed Loss: 9.40 | Difference: -1.52\n",
      "Layer:2 | Original Loss: 10.92 | Reconstructed Loss: 9.72 | Difference: -1.20\n",
      "Layer:3 | Original Loss: 10.92 | Reconstructed Loss: 10.71 | Difference: -0.21\n",
      "Layer:4 | Original Loss: 10.92 | Reconstructed Loss: 9.54 | Difference: -1.38\n"
     ]
    },
    {
     "name": "stderr",
     "output_type": "stream",
     "text": [
      "  6%|▌         | 8/138 [00:15<03:53,  1.80s/it]"
     ]
    },
    {
     "name": "stdout",
     "output_type": "stream",
     "text": [
      "Layer:5 | Original Loss: 10.92 | Reconstructed Loss: 16.42 | Difference: 5.50\n",
      "Layer:1 | Original Loss: 10.87 | Reconstructed Loss: 9.35 | Difference: -1.51\n",
      "Layer:2 | Original Loss: 10.87 | Reconstructed Loss: 9.68 | Difference: -1.18\n",
      "Layer:3 | Original Loss: 10.87 | Reconstructed Loss: 10.65 | Difference: -0.22\n",
      "Layer:4 | Original Loss: 10.87 | Reconstructed Loss: 9.49 | Difference: -1.38\n"
     ]
    },
    {
     "name": "stderr",
     "output_type": "stream",
     "text": [
      "  7%|▋         | 9/138 [00:17<03:50,  1.78s/it]"
     ]
    },
    {
     "name": "stdout",
     "output_type": "stream",
     "text": [
      "Layer:5 | Original Loss: 10.87 | Reconstructed Loss: 16.39 | Difference: 5.52\n",
      "Layer:1 | Original Loss: 10.91 | Reconstructed Loss: 9.38 | Difference: -1.53\n",
      "Layer:2 | Original Loss: 10.91 | Reconstructed Loss: 9.72 | Difference: -1.19\n",
      "Layer:3 | Original Loss: 10.91 | Reconstructed Loss: 10.69 | Difference: -0.22\n",
      "Layer:4 | Original Loss: 10.91 | Reconstructed Loss: 9.53 | Difference: -1.38\n"
     ]
    },
    {
     "name": "stderr",
     "output_type": "stream",
     "text": [
      "  7%|▋         | 10/138 [00:19<03:47,  1.78s/it]"
     ]
    },
    {
     "name": "stdout",
     "output_type": "stream",
     "text": [
      "Layer:5 | Original Loss: 10.91 | Reconstructed Loss: 16.43 | Difference: 5.52\n",
      "Layer:1 | Original Loss: 10.91 | Reconstructed Loss: 9.38 | Difference: -1.53\n",
      "Layer:2 | Original Loss: 10.91 | Reconstructed Loss: 9.72 | Difference: -1.20\n",
      "Layer:3 | Original Loss: 10.91 | Reconstructed Loss: 10.70 | Difference: -0.21\n",
      "Layer:4 | Original Loss: 10.91 | Reconstructed Loss: 9.54 | Difference: -1.37\n"
     ]
    },
    {
     "name": "stderr",
     "output_type": "stream",
     "text": [
      "  8%|▊         | 11/138 [00:20<03:44,  1.77s/it]"
     ]
    },
    {
     "name": "stdout",
     "output_type": "stream",
     "text": [
      "Layer:5 | Original Loss: 10.91 | Reconstructed Loss: 16.42 | Difference: 5.51\n",
      "Layer:1 | Original Loss: 11.09 | Reconstructed Loss: 9.55 | Difference: -1.54\n",
      "Layer:2 | Original Loss: 11.09 | Reconstructed Loss: 9.89 | Difference: -1.20\n",
      "Layer:3 | Original Loss: 11.09 | Reconstructed Loss: 10.88 | Difference: -0.22\n",
      "Layer:4 | Original Loss: 11.09 | Reconstructed Loss: 9.71 | Difference: -1.38\n"
     ]
    },
    {
     "name": "stderr",
     "output_type": "stream",
     "text": [
      "  9%|▊         | 12/138 [00:22<03:42,  1.77s/it]"
     ]
    },
    {
     "name": "stdout",
     "output_type": "stream",
     "text": [
      "Layer:5 | Original Loss: 11.09 | Reconstructed Loss: 16.59 | Difference: 5.50\n",
      "Layer:1 | Original Loss: 11.10 | Reconstructed Loss: 9.55 | Difference: -1.55\n",
      "Layer:2 | Original Loss: 11.10 | Reconstructed Loss: 9.89 | Difference: -1.21\n",
      "Layer:3 | Original Loss: 11.10 | Reconstructed Loss: 10.88 | Difference: -0.22\n",
      "Layer:4 | Original Loss: 11.10 | Reconstructed Loss: 9.71 | Difference: -1.39\n"
     ]
    },
    {
     "name": "stderr",
     "output_type": "stream",
     "text": [
      "  9%|▉         | 13/138 [00:24<03:41,  1.77s/it]"
     ]
    },
    {
     "name": "stdout",
     "output_type": "stream",
     "text": [
      "Layer:5 | Original Loss: 11.10 | Reconstructed Loss: 16.59 | Difference: 5.49\n",
      "Layer:1 | Original Loss: 11.16 | Reconstructed Loss: 9.62 | Difference: -1.55\n",
      "Layer:2 | Original Loss: 11.16 | Reconstructed Loss: 9.95 | Difference: -1.21\n",
      "Layer:3 | Original Loss: 11.16 | Reconstructed Loss: 10.93 | Difference: -0.23\n",
      "Layer:4 | Original Loss: 11.16 | Reconstructed Loss: 9.77 | Difference: -1.39\n"
     ]
    },
    {
     "name": "stderr",
     "output_type": "stream",
     "text": [
      " 10%|█         | 14/138 [00:26<03:39,  1.77s/it]"
     ]
    },
    {
     "name": "stdout",
     "output_type": "stream",
     "text": [
      "Layer:5 | Original Loss: 11.16 | Reconstructed Loss: 16.63 | Difference: 5.47\n",
      "Layer:1 | Original Loss: 11.36 | Reconstructed Loss: 9.79 | Difference: -1.57\n",
      "Layer:2 | Original Loss: 11.36 | Reconstructed Loss: 10.14 | Difference: -1.22\n",
      "Layer:3 | Original Loss: 11.36 | Reconstructed Loss: 11.11 | Difference: -0.25\n",
      "Layer:4 | Original Loss: 11.36 | Reconstructed Loss: 9.94 | Difference: -1.42\n"
     ]
    },
    {
     "name": "stderr",
     "output_type": "stream",
     "text": [
      " 11%|█         | 15/138 [00:27<03:37,  1.77s/it]"
     ]
    },
    {
     "name": "stdout",
     "output_type": "stream",
     "text": [
      "Layer:5 | Original Loss: 11.36 | Reconstructed Loss: 16.80 | Difference: 5.44\n",
      "Layer:1 | Original Loss: 11.34 | Reconstructed Loss: 9.76 | Difference: -1.57\n",
      "Layer:2 | Original Loss: 11.34 | Reconstructed Loss: 10.11 | Difference: -1.22\n",
      "Layer:3 | Original Loss: 11.34 | Reconstructed Loss: 11.09 | Difference: -0.25\n",
      "Layer:4 | Original Loss: 11.34 | Reconstructed Loss: 9.93 | Difference: -1.41\n"
     ]
    },
    {
     "name": "stderr",
     "output_type": "stream",
     "text": [
      " 12%|█▏        | 16/138 [00:29<03:35,  1.77s/it]"
     ]
    },
    {
     "name": "stdout",
     "output_type": "stream",
     "text": [
      "Layer:5 | Original Loss: 11.34 | Reconstructed Loss: 16.76 | Difference: 5.42\n",
      "Layer:1 | Original Loss: 11.36 | Reconstructed Loss: 9.78 | Difference: -1.57\n",
      "Layer:2 | Original Loss: 11.36 | Reconstructed Loss: 10.13 | Difference: -1.22\n",
      "Layer:3 | Original Loss: 11.36 | Reconstructed Loss: 11.11 | Difference: -0.25\n",
      "Layer:4 | Original Loss: 11.36 | Reconstructed Loss: 9.94 | Difference: -1.42\n"
     ]
    },
    {
     "name": "stderr",
     "output_type": "stream",
     "text": [
      " 12%|█▏        | 17/138 [00:31<03:33,  1.77s/it]"
     ]
    },
    {
     "name": "stdout",
     "output_type": "stream",
     "text": [
      "Layer:5 | Original Loss: 11.36 | Reconstructed Loss: 16.79 | Difference: 5.43\n",
      "Layer:1 | Original Loss: 11.32 | Reconstructed Loss: 9.75 | Difference: -1.57\n",
      "Layer:2 | Original Loss: 11.32 | Reconstructed Loss: 10.10 | Difference: -1.22\n",
      "Layer:3 | Original Loss: 11.32 | Reconstructed Loss: 11.08 | Difference: -0.25\n",
      "Layer:4 | Original Loss: 11.32 | Reconstructed Loss: 9.91 | Difference: -1.41\n"
     ]
    },
    {
     "name": "stderr",
     "output_type": "stream",
     "text": [
      " 13%|█▎        | 18/138 [00:33<03:33,  1.78s/it]"
     ]
    },
    {
     "name": "stdout",
     "output_type": "stream",
     "text": [
      "Layer:5 | Original Loss: 11.32 | Reconstructed Loss: 16.76 | Difference: 5.44\n",
      "Layer:1 | Original Loss: 11.26 | Reconstructed Loss: 9.69 | Difference: -1.57\n",
      "Layer:2 | Original Loss: 11.26 | Reconstructed Loss: 10.04 | Difference: -1.22\n",
      "Layer:3 | Original Loss: 11.26 | Reconstructed Loss: 11.01 | Difference: -0.24\n",
      "Layer:4 | Original Loss: 11.26 | Reconstructed Loss: 9.85 | Difference: -1.41\n"
     ]
    },
    {
     "name": "stderr",
     "output_type": "stream",
     "text": [
      " 14%|█▍        | 19/138 [00:35<03:31,  1.77s/it]"
     ]
    },
    {
     "name": "stdout",
     "output_type": "stream",
     "text": [
      "Layer:5 | Original Loss: 11.26 | Reconstructed Loss: 16.70 | Difference: 5.44\n",
      "Layer:1 | Original Loss: 11.29 | Reconstructed Loss: 9.73 | Difference: -1.56\n",
      "Layer:2 | Original Loss: 11.29 | Reconstructed Loss: 10.07 | Difference: -1.22\n",
      "Layer:3 | Original Loss: 11.29 | Reconstructed Loss: 11.05 | Difference: -0.25\n",
      "Layer:4 | Original Loss: 11.29 | Reconstructed Loss: 9.88 | Difference: -1.41\n"
     ]
    },
    {
     "name": "stderr",
     "output_type": "stream",
     "text": [
      " 14%|█▍        | 20/138 [00:36<03:29,  1.77s/it]"
     ]
    },
    {
     "name": "stdout",
     "output_type": "stream",
     "text": [
      "Layer:5 | Original Loss: 11.29 | Reconstructed Loss: 16.73 | Difference: 5.43\n",
      "Layer:1 | Original Loss: 11.32 | Reconstructed Loss: 9.75 | Difference: -1.57\n",
      "Layer:2 | Original Loss: 11.32 | Reconstructed Loss: 10.09 | Difference: -1.23\n",
      "Layer:3 | Original Loss: 11.32 | Reconstructed Loss: 11.07 | Difference: -0.25\n",
      "Layer:4 | Original Loss: 11.32 | Reconstructed Loss: 9.91 | Difference: -1.41\n"
     ]
    },
    {
     "name": "stderr",
     "output_type": "stream",
     "text": [
      " 15%|█▌        | 21/138 [00:38<03:27,  1.77s/it]"
     ]
    },
    {
     "name": "stdout",
     "output_type": "stream",
     "text": [
      "Layer:5 | Original Loss: 11.32 | Reconstructed Loss: 16.75 | Difference: 5.43\n",
      "Layer:1 | Original Loss: 11.38 | Reconstructed Loss: 9.81 | Difference: -1.57\n",
      "Layer:2 | Original Loss: 11.38 | Reconstructed Loss: 10.15 | Difference: -1.23\n",
      "Layer:3 | Original Loss: 11.38 | Reconstructed Loss: 11.14 | Difference: -0.25\n",
      "Layer:4 | Original Loss: 11.38 | Reconstructed Loss: 9.96 | Difference: -1.42\n"
     ]
    },
    {
     "name": "stderr",
     "output_type": "stream",
     "text": [
      " 16%|█▌        | 22/138 [00:40<03:25,  1.77s/it]"
     ]
    },
    {
     "name": "stdout",
     "output_type": "stream",
     "text": [
      "Layer:5 | Original Loss: 11.38 | Reconstructed Loss: 16.82 | Difference: 5.43\n",
      "Layer:1 | Original Loss: 11.98 | Reconstructed Loss: 10.38 | Difference: -1.60\n",
      "Layer:2 | Original Loss: 11.98 | Reconstructed Loss: 10.70 | Difference: -1.28\n",
      "Layer:3 | Original Loss: 11.98 | Reconstructed Loss: 11.77 | Difference: -0.21\n",
      "Layer:4 | Original Loss: 11.98 | Reconstructed Loss: 10.51 | Difference: -1.47\n"
     ]
    },
    {
     "name": "stderr",
     "output_type": "stream",
     "text": [
      " 17%|█▋        | 23/138 [00:42<03:24,  1.77s/it]"
     ]
    },
    {
     "name": "stdout",
     "output_type": "stream",
     "text": [
      "Layer:5 | Original Loss: 11.98 | Reconstructed Loss: 17.54 | Difference: 5.56\n",
      "Layer:1 | Original Loss: 11.91 | Reconstructed Loss: 10.30 | Difference: -1.60\n",
      "Layer:2 | Original Loss: 11.91 | Reconstructed Loss: 10.63 | Difference: -1.28\n",
      "Layer:3 | Original Loss: 11.91 | Reconstructed Loss: 11.70 | Difference: -0.21\n",
      "Layer:4 | Original Loss: 11.91 | Reconstructed Loss: 10.44 | Difference: -1.46\n"
     ]
    },
    {
     "name": "stderr",
     "output_type": "stream",
     "text": [
      " 17%|█▋        | 24/138 [00:43<03:22,  1.77s/it]"
     ]
    },
    {
     "name": "stdout",
     "output_type": "stream",
     "text": [
      "Layer:5 | Original Loss: 11.91 | Reconstructed Loss: 17.47 | Difference: 5.56\n",
      "Layer:1 | Original Loss: 11.84 | Reconstructed Loss: 10.25 | Difference: -1.60\n",
      "Layer:2 | Original Loss: 11.84 | Reconstructed Loss: 10.57 | Difference: -1.28\n",
      "Layer:3 | Original Loss: 11.84 | Reconstructed Loss: 11.63 | Difference: -0.21\n",
      "Layer:4 | Original Loss: 11.84 | Reconstructed Loss: 10.39 | Difference: -1.46\n"
     ]
    },
    {
     "name": "stderr",
     "output_type": "stream",
     "text": [
      " 18%|█▊        | 25/138 [00:45<03:20,  1.78s/it]"
     ]
    },
    {
     "name": "stdout",
     "output_type": "stream",
     "text": [
      "Layer:5 | Original Loss: 11.84 | Reconstructed Loss: 17.40 | Difference: 5.56\n",
      "Layer:1 | Original Loss: 11.82 | Reconstructed Loss: 10.23 | Difference: -1.59\n",
      "Layer:2 | Original Loss: 11.82 | Reconstructed Loss: 10.54 | Difference: -1.27\n",
      "Layer:3 | Original Loss: 11.82 | Reconstructed Loss: 11.60 | Difference: -0.22\n",
      "Layer:4 | Original Loss: 11.82 | Reconstructed Loss: 10.36 | Difference: -1.45\n"
     ]
    },
    {
     "name": "stderr",
     "output_type": "stream",
     "text": [
      " 19%|█▉        | 26/138 [00:47<03:18,  1.78s/it]"
     ]
    },
    {
     "name": "stdout",
     "output_type": "stream",
     "text": [
      "Layer:5 | Original Loss: 11.82 | Reconstructed Loss: 17.39 | Difference: 5.57\n",
      "Layer:1 | Original Loss: 11.79 | Reconstructed Loss: 10.20 | Difference: -1.59\n",
      "Layer:2 | Original Loss: 11.79 | Reconstructed Loss: 10.52 | Difference: -1.27\n",
      "Layer:3 | Original Loss: 11.79 | Reconstructed Loss: 11.57 | Difference: -0.22\n",
      "Layer:4 | Original Loss: 11.79 | Reconstructed Loss: 10.34 | Difference: -1.45\n"
     ]
    },
    {
     "name": "stderr",
     "output_type": "stream",
     "text": [
      " 20%|█▉        | 27/138 [00:49<03:17,  1.78s/it]"
     ]
    },
    {
     "name": "stdout",
     "output_type": "stream",
     "text": [
      "Layer:5 | Original Loss: 11.79 | Reconstructed Loss: 17.35 | Difference: 5.56\n",
      "Layer:1 | Original Loss: 11.86 | Reconstructed Loss: 10.27 | Difference: -1.59\n",
      "Layer:2 | Original Loss: 11.86 | Reconstructed Loss: 10.59 | Difference: -1.27\n",
      "Layer:3 | Original Loss: 11.86 | Reconstructed Loss: 11.65 | Difference: -0.21\n",
      "Layer:4 | Original Loss: 11.86 | Reconstructed Loss: 10.41 | Difference: -1.46\n"
     ]
    },
    {
     "name": "stderr",
     "output_type": "stream",
     "text": [
      " 20%|██        | 28/138 [00:51<03:15,  1.78s/it]"
     ]
    },
    {
     "name": "stdout",
     "output_type": "stream",
     "text": [
      "Layer:5 | Original Loss: 11.86 | Reconstructed Loss: 17.41 | Difference: 5.55\n",
      "Layer:1 | Original Loss: 11.85 | Reconstructed Loss: 10.26 | Difference: -1.59\n",
      "Layer:2 | Original Loss: 11.85 | Reconstructed Loss: 10.58 | Difference: -1.27\n",
      "Layer:3 | Original Loss: 11.85 | Reconstructed Loss: 11.64 | Difference: -0.21\n",
      "Layer:4 | Original Loss: 11.85 | Reconstructed Loss: 10.40 | Difference: -1.45\n"
     ]
    },
    {
     "name": "stderr",
     "output_type": "stream",
     "text": [
      " 21%|██        | 29/138 [00:52<03:13,  1.78s/it]"
     ]
    },
    {
     "name": "stdout",
     "output_type": "stream",
     "text": [
      "Layer:5 | Original Loss: 11.85 | Reconstructed Loss: 17.40 | Difference: 5.55\n",
      "Layer:1 | Original Loss: 11.82 | Reconstructed Loss: 10.22 | Difference: -1.59\n",
      "Layer:2 | Original Loss: 11.82 | Reconstructed Loss: 10.55 | Difference: -1.27\n",
      "Layer:3 | Original Loss: 11.82 | Reconstructed Loss: 11.61 | Difference: -0.21\n",
      "Layer:4 | Original Loss: 11.82 | Reconstructed Loss: 10.37 | Difference: -1.45\n"
     ]
    },
    {
     "name": "stderr",
     "output_type": "stream",
     "text": [
      " 22%|██▏       | 30/138 [00:54<03:12,  1.78s/it]"
     ]
    },
    {
     "name": "stdout",
     "output_type": "stream",
     "text": [
      "Layer:5 | Original Loss: 11.82 | Reconstructed Loss: 17.37 | Difference: 5.55\n",
      "Layer:1 | Original Loss: 11.79 | Reconstructed Loss: 10.20 | Difference: -1.59\n",
      "Layer:2 | Original Loss: 11.79 | Reconstructed Loss: 10.53 | Difference: -1.27\n",
      "Layer:3 | Original Loss: 11.79 | Reconstructed Loss: 11.59 | Difference: -0.21\n",
      "Layer:4 | Original Loss: 11.79 | Reconstructed Loss: 10.35 | Difference: -1.45\n"
     ]
    },
    {
     "name": "stderr",
     "output_type": "stream",
     "text": [
      " 22%|██▏       | 31/138 [00:56<03:10,  1.78s/it]"
     ]
    },
    {
     "name": "stdout",
     "output_type": "stream",
     "text": [
      "Layer:5 | Original Loss: 11.79 | Reconstructed Loss: 17.33 | Difference: 5.54\n",
      "Layer:1 | Original Loss: 11.76 | Reconstructed Loss: 10.17 | Difference: -1.59\n",
      "Layer:2 | Original Loss: 11.76 | Reconstructed Loss: 10.50 | Difference: -1.26\n",
      "Layer:3 | Original Loss: 11.76 | Reconstructed Loss: 11.55 | Difference: -0.21\n",
      "Layer:4 | Original Loss: 11.76 | Reconstructed Loss: 10.32 | Difference: -1.44\n"
     ]
    },
    {
     "name": "stderr",
     "output_type": "stream",
     "text": [
      " 23%|██▎       | 32/138 [00:58<03:08,  1.78s/it]"
     ]
    },
    {
     "name": "stdout",
     "output_type": "stream",
     "text": [
      "Layer:5 | Original Loss: 11.76 | Reconstructed Loss: 17.29 | Difference: 5.53\n",
      "Layer:1 | Original Loss: 11.74 | Reconstructed Loss: 10.15 | Difference: -1.58\n",
      "Layer:2 | Original Loss: 11.74 | Reconstructed Loss: 10.48 | Difference: -1.26\n",
      "Layer:3 | Original Loss: 11.74 | Reconstructed Loss: 11.53 | Difference: -0.21\n",
      "Layer:4 | Original Loss: 11.74 | Reconstructed Loss: 10.30 | Difference: -1.44\n"
     ]
    },
    {
     "name": "stderr",
     "output_type": "stream",
     "text": [
      " 24%|██▍       | 33/138 [00:59<03:07,  1.78s/it]"
     ]
    },
    {
     "name": "stdout",
     "output_type": "stream",
     "text": [
      "Layer:5 | Original Loss: 11.74 | Reconstructed Loss: 17.27 | Difference: 5.53\n",
      "Layer:1 | Original Loss: 11.72 | Reconstructed Loss: 10.14 | Difference: -1.58\n",
      "Layer:2 | Original Loss: 11.72 | Reconstructed Loss: 10.46 | Difference: -1.26\n",
      "Layer:3 | Original Loss: 11.72 | Reconstructed Loss: 11.51 | Difference: -0.21\n",
      "Layer:4 | Original Loss: 11.72 | Reconstructed Loss: 10.28 | Difference: -1.44\n"
     ]
    },
    {
     "name": "stderr",
     "output_type": "stream",
     "text": [
      " 25%|██▍       | 34/138 [01:01<03:05,  1.78s/it]"
     ]
    },
    {
     "name": "stdout",
     "output_type": "stream",
     "text": [
      "Layer:5 | Original Loss: 11.72 | Reconstructed Loss: 17.25 | Difference: 5.53\n",
      "Layer:1 | Original Loss: 11.70 | Reconstructed Loss: 10.12 | Difference: -1.58\n",
      "Layer:2 | Original Loss: 11.70 | Reconstructed Loss: 10.44 | Difference: -1.26\n",
      "Layer:3 | Original Loss: 11.70 | Reconstructed Loss: 11.50 | Difference: -0.21\n",
      "Layer:4 | Original Loss: 11.70 | Reconstructed Loss: 10.26 | Difference: -1.44\n"
     ]
    },
    {
     "name": "stderr",
     "output_type": "stream",
     "text": [
      " 25%|██▌       | 35/138 [01:03<03:03,  1.78s/it]"
     ]
    },
    {
     "name": "stdout",
     "output_type": "stream",
     "text": [
      "Layer:5 | Original Loss: 11.70 | Reconstructed Loss: 17.23 | Difference: 5.53\n",
      "Layer:1 | Original Loss: 11.67 | Reconstructed Loss: 10.09 | Difference: -1.58\n",
      "Layer:2 | Original Loss: 11.67 | Reconstructed Loss: 10.41 | Difference: -1.26\n",
      "Layer:3 | Original Loss: 11.67 | Reconstructed Loss: 11.47 | Difference: -0.21\n",
      "Layer:4 | Original Loss: 11.67 | Reconstructed Loss: 10.23 | Difference: -1.44\n"
     ]
    },
    {
     "name": "stderr",
     "output_type": "stream",
     "text": [
      " 26%|██▌       | 36/138 [01:05<03:02,  1.79s/it]"
     ]
    },
    {
     "name": "stdout",
     "output_type": "stream",
     "text": [
      "Layer:5 | Original Loss: 11.67 | Reconstructed Loss: 17.21 | Difference: 5.53\n",
      "Layer:1 | Original Loss: 11.66 | Reconstructed Loss: 10.08 | Difference: -1.58\n",
      "Layer:2 | Original Loss: 11.66 | Reconstructed Loss: 10.40 | Difference: -1.26\n",
      "Layer:3 | Original Loss: 11.66 | Reconstructed Loss: 11.45 | Difference: -0.21\n",
      "Layer:4 | Original Loss: 11.66 | Reconstructed Loss: 10.22 | Difference: -1.44\n"
     ]
    },
    {
     "name": "stderr",
     "output_type": "stream",
     "text": [
      " 27%|██▋       | 37/138 [01:07<03:00,  1.79s/it]"
     ]
    },
    {
     "name": "stdout",
     "output_type": "stream",
     "text": [
      "Layer:5 | Original Loss: 11.66 | Reconstructed Loss: 17.19 | Difference: 5.53\n",
      "Layer:1 | Original Loss: 11.64 | Reconstructed Loss: 10.07 | Difference: -1.58\n",
      "Layer:2 | Original Loss: 11.64 | Reconstructed Loss: 10.39 | Difference: -1.25\n",
      "Layer:3 | Original Loss: 11.64 | Reconstructed Loss: 11.43 | Difference: -0.21\n",
      "Layer:4 | Original Loss: 11.64 | Reconstructed Loss: 10.21 | Difference: -1.44\n"
     ]
    },
    {
     "name": "stderr",
     "output_type": "stream",
     "text": [
      " 28%|██▊       | 38/138 [01:08<02:58,  1.79s/it]"
     ]
    },
    {
     "name": "stdout",
     "output_type": "stream",
     "text": [
      "Layer:5 | Original Loss: 11.64 | Reconstructed Loss: 17.17 | Difference: 5.53\n",
      "Layer:1 | Original Loss: 11.63 | Reconstructed Loss: 10.05 | Difference: -1.57\n",
      "Layer:2 | Original Loss: 11.63 | Reconstructed Loss: 10.38 | Difference: -1.25\n",
      "Layer:3 | Original Loss: 11.63 | Reconstructed Loss: 11.42 | Difference: -0.21\n",
      "Layer:4 | Original Loss: 11.63 | Reconstructed Loss: 10.19 | Difference: -1.43\n"
     ]
    },
    {
     "name": "stderr",
     "output_type": "stream",
     "text": [
      " 28%|██▊       | 39/138 [01:10<02:57,  1.79s/it]"
     ]
    },
    {
     "name": "stdout",
     "output_type": "stream",
     "text": [
      "Layer:5 | Original Loss: 11.63 | Reconstructed Loss: 17.16 | Difference: 5.53\n",
      "Layer:1 | Original Loss: 11.62 | Reconstructed Loss: 10.04 | Difference: -1.58\n",
      "Layer:2 | Original Loss: 11.62 | Reconstructed Loss: 10.37 | Difference: -1.25\n",
      "Layer:3 | Original Loss: 11.62 | Reconstructed Loss: 11.41 | Difference: -0.21\n",
      "Layer:4 | Original Loss: 11.62 | Reconstructed Loss: 10.19 | Difference: -1.43\n"
     ]
    },
    {
     "name": "stderr",
     "output_type": "stream",
     "text": [
      " 29%|██▉       | 40/138 [01:12<02:55,  1.79s/it]"
     ]
    },
    {
     "name": "stdout",
     "output_type": "stream",
     "text": [
      "Layer:5 | Original Loss: 11.62 | Reconstructed Loss: 17.14 | Difference: 5.53\n",
      "Layer:1 | Original Loss: 11.61 | Reconstructed Loss: 10.03 | Difference: -1.58\n",
      "Layer:2 | Original Loss: 11.61 | Reconstructed Loss: 10.36 | Difference: -1.25\n",
      "Layer:3 | Original Loss: 11.61 | Reconstructed Loss: 11.40 | Difference: -0.21\n",
      "Layer:4 | Original Loss: 11.61 | Reconstructed Loss: 10.18 | Difference: -1.43\n"
     ]
    },
    {
     "name": "stderr",
     "output_type": "stream",
     "text": [
      " 30%|██▉       | 41/138 [01:14<02:53,  1.79s/it]"
     ]
    },
    {
     "name": "stdout",
     "output_type": "stream",
     "text": [
      "Layer:5 | Original Loss: 11.61 | Reconstructed Loss: 17.13 | Difference: 5.53\n",
      "Layer:1 | Original Loss: 11.61 | Reconstructed Loss: 10.03 | Difference: -1.58\n",
      "Layer:2 | Original Loss: 11.61 | Reconstructed Loss: 10.36 | Difference: -1.25\n",
      "Layer:3 | Original Loss: 11.61 | Reconstructed Loss: 11.40 | Difference: -0.21\n",
      "Layer:4 | Original Loss: 11.61 | Reconstructed Loss: 10.18 | Difference: -1.43\n"
     ]
    },
    {
     "name": "stderr",
     "output_type": "stream",
     "text": [
      " 30%|███       | 42/138 [01:16<02:52,  1.79s/it]"
     ]
    },
    {
     "name": "stdout",
     "output_type": "stream",
     "text": [
      "Layer:5 | Original Loss: 11.61 | Reconstructed Loss: 17.13 | Difference: 5.52\n",
      "Layer:1 | Original Loss: 11.60 | Reconstructed Loss: 10.02 | Difference: -1.58\n",
      "Layer:2 | Original Loss: 11.60 | Reconstructed Loss: 10.35 | Difference: -1.25\n",
      "Layer:3 | Original Loss: 11.60 | Reconstructed Loss: 11.39 | Difference: -0.21\n",
      "Layer:4 | Original Loss: 11.60 | Reconstructed Loss: 10.17 | Difference: -1.43\n"
     ]
    },
    {
     "name": "stderr",
     "output_type": "stream",
     "text": [
      " 31%|███       | 43/138 [01:17<02:50,  1.80s/it]"
     ]
    },
    {
     "name": "stdout",
     "output_type": "stream",
     "text": [
      "Layer:5 | Original Loss: 11.60 | Reconstructed Loss: 17.12 | Difference: 5.52\n",
      "Layer:1 | Original Loss: 11.59 | Reconstructed Loss: 10.01 | Difference: -1.58\n",
      "Layer:2 | Original Loss: 11.59 | Reconstructed Loss: 10.34 | Difference: -1.25\n",
      "Layer:3 | Original Loss: 11.59 | Reconstructed Loss: 11.38 | Difference: -0.21\n",
      "Layer:4 | Original Loss: 11.59 | Reconstructed Loss: 10.16 | Difference: -1.43\n"
     ]
    },
    {
     "name": "stderr",
     "output_type": "stream",
     "text": [
      " 32%|███▏      | 44/138 [01:19<02:49,  1.80s/it]"
     ]
    },
    {
     "name": "stdout",
     "output_type": "stream",
     "text": [
      "Layer:5 | Original Loss: 11.59 | Reconstructed Loss: 17.11 | Difference: 5.52\n",
      "Layer:1 | Original Loss: 11.59 | Reconstructed Loss: 10.01 | Difference: -1.58\n",
      "Layer:2 | Original Loss: 11.59 | Reconstructed Loss: 10.34 | Difference: -1.25\n",
      "Layer:3 | Original Loss: 11.59 | Reconstructed Loss: 11.38 | Difference: -0.21\n",
      "Layer:4 | Original Loss: 11.59 | Reconstructed Loss: 10.16 | Difference: -1.43\n"
     ]
    },
    {
     "name": "stderr",
     "output_type": "stream",
     "text": [
      " 33%|███▎      | 45/138 [01:21<02:47,  1.80s/it]"
     ]
    },
    {
     "name": "stdout",
     "output_type": "stream",
     "text": [
      "Layer:5 | Original Loss: 11.59 | Reconstructed Loss: 17.12 | Difference: 5.52\n",
      "Layer:1 | Original Loss: 11.58 | Reconstructed Loss: 10.00 | Difference: -1.58\n",
      "Layer:2 | Original Loss: 11.58 | Reconstructed Loss: 10.33 | Difference: -1.25\n",
      "Layer:3 | Original Loss: 11.58 | Reconstructed Loss: 11.37 | Difference: -0.21\n",
      "Layer:4 | Original Loss: 11.58 | Reconstructed Loss: 10.15 | Difference: -1.43\n"
     ]
    },
    {
     "name": "stderr",
     "output_type": "stream",
     "text": [
      " 33%|███▎      | 46/138 [01:23<02:45,  1.80s/it]"
     ]
    },
    {
     "name": "stdout",
     "output_type": "stream",
     "text": [
      "Layer:5 | Original Loss: 11.58 | Reconstructed Loss: 17.11 | Difference: 5.52\n",
      "Layer:1 | Original Loss: 11.57 | Reconstructed Loss: 9.98 | Difference: -1.58\n",
      "Layer:2 | Original Loss: 11.57 | Reconstructed Loss: 10.32 | Difference: -1.25\n",
      "Layer:3 | Original Loss: 11.57 | Reconstructed Loss: 11.35 | Difference: -0.21\n",
      "Layer:4 | Original Loss: 11.57 | Reconstructed Loss: 10.14 | Difference: -1.43\n"
     ]
    },
    {
     "name": "stderr",
     "output_type": "stream",
     "text": [
      " 34%|███▍      | 47/138 [01:25<02:43,  1.80s/it]"
     ]
    },
    {
     "name": "stdout",
     "output_type": "stream",
     "text": [
      "Layer:5 | Original Loss: 11.57 | Reconstructed Loss: 17.08 | Difference: 5.52\n",
      "Layer:1 | Original Loss: 11.57 | Reconstructed Loss: 9.99 | Difference: -1.58\n",
      "Layer:2 | Original Loss: 11.57 | Reconstructed Loss: 10.32 | Difference: -1.25\n",
      "Layer:3 | Original Loss: 11.57 | Reconstructed Loss: 11.36 | Difference: -0.21\n",
      "Layer:4 | Original Loss: 11.57 | Reconstructed Loss: 10.14 | Difference: -1.43\n"
     ]
    },
    {
     "name": "stderr",
     "output_type": "stream",
     "text": [
      " 35%|███▍      | 48/138 [01:26<02:42,  1.80s/it]"
     ]
    },
    {
     "name": "stdout",
     "output_type": "stream",
     "text": [
      "Layer:5 | Original Loss: 11.57 | Reconstructed Loss: 17.08 | Difference: 5.52\n",
      "Layer:1 | Original Loss: 11.55 | Reconstructed Loss: 9.98 | Difference: -1.58\n",
      "Layer:2 | Original Loss: 11.55 | Reconstructed Loss: 10.31 | Difference: -1.25\n",
      "Layer:3 | Original Loss: 11.55 | Reconstructed Loss: 11.34 | Difference: -0.21\n",
      "Layer:4 | Original Loss: 11.55 | Reconstructed Loss: 10.13 | Difference: -1.43\n"
     ]
    },
    {
     "name": "stderr",
     "output_type": "stream",
     "text": [
      " 36%|███▌      | 49/138 [01:28<02:40,  1.80s/it]"
     ]
    },
    {
     "name": "stdout",
     "output_type": "stream",
     "text": [
      "Layer:5 | Original Loss: 11.55 | Reconstructed Loss: 17.07 | Difference: 5.52\n",
      "Layer:1 | Original Loss: 11.52 | Reconstructed Loss: 9.95 | Difference: -1.57\n",
      "Layer:2 | Original Loss: 11.52 | Reconstructed Loss: 10.27 | Difference: -1.25\n",
      "Layer:3 | Original Loss: 11.52 | Reconstructed Loss: 11.31 | Difference: -0.21\n",
      "Layer:4 | Original Loss: 11.52 | Reconstructed Loss: 10.10 | Difference: -1.42\n"
     ]
    },
    {
     "name": "stderr",
     "output_type": "stream",
     "text": [
      " 36%|███▌      | 50/138 [01:30<02:38,  1.80s/it]"
     ]
    },
    {
     "name": "stdout",
     "output_type": "stream",
     "text": [
      "Layer:5 | Original Loss: 11.52 | Reconstructed Loss: 17.03 | Difference: 5.51\n",
      "Layer:1 | Original Loss: 11.53 | Reconstructed Loss: 9.96 | Difference: -1.57\n",
      "Layer:2 | Original Loss: 11.53 | Reconstructed Loss: 10.29 | Difference: -1.25\n",
      "Layer:3 | Original Loss: 11.53 | Reconstructed Loss: 11.33 | Difference: -0.21\n",
      "Layer:4 | Original Loss: 11.53 | Reconstructed Loss: 10.11 | Difference: -1.42\n"
     ]
    },
    {
     "name": "stderr",
     "output_type": "stream",
     "text": [
      " 37%|███▋      | 51/138 [01:32<02:36,  1.80s/it]"
     ]
    },
    {
     "name": "stdout",
     "output_type": "stream",
     "text": [
      "Layer:5 | Original Loss: 11.53 | Reconstructed Loss: 17.05 | Difference: 5.52\n",
      "Layer:1 | Original Loss: 11.51 | Reconstructed Loss: 9.94 | Difference: -1.57\n",
      "Layer:2 | Original Loss: 11.51 | Reconstructed Loss: 10.27 | Difference: -1.25\n",
      "Layer:3 | Original Loss: 11.51 | Reconstructed Loss: 11.31 | Difference: -0.21\n",
      "Layer:4 | Original Loss: 11.51 | Reconstructed Loss: 10.09 | Difference: -1.42\n"
     ]
    },
    {
     "name": "stderr",
     "output_type": "stream",
     "text": [
      " 38%|███▊      | 52/138 [01:34<02:35,  1.80s/it]"
     ]
    },
    {
     "name": "stdout",
     "output_type": "stream",
     "text": [
      "Layer:5 | Original Loss: 11.51 | Reconstructed Loss: 17.03 | Difference: 5.51\n",
      "Layer:1 | Original Loss: 11.51 | Reconstructed Loss: 9.94 | Difference: -1.57\n",
      "Layer:2 | Original Loss: 11.51 | Reconstructed Loss: 10.26 | Difference: -1.24\n",
      "Layer:3 | Original Loss: 11.51 | Reconstructed Loss: 11.30 | Difference: -0.21\n",
      "Layer:4 | Original Loss: 11.51 | Reconstructed Loss: 10.09 | Difference: -1.42\n"
     ]
    },
    {
     "name": "stderr",
     "output_type": "stream",
     "text": [
      " 38%|███▊      | 53/138 [01:35<02:33,  1.80s/it]"
     ]
    },
    {
     "name": "stdout",
     "output_type": "stream",
     "text": [
      "Layer:5 | Original Loss: 11.51 | Reconstructed Loss: 17.02 | Difference: 5.51\n",
      "Layer:1 | Original Loss: 11.49 | Reconstructed Loss: 9.92 | Difference: -1.57\n",
      "Layer:2 | Original Loss: 11.49 | Reconstructed Loss: 10.24 | Difference: -1.24\n",
      "Layer:3 | Original Loss: 11.49 | Reconstructed Loss: 11.28 | Difference: -0.21\n",
      "Layer:4 | Original Loss: 11.49 | Reconstructed Loss: 10.07 | Difference: -1.42\n"
     ]
    },
    {
     "name": "stderr",
     "output_type": "stream",
     "text": [
      " 39%|███▉      | 54/138 [01:37<02:31,  1.81s/it]"
     ]
    },
    {
     "name": "stdout",
     "output_type": "stream",
     "text": [
      "Layer:5 | Original Loss: 11.49 | Reconstructed Loss: 16.99 | Difference: 5.51\n",
      "Layer:1 | Original Loss: 11.49 | Reconstructed Loss: 9.92 | Difference: -1.57\n",
      "Layer:2 | Original Loss: 11.49 | Reconstructed Loss: 10.25 | Difference: -1.24\n",
      "Layer:3 | Original Loss: 11.49 | Reconstructed Loss: 11.28 | Difference: -0.21\n",
      "Layer:4 | Original Loss: 11.49 | Reconstructed Loss: 10.07 | Difference: -1.41\n"
     ]
    },
    {
     "name": "stderr",
     "output_type": "stream",
     "text": [
      " 40%|███▉      | 55/138 [01:39<02:29,  1.81s/it]"
     ]
    },
    {
     "name": "stdout",
     "output_type": "stream",
     "text": [
      "Layer:5 | Original Loss: 11.49 | Reconstructed Loss: 16.99 | Difference: 5.50\n",
      "Layer:1 | Original Loss: 11.49 | Reconstructed Loss: 9.92 | Difference: -1.57\n",
      "Layer:2 | Original Loss: 11.49 | Reconstructed Loss: 10.25 | Difference: -1.24\n",
      "Layer:3 | Original Loss: 11.49 | Reconstructed Loss: 11.28 | Difference: -0.21\n",
      "Layer:4 | Original Loss: 11.49 | Reconstructed Loss: 10.07 | Difference: -1.41\n"
     ]
    },
    {
     "name": "stderr",
     "output_type": "stream",
     "text": [
      " 41%|████      | 56/138 [01:41<02:28,  1.81s/it]"
     ]
    },
    {
     "name": "stdout",
     "output_type": "stream",
     "text": [
      "Layer:5 | Original Loss: 11.49 | Reconstructed Loss: 16.99 | Difference: 5.50\n",
      "Layer:1 | Original Loss: 11.48 | Reconstructed Loss: 9.92 | Difference: -1.56\n",
      "Layer:2 | Original Loss: 11.48 | Reconstructed Loss: 10.24 | Difference: -1.24\n",
      "Layer:3 | Original Loss: 11.48 | Reconstructed Loss: 11.27 | Difference: -0.21\n",
      "Layer:4 | Original Loss: 11.48 | Reconstructed Loss: 10.07 | Difference: -1.41\n"
     ]
    },
    {
     "name": "stderr",
     "output_type": "stream",
     "text": [
      " 41%|████▏     | 57/138 [01:43<02:26,  1.81s/it]"
     ]
    },
    {
     "name": "stdout",
     "output_type": "stream",
     "text": [
      "Layer:5 | Original Loss: 11.48 | Reconstructed Loss: 16.98 | Difference: 5.50\n",
      "Layer:1 | Original Loss: 11.49 | Reconstructed Loss: 9.93 | Difference: -1.56\n",
      "Layer:2 | Original Loss: 11.49 | Reconstructed Loss: 10.25 | Difference: -1.24\n",
      "Layer:3 | Original Loss: 11.49 | Reconstructed Loss: 11.28 | Difference: -0.21\n",
      "Layer:4 | Original Loss: 11.49 | Reconstructed Loss: 10.08 | Difference: -1.41\n"
     ]
    },
    {
     "name": "stderr",
     "output_type": "stream",
     "text": [
      " 42%|████▏     | 58/138 [01:44<02:24,  1.81s/it]"
     ]
    },
    {
     "name": "stdout",
     "output_type": "stream",
     "text": [
      "Layer:5 | Original Loss: 11.49 | Reconstructed Loss: 16.99 | Difference: 5.50\n",
      "Layer:1 | Original Loss: 11.49 | Reconstructed Loss: 9.93 | Difference: -1.56\n",
      "Layer:2 | Original Loss: 11.49 | Reconstructed Loss: 10.25 | Difference: -1.24\n",
      "Layer:3 | Original Loss: 11.49 | Reconstructed Loss: 11.28 | Difference: -0.21\n",
      "Layer:4 | Original Loss: 11.49 | Reconstructed Loss: 10.08 | Difference: -1.41\n"
     ]
    },
    {
     "name": "stderr",
     "output_type": "stream",
     "text": [
      " 43%|████▎     | 59/138 [01:46<02:23,  1.81s/it]"
     ]
    },
    {
     "name": "stdout",
     "output_type": "stream",
     "text": [
      "Layer:5 | Original Loss: 11.49 | Reconstructed Loss: 16.99 | Difference: 5.50\n",
      "Layer:1 | Original Loss: 11.48 | Reconstructed Loss: 9.92 | Difference: -1.56\n",
      "Layer:2 | Original Loss: 11.48 | Reconstructed Loss: 10.24 | Difference: -1.24\n",
      "Layer:3 | Original Loss: 11.48 | Reconstructed Loss: 11.27 | Difference: -0.21\n",
      "Layer:4 | Original Loss: 11.48 | Reconstructed Loss: 10.07 | Difference: -1.41\n"
     ]
    },
    {
     "name": "stderr",
     "output_type": "stream",
     "text": [
      " 43%|████▎     | 60/138 [01:48<02:21,  1.81s/it]"
     ]
    },
    {
     "name": "stdout",
     "output_type": "stream",
     "text": [
      "Layer:5 | Original Loss: 11.48 | Reconstructed Loss: 16.98 | Difference: 5.50\n",
      "Layer:1 | Original Loss: 11.50 | Reconstructed Loss: 9.93 | Difference: -1.56\n",
      "Layer:2 | Original Loss: 11.50 | Reconstructed Loss: 10.26 | Difference: -1.24\n",
      "Layer:3 | Original Loss: 11.50 | Reconstructed Loss: 11.29 | Difference: -0.21\n",
      "Layer:4 | Original Loss: 11.50 | Reconstructed Loss: 10.08 | Difference: -1.41\n"
     ]
    },
    {
     "name": "stderr",
     "output_type": "stream",
     "text": [
      " 44%|████▍     | 61/138 [01:50<02:19,  1.81s/it]"
     ]
    },
    {
     "name": "stdout",
     "output_type": "stream",
     "text": [
      "Layer:5 | Original Loss: 11.50 | Reconstructed Loss: 17.00 | Difference: 5.51\n",
      "Layer:1 | Original Loss: 11.54 | Reconstructed Loss: 9.97 | Difference: -1.57\n",
      "Layer:2 | Original Loss: 11.54 | Reconstructed Loss: 10.30 | Difference: -1.24\n",
      "Layer:3 | Original Loss: 11.54 | Reconstructed Loss: 11.33 | Difference: -0.21\n",
      "Layer:4 | Original Loss: 11.54 | Reconstructed Loss: 10.12 | Difference: -1.42\n"
     ]
    },
    {
     "name": "stderr",
     "output_type": "stream",
     "text": [
      " 45%|████▍     | 62/138 [01:52<02:17,  1.81s/it]"
     ]
    },
    {
     "name": "stdout",
     "output_type": "stream",
     "text": [
      "Layer:5 | Original Loss: 11.54 | Reconstructed Loss: 17.04 | Difference: 5.49\n",
      "Layer:1 | Original Loss: 11.53 | Reconstructed Loss: 9.97 | Difference: -1.57\n",
      "Layer:2 | Original Loss: 11.53 | Reconstructed Loss: 10.29 | Difference: -1.24\n",
      "Layer:3 | Original Loss: 11.53 | Reconstructed Loss: 11.32 | Difference: -0.21\n",
      "Layer:4 | Original Loss: 11.53 | Reconstructed Loss: 10.12 | Difference: -1.42\n"
     ]
    },
    {
     "name": "stderr",
     "output_type": "stream",
     "text": [
      " 46%|████▌     | 63/138 [01:54<02:16,  1.82s/it]"
     ]
    },
    {
     "name": "stdout",
     "output_type": "stream",
     "text": [
      "Layer:5 | Original Loss: 11.53 | Reconstructed Loss: 17.03 | Difference: 5.49\n",
      "Layer:1 | Original Loss: 11.53 | Reconstructed Loss: 9.96 | Difference: -1.56\n",
      "Layer:2 | Original Loss: 11.53 | Reconstructed Loss: 10.29 | Difference: -1.24\n",
      "Layer:3 | Original Loss: 11.53 | Reconstructed Loss: 11.32 | Difference: -0.21\n",
      "Layer:4 | Original Loss: 11.53 | Reconstructed Loss: 10.11 | Difference: -1.42\n"
     ]
    },
    {
     "name": "stderr",
     "output_type": "stream",
     "text": [
      " 46%|████▋     | 64/138 [01:55<02:14,  1.81s/it]"
     ]
    },
    {
     "name": "stdout",
     "output_type": "stream",
     "text": [
      "Layer:5 | Original Loss: 11.53 | Reconstructed Loss: 17.02 | Difference: 5.49\n",
      "Layer:1 | Original Loss: 11.53 | Reconstructed Loss: 9.97 | Difference: -1.56\n",
      "Layer:2 | Original Loss: 11.53 | Reconstructed Loss: 10.29 | Difference: -1.24\n",
      "Layer:3 | Original Loss: 11.53 | Reconstructed Loss: 11.32 | Difference: -0.21\n",
      "Layer:4 | Original Loss: 11.53 | Reconstructed Loss: 10.11 | Difference: -1.42\n"
     ]
    },
    {
     "name": "stderr",
     "output_type": "stream",
     "text": [
      " 47%|████▋     | 65/138 [01:57<02:12,  1.82s/it]"
     ]
    },
    {
     "name": "stdout",
     "output_type": "stream",
     "text": [
      "Layer:5 | Original Loss: 11.53 | Reconstructed Loss: 17.02 | Difference: 5.49\n",
      "Layer:1 | Original Loss: 11.52 | Reconstructed Loss: 9.96 | Difference: -1.56\n",
      "Layer:2 | Original Loss: 11.52 | Reconstructed Loss: 10.28 | Difference: -1.24\n",
      "Layer:3 | Original Loss: 11.52 | Reconstructed Loss: 11.31 | Difference: -0.21\n",
      "Layer:4 | Original Loss: 11.52 | Reconstructed Loss: 10.11 | Difference: -1.42\n"
     ]
    },
    {
     "name": "stderr",
     "output_type": "stream",
     "text": [
      " 48%|████▊     | 66/138 [01:59<02:10,  1.82s/it]"
     ]
    },
    {
     "name": "stdout",
     "output_type": "stream",
     "text": [
      "Layer:5 | Original Loss: 11.52 | Reconstructed Loss: 17.01 | Difference: 5.49\n",
      "Layer:1 | Original Loss: 11.54 | Reconstructed Loss: 9.97 | Difference: -1.56\n",
      "Layer:2 | Original Loss: 11.54 | Reconstructed Loss: 10.30 | Difference: -1.24\n",
      "Layer:3 | Original Loss: 11.54 | Reconstructed Loss: 11.32 | Difference: -0.22\n",
      "Layer:4 | Original Loss: 11.54 | Reconstructed Loss: 10.12 | Difference: -1.42\n"
     ]
    },
    {
     "name": "stderr",
     "output_type": "stream",
     "text": [
      " 49%|████▊     | 67/138 [02:01<02:09,  1.82s/it]"
     ]
    },
    {
     "name": "stdout",
     "output_type": "stream",
     "text": [
      "Layer:5 | Original Loss: 11.54 | Reconstructed Loss: 17.02 | Difference: 5.48\n",
      "Layer:1 | Original Loss: 11.53 | Reconstructed Loss: 9.97 | Difference: -1.56\n",
      "Layer:2 | Original Loss: 11.53 | Reconstructed Loss: 10.29 | Difference: -1.24\n",
      "Layer:3 | Original Loss: 11.53 | Reconstructed Loss: 11.32 | Difference: -0.22\n",
      "Layer:4 | Original Loss: 11.53 | Reconstructed Loss: 10.12 | Difference: -1.41\n"
     ]
    },
    {
     "name": "stderr",
     "output_type": "stream",
     "text": [
      " 49%|████▉     | 68/138 [02:03<02:07,  1.82s/it]"
     ]
    },
    {
     "name": "stdout",
     "output_type": "stream",
     "text": [
      "Layer:5 | Original Loss: 11.53 | Reconstructed Loss: 17.01 | Difference: 5.48\n",
      "Layer:1 | Original Loss: 11.54 | Reconstructed Loss: 9.97 | Difference: -1.56\n",
      "Layer:2 | Original Loss: 11.54 | Reconstructed Loss: 10.30 | Difference: -1.24\n",
      "Layer:3 | Original Loss: 11.54 | Reconstructed Loss: 11.32 | Difference: -0.22\n",
      "Layer:4 | Original Loss: 11.54 | Reconstructed Loss: 10.12 | Difference: -1.41\n"
     ]
    },
    {
     "name": "stderr",
     "output_type": "stream",
     "text": [
      " 50%|█████     | 69/138 [02:04<02:05,  1.82s/it]"
     ]
    },
    {
     "name": "stdout",
     "output_type": "stream",
     "text": [
      "Layer:5 | Original Loss: 11.54 | Reconstructed Loss: 17.02 | Difference: 5.48\n",
      "Layer:1 | Original Loss: 11.53 | Reconstructed Loss: 9.97 | Difference: -1.56\n",
      "Layer:2 | Original Loss: 11.53 | Reconstructed Loss: 10.29 | Difference: -1.24\n",
      "Layer:3 | Original Loss: 11.53 | Reconstructed Loss: 11.31 | Difference: -0.22\n",
      "Layer:4 | Original Loss: 11.53 | Reconstructed Loss: 10.12 | Difference: -1.41\n"
     ]
    },
    {
     "name": "stderr",
     "output_type": "stream",
     "text": [
      " 51%|█████     | 70/138 [02:06<02:03,  1.82s/it]"
     ]
    },
    {
     "name": "stdout",
     "output_type": "stream",
     "text": [
      "Layer:5 | Original Loss: 11.53 | Reconstructed Loss: 17.01 | Difference: 5.48\n",
      "Layer:1 | Original Loss: 11.52 | Reconstructed Loss: 9.96 | Difference: -1.56\n",
      "Layer:2 | Original Loss: 11.52 | Reconstructed Loss: 10.28 | Difference: -1.24\n",
      "Layer:3 | Original Loss: 11.52 | Reconstructed Loss: 11.31 | Difference: -0.22\n",
      "Layer:4 | Original Loss: 11.52 | Reconstructed Loss: 10.11 | Difference: -1.41\n"
     ]
    },
    {
     "name": "stderr",
     "output_type": "stream",
     "text": [
      " 51%|█████▏    | 71/138 [02:08<02:02,  1.82s/it]"
     ]
    },
    {
     "name": "stdout",
     "output_type": "stream",
     "text": [
      "Layer:5 | Original Loss: 11.52 | Reconstructed Loss: 17.00 | Difference: 5.48\n",
      "Layer:1 | Original Loss: 11.52 | Reconstructed Loss: 9.96 | Difference: -1.56\n",
      "Layer:2 | Original Loss: 11.52 | Reconstructed Loss: 10.28 | Difference: -1.24\n",
      "Layer:3 | Original Loss: 11.52 | Reconstructed Loss: 11.30 | Difference: -0.22\n",
      "Layer:4 | Original Loss: 11.52 | Reconstructed Loss: 10.11 | Difference: -1.41\n"
     ]
    },
    {
     "name": "stderr",
     "output_type": "stream",
     "text": [
      " 52%|█████▏    | 72/138 [02:10<02:00,  1.82s/it]"
     ]
    },
    {
     "name": "stdout",
     "output_type": "stream",
     "text": [
      "Layer:5 | Original Loss: 11.52 | Reconstructed Loss: 17.00 | Difference: 5.48\n",
      "Layer:1 | Original Loss: 11.52 | Reconstructed Loss: 9.96 | Difference: -1.56\n",
      "Layer:2 | Original Loss: 11.52 | Reconstructed Loss: 10.28 | Difference: -1.24\n",
      "Layer:3 | Original Loss: 11.52 | Reconstructed Loss: 11.31 | Difference: -0.22\n",
      "Layer:4 | Original Loss: 11.52 | Reconstructed Loss: 10.11 | Difference: -1.41\n"
     ]
    },
    {
     "name": "stderr",
     "output_type": "stream",
     "text": [
      " 53%|█████▎    | 73/138 [02:12<01:58,  1.82s/it]"
     ]
    },
    {
     "name": "stdout",
     "output_type": "stream",
     "text": [
      "Layer:5 | Original Loss: 11.52 | Reconstructed Loss: 17.01 | Difference: 5.48\n",
      "Layer:1 | Original Loss: 11.52 | Reconstructed Loss: 9.96 | Difference: -1.56\n",
      "Layer:2 | Original Loss: 11.52 | Reconstructed Loss: 10.28 | Difference: -1.24\n",
      "Layer:3 | Original Loss: 11.52 | Reconstructed Loss: 11.30 | Difference: -0.22\n",
      "Layer:4 | Original Loss: 11.52 | Reconstructed Loss: 10.11 | Difference: -1.41\n"
     ]
    },
    {
     "name": "stderr",
     "output_type": "stream",
     "text": [
      " 54%|█████▎    | 74/138 [02:14<01:56,  1.82s/it]"
     ]
    },
    {
     "name": "stdout",
     "output_type": "stream",
     "text": [
      "Layer:5 | Original Loss: 11.52 | Reconstructed Loss: 17.00 | Difference: 5.48\n",
      "Layer:1 | Original Loss: 11.51 | Reconstructed Loss: 9.95 | Difference: -1.56\n",
      "Layer:2 | Original Loss: 11.51 | Reconstructed Loss: 10.27 | Difference: -1.24\n",
      "Layer:3 | Original Loss: 11.51 | Reconstructed Loss: 11.29 | Difference: -0.22\n",
      "Layer:4 | Original Loss: 11.51 | Reconstructed Loss: 10.10 | Difference: -1.41\n"
     ]
    },
    {
     "name": "stderr",
     "output_type": "stream",
     "text": [
      " 54%|█████▍    | 75/138 [02:15<01:55,  1.83s/it]"
     ]
    },
    {
     "name": "stdout",
     "output_type": "stream",
     "text": [
      "Layer:5 | Original Loss: 11.51 | Reconstructed Loss: 16.99 | Difference: 5.48\n",
      "Layer:1 | Original Loss: 11.51 | Reconstructed Loss: 9.95 | Difference: -1.56\n",
      "Layer:2 | Original Loss: 11.51 | Reconstructed Loss: 10.26 | Difference: -1.24\n",
      "Layer:3 | Original Loss: 11.51 | Reconstructed Loss: 11.29 | Difference: -0.22\n",
      "Layer:4 | Original Loss: 11.51 | Reconstructed Loss: 10.09 | Difference: -1.41\n"
     ]
    },
    {
     "name": "stderr",
     "output_type": "stream",
     "text": [
      " 55%|█████▌    | 76/138 [02:17<01:53,  1.83s/it]"
     ]
    },
    {
     "name": "stdout",
     "output_type": "stream",
     "text": [
      "Layer:5 | Original Loss: 11.51 | Reconstructed Loss: 16.99 | Difference: 5.48\n",
      "Layer:1 | Original Loss: 11.51 | Reconstructed Loss: 9.95 | Difference: -1.56\n",
      "Layer:2 | Original Loss: 11.51 | Reconstructed Loss: 10.27 | Difference: -1.24\n",
      "Layer:3 | Original Loss: 11.51 | Reconstructed Loss: 11.29 | Difference: -0.22\n",
      "Layer:4 | Original Loss: 11.51 | Reconstructed Loss: 10.10 | Difference: -1.41\n"
     ]
    },
    {
     "name": "stderr",
     "output_type": "stream",
     "text": [
      " 56%|█████▌    | 77/138 [02:19<01:51,  1.83s/it]"
     ]
    },
    {
     "name": "stdout",
     "output_type": "stream",
     "text": [
      "Layer:5 | Original Loss: 11.51 | Reconstructed Loss: 16.98 | Difference: 5.48\n",
      "Layer:1 | Original Loss: 11.50 | Reconstructed Loss: 9.94 | Difference: -1.56\n",
      "Layer:2 | Original Loss: 11.50 | Reconstructed Loss: 10.26 | Difference: -1.24\n",
      "Layer:3 | Original Loss: 11.50 | Reconstructed Loss: 11.28 | Difference: -0.22\n",
      "Layer:4 | Original Loss: 11.50 | Reconstructed Loss: 10.09 | Difference: -1.41\n"
     ]
    },
    {
     "name": "stderr",
     "output_type": "stream",
     "text": [
      " 57%|█████▋    | 78/138 [02:21<01:49,  1.83s/it]"
     ]
    },
    {
     "name": "stdout",
     "output_type": "stream",
     "text": [
      "Layer:5 | Original Loss: 11.50 | Reconstructed Loss: 16.97 | Difference: 5.48\n",
      "Layer:1 | Original Loss: 11.59 | Reconstructed Loss: 10.03 | Difference: -1.56\n",
      "Layer:2 | Original Loss: 11.59 | Reconstructed Loss: 10.35 | Difference: -1.24\n",
      "Layer:3 | Original Loss: 11.59 | Reconstructed Loss: 11.37 | Difference: -0.22\n",
      "Layer:4 | Original Loss: 11.59 | Reconstructed Loss: 10.18 | Difference: -1.42\n"
     ]
    },
    {
     "name": "stderr",
     "output_type": "stream",
     "text": [
      " 57%|█████▋    | 79/138 [02:23<01:47,  1.83s/it]"
     ]
    },
    {
     "name": "stdout",
     "output_type": "stream",
     "text": [
      "Layer:5 | Original Loss: 11.59 | Reconstructed Loss: 17.06 | Difference: 5.46\n",
      "Layer:1 | Original Loss: 11.59 | Reconstructed Loss: 10.02 | Difference: -1.56\n",
      "Layer:2 | Original Loss: 11.59 | Reconstructed Loss: 10.34 | Difference: -1.24\n",
      "Layer:3 | Original Loss: 11.59 | Reconstructed Loss: 11.36 | Difference: -0.22\n",
      "Layer:4 | Original Loss: 11.59 | Reconstructed Loss: 10.17 | Difference: -1.42\n"
     ]
    },
    {
     "name": "stderr",
     "output_type": "stream",
     "text": [
      " 58%|█████▊    | 80/138 [02:25<01:46,  1.83s/it]"
     ]
    },
    {
     "name": "stdout",
     "output_type": "stream",
     "text": [
      "Layer:5 | Original Loss: 11.59 | Reconstructed Loss: 17.05 | Difference: 5.47\n",
      "Layer:1 | Original Loss: 11.58 | Reconstructed Loss: 10.01 | Difference: -1.56\n",
      "Layer:2 | Original Loss: 11.58 | Reconstructed Loss: 10.33 | Difference: -1.24\n",
      "Layer:3 | Original Loss: 11.58 | Reconstructed Loss: 11.35 | Difference: -0.22\n",
      "Layer:4 | Original Loss: 11.58 | Reconstructed Loss: 10.16 | Difference: -1.42\n"
     ]
    },
    {
     "name": "stderr",
     "output_type": "stream",
     "text": [
      " 59%|█████▊    | 81/138 [02:26<01:44,  1.83s/it]"
     ]
    },
    {
     "name": "stdout",
     "output_type": "stream",
     "text": [
      "Layer:5 | Original Loss: 11.58 | Reconstructed Loss: 17.04 | Difference: 5.47\n",
      "Layer:1 | Original Loss: 11.57 | Reconstructed Loss: 10.01 | Difference: -1.56\n",
      "Layer:2 | Original Loss: 11.57 | Reconstructed Loss: 10.33 | Difference: -1.24\n",
      "Layer:3 | Original Loss: 11.57 | Reconstructed Loss: 11.35 | Difference: -0.22\n",
      "Layer:4 | Original Loss: 11.57 | Reconstructed Loss: 10.15 | Difference: -1.42\n"
     ]
    },
    {
     "name": "stderr",
     "output_type": "stream",
     "text": [
      " 59%|█████▉    | 82/138 [02:28<01:42,  1.83s/it]"
     ]
    },
    {
     "name": "stdout",
     "output_type": "stream",
     "text": [
      "Layer:5 | Original Loss: 11.57 | Reconstructed Loss: 17.04 | Difference: 5.47\n",
      "Layer:1 | Original Loss: 11.56 | Reconstructed Loss: 10.00 | Difference: -1.56\n",
      "Layer:2 | Original Loss: 11.56 | Reconstructed Loss: 10.32 | Difference: -1.24\n",
      "Layer:3 | Original Loss: 11.56 | Reconstructed Loss: 11.34 | Difference: -0.22\n",
      "Layer:4 | Original Loss: 11.56 | Reconstructed Loss: 10.15 | Difference: -1.42\n"
     ]
    },
    {
     "name": "stderr",
     "output_type": "stream",
     "text": [
      " 60%|██████    | 83/138 [02:30<01:40,  1.83s/it]"
     ]
    },
    {
     "name": "stdout",
     "output_type": "stream",
     "text": [
      "Layer:5 | Original Loss: 11.56 | Reconstructed Loss: 17.03 | Difference: 5.47\n",
      "Layer:1 | Original Loss: 11.56 | Reconstructed Loss: 10.00 | Difference: -1.56\n",
      "Layer:2 | Original Loss: 11.56 | Reconstructed Loss: 10.32 | Difference: -1.24\n",
      "Layer:3 | Original Loss: 11.56 | Reconstructed Loss: 11.34 | Difference: -0.22\n",
      "Layer:4 | Original Loss: 11.56 | Reconstructed Loss: 10.14 | Difference: -1.42\n"
     ]
    },
    {
     "name": "stderr",
     "output_type": "stream",
     "text": [
      " 61%|██████    | 84/138 [02:32<01:39,  1.83s/it]"
     ]
    },
    {
     "name": "stdout",
     "output_type": "stream",
     "text": [
      "Layer:5 | Original Loss: 11.56 | Reconstructed Loss: 17.03 | Difference: 5.47\n",
      "Layer:1 | Original Loss: 11.56 | Reconstructed Loss: 10.00 | Difference: -1.56\n",
      "Layer:2 | Original Loss: 11.56 | Reconstructed Loss: 10.32 | Difference: -1.24\n",
      "Layer:3 | Original Loss: 11.56 | Reconstructed Loss: 11.33 | Difference: -0.22\n",
      "Layer:4 | Original Loss: 11.56 | Reconstructed Loss: 10.14 | Difference: -1.42\n"
     ]
    },
    {
     "name": "stderr",
     "output_type": "stream",
     "text": [
      " 62%|██████▏   | 85/138 [02:34<01:37,  1.84s/it]"
     ]
    },
    {
     "name": "stdout",
     "output_type": "stream",
     "text": [
      "Layer:5 | Original Loss: 11.56 | Reconstructed Loss: 17.02 | Difference: 5.47\n",
      "Layer:1 | Original Loss: 11.56 | Reconstructed Loss: 10.00 | Difference: -1.56\n",
      "Layer:2 | Original Loss: 11.56 | Reconstructed Loss: 10.32 | Difference: -1.24\n",
      "Layer:3 | Original Loss: 11.56 | Reconstructed Loss: 11.33 | Difference: -0.22\n",
      "Layer:4 | Original Loss: 11.56 | Reconstructed Loss: 10.14 | Difference: -1.41\n"
     ]
    },
    {
     "name": "stderr",
     "output_type": "stream",
     "text": [
      " 62%|██████▏   | 86/138 [02:36<01:35,  1.83s/it]"
     ]
    },
    {
     "name": "stdout",
     "output_type": "stream",
     "text": [
      "Layer:5 | Original Loss: 11.56 | Reconstructed Loss: 17.02 | Difference: 5.47\n",
      "Layer:1 | Original Loss: 11.55 | Reconstructed Loss: 9.99 | Difference: -1.56\n",
      "Layer:2 | Original Loss: 11.55 | Reconstructed Loss: 10.31 | Difference: -1.24\n",
      "Layer:3 | Original Loss: 11.55 | Reconstructed Loss: 11.33 | Difference: -0.22\n",
      "Layer:4 | Original Loss: 11.55 | Reconstructed Loss: 10.14 | Difference: -1.41\n"
     ]
    },
    {
     "name": "stderr",
     "output_type": "stream",
     "text": [
      " 63%|██████▎   | 87/138 [02:37<01:33,  1.84s/it]"
     ]
    },
    {
     "name": "stdout",
     "output_type": "stream",
     "text": [
      "Layer:5 | Original Loss: 11.55 | Reconstructed Loss: 17.02 | Difference: 5.47\n",
      "Layer:1 | Original Loss: 11.55 | Reconstructed Loss: 9.99 | Difference: -1.56\n",
      "Layer:2 | Original Loss: 11.55 | Reconstructed Loss: 10.31 | Difference: -1.24\n",
      "Layer:3 | Original Loss: 11.55 | Reconstructed Loss: 11.33 | Difference: -0.22\n",
      "Layer:4 | Original Loss: 11.55 | Reconstructed Loss: 10.14 | Difference: -1.41\n"
     ]
    },
    {
     "name": "stderr",
     "output_type": "stream",
     "text": [
      " 64%|██████▍   | 88/138 [02:39<01:31,  1.84s/it]"
     ]
    },
    {
     "name": "stdout",
     "output_type": "stream",
     "text": [
      "Layer:5 | Original Loss: 11.55 | Reconstructed Loss: 17.02 | Difference: 5.46\n",
      "Layer:1 | Original Loss: 11.55 | Reconstructed Loss: 9.99 | Difference: -1.56\n",
      "Layer:2 | Original Loss: 11.55 | Reconstructed Loss: 10.31 | Difference: -1.24\n",
      "Layer:3 | Original Loss: 11.55 | Reconstructed Loss: 11.33 | Difference: -0.22\n",
      "Layer:4 | Original Loss: 11.55 | Reconstructed Loss: 10.13 | Difference: -1.41\n"
     ]
    },
    {
     "name": "stderr",
     "output_type": "stream",
     "text": [
      " 64%|██████▍   | 89/138 [02:41<01:30,  1.84s/it]"
     ]
    },
    {
     "name": "stdout",
     "output_type": "stream",
     "text": [
      "Layer:5 | Original Loss: 11.55 | Reconstructed Loss: 17.01 | Difference: 5.46\n",
      "Layer:1 | Original Loss: 11.54 | Reconstructed Loss: 9.98 | Difference: -1.56\n",
      "Layer:2 | Original Loss: 11.54 | Reconstructed Loss: 10.30 | Difference: -1.24\n",
      "Layer:3 | Original Loss: 11.54 | Reconstructed Loss: 11.32 | Difference: -0.22\n",
      "Layer:4 | Original Loss: 11.54 | Reconstructed Loss: 10.13 | Difference: -1.41\n"
     ]
    },
    {
     "name": "stderr",
     "output_type": "stream",
     "text": [
      " 65%|██████▌   | 90/138 [02:43<01:28,  1.84s/it]"
     ]
    },
    {
     "name": "stdout",
     "output_type": "stream",
     "text": [
      "Layer:5 | Original Loss: 11.54 | Reconstructed Loss: 17.00 | Difference: 5.47\n",
      "Layer:1 | Original Loss: 11.53 | Reconstructed Loss: 9.97 | Difference: -1.56\n",
      "Layer:2 | Original Loss: 11.53 | Reconstructed Loss: 10.29 | Difference: -1.24\n",
      "Layer:3 | Original Loss: 11.53 | Reconstructed Loss: 11.31 | Difference: -0.22\n",
      "Layer:4 | Original Loss: 11.53 | Reconstructed Loss: 10.12 | Difference: -1.41\n"
     ]
    },
    {
     "name": "stderr",
     "output_type": "stream",
     "text": [
      " 66%|██████▌   | 91/138 [02:45<01:26,  1.84s/it]"
     ]
    },
    {
     "name": "stdout",
     "output_type": "stream",
     "text": [
      "Layer:5 | Original Loss: 11.53 | Reconstructed Loss: 17.00 | Difference: 5.46\n",
      "Layer:1 | Original Loss: 11.53 | Reconstructed Loss: 9.97 | Difference: -1.56\n",
      "Layer:2 | Original Loss: 11.53 | Reconstructed Loss: 10.29 | Difference: -1.24\n",
      "Layer:3 | Original Loss: 11.53 | Reconstructed Loss: 11.30 | Difference: -0.22\n",
      "Layer:4 | Original Loss: 11.53 | Reconstructed Loss: 10.12 | Difference: -1.41\n"
     ]
    },
    {
     "name": "stderr",
     "output_type": "stream",
     "text": [
      " 67%|██████▋   | 92/138 [02:47<01:24,  1.84s/it]"
     ]
    },
    {
     "name": "stdout",
     "output_type": "stream",
     "text": [
      "Layer:5 | Original Loss: 11.53 | Reconstructed Loss: 16.99 | Difference: 5.46\n",
      "Layer:1 | Original Loss: 11.52 | Reconstructed Loss: 9.97 | Difference: -1.56\n",
      "Layer:2 | Original Loss: 11.52 | Reconstructed Loss: 10.29 | Difference: -1.24\n",
      "Layer:3 | Original Loss: 11.52 | Reconstructed Loss: 11.30 | Difference: -0.22\n",
      "Layer:4 | Original Loss: 11.52 | Reconstructed Loss: 10.11 | Difference: -1.41\n"
     ]
    },
    {
     "name": "stderr",
     "output_type": "stream",
     "text": [
      " 67%|██████▋   | 93/138 [02:48<01:22,  1.84s/it]"
     ]
    },
    {
     "name": "stdout",
     "output_type": "stream",
     "text": [
      "Layer:5 | Original Loss: 11.52 | Reconstructed Loss: 16.98 | Difference: 5.46\n",
      "Layer:1 | Original Loss: 11.51 | Reconstructed Loss: 9.95 | Difference: -1.56\n",
      "Layer:2 | Original Loss: 11.51 | Reconstructed Loss: 10.28 | Difference: -1.24\n",
      "Layer:3 | Original Loss: 11.51 | Reconstructed Loss: 11.29 | Difference: -0.22\n",
      "Layer:4 | Original Loss: 11.51 | Reconstructed Loss: 10.10 | Difference: -1.41\n"
     ]
    },
    {
     "name": "stderr",
     "output_type": "stream",
     "text": [
      " 68%|██████▊   | 94/138 [02:50<01:21,  1.84s/it]"
     ]
    },
    {
     "name": "stdout",
     "output_type": "stream",
     "text": [
      "Layer:5 | Original Loss: 11.51 | Reconstructed Loss: 16.98 | Difference: 5.46\n",
      "Layer:1 | Original Loss: 11.50 | Reconstructed Loss: 9.94 | Difference: -1.56\n",
      "Layer:2 | Original Loss: 11.50 | Reconstructed Loss: 10.27 | Difference: -1.24\n",
      "Layer:3 | Original Loss: 11.50 | Reconstructed Loss: 11.28 | Difference: -0.22\n",
      "Layer:4 | Original Loss: 11.50 | Reconstructed Loss: 10.09 | Difference: -1.41\n"
     ]
    },
    {
     "name": "stderr",
     "output_type": "stream",
     "text": [
      " 69%|██████▉   | 95/138 [02:52<01:19,  1.84s/it]"
     ]
    },
    {
     "name": "stdout",
     "output_type": "stream",
     "text": [
      "Layer:5 | Original Loss: 11.50 | Reconstructed Loss: 16.97 | Difference: 5.47\n",
      "Layer:1 | Original Loss: 11.51 | Reconstructed Loss: 9.95 | Difference: -1.56\n",
      "Layer:2 | Original Loss: 11.51 | Reconstructed Loss: 10.27 | Difference: -1.24\n",
      "Layer:3 | Original Loss: 11.51 | Reconstructed Loss: 11.28 | Difference: -0.22\n",
      "Layer:4 | Original Loss: 11.51 | Reconstructed Loss: 10.10 | Difference: -1.41\n"
     ]
    },
    {
     "name": "stderr",
     "output_type": "stream",
     "text": [
      " 70%|██████▉   | 96/138 [02:54<01:17,  1.84s/it]"
     ]
    },
    {
     "name": "stdout",
     "output_type": "stream",
     "text": [
      "Layer:5 | Original Loss: 11.51 | Reconstructed Loss: 16.97 | Difference: 5.47\n",
      "Layer:1 | Original Loss: 11.51 | Reconstructed Loss: 9.95 | Difference: -1.56\n",
      "Layer:2 | Original Loss: 11.51 | Reconstructed Loss: 10.28 | Difference: -1.24\n",
      "Layer:3 | Original Loss: 11.51 | Reconstructed Loss: 11.29 | Difference: -0.22\n",
      "Layer:4 | Original Loss: 11.51 | Reconstructed Loss: 10.10 | Difference: -1.41\n"
     ]
    },
    {
     "name": "stderr",
     "output_type": "stream",
     "text": [
      " 70%|███████   | 97/138 [02:56<01:15,  1.84s/it]"
     ]
    },
    {
     "name": "stdout",
     "output_type": "stream",
     "text": [
      "Layer:5 | Original Loss: 11.51 | Reconstructed Loss: 16.98 | Difference: 5.47\n",
      "Layer:1 | Original Loss: 11.50 | Reconstructed Loss: 9.95 | Difference: -1.56\n",
      "Layer:2 | Original Loss: 11.50 | Reconstructed Loss: 10.27 | Difference: -1.24\n",
      "Layer:3 | Original Loss: 11.50 | Reconstructed Loss: 11.28 | Difference: -0.22\n",
      "Layer:4 | Original Loss: 11.50 | Reconstructed Loss: 10.10 | Difference: -1.41\n"
     ]
    },
    {
     "name": "stderr",
     "output_type": "stream",
     "text": [
      " 71%|███████   | 98/138 [02:58<01:13,  1.85s/it]"
     ]
    },
    {
     "name": "stdout",
     "output_type": "stream",
     "text": [
      "Layer:5 | Original Loss: 11.50 | Reconstructed Loss: 16.97 | Difference: 5.46\n",
      "Layer:1 | Original Loss: 11.51 | Reconstructed Loss: 9.95 | Difference: -1.56\n",
      "Layer:2 | Original Loss: 11.51 | Reconstructed Loss: 10.27 | Difference: -1.23\n",
      "Layer:3 | Original Loss: 11.51 | Reconstructed Loss: 11.29 | Difference: -0.22\n",
      "Layer:4 | Original Loss: 11.51 | Reconstructed Loss: 10.10 | Difference: -1.41\n"
     ]
    },
    {
     "name": "stderr",
     "output_type": "stream",
     "text": [
      " 72%|███████▏  | 99/138 [03:00<01:11,  1.85s/it]"
     ]
    },
    {
     "name": "stdout",
     "output_type": "stream",
     "text": [
      "Layer:5 | Original Loss: 11.51 | Reconstructed Loss: 16.98 | Difference: 5.47\n",
      "Layer:1 | Original Loss: 11.51 | Reconstructed Loss: 9.95 | Difference: -1.56\n",
      "Layer:2 | Original Loss: 11.51 | Reconstructed Loss: 10.28 | Difference: -1.23\n",
      "Layer:3 | Original Loss: 11.51 | Reconstructed Loss: 11.29 | Difference: -0.22\n",
      "Layer:4 | Original Loss: 11.51 | Reconstructed Loss: 10.10 | Difference: -1.41\n"
     ]
    },
    {
     "name": "stderr",
     "output_type": "stream",
     "text": [
      " 72%|███████▏  | 100/138 [03:01<01:10,  1.85s/it]"
     ]
    },
    {
     "name": "stdout",
     "output_type": "stream",
     "text": [
      "Layer:5 | Original Loss: 11.51 | Reconstructed Loss: 16.98 | Difference: 5.47\n",
      "Layer:1 | Original Loss: 11.51 | Reconstructed Loss: 9.95 | Difference: -1.56\n",
      "Layer:2 | Original Loss: 11.51 | Reconstructed Loss: 10.27 | Difference: -1.23\n",
      "Layer:3 | Original Loss: 11.51 | Reconstructed Loss: 11.29 | Difference: -0.22\n",
      "Layer:4 | Original Loss: 11.51 | Reconstructed Loss: 10.10 | Difference: -1.41\n"
     ]
    },
    {
     "name": "stderr",
     "output_type": "stream",
     "text": [
      " 73%|███████▎  | 101/138 [03:03<01:08,  1.85s/it]"
     ]
    },
    {
     "name": "stdout",
     "output_type": "stream",
     "text": [
      "Layer:5 | Original Loss: 11.51 | Reconstructed Loss: 16.98 | Difference: 5.47\n",
      "Layer:1 | Original Loss: 11.52 | Reconstructed Loss: 9.96 | Difference: -1.56\n",
      "Layer:2 | Original Loss: 11.52 | Reconstructed Loss: 10.28 | Difference: -1.23\n",
      "Layer:3 | Original Loss: 11.52 | Reconstructed Loss: 11.30 | Difference: -0.22\n",
      "Layer:4 | Original Loss: 11.52 | Reconstructed Loss: 10.11 | Difference: -1.41\n"
     ]
    },
    {
     "name": "stderr",
     "output_type": "stream",
     "text": [
      " 74%|███████▍  | 102/138 [03:05<01:06,  1.85s/it]"
     ]
    },
    {
     "name": "stdout",
     "output_type": "stream",
     "text": [
      "Layer:5 | Original Loss: 11.52 | Reconstructed Loss: 16.99 | Difference: 5.47\n",
      "Layer:1 | Original Loss: 11.51 | Reconstructed Loss: 9.95 | Difference: -1.56\n",
      "Layer:2 | Original Loss: 11.51 | Reconstructed Loss: 10.28 | Difference: -1.23\n",
      "Layer:3 | Original Loss: 11.51 | Reconstructed Loss: 11.30 | Difference: -0.22\n",
      "Layer:4 | Original Loss: 11.51 | Reconstructed Loss: 10.11 | Difference: -1.41\n"
     ]
    },
    {
     "name": "stderr",
     "output_type": "stream",
     "text": [
      " 75%|███████▍  | 103/138 [03:07<01:04,  1.85s/it]"
     ]
    },
    {
     "name": "stdout",
     "output_type": "stream",
     "text": [
      "Layer:5 | Original Loss: 11.51 | Reconstructed Loss: 16.98 | Difference: 5.47\n",
      "Layer:1 | Original Loss: 11.51 | Reconstructed Loss: 9.95 | Difference: -1.56\n",
      "Layer:2 | Original Loss: 11.51 | Reconstructed Loss: 10.28 | Difference: -1.23\n",
      "Layer:3 | Original Loss: 11.51 | Reconstructed Loss: 11.29 | Difference: -0.22\n",
      "Layer:4 | Original Loss: 11.51 | Reconstructed Loss: 10.10 | Difference: -1.41\n"
     ]
    },
    {
     "name": "stderr",
     "output_type": "stream",
     "text": [
      " 75%|███████▌  | 104/138 [03:09<01:02,  1.85s/it]"
     ]
    },
    {
     "name": "stdout",
     "output_type": "stream",
     "text": [
      "Layer:5 | Original Loss: 11.51 | Reconstructed Loss: 16.98 | Difference: 5.47\n",
      "Layer:1 | Original Loss: 11.51 | Reconstructed Loss: 9.95 | Difference: -1.56\n",
      "Layer:2 | Original Loss: 11.51 | Reconstructed Loss: 10.28 | Difference: -1.23\n",
      "Layer:3 | Original Loss: 11.51 | Reconstructed Loss: 11.29 | Difference: -0.22\n",
      "Layer:4 | Original Loss: 11.51 | Reconstructed Loss: 10.10 | Difference: -1.41\n"
     ]
    },
    {
     "name": "stderr",
     "output_type": "stream",
     "text": [
      " 76%|███████▌  | 105/138 [03:11<01:01,  1.85s/it]"
     ]
    },
    {
     "name": "stdout",
     "output_type": "stream",
     "text": [
      "Layer:5 | Original Loss: 11.51 | Reconstructed Loss: 16.97 | Difference: 5.46\n",
      "Layer:1 | Original Loss: 11.51 | Reconstructed Loss: 9.94 | Difference: -1.56\n",
      "Layer:2 | Original Loss: 11.51 | Reconstructed Loss: 10.27 | Difference: -1.23\n",
      "Layer:3 | Original Loss: 11.51 | Reconstructed Loss: 11.29 | Difference: -0.22\n",
      "Layer:4 | Original Loss: 11.51 | Reconstructed Loss: 10.10 | Difference: -1.41\n"
     ]
    },
    {
     "name": "stderr",
     "output_type": "stream",
     "text": [
      " 77%|███████▋  | 106/138 [03:12<00:59,  1.85s/it]"
     ]
    },
    {
     "name": "stdout",
     "output_type": "stream",
     "text": [
      "Layer:5 | Original Loss: 11.51 | Reconstructed Loss: 16.97 | Difference: 5.46\n",
      "Layer:1 | Original Loss: 11.50 | Reconstructed Loss: 9.94 | Difference: -1.56\n",
      "Layer:2 | Original Loss: 11.50 | Reconstructed Loss: 10.27 | Difference: -1.23\n",
      "Layer:3 | Original Loss: 11.50 | Reconstructed Loss: 11.28 | Difference: -0.22\n",
      "Layer:4 | Original Loss: 11.50 | Reconstructed Loss: 10.09 | Difference: -1.41\n"
     ]
    },
    {
     "name": "stderr",
     "output_type": "stream",
     "text": [
      " 78%|███████▊  | 107/138 [03:14<00:57,  1.85s/it]"
     ]
    },
    {
     "name": "stdout",
     "output_type": "stream",
     "text": [
      "Layer:5 | Original Loss: 11.50 | Reconstructed Loss: 16.97 | Difference: 5.46\n",
      "Layer:1 | Original Loss: 11.49 | Reconstructed Loss: 9.93 | Difference: -1.56\n",
      "Layer:2 | Original Loss: 11.49 | Reconstructed Loss: 10.26 | Difference: -1.23\n",
      "Layer:3 | Original Loss: 11.49 | Reconstructed Loss: 11.27 | Difference: -0.22\n",
      "Layer:4 | Original Loss: 11.49 | Reconstructed Loss: 10.08 | Difference: -1.41\n"
     ]
    },
    {
     "name": "stderr",
     "output_type": "stream",
     "text": [
      " 78%|███████▊  | 108/138 [03:16<00:55,  1.85s/it]"
     ]
    },
    {
     "name": "stdout",
     "output_type": "stream",
     "text": [
      "Layer:5 | Original Loss: 11.49 | Reconstructed Loss: 16.95 | Difference: 5.46\n",
      "Layer:1 | Original Loss: 11.49 | Reconstructed Loss: 9.93 | Difference: -1.56\n",
      "Layer:2 | Original Loss: 11.49 | Reconstructed Loss: 10.26 | Difference: -1.23\n",
      "Layer:3 | Original Loss: 11.49 | Reconstructed Loss: 11.27 | Difference: -0.22\n",
      "Layer:4 | Original Loss: 11.49 | Reconstructed Loss: 10.08 | Difference: -1.41\n"
     ]
    },
    {
     "name": "stderr",
     "output_type": "stream",
     "text": [
      " 79%|███████▉  | 109/138 [03:18<00:53,  1.85s/it]"
     ]
    },
    {
     "name": "stdout",
     "output_type": "stream",
     "text": [
      "Layer:5 | Original Loss: 11.49 | Reconstructed Loss: 16.95 | Difference: 5.46\n",
      "Layer:1 | Original Loss: 11.48 | Reconstructed Loss: 9.92 | Difference: -1.56\n",
      "Layer:2 | Original Loss: 11.48 | Reconstructed Loss: 10.25 | Difference: -1.23\n",
      "Layer:3 | Original Loss: 11.48 | Reconstructed Loss: 11.26 | Difference: -0.22\n",
      "Layer:4 | Original Loss: 11.48 | Reconstructed Loss: 10.08 | Difference: -1.41\n"
     ]
    },
    {
     "name": "stderr",
     "output_type": "stream",
     "text": [
      " 80%|███████▉  | 110/138 [03:20<00:51,  1.85s/it]"
     ]
    },
    {
     "name": "stdout",
     "output_type": "stream",
     "text": [
      "Layer:5 | Original Loss: 11.48 | Reconstructed Loss: 16.94 | Difference: 5.46\n",
      "Layer:1 | Original Loss: 11.48 | Reconstructed Loss: 9.92 | Difference: -1.56\n",
      "Layer:2 | Original Loss: 11.48 | Reconstructed Loss: 10.25 | Difference: -1.23\n",
      "Layer:3 | Original Loss: 11.48 | Reconstructed Loss: 11.26 | Difference: -0.22\n",
      "Layer:4 | Original Loss: 11.48 | Reconstructed Loss: 10.07 | Difference: -1.41\n"
     ]
    },
    {
     "name": "stderr",
     "output_type": "stream",
     "text": [
      " 80%|████████  | 111/138 [03:22<00:50,  1.85s/it]"
     ]
    },
    {
     "name": "stdout",
     "output_type": "stream",
     "text": [
      "Layer:5 | Original Loss: 11.48 | Reconstructed Loss: 16.94 | Difference: 5.46\n",
      "Layer:1 | Original Loss: 11.48 | Reconstructed Loss: 9.92 | Difference: -1.56\n",
      "Layer:2 | Original Loss: 11.48 | Reconstructed Loss: 10.25 | Difference: -1.23\n",
      "Layer:3 | Original Loss: 11.48 | Reconstructed Loss: 11.26 | Difference: -0.22\n",
      "Layer:4 | Original Loss: 11.48 | Reconstructed Loss: 10.07 | Difference: -1.41\n"
     ]
    },
    {
     "name": "stderr",
     "output_type": "stream",
     "text": [
      " 81%|████████  | 112/138 [03:24<00:48,  1.85s/it]"
     ]
    },
    {
     "name": "stdout",
     "output_type": "stream",
     "text": [
      "Layer:5 | Original Loss: 11.48 | Reconstructed Loss: 16.94 | Difference: 5.46\n",
      "Layer:1 | Original Loss: 11.47 | Reconstructed Loss: 9.91 | Difference: -1.56\n",
      "Layer:2 | Original Loss: 11.47 | Reconstructed Loss: 10.24 | Difference: -1.23\n",
      "Layer:3 | Original Loss: 11.47 | Reconstructed Loss: 11.25 | Difference: -0.22\n",
      "Layer:4 | Original Loss: 11.47 | Reconstructed Loss: 10.07 | Difference: -1.41\n"
     ]
    },
    {
     "name": "stderr",
     "output_type": "stream",
     "text": [
      " 82%|████████▏ | 113/138 [03:25<00:46,  1.85s/it]"
     ]
    },
    {
     "name": "stdout",
     "output_type": "stream",
     "text": [
      "Layer:5 | Original Loss: 11.47 | Reconstructed Loss: 16.93 | Difference: 5.46\n",
      "Layer:1 | Original Loss: 11.47 | Reconstructed Loss: 9.91 | Difference: -1.56\n",
      "Layer:2 | Original Loss: 11.47 | Reconstructed Loss: 10.24 | Difference: -1.23\n",
      "Layer:3 | Original Loss: 11.47 | Reconstructed Loss: 11.25 | Difference: -0.22\n",
      "Layer:4 | Original Loss: 11.47 | Reconstructed Loss: 10.07 | Difference: -1.41\n"
     ]
    },
    {
     "name": "stderr",
     "output_type": "stream",
     "text": [
      " 83%|████████▎ | 114/138 [03:27<00:44,  1.85s/it]"
     ]
    },
    {
     "name": "stdout",
     "output_type": "stream",
     "text": [
      "Layer:5 | Original Loss: 11.47 | Reconstructed Loss: 16.93 | Difference: 5.46\n",
      "Layer:1 | Original Loss: 11.46 | Reconstructed Loss: 9.90 | Difference: -1.56\n",
      "Layer:2 | Original Loss: 11.46 | Reconstructed Loss: 10.23 | Difference: -1.23\n",
      "Layer:3 | Original Loss: 11.46 | Reconstructed Loss: 11.24 | Difference: -0.22\n",
      "Layer:4 | Original Loss: 11.46 | Reconstructed Loss: 10.05 | Difference: -1.40\n"
     ]
    },
    {
     "name": "stderr",
     "output_type": "stream",
     "text": [
      " 83%|████████▎ | 115/138 [03:29<00:42,  1.85s/it]"
     ]
    },
    {
     "name": "stdout",
     "output_type": "stream",
     "text": [
      "Layer:5 | Original Loss: 11.46 | Reconstructed Loss: 16.92 | Difference: 5.46\n",
      "Layer:1 | Original Loss: 11.45 | Reconstructed Loss: 9.90 | Difference: -1.56\n",
      "Layer:2 | Original Loss: 11.45 | Reconstructed Loss: 10.22 | Difference: -1.23\n",
      "Layer:3 | Original Loss: 11.45 | Reconstructed Loss: 11.23 | Difference: -0.22\n",
      "Layer:4 | Original Loss: 11.45 | Reconstructed Loss: 10.05 | Difference: -1.40\n"
     ]
    },
    {
     "name": "stderr",
     "output_type": "stream",
     "text": [
      " 84%|████████▍ | 116/138 [03:31<00:40,  1.85s/it]"
     ]
    },
    {
     "name": "stdout",
     "output_type": "stream",
     "text": [
      "Layer:5 | Original Loss: 11.45 | Reconstructed Loss: 16.91 | Difference: 5.46\n",
      "Layer:1 | Original Loss: 11.45 | Reconstructed Loss: 9.89 | Difference: -1.56\n",
      "Layer:2 | Original Loss: 11.45 | Reconstructed Loss: 10.22 | Difference: -1.23\n",
      "Layer:3 | Original Loss: 11.45 | Reconstructed Loss: 11.23 | Difference: -0.22\n",
      "Layer:4 | Original Loss: 11.45 | Reconstructed Loss: 10.05 | Difference: -1.40\n"
     ]
    },
    {
     "name": "stderr",
     "output_type": "stream",
     "text": [
      " 85%|████████▍ | 117/138 [03:33<00:38,  1.86s/it]"
     ]
    },
    {
     "name": "stdout",
     "output_type": "stream",
     "text": [
      "Layer:5 | Original Loss: 11.45 | Reconstructed Loss: 16.91 | Difference: 5.46\n",
      "Layer:1 | Original Loss: 11.45 | Reconstructed Loss: 9.89 | Difference: -1.56\n",
      "Layer:2 | Original Loss: 11.45 | Reconstructed Loss: 10.21 | Difference: -1.23\n",
      "Layer:3 | Original Loss: 11.45 | Reconstructed Loss: 11.23 | Difference: -0.22\n",
      "Layer:4 | Original Loss: 11.45 | Reconstructed Loss: 10.04 | Difference: -1.40\n"
     ]
    },
    {
     "name": "stderr",
     "output_type": "stream",
     "text": [
      " 86%|████████▌ | 118/138 [03:35<00:37,  1.86s/it]"
     ]
    },
    {
     "name": "stdout",
     "output_type": "stream",
     "text": [
      "Layer:5 | Original Loss: 11.45 | Reconstructed Loss: 16.90 | Difference: 5.46\n",
      "Layer:1 | Original Loss: 11.44 | Reconstructed Loss: 9.88 | Difference: -1.56\n",
      "Layer:2 | Original Loss: 11.44 | Reconstructed Loss: 10.21 | Difference: -1.23\n",
      "Layer:3 | Original Loss: 11.44 | Reconstructed Loss: 11.22 | Difference: -0.22\n",
      "Layer:4 | Original Loss: 11.44 | Reconstructed Loss: 10.04 | Difference: -1.40\n"
     ]
    },
    {
     "name": "stderr",
     "output_type": "stream",
     "text": [
      " 86%|████████▌ | 119/138 [03:37<00:35,  1.86s/it]"
     ]
    },
    {
     "name": "stdout",
     "output_type": "stream",
     "text": [
      "Layer:5 | Original Loss: 11.44 | Reconstructed Loss: 16.90 | Difference: 5.46\n",
      "Layer:1 | Original Loss: 11.44 | Reconstructed Loss: 9.89 | Difference: -1.56\n",
      "Layer:2 | Original Loss: 11.44 | Reconstructed Loss: 10.21 | Difference: -1.23\n",
      "Layer:3 | Original Loss: 11.44 | Reconstructed Loss: 11.22 | Difference: -0.22\n",
      "Layer:4 | Original Loss: 11.44 | Reconstructed Loss: 10.04 | Difference: -1.40\n"
     ]
    },
    {
     "name": "stderr",
     "output_type": "stream",
     "text": [
      " 87%|████████▋ | 120/138 [03:38<00:33,  1.86s/it]"
     ]
    },
    {
     "name": "stdout",
     "output_type": "stream",
     "text": [
      "Layer:5 | Original Loss: 11.44 | Reconstructed Loss: 16.90 | Difference: 5.46\n",
      "Layer:1 | Original Loss: 11.44 | Reconstructed Loss: 9.88 | Difference: -1.56\n",
      "Layer:2 | Original Loss: 11.44 | Reconstructed Loss: 10.21 | Difference: -1.23\n",
      "Layer:3 | Original Loss: 11.44 | Reconstructed Loss: 11.22 | Difference: -0.22\n",
      "Layer:4 | Original Loss: 11.44 | Reconstructed Loss: 10.03 | Difference: -1.40\n"
     ]
    },
    {
     "name": "stderr",
     "output_type": "stream",
     "text": [
      " 88%|████████▊ | 121/138 [03:40<00:31,  1.86s/it]"
     ]
    },
    {
     "name": "stdout",
     "output_type": "stream",
     "text": [
      "Layer:5 | Original Loss: 11.44 | Reconstructed Loss: 16.89 | Difference: 5.46\n",
      "Layer:1 | Original Loss: 11.43 | Reconstructed Loss: 9.87 | Difference: -1.56\n",
      "Layer:2 | Original Loss: 11.43 | Reconstructed Loss: 10.20 | Difference: -1.23\n",
      "Layer:3 | Original Loss: 11.43 | Reconstructed Loss: 11.21 | Difference: -0.22\n",
      "Layer:4 | Original Loss: 11.43 | Reconstructed Loss: 10.03 | Difference: -1.40\n"
     ]
    },
    {
     "name": "stderr",
     "output_type": "stream",
     "text": [
      " 88%|████████▊ | 122/138 [03:42<00:29,  1.86s/it]"
     ]
    },
    {
     "name": "stdout",
     "output_type": "stream",
     "text": [
      "Layer:5 | Original Loss: 11.43 | Reconstructed Loss: 16.89 | Difference: 5.46\n",
      "Layer:1 | Original Loss: 11.42 | Reconstructed Loss: 9.87 | Difference: -1.56\n",
      "Layer:2 | Original Loss: 11.42 | Reconstructed Loss: 10.19 | Difference: -1.23\n",
      "Layer:3 | Original Loss: 11.42 | Reconstructed Loss: 11.20 | Difference: -0.22\n",
      "Layer:4 | Original Loss: 11.42 | Reconstructed Loss: 10.02 | Difference: -1.40\n"
     ]
    },
    {
     "name": "stderr",
     "output_type": "stream",
     "text": [
      " 89%|████████▉ | 123/138 [03:44<00:27,  1.86s/it]"
     ]
    },
    {
     "name": "stdout",
     "output_type": "stream",
     "text": [
      "Layer:5 | Original Loss: 11.42 | Reconstructed Loss: 16.88 | Difference: 5.46\n",
      "Layer:1 | Original Loss: 11.41 | Reconstructed Loss: 9.86 | Difference: -1.56\n",
      "Layer:2 | Original Loss: 11.41 | Reconstructed Loss: 10.18 | Difference: -1.23\n",
      "Layer:3 | Original Loss: 11.41 | Reconstructed Loss: 11.19 | Difference: -0.22\n",
      "Layer:4 | Original Loss: 11.41 | Reconstructed Loss: 10.01 | Difference: -1.40\n"
     ]
    },
    {
     "name": "stderr",
     "output_type": "stream",
     "text": [
      " 90%|████████▉ | 124/138 [03:46<00:26,  1.86s/it]"
     ]
    },
    {
     "name": "stdout",
     "output_type": "stream",
     "text": [
      "Layer:5 | Original Loss: 11.41 | Reconstructed Loss: 16.87 | Difference: 5.46\n",
      "Layer:1 | Original Loss: 11.41 | Reconstructed Loss: 9.85 | Difference: -1.56\n",
      "Layer:2 | Original Loss: 11.41 | Reconstructed Loss: 10.18 | Difference: -1.23\n",
      "Layer:3 | Original Loss: 11.41 | Reconstructed Loss: 11.19 | Difference: -0.22\n",
      "Layer:4 | Original Loss: 11.41 | Reconstructed Loss: 10.01 | Difference: -1.40\n"
     ]
    },
    {
     "name": "stderr",
     "output_type": "stream",
     "text": [
      " 91%|█████████ | 125/138 [03:48<00:24,  1.86s/it]"
     ]
    },
    {
     "name": "stdout",
     "output_type": "stream",
     "text": [
      "Layer:5 | Original Loss: 11.41 | Reconstructed Loss: 16.87 | Difference: 5.46\n",
      "Layer:1 | Original Loss: 11.40 | Reconstructed Loss: 9.85 | Difference: -1.56\n",
      "Layer:2 | Original Loss: 11.40 | Reconstructed Loss: 10.17 | Difference: -1.23\n",
      "Layer:3 | Original Loss: 11.40 | Reconstructed Loss: 11.18 | Difference: -0.22\n",
      "Layer:4 | Original Loss: 11.40 | Reconstructed Loss: 10.00 | Difference: -1.40\n"
     ]
    },
    {
     "name": "stderr",
     "output_type": "stream",
     "text": [
      " 91%|█████████▏| 126/138 [03:50<00:22,  1.86s/it]"
     ]
    },
    {
     "name": "stdout",
     "output_type": "stream",
     "text": [
      "Layer:5 | Original Loss: 11.40 | Reconstructed Loss: 16.86 | Difference: 5.46\n",
      "Layer:1 | Original Loss: 11.42 | Reconstructed Loss: 9.86 | Difference: -1.56\n",
      "Layer:2 | Original Loss: 11.42 | Reconstructed Loss: 10.19 | Difference: -1.23\n",
      "Layer:3 | Original Loss: 11.42 | Reconstructed Loss: 11.20 | Difference: -0.22\n",
      "Layer:4 | Original Loss: 11.42 | Reconstructed Loss: 10.02 | Difference: -1.40\n"
     ]
    },
    {
     "name": "stderr",
     "output_type": "stream",
     "text": [
      " 92%|█████████▏| 127/138 [03:51<00:20,  1.86s/it]"
     ]
    },
    {
     "name": "stdout",
     "output_type": "stream",
     "text": [
      "Layer:5 | Original Loss: 11.42 | Reconstructed Loss: 16.88 | Difference: 5.46\n",
      "Layer:1 | Original Loss: 11.41 | Reconstructed Loss: 9.85 | Difference: -1.56\n",
      "Layer:2 | Original Loss: 11.41 | Reconstructed Loss: 10.18 | Difference: -1.23\n",
      "Layer:3 | Original Loss: 11.41 | Reconstructed Loss: 11.19 | Difference: -0.22\n",
      "Layer:4 | Original Loss: 11.41 | Reconstructed Loss: 10.01 | Difference: -1.40\n"
     ]
    },
    {
     "name": "stderr",
     "output_type": "stream",
     "text": [
      " 93%|█████████▎| 128/138 [03:53<00:18,  1.86s/it]"
     ]
    },
    {
     "name": "stdout",
     "output_type": "stream",
     "text": [
      "Layer:5 | Original Loss: 11.41 | Reconstructed Loss: 16.87 | Difference: 5.46\n",
      "Layer:1 | Original Loss: 11.42 | Reconstructed Loss: 9.86 | Difference: -1.56\n",
      "Layer:2 | Original Loss: 11.42 | Reconstructed Loss: 10.19 | Difference: -1.23\n",
      "Layer:3 | Original Loss: 11.42 | Reconstructed Loss: 11.20 | Difference: -0.22\n",
      "Layer:4 | Original Loss: 11.42 | Reconstructed Loss: 10.02 | Difference: -1.40\n"
     ]
    },
    {
     "name": "stderr",
     "output_type": "stream",
     "text": [
      " 93%|█████████▎| 129/138 [03:55<00:16,  1.86s/it]"
     ]
    },
    {
     "name": "stdout",
     "output_type": "stream",
     "text": [
      "Layer:5 | Original Loss: 11.42 | Reconstructed Loss: 16.88 | Difference: 5.46\n",
      "Layer:1 | Original Loss: 11.42 | Reconstructed Loss: 9.86 | Difference: -1.56\n",
      "Layer:2 | Original Loss: 11.42 | Reconstructed Loss: 10.19 | Difference: -1.23\n",
      "Layer:3 | Original Loss: 11.42 | Reconstructed Loss: 11.20 | Difference: -0.22\n",
      "Layer:4 | Original Loss: 11.42 | Reconstructed Loss: 10.01 | Difference: -1.40\n"
     ]
    },
    {
     "name": "stderr",
     "output_type": "stream",
     "text": [
      " 94%|█████████▍| 130/138 [03:57<00:14,  1.86s/it]"
     ]
    },
    {
     "name": "stdout",
     "output_type": "stream",
     "text": [
      "Layer:5 | Original Loss: 11.42 | Reconstructed Loss: 16.88 | Difference: 5.46\n",
      "Layer:1 | Original Loss: 11.42 | Reconstructed Loss: 9.86 | Difference: -1.56\n",
      "Layer:2 | Original Loss: 11.42 | Reconstructed Loss: 10.19 | Difference: -1.23\n",
      "Layer:3 | Original Loss: 11.42 | Reconstructed Loss: 11.20 | Difference: -0.22\n",
      "Layer:4 | Original Loss: 11.42 | Reconstructed Loss: 10.01 | Difference: -1.41\n"
     ]
    },
    {
     "name": "stderr",
     "output_type": "stream",
     "text": [
      " 95%|█████████▍| 131/138 [03:59<00:13,  1.86s/it]"
     ]
    },
    {
     "name": "stdout",
     "output_type": "stream",
     "text": [
      "Layer:5 | Original Loss: 11.42 | Reconstructed Loss: 16.88 | Difference: 5.46\n",
      "Layer:1 | Original Loss: 11.44 | Reconstructed Loss: 9.89 | Difference: -1.56\n",
      "Layer:2 | Original Loss: 11.44 | Reconstructed Loss: 10.21 | Difference: -1.23\n",
      "Layer:3 | Original Loss: 11.44 | Reconstructed Loss: 11.22 | Difference: -0.22\n",
      "Layer:4 | Original Loss: 11.44 | Reconstructed Loss: 10.03 | Difference: -1.41\n"
     ]
    },
    {
     "name": "stderr",
     "output_type": "stream",
     "text": [
      " 96%|█████████▌| 132/138 [04:01<00:11,  1.86s/it]"
     ]
    },
    {
     "name": "stdout",
     "output_type": "stream",
     "text": [
      "Layer:5 | Original Loss: 11.44 | Reconstructed Loss: 16.90 | Difference: 5.45\n",
      "Layer:1 | Original Loss: 11.44 | Reconstructed Loss: 9.88 | Difference: -1.56\n",
      "Layer:2 | Original Loss: 11.44 | Reconstructed Loss: 10.21 | Difference: -1.23\n",
      "Layer:3 | Original Loss: 11.44 | Reconstructed Loss: 11.22 | Difference: -0.22\n",
      "Layer:4 | Original Loss: 11.44 | Reconstructed Loss: 10.03 | Difference: -1.41\n"
     ]
    },
    {
     "name": "stderr",
     "output_type": "stream",
     "text": [
      " 96%|█████████▋| 133/138 [04:03<00:09,  1.86s/it]"
     ]
    },
    {
     "name": "stdout",
     "output_type": "stream",
     "text": [
      "Layer:5 | Original Loss: 11.44 | Reconstructed Loss: 16.89 | Difference: 5.45\n",
      "Layer:1 | Original Loss: 11.44 | Reconstructed Loss: 9.88 | Difference: -1.56\n",
      "Layer:2 | Original Loss: 11.44 | Reconstructed Loss: 10.21 | Difference: -1.23\n",
      "Layer:3 | Original Loss: 11.44 | Reconstructed Loss: 11.21 | Difference: -0.22\n",
      "Layer:4 | Original Loss: 11.44 | Reconstructed Loss: 10.03 | Difference: -1.41\n"
     ]
    },
    {
     "name": "stderr",
     "output_type": "stream",
     "text": [
      " 97%|█████████▋| 134/138 [04:04<00:07,  1.86s/it]"
     ]
    },
    {
     "name": "stdout",
     "output_type": "stream",
     "text": [
      "Layer:5 | Original Loss: 11.44 | Reconstructed Loss: 16.89 | Difference: 5.45\n",
      "Layer:1 | Original Loss: 11.44 | Reconstructed Loss: 9.88 | Difference: -1.56\n",
      "Layer:2 | Original Loss: 11.44 | Reconstructed Loss: 10.21 | Difference: -1.23\n",
      "Layer:3 | Original Loss: 11.44 | Reconstructed Loss: 11.21 | Difference: -0.22\n",
      "Layer:4 | Original Loss: 11.44 | Reconstructed Loss: 10.03 | Difference: -1.41\n"
     ]
    },
    {
     "name": "stderr",
     "output_type": "stream",
     "text": [
      " 98%|█████████▊| 135/138 [04:06<00:05,  1.86s/it]"
     ]
    },
    {
     "name": "stdout",
     "output_type": "stream",
     "text": [
      "Layer:5 | Original Loss: 11.44 | Reconstructed Loss: 16.89 | Difference: 5.45\n",
      "Layer:1 | Original Loss: 11.44 | Reconstructed Loss: 9.88 | Difference: -1.56\n",
      "Layer:2 | Original Loss: 11.44 | Reconstructed Loss: 10.21 | Difference: -1.23\n",
      "Layer:3 | Original Loss: 11.44 | Reconstructed Loss: 11.22 | Difference: -0.22\n",
      "Layer:4 | Original Loss: 11.44 | Reconstructed Loss: 10.03 | Difference: -1.41\n"
     ]
    },
    {
     "name": "stderr",
     "output_type": "stream",
     "text": [
      " 99%|█████████▊| 136/138 [04:08<00:03,  1.86s/it]"
     ]
    },
    {
     "name": "stdout",
     "output_type": "stream",
     "text": [
      "Layer:5 | Original Loss: 11.44 | Reconstructed Loss: 16.89 | Difference: 5.45\n",
      "Layer:1 | Original Loss: 11.44 | Reconstructed Loss: 9.88 | Difference: -1.56\n",
      "Layer:2 | Original Loss: 11.44 | Reconstructed Loss: 10.21 | Difference: -1.23\n",
      "Layer:3 | Original Loss: 11.44 | Reconstructed Loss: 11.21 | Difference: -0.22\n",
      "Layer:4 | Original Loss: 11.44 | Reconstructed Loss: 10.03 | Difference: -1.41\n"
     ]
    },
    {
     "name": "stderr",
     "output_type": "stream",
     "text": [
      "100%|██████████| 138/138 [04:10<00:00,  1.82s/it]"
     ]
    },
    {
     "name": "stdout",
     "output_type": "stream",
     "text": [
      "Layer:5 | Original Loss: 11.44 | Reconstructed Loss: 16.89 | Difference: 5.45\n",
      "Layer:1 | Original Loss: 11.41 | Reconstructed Loss: 9.86 | Difference: -1.55\n",
      "Layer:2 | Original Loss: 11.41 | Reconstructed Loss: 10.19 | Difference: -1.23\n",
      "Layer:3 | Original Loss: 11.41 | Reconstructed Loss: 11.19 | Difference: -0.22\n",
      "Layer:4 | Original Loss: 11.41 | Reconstructed Loss: 10.01 | Difference: -1.40\n",
      "Layer:5 | Original Loss: 11.41 | Reconstructed Loss: 16.85 | Difference: 5.44\n"
     ]
    },
    {
     "name": "stderr",
     "output_type": "stream",
     "text": [
      "\n"
     ]
    },
    {
     "ename": "TypeError",
     "evalue": "unsupported operand type(s) for /=: 'list' and 'int'",
     "output_type": "error",
     "traceback": [
      "\u001b[0;31m---------------------------------------------------------------------------\u001b[0m",
      "\u001b[0;31mTypeError\u001b[0m                                 Traceback (most recent call last)",
      "\u001b[1;32m/root/sparse_coding/sparse_weights_mse_CE.ipynb Cell 16\u001b[0m line \u001b[0;36m5\n\u001b[1;32m     <a href='vscode-notebook-cell://ssh-remote%2B199.195.151.121/root/sparse_coding/sparse_weights_mse_CE.ipynb#X15sdnNjb2RlLXJlbW90ZQ%3D%3D?line=49'>50</a>\u001b[0m             \u001b[39mprint\u001b[39m(\u001b[39mf\u001b[39m\u001b[39m\"\u001b[39m\u001b[39mLayer:\u001b[39m\u001b[39m{\u001b[39;00mcache_name_ind\u001b[39m+\u001b[39m\u001b[39m1\u001b[39m\u001b[39m}\u001b[39;00m\u001b[39m | Original Loss: \u001b[39m\u001b[39m{\u001b[39;00moriginal_loss[cache_name_ind]\u001b[39m/\u001b[39mdivide_by\u001b[39m:\u001b[39;00m\u001b[39m.2f\u001b[39m\u001b[39m}\u001b[39;00m\u001b[39m | Reconstructed Loss: \u001b[39m\u001b[39m{\u001b[39;00mreconstructed_loss[cache_name_ind]\u001b[39m/\u001b[39mdivide_by\u001b[39m:\u001b[39;00m\u001b[39m.2f\u001b[39m\u001b[39m}\u001b[39;00m\u001b[39m | Difference: \u001b[39m\u001b[39m{\u001b[39;00mloss_diff[cache_name_ind]\u001b[39m/\u001b[39mdivide_by\u001b[39m:\u001b[39;00m\u001b[39m.2f\u001b[39m\u001b[39m}\u001b[39;00m\u001b[39m\"\u001b[39m)\n\u001b[1;32m     <a href='vscode-notebook-cell://ssh-remote%2B199.195.151.121/root/sparse_coding/sparse_weights_mse_CE.ipynb#X15sdnNjb2RlLXJlbW90ZQ%3D%3D?line=50'>51</a>\u001b[0m \u001b[39m# Average\u001b[39;00m\n\u001b[0;32m---> <a href='vscode-notebook-cell://ssh-remote%2B199.195.151.121/root/sparse_coding/sparse_weights_mse_CE.ipynb#X15sdnNjb2RlLXJlbW90ZQ%3D%3D?line=51'>52</a>\u001b[0m reconstructed_loss \u001b[39m/\u001b[39m\u001b[39m=\u001b[39m \u001b[39mlen\u001b[39m(dataset)\n\u001b[1;32m     <a href='vscode-notebook-cell://ssh-remote%2B199.195.151.121/root/sparse_coding/sparse_weights_mse_CE.ipynb#X15sdnNjb2RlLXJlbW90ZQ%3D%3D?line=52'>53</a>\u001b[0m original_loss \u001b[39m/\u001b[39m\u001b[39m=\u001b[39m \u001b[39mlen\u001b[39m(dataset)\n\u001b[1;32m     <a href='vscode-notebook-cell://ssh-remote%2B199.195.151.121/root/sparse_coding/sparse_weights_mse_CE.ipynb#X15sdnNjb2RlLXJlbW90ZQ%3D%3D?line=53'>54</a>\u001b[0m loss_diff \u001b[39m/\u001b[39m\u001b[39m=\u001b[39m \u001b[39mlen\u001b[39m(dataset)\n",
      "\u001b[0;31mTypeError\u001b[0m: unsupported operand type(s) for /=: 'list' and 'int'"
     ]
    }
   ],
   "source": [
    "from baukit import TraceDict, Trace\n",
    "def replace_with_reconstructed_features(mlp_out, layer_name):\n",
    "    # We will have the true activations at MLP_out, & the reconstruction. \n",
    "    return x_hat\n",
    "\n",
    "sparse_weights = mlp_weights\n",
    "ce = nn.CrossEntropyLoss()\n",
    "\n",
    "original_loss = [0]*num_layers\n",
    "reconstructed_loss = [0]*num_layers\n",
    "loss_diff = [0]*num_layers\n",
    "# Cross entropy check\n",
    "for i, batch in enumerate(tqdm(test_dataloader)):\n",
    "    batch = batch[\"input_ids\"].to(device)\n",
    "    with torch.no_grad():\n",
    "        with TraceDict(model, cache_names) as ret:\n",
    "            original_logits = model(batch).logits\n",
    "        for cache_name_ind in range(len(cache_names) // 2):\n",
    "            sparse_weight = sparse_weights[cache_name_ind]\n",
    "            input_cache_name = cache_names[cache_name_ind * 2]\n",
    "            input_autoencoder = autoencoders[cache_name_ind * 2]\n",
    "            input_activations = ret[input_cache_name].output\n",
    "            if isinstance(input_activations, tuple):\n",
    "                input_activations = input_activations[0]\n",
    "            input_internal_activations = rearrange(input_activations, \"b s n -> (b s) n\")\n",
    "            input_internal_activations = input_autoencoder.encode(input_internal_activations)\n",
    "            x_hat = sparse_weights[cache_name_ind](input_internal_activations)\n",
    "            # Decode x_hat\n",
    "            output_autoencoder = autoencoders[cache_name_ind * 2 + 1]\n",
    "            x_hat = output_autoencoder.decode(x_hat)\n",
    "            # Rearrange x_hat back to b s n\n",
    "            x_hat = rearrange(x_hat, \"(b s) n -> b s n\", b=batch.shape[0], s=batch.shape[1])\n",
    "            # replace the activations with the reconstructed activations\n",
    "            output_cache_name = cache_names[cache_name_ind * 2 + 1]\n",
    "            with Trace(model, output_cache_name, edit_output=replace_with_reconstructed_features) as ret_2:\n",
    "                logits = model(batch).logits\n",
    "            logits = logits.view(-1, logits.size(-1))  # Reshape to (batch_size * seq, vocab_size)\n",
    "            original_logits = original_logits.view(-1, original_logits.size(-1))  # Reshape to (batch_size * seq, vocab_size)\n",
    "            labels = batch.view(-1)  # Flatten to (batch_size * seq)\n",
    "\n",
    "            # Define the loss function\n",
    "            ce = nn.CrossEntropyLoss()\n",
    "            # Calculate loss\n",
    "            recon_loss = ce(logits, labels)\n",
    "            orig_loss = ce(original_logits, labels)\n",
    "            loss_diff[cache_name_ind] += recon_loss - orig_loss\n",
    "            reconstructed_loss[cache_name_ind] += recon_loss\n",
    "            original_loss[cache_name_ind] += orig_loss\n",
    "            divide_by = i + 1\n",
    "            print(f\"Layer:{cache_name_ind+1} | Original Loss: {original_loss[cache_name_ind]/divide_by:.2f} | Reconstructed Loss: {reconstructed_loss[cache_name_ind]/divide_by:.2f} | Difference: {loss_diff[cache_name_ind]/divide_by:.2f}\")\n",
    "# Average\n",
    "reconstructed_loss /= len(dataset)\n",
    "original_loss /= len(dataset)\n",
    "loss_diff /= len(dataset)\n",
    "print(f\"Original Loss: {original_loss:.2f}\")\n",
    "print(f\"Reconstructed Loss: {reconstructed_loss:.2f}\")\n",
    "# Find percentage of loss is reconstructed\n",
    "print(f\"Percentage of loss reconstructed: {100*(original_loss-reconstructed_loss)/original_loss:.2f}%\")"
   ]
  },
  {
   "cell_type": "code",
   "execution_count": 50,
   "metadata": {},
   "outputs": [
    {
     "data": {
      "text/plain": [
       "([tensor(11.4106, device='cuda:0'),\n",
       "  tensor(11.4106, device='cuda:0'),\n",
       "  tensor(11.4106, device='cuda:0'),\n",
       "  tensor(11.4106, device='cuda:0'),\n",
       "  tensor(11.4106, device='cuda:0')],\n",
       " [tensor(9.8566, device='cuda:0'),\n",
       "  tensor(10.1851, device='cuda:0'),\n",
       "  tensor(11.1898, device='cuda:0'),\n",
       "  tensor(10.0089, device='cuda:0'),\n",
       "  tensor(16.8508, device='cuda:0')],\n",
       " [tensor(-1.5540, device='cuda:0'),\n",
       "  tensor(-1.2255, device='cuda:0'),\n",
       "  tensor(-0.2208, device='cuda:0'),\n",
       "  tensor(-1.4017, device='cuda:0'),\n",
       "  tensor(5.4402, device='cuda:0')])"
      ]
     },
     "execution_count": 50,
     "metadata": {},
     "output_type": "execute_result"
    }
   ],
   "source": [
    "[o_loss/(i+1) for o_loss in original_loss], [r_loss/(i+1) for r_loss in reconstructed_loss], [l_diff/(i+1) for l_diff in loss_diff]"
   ]
  },
  {
   "cell_type": "code",
   "execution_count": null,
   "metadata": {},
   "outputs": [],
   "source": [
    "\n",
    "\n",
    "def train_sparse_model_and_check_CE(model, dataset, device, sparse_weights, autoencoders, cache_names, optimizers, test_datasest=None):\n",
    "    mse = nn.MSELoss()\n",
    "    losses = [[] for _ in range(len(sparse_weights))]\n",
    "\n",
    "    for i, batch in enumerate(tqdm(dataset)):\n",
    "        batch = batch[\"input_ids\"].to(device)\n",
    "        with torch.no_grad():\n",
    "            with TraceDict(model, cache_names) as ret:\n",
    "                _ = model(batch)\n",
    "        \n",
    "        for cache_name_ind in range(len(cache_names) // 2):\n",
    "            sparse_weight = sparse_weights[cache_name_ind]\n",
    "\n",
    "            input_cache_name = cache_names[cache_name_ind * 2]\n",
    "            output_cache_name = cache_names[cache_name_ind * 2 + 1]\n",
    "            input_autoencoder = autoencoders[cache_name_ind * 2]\n",
    "            output_autoencoder = autoencoders[cache_name_ind * 2 + 1]\n",
    "            input_activations = ret[input_cache_name].output\n",
    "            output_activations = ret[output_cache_name].output\n",
    "\n",
    "            if isinstance(input_activations, tuple):\n",
    "                input_activations = input_activations[0]\n",
    "            if isinstance(output_activations, tuple):\n",
    "                output_activations = output_activations[0]\n",
    "\n",
    "            input_internal_activations = rearrange(input_activations, \"b s n -> (b s) n\")\n",
    "            output_internal_activations = rearrange(output_activations, \"b s n -> (b s) n\")\n",
    "\n",
    "            input_internal_activations = input_autoencoder.encode(input_internal_activations)\n",
    "            output_internal_activations = output_autoencoder.encode(output_internal_activations)\n",
    "\n",
    "            x_hat = sparse_weights[cache_name_ind](input_internal_activations)\n",
    "\n",
    "            # loss = mse(x_hat, output_internal_activations)\n",
    "            current_alive_features_ind = alive_features_ind[cache_name_ind].nonzero(as_tuple=True)[0]\n",
    "            indexed_x_hat = x_hat.index_select(dim=1, index=current_alive_features_ind.to(device))\n",
    "            indexed_output_internal_activations = output_internal_activations.index_select(dim=1, index=current_alive_features_ind.to(device))\n",
    "            loss = mse(indexed_x_hat, indexed_output_internal_activations)\n",
    "            l1_loss = torch.norm(sparse_weight.linear.weight, dim=1, p=1).mean()\n",
    "            # loss += l1_alpha * l1_loss\n",
    "\n",
    "            loss.backward()\n",
    "            optimizers[cache_name_ind].step()\n",
    "            optimizers[cache_name_ind].zero_grad()\n",
    "            losses[cache_name_ind].append(loss.item())\n",
    "\n",
    "            if i % 100 == 0:\n",
    "                print(f\"Layers: {cache_name_ind} | MSE Loss: {loss.item()} | L1 Loss: {l1_loss.item()}\")\n",
    "            \n",
    "        if i > 3000:\n",
    "            # Stop training after 1000 batches\n",
    "            break\n",
    "    return losses\n",
    "\n",
    "mlp_losses = train_sparse_model(model, dataset, device, mlp_weights, autoencoders, cache_names, mlp_optimizers)\n"
   ]
  }
 ],
 "metadata": {
  "kernelspec": {
   "display_name": "logan",
   "language": "python",
   "name": "python3"
  },
  "language_info": {
   "codemirror_mode": {
    "name": "ipython",
    "version": 3
   },
   "file_extension": ".py",
   "mimetype": "text/x-python",
   "name": "python",
   "nbconvert_exporter": "python",
   "pygments_lexer": "ipython3",
   "version": "3.10.13"
  }
 },
 "nbformat": 4,
 "nbformat_minor": 2
}
