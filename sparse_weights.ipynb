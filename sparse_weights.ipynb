{
 "cells": [
  {
   "cell_type": "markdown",
   "metadata": {},
   "source": [
    "# Load in model"
   ]
  },
  {
   "cell_type": "code",
   "execution_count": 19,
   "metadata": {},
   "outputs": [],
   "source": [
    "import torch\n",
    "import numpy as np\n",
    "from torch.utils.data import DataLoader\n",
    "from datasets import Dataset, load_dataset\n",
    "from tqdm.auto import tqdm\n",
    "from functools import partial\n",
    "from einops import rearrange\n",
    "from huggingface_hub import hf_hub_download\n",
    "from transformers import AutoTokenizer, AutoModelForCausalLM, AutoModelForSequenceClassification\n",
    "\n",
    "\n",
    "# Download the model\n",
    "device = \"cuda:0\"\n",
    "model_name=\"EleutherAI/Pythia-70M-deduped\"\n",
    "model = AutoModelForCausalLM.from_pretrained(model_name).to(device)\n",
    "tokenizer = AutoTokenizer.from_pretrained(model_name)"
   ]
  },
  {
   "cell_type": "markdown",
   "metadata": {},
   "source": [
    "# Load in Sparse AE's"
   ]
  },
  {
   "cell_type": "code",
   "execution_count": 20,
   "metadata": {},
   "outputs": [],
   "source": [
    "from autoencoders import *\n",
    "# ae_model_id = [\"jbrinkma/Pythia-70M-chess_sp51_r4_gpt_neox.layers.1\", \"jbrinkma/Pythia-70M-chess_sp51_r4_gpt_neox.layers.2.mlp\"]\n",
    "model_id = \"jbrinkma/Pythia-70M-deduped-SAEs\"\n",
    "filename = [\"Pythia-70M-deduped-1.pt\", \"Pythia-70M-deduped-mlp-2.pt\"]\n",
    "autoencoders = []\n",
    "for filen in filename:\n",
    "    ae_download_location = hf_hub_download(repo_id=model_id, filename=filen)\n",
    "    autoencoder = torch.load(ae_download_location)\n",
    "    autoencoder.to_device(device)\n",
    "    autoencoders.append(autoencoder)\n",
    "cache_names = [\"gpt_neox.layers.1\", \"gpt_neox.layers.2.mlp\"]"
   ]
  },
  {
   "cell_type": "markdown",
   "metadata": {},
   "source": [
    "# Load training data"
   ]
  },
  {
   "cell_type": "code",
   "execution_count": 21,
   "metadata": {},
   "outputs": [
    {
     "name": "stderr",
     "output_type": "stream",
     "text": [
      "Downloading builder script: 100%|██████████| 3.08k/3.08k [00:00<00:00, 16.6MB/s]\n",
      "Downloading metadata: 100%|██████████| 1.33k/1.33k [00:00<00:00, 9.46MB/s]\n",
      "Downloading readme: 100%|██████████| 951/951 [00:00<00:00, 7.67MB/s]\n"
     ]
    },
    {
     "name": "stdout",
     "output_type": "stream",
     "text": [
      "Downloading and preparing dataset openwebtext-10k/plain_text (download: 14.04 MiB, generated: 47.37 MiB, post-processed: Unknown size, total: 61.41 MiB) to /root/.cache/huggingface/datasets/stas___openwebtext-10k/plain_text/1.0.0/3a8df094c671b4cb63ed0b41f40fb3bd855e9ce2e3765e5df50abcdfb5ec144b...\n"
     ]
    },
    {
     "name": "stderr",
     "output_type": "stream",
     "text": [
      "Downloading data: 100%|██████████| 14.7M/14.7M [00:00<00:00, 104MB/s] \n",
      "/root/logan/lib/python3.10/site-packages/datasets/download/download_manager.py:527: FutureWarning: 'num_proc' was deprecated in version 2.6.2 and will be removed in 3.0.0. Pass `DownloadConfig(num_proc=<num_proc>)` to the initializer instead.\n",
      "  warnings.warn(\n",
      "Extracting data files: 100%|██████████| 1/1 [00:02<00:00,  2.70s/it]\n",
      "                                                                                       \r"
     ]
    },
    {
     "name": "stdout",
     "output_type": "stream",
     "text": [
      "Dataset openwebtext-10k downloaded and prepared to /root/.cache/huggingface/datasets/stas___openwebtext-10k/plain_text/1.0.0/3a8df094c671b4cb63ed0b41f40fb3bd855e9ce2e3765e5df50abcdfb5ec144b. Subsequent calls will reuse this data.\n"
     ]
    },
    {
     "name": "stderr",
     "output_type": "stream",
     "text": [
      "                                                                      \r"
     ]
    }
   ],
   "source": [
    "max_seq_length=80 # max length of per data point\n",
    "from datasets import load_dataset\n",
    "# dataset_name = \"NeelNanda/pile-10k\"\n",
    "dataset_name = \"stas/openwebtext-10k\"\n",
    "dataset = load_dataset(dataset_name, split=\"train\").map(\n",
    "    lambda x: tokenizer(x['text']),\n",
    "    batched=True\n",
    ").filter(\n",
    "    lambda x: len(x['input_ids']) > max_seq_length\n",
    ").map(\n",
    "    lambda x: {'input_ids': x['input_ids'][:max_seq_length]}\n",
    ")"
   ]
  },
  {
   "cell_type": "markdown",
   "metadata": {},
   "source": [
    "## Grab Intermediate Layer Activations"
   ]
  },
  {
   "cell_type": "code",
   "execution_count": 22,
   "metadata": {},
   "outputs": [
    {
     "name": "stderr",
     "output_type": "stream",
     "text": [
      "  0%|          | 0/313 [00:00<?, ?it/s]"
     ]
    },
    {
     "name": "stderr",
     "output_type": "stream",
     "text": [
      "100%|██████████| 313/313 [00:19<00:00, 16.07it/s]\n"
     ]
    }
   ],
   "source": [
    "from baukit import TraceDict\n",
    "# with TraceDict(model, cache_names) as ret:\n",
    "\n",
    "num_features, d_model = autoencoder.encoder.shape\n",
    "datapoints = dataset.num_rows\n",
    "batch_size = 32\n",
    "with torch.no_grad(), dataset.formatted_as(\"pt\"):\n",
    "    dl = DataLoader(dataset[\"input_ids\"], batch_size=batch_size)\n",
    "    for i, batch in enumerate(tqdm(dl)):\n",
    "        batch = batch.to(device)\n",
    "        # Get LLM intermediate activations\n",
    "        with TraceDict(model, cache_names) as ret:\n",
    "            _ = model(batch)\n",
    "        # Get SAE intermediate codes\n",
    "        for ae_ind, cache_name in enumerate(cache_names):\n",
    "            autoencoder = autoencoders[ae_ind]\n",
    "            internal_activations = ret[cache_name].output\n",
    "            # check if instance tuple ie a layer output\n",
    "            if(isinstance(internal_activations, tuple)):\n",
    "                internal_activations = internal_activations[0]\n",
    "\n",
    "            batched_neuron_activations = rearrange(internal_activations, \"b s n -> (b s) n\" )\n",
    "            batched_dictionary_activations = autoencoder.encode(batched_neuron_activations)"
   ]
  },
  {
   "cell_type": "code",
   "execution_count": 23,
   "metadata": {},
   "outputs": [
    {
     "name": "stderr",
     "output_type": "stream",
     "text": [
      "  0%|          | 0/313 [00:00<?, ?it/s]"
     ]
    },
    {
     "name": "stderr",
     "output_type": "stream",
     "text": [
      "  1%|▏         | 4/313 [00:00<00:22, 13.71it/s]"
     ]
    },
    {
     "name": "stdout",
     "output_type": "stream",
     "text": [
      "MSE Loss: 0.07358858734369278 | L1 Loss: 27.699935913085938\n"
     ]
    },
    {
     "name": "stderr",
     "output_type": "stream",
     "text": [
      " 33%|███▎      | 104/313 [00:08<00:17, 11.91it/s]"
     ]
    },
    {
     "name": "stdout",
     "output_type": "stream",
     "text": [
      "MSE Loss: 0.0358312763273716 | L1 Loss: 0.5057389736175537\n"
     ]
    },
    {
     "name": "stderr",
     "output_type": "stream",
     "text": [
      " 65%|██████▌   | 204/313 [00:17<00:09, 11.86it/s]"
     ]
    },
    {
     "name": "stdout",
     "output_type": "stream",
     "text": [
      "MSE Loss: 0.031030012294650078 | L1 Loss: 0.5701619386672974\n"
     ]
    },
    {
     "name": "stderr",
     "output_type": "stream",
     "text": [
      " 97%|█████████▋| 304/313 [00:25<00:00, 11.86it/s]"
     ]
    },
    {
     "name": "stdout",
     "output_type": "stream",
     "text": [
      "MSE Loss: 0.02557392045855522 | L1 Loss: 0.6439201235771179\n"
     ]
    },
    {
     "name": "stderr",
     "output_type": "stream",
     "text": [
      "100%|██████████| 313/313 [00:26<00:00, 11.90it/s]\n"
     ]
    }
   ],
   "source": [
    "# Boiler plate ML code\n",
    "# D2 = ReLU(W@d1 + b)\n",
    "# Input = Residual Stream\n",
    "# Output = MLP_out\n",
    "from torch import nn\n",
    "class sparse_nonlinear(nn.Module):\n",
    "    def __init__(self, input_size):\n",
    "        super().__init__()\n",
    "        self.linear = nn.Linear(input_size, input_size)\n",
    "        self.relu = nn.ReLU()\n",
    "    def forward(self, x):\n",
    "        x = self.linear(x)\n",
    "        x = self.relu(x)\n",
    "        return x\n",
    "    \n",
    "Sparse_nonlinear = sparse_nonlinear(num_features)\n",
    "Sparse_nonlinear.to(device)\n",
    "# Optimizer\n",
    "from torch.optim import Adam\n",
    "optimizer = Adam(Sparse_nonlinear.parameters(), lr=1e-3)\n",
    "\n",
    "# Loss\n",
    "# 1. MSE \n",
    "# 2. sparsity on W (linear) (L1)\n",
    "mse = nn.MSELoss() # TODO: jannik\n",
    "l1_alpha = 1e-3\n",
    "\n",
    "from baukit import TraceDict\n",
    "num_features, d_model = autoencoder.encoder.shape\n",
    "datapoints = dataset.num_rows\n",
    "batch_size = 32\n",
    "dictionary_activations = [0, 0]\n",
    "with dataset.formatted_as(\"pt\"):\n",
    "    dl = DataLoader(dataset[\"input_ids\"], batch_size=batch_size)\n",
    "    for i, batch in enumerate(tqdm(dl)):\n",
    "        with torch.no_grad():\n",
    "            batch = batch.to(device)\n",
    "            # Get LLM intermediate activations\n",
    "            with TraceDict(model, cache_names) as ret:\n",
    "                _ = model(batch)\n",
    "            # Get SAE intermediate codes\n",
    "            for ae_ind, cache_name in enumerate(cache_names):\n",
    "                autoencoder = autoencoders[ae_ind]\n",
    "                internal_activations = ret[cache_name].output\n",
    "                # check if instance tuple ie a layer output\n",
    "                if(isinstance(internal_activations, tuple)):\n",
    "                    internal_activations = internal_activations[0]\n",
    "\n",
    "                batched_neuron_activations = rearrange(internal_activations, \"b s n -> (b s) n\" )\n",
    "                dictionary_activations[ae_ind] = autoencoder.encode(batched_neuron_activations)\n",
    "        # Run through sparse_weight_matrix\n",
    "        x_hat = Sparse_nonlinear(dictionary_activations[0])\n",
    "        # Get loss\n",
    "        loss = mse(x_hat, dictionary_activations[1])\n",
    "        l1_loss = torch.norm(Sparse_nonlinear.linear.weight, dim=1, p=1).mean()\n",
    "        loss += l1_alpha*l1_loss\n",
    "        # Backprop\n",
    "        loss.backward()\n",
    "        optimizer.step()\n",
    "        optimizer.zero_grad()\n",
    "        if(i%100==0):\n",
    "            print(f\"MSE Loss: {loss.item()} | L1 Loss: {l1_loss.item()}\")"
   ]
  },
  {
   "cell_type": "code",
   "execution_count": 7,
   "metadata": {},
   "outputs": [
    {
     "data": {
      "text/plain": [
       "'\\nd1= [f_0, f_1]\\n\\nw = [w00, w01]\\n    [w10, w11]\\n\\nf2 = [f_0*w00 + f_1*w10, f_0*w01 +f_1*w11]\\n'"
      ]
     },
     "execution_count": 7,
     "metadata": {},
     "output_type": "execute_result"
    }
   ],
   "source": [
    "# f2 = ReLU(w*f1 + b)\n",
    "'''\n",
    "d1= [f_0, f_1]\n",
    "\n",
    "w = [w00, w01]\n",
    "    [w10, w11]\n",
    "\n",
    "f2 = [f_0*w00 + f_1*w10, f_0*w01 +f_1*w11]\n",
    "'''"
   ]
  },
  {
   "cell_type": "code",
   "execution_count": 8,
   "metadata": {},
   "outputs": [
    {
     "data": {
      "text/plain": [
       "(tensor([0.3094, 0.3066, 0.3037, 0.2994, 0.2993, 0.2983, 0.2954, 0.2943, 0.2936,\n",
       "         0.2929], device='cuda:0'),\n",
       " tensor([2390, 2863, 2863, 1582, 1224, 2390, 1224, 2863, 2863, 1224],\n",
       "        device='cuda:0'),\n",
       " tensor([3028, 2917, 1904, 3028,  247, 1404, 3028,   67,  247, 1904],\n",
       "        device='cuda:0'))"
      ]
     },
     "execution_count": 8,
     "metadata": {},
     "output_type": "execute_result"
    }
   ],
   "source": [
    "squished = Sparse_nonlinear.linear.weight.detach().flatten()\n",
    "top_val, top_ind = torch.topk(squished, 10)\n",
    "row_ind = top_ind//num_features\n",
    "col_ind = top_ind%num_features\n",
    "# Row is output feature index\n",
    "# Col is input feature index\n",
    "top_val, row_ind, col_ind"
   ]
  },
  {
   "cell_type": "code",
   "execution_count": 9,
   "metadata": {},
   "outputs": [
    {
     "data": {
      "image/png": "[encoded data removed]",
      "text/plain": [
       "<Figure size 640x480 with 2 Axes>"
      ]
     },
     "metadata": {},
     "output_type": "display_data"
    }
   ],
   "source": [
    "# Plot weight matrix as image\n",
    "import matplotlib.pyplot as plt\n",
    "plt.imshow(Sparse_nonlinear.linear.weight[:100,:100].detach().cpu())\n",
    "plt.colorbar()\n",
    "plt.show()"
   ]
  },
  {
   "cell_type": "code",
   "execution_count": 10,
   "metadata": {},
   "outputs": [
    {
     "data": {
      "text/plain": [
       "(tensor([[   1, 2191],\n",
       "         [   1, 3014],\n",
       "         [  11,  596],\n",
       "         ...,\n",
       "         [3065, 2497],\n",
       "         [3066,  658],\n",
       "         [3066,  668]], device='cuda:0'),\n",
       " tensor([0.1169, 0.0689, 0.1657,  ..., 0.0747, 0.0159, 0.1725], device='cuda:0',\n",
       "        grad_fn=<IndexBackward0>))"
      ]
     },
     "execution_count": 10,
     "metadata": {},
     "output_type": "execute_result"
    }
   ],
   "source": [
    "indices = (Sparse_nonlinear.linear.weight > 0.001).nonzero()\n",
    "indices, Sparse_nonlinear.linear.weight[indices[:,0], indices[:,1]]"
   ]
  },
  {
   "cell_type": "code",
   "execution_count": 11,
   "metadata": {},
   "outputs": [
    {
     "data": {
      "text/plain": [
       "tensor([[   1, 2191],\n",
       "        [   1, 3014],\n",
       "        [  11,  596],\n",
       "        [  11, 1184],\n",
       "        [  11, 1495],\n",
       "        [  11, 1864]], device='cuda:0')"
      ]
     },
     "execution_count": 11,
     "metadata": {},
     "output_type": "execute_result"
    }
   ],
   "source": [
    "indices[:6]"
   ]
  },
  {
   "cell_type": "code",
   "execution_count": 12,
   "metadata": {},
   "outputs": [
    {
     "data": {
      "text/plain": [
       "tensor([[  16,  606],\n",
       "        [  16,  785],\n",
       "        [  16,  792],\n",
       "        [  16,  963],\n",
       "        [  16, 1124],\n",
       "        [  16, 1521],\n",
       "        [  16, 1527],\n",
       "        [  16, 1795],\n",
       "        [  16, 1800],\n",
       "        [  16, 1903]], device='cuda:0')"
      ]
     },
     "execution_count": 12,
     "metadata": {},
     "output_type": "execute_result"
    }
   ],
   "source": [
    "indices[20:30]"
   ]
  },
  {
   "cell_type": "code",
   "execution_count": 13,
   "metadata": {},
   "outputs": [
    {
     "data": {
      "text/plain": [
       "tensor([[  37, 1316],\n",
       "        [  37, 1325],\n",
       "        [  37, 1326],\n",
       "        [  37, 1478],\n",
       "        [  37, 1548],\n",
       "        [  37, 1885],\n",
       "        [  47, 1176],\n",
       "        [  47, 2070],\n",
       "        [  47, 2533],\n",
       "        [  79,  595]], device='cuda:0')"
      ]
     },
     "execution_count": 13,
     "metadata": {},
     "output_type": "execute_result"
    }
   ],
   "source": [
    "indices[200:210]"
   ]
  },
  {
   "cell_type": "code",
   "execution_count": 14,
   "metadata": {},
   "outputs": [
    {
     "data": {
      "text/plain": [
       "(tensor([0.0828, 0.0023, 0.0022, 0.0014, 0.0009], device='cuda:0',\n",
       "        grad_fn=<TopkBackward0>),\n",
       " tensor([0.1980, 0.1734, 0.1371, 0.1282, 0.1280], device='cuda:0',\n",
       "        grad_fn=<TopkBackward0>))"
      ]
     },
     "execution_count": 14,
     "metadata": {},
     "output_type": "execute_result"
    }
   ],
   "source": [
    "f_ind = 1899\n",
    "Sparse_nonlinear.linear.weight[:, f_ind].topk(5).values, Sparse_nonlinear.linear.weight[f_ind, :].topk(5).values"
   ]
  },
  {
   "cell_type": "code",
   "execution_count": 18,
   "metadata": {},
   "outputs": [
    {
     "name": "stdout",
     "output_type": "stream",
     "text": [
      "Feature 11: mean: 0.0001571535540279001, std: 0.00546741159632802, min: -0.10035543143749237, max: 0.16572602093219757\n",
      "Feature 29: mean: -0.0004656702221836895, std: 0.011058892123401165, min: -0.2426990568637848, max: 0.15703199803829193\n",
      "Feature 203: mean: 0.0017885728739202023, std: 0.03143875673413277, min: -0.22366595268249512, max: 0.2349885255098343\n"
     ]
    }
   ],
   "source": [
    "features = [11, 29, 203]\n",
    "import matplotlib.pyplot as plt\n",
    "for x in features:\n",
    "    val = Sparse_nonlinear.linear.weight[x]\n",
    "#     plt.hist(val.detach().cpu().numpy(), bins=50, label=f\"Feature {x}\")\n",
    "    mean = val.mean()\n",
    "    std = val.std()\n",
    "    min = val.min()\n",
    "    max = val.max()\n",
    "    print(f\"Feature {x}: mean: {mean}, std: {std}, min: {min}, max: {max}\")\n",
    "# plt.legend()\n",
    "plt.show()"
   ]
  },
  {
   "cell_type": "code",
   "execution_count": 39,
   "metadata": {},
   "outputs": [
    {
     "name": "stdout",
     "output_type": "stream",
     "text": [
      "Dead Feature\n",
      "column: tensor([0.1078, 0.0246, 0.0006, 0.0006, 0.0006], device='cuda:0',\n",
      "       grad_fn=<TopkBackward0>)\n",
      "Row: tensor([0.0006, 0.0006, 0.0006, 0.0006, 0.0006], device='cuda:0',\n",
      "       grad_fn=<TopkBackward0>)\n"
     ]
    }
   ],
   "source": [
    "f_ind = 9\n",
    "print(\"Dead Feature\")\n",
    "print(f\"column: {Sparse_nonlinear.linear.weight[:, f_ind].topk(5).values}\")\n",
    "print(f\"Row: { Sparse_nonlinear.linear.weight[f_ind, :].topk(5).values}\")\n",
    "    "
   ]
  },
  {
   "cell_type": "code",
   "execution_count": 31,
   "metadata": {},
   "outputs": [
    {
     "data": {
      "text/plain": [
       "(torch.return_types.topk(\n",
       " values=tensor([0, 0, 0, 0, 0, 0, 0, 0, 0, 0]),\n",
       " indices=tensor([ 8,  9,  4,  7,  5,  3,  0, 10,  2,  6])),\n",
       " torch.return_types.topk(\n",
       " values=tensor([4094, 3426, 3297, 2861, 2722, 2140, 1370, 1369, 1354, 1084]),\n",
       " indices=tensor([1899,  203,  905,  260, 1773, 1191, 2863, 1224, 2390,  628])))"
      ]
     },
     "execution_count": 31,
     "metadata": {},
     "output_type": "execute_result"
    }
   ],
   "source": [
    "# dictionary_activations[:100000].count_nonzero(0).count_nonzero(0)\n",
    "dictionary_activations[:10000].count_nonzero(0).topk(10, largest=False), dictionary_activations[:10000].count_nonzero(0).topk(10, largest=True)"
   ]
  },
  {
   "cell_type": "code",
   "execution_count": 17,
   "metadata": {},
   "outputs": [
    {
     "data": {
      "text/plain": [
       "torch.Size([297480, 3072])"
      ]
     },
     "execution_count": 17,
     "metadata": {},
     "output_type": "execute_result"
    }
   ],
   "source": [
    "dictionary_activations.shape"
   ]
  },
  {
   "cell_type": "code",
   "execution_count": 9,
   "metadata": {},
   "outputs": [
    {
     "name": "stderr",
     "output_type": "stream",
     "text": [
      "100%|██████████| 310/310 [00:10<00:00, 29.77it/s]\n",
      "/root/sparse_coding/alpha_utils_interp.py:349: UserWarning: torch.searchsorted(): input value tensor is non-contiguous, this will lower the performance due to extra data copy when converting non-contiguous tensor to contiguous, please use contiguous input value tensor if possible. This message will only appear once per program. (Triggered internally at ../aten/src/ATen/native/BucketizationUtils.h:33.)\n",
      "  bins = torch.bucketize(best_feature_activations, bin_boundaries)\n"
     ]
    },
    {
     "name": "stdout",
     "output_type": "stream",
     "text": [
      "Feature 0 is dead\n"
     ]
    },
    {
     "ename": "NameError",
     "evalue": "name 'model_type' is not defined",
     "output_type": "error",
     "traceback": [
      "\u001b[0;31m---------------------------------------------------------------------------\u001b[0m",
      "\u001b[0;31mNameError\u001b[0m                                 Traceback (most recent call last)",
      "\u001b[1;32m/root/sparse_coding/sparse_weights.ipynb Cell 12\u001b[0m line \u001b[0;36m2\n\u001b[1;32m     <a href='vscode-notebook-cell://ssh-remote%2B199.195.151.121/root/sparse_coding/sparse_weights.ipynb#X26sdnNjb2RlLXJlbW90ZQ%3D%3D?line=24'>25</a>\u001b[0m \u001b[39m# get_token_statistics(feature, dictionary_activations[:, feature], dataset, tokenizer, max_seq_length, tokens_for_each_datapoint, save_location = save_path, num_unique_tokens=10)\u001b[39;00m\n\u001b[1;32m     <a href='vscode-notebook-cell://ssh-remote%2B199.195.151.121/root/sparse_coding/sparse_weights.ipynb#X26sdnNjb2RlLXJlbW90ZQ%3D%3D?line=25'>26</a>\u001b[0m \u001b[39mif\u001b[39;00m(input_setting \u001b[39m==\u001b[39m \u001b[39m\"\u001b[39m\u001b[39minput_only\u001b[39m\u001b[39m\"\u001b[39m):\n\u001b[1;32m     <a href='vscode-notebook-cell://ssh-remote%2B199.195.151.121/root/sparse_coding/sparse_weights.ipynb#X26sdnNjb2RlLXJlbW90ZQ%3D%3D?line=26'>27</a>\u001b[0m     \u001b[39m# Calculate logit diffs on this feature for the full_token_list\u001b[39;00m\n\u001b[0;32m---> <a href='vscode-notebook-cell://ssh-remote%2B199.195.151.121/root/sparse_coding/sparse_weights.ipynb#X26sdnNjb2RlLXJlbW90ZQ%3D%3D?line=27'>28</a>\u001b[0m     logit_diffs \u001b[39m=\u001b[39m ablate_feature_direction(model, full_token_list, cache_name, max_seq_length, autoencoder, feature \u001b[39m=\u001b[39m feature, batch_size\u001b[39m=\u001b[39m\u001b[39m32\u001b[39m, setting\u001b[39m=\u001b[39m\u001b[39m\"\u001b[39m\u001b[39msentences\u001b[39m\u001b[39m\"\u001b[39m, model_type\u001b[39m=\u001b[39mmodel_type)\n\u001b[1;32m     <a href='vscode-notebook-cell://ssh-remote%2B199.195.151.121/root/sparse_coding/sparse_weights.ipynb#X26sdnNjb2RlLXJlbW90ZQ%3D%3D?line=28'>29</a>\u001b[0m     \u001b[39m# save_token_display(full_token_list, full_activations, tokenizer, path =f\"{save_path}uniform_{feature}.png\", logit_diffs = logit_diffs, model_type=model_type)\u001b[39;00m\n\u001b[1;32m     <a href='vscode-notebook-cell://ssh-remote%2B199.195.151.121/root/sparse_coding/sparse_weights.ipynb#X26sdnNjb2RlLXJlbW90ZQ%3D%3D?line=29'>30</a>\u001b[0m     save_token_display(full_token_list, full_activations, tokenizer, path \u001b[39m=\u001b[39m\u001b[39mf\u001b[39m\u001b[39m\"\u001b[39m\u001b[39m{\u001b[39;00msave_path\u001b[39m}\u001b[39;00m\u001b[39muniform_\u001b[39m\u001b[39m{\u001b[39;00mfeature\u001b[39m}\u001b[39;00m\u001b[39m.png\u001b[39m\u001b[39m\"\u001b[39m, logit_diffs \u001b[39m=\u001b[39m logit_diffs, model_type\u001b[39m=\u001b[39mmodel_type, show\u001b[39m=\u001b[39m\u001b[39mTrue\u001b[39;00m)\n",
      "\u001b[0;31mNameError\u001b[0m: name 'model_type' is not defined"
     ]
    }
   ],
   "source": [
    "from alpha_utils_interp import *\n",
    "import os\n",
    "# make features/ dir if not exist\n",
    "save_path = \"features/\"\n",
    "if not os.path.exists(save_path):\n",
    "    os.makedirs(save_path)\n",
    "num_feature_datapoints = 10\n",
    "dictionary_activations, tokens_for_each_datapoint = get_dictionary_activations(model, dataset, cache_name, max_seq_length, autoencoder, batch_size=32)\n",
    "\n",
    "# features = [1,2,3,4,5,6,7,8,9,10]\n",
    "# features = [5,6]\n",
    "# features = None\n",
    "num_features = 30\n",
    "feature = 0\n",
    "input_setting = \"input_only\"\n",
    "for _ in range(num_features):\n",
    "    # Check if feature is dead (<10 activations)\n",
    "    dead_threshold = 10\n",
    "    # if(dictionary_activations[:, current_feature].count_nonzero() < dead_threshold):\n",
    "    while(dictionary_activations[:, feature].count_nonzero() < dead_threshold):\n",
    "        print(f\"Feature {feature} is dead\")\n",
    "        feature += 1\n",
    "    uniform_indices = get_feature_indices(feature, dictionary_activations, k=num_feature_datapoints, setting=\"uniform\")\n",
    "    text_list, full_text, token_list, full_token_list, partial_activations, full_activations = get_feature_datapoints(uniform_indices, dictionary_activations[:, feature], tokenizer, max_seq_length, dataset)\n",
    "    # get_token_statistics(feature, dictionary_activations[:, feature], dataset, tokenizer, max_seq_length, tokens_for_each_datapoint, save_location = save_path, num_unique_tokens=10)\n",
    "    if(input_setting == \"input_only\"):\n",
    "        # Calculate logit diffs on this feature for the full_token_list\n",
    "        logit_diffs = ablate_feature_direction(model, full_token_list, cache_name, max_seq_length, autoencoder, feature = feature, batch_size=32, setting=\"sentences\", model_type=model_type)\n",
    "        # save_token_display(full_token_list, full_activations, tokenizer, path =f\"{save_path}uniform_{feature}.png\", logit_diffs = logit_diffs, model_type=model_type)\n",
    "        save_token_display(full_token_list, full_activations, tokenizer, path =f\"{save_path}uniform_{feature}.png\", logit_diffs = logit_diffs, model_type=model_type, show=True)\n",
    "        all_changed_activations = ablate_context_one_token_at_a_time(model, token_list, cache_name, autoencoder, feature, max_ablation_length=30)\n",
    "        save_token_display(token_list, all_changed_activations, tokenizer, path =f\"{save_path}ablate_context_{feature}.png\", model_type=model_type, show=True)\n",
    "    else:\n",
    "        logit_diffs = ablate_feature_direction(model, dataset, cache_name, max_seq_length, autoencoder, feature = feature, batch_size=32, setting=\"dataset\")\n",
    "        _, _, _, full_token_list_ablated, _, full_activations_ablated = get_feature_datapoints(uniform_indices, logit_diffs, tokenizer, max_seq_length, dataset)\n",
    "        get_token_statistics(feature, logit_diffs, dataset, tokenizer, max_seq_length, tokens_for_each_datapoint, save_location = save_path, setting=\"output\", num_unique_tokens=10)\n",
    "        save_token_display(full_token_list_ablated, full_activations, tokenizer, path =f\"{save_path}uniform_{feature}.png\", logit_diffs = full_activations_ablated)\n",
    "    # if(ablate_context ==True):\n",
    "    #     all_changed_activations = ablate_context_one_token_at_a_time(model, dataset, cache_name, autoencoder, feature, max_ablation_length=20)\n",
    "    #     save_token_display(token_list, all_changed_activations, tokenizer, path =f\"{save_path}ablate_context_{feature}.png\", model_type=model_type, show=True)\n",
    "    # combine_images(feature, setting=input_setting, ablate_context=ablate_context)\n",
    "    feature += 1"
   ]
  },
  {
   "cell_type": "code",
   "execution_count": null,
   "metadata": {},
   "outputs": [
    {
     "data": {
      "text/plain": [
       "torch.return_types.topk(\n",
       "values=tensor([0.0016, 0.0008, 0.0007, 0.0007, 0.0006, 0.0006, 0.0006, 0.0006, 0.0006,\n",
       "        0.0005], device='cuda:0', grad_fn=<TopkBackward0>),\n",
       "indices=tensor([1899, 2168, 2598, 1191, 2841, 1595,  601, 2818,  905,  983],\n",
       "       device='cuda:0'))"
      ]
     },
     "execution_count": 55,
     "metadata": {},
     "output_type": "execute_result"
    }
   ],
   "source": [
    "Sparse_nonlinear.linear.weight[:, x].topk(10)"
   ]
  },
  {
   "cell_type": "code",
   "execution_count": 50,
   "metadata": {},
   "outputs": [
    {
     "data": {
      "image/png": "[encoded data removed]",
      "text/plain": [
       "<Figure size 640x480 with 1 Axes>"
      ]
     },
     "metadata": {},
     "output_type": "display_data"
    }
   ],
   "source": [
    "# hist the first 5 neurons\n",
    "import matplotlib.pyplot as plt\n",
    "for x in range(5):\n",
    "    val = Sparse_nonlinear.linear.weight[:, x]\n",
    "    plt.hist(val.detach().cpu().numpy(), bins=50)\n",
    "plt.show()"
   ]
  },
  {
   "cell_type": "code",
   "execution_count": 51,
   "metadata": {},
   "outputs": [
    {
     "data": {
      "image/png": "[encoded data removed]",
      "text/plain": [
       "<Figure size 640x480 with 1 Axes>"
      ]
     },
     "metadata": {},
     "output_type": "display_data"
    }
   ],
   "source": [
    "# hist the first 5 neurons\n",
    "import matplotlib.pyplot as plt\n",
    "for x in range(5):\n",
    "    val = Sparse_nonlinear.linear.weight[x, :]\n",
    "    plt.hist(val.detach().cpu().numpy(), bins=50)\n",
    "plt.show()"
   ]
  },
  {
   "cell_type": "code",
   "execution_count": 37,
   "metadata": {},
   "outputs": [
    {
     "data": {
      "text/plain": [
       "[Parameter containing:\n",
       " tensor([[ 0.0124, -0.0044, -0.0002,  ..., -0.0062, -0.0021,  0.0138],\n",
       "         [ 0.0145, -0.0066, -0.0114,  ...,  0.0170,  0.0121, -0.0112],\n",
       "         [-0.0014,  0.0121, -0.0046,  ..., -0.0161,  0.0043, -0.0040],\n",
       "         ...,\n",
       "         [-0.0075,  0.0023,  0.0118,  ..., -0.0031, -0.0092, -0.0004],\n",
       "         [-0.0063,  0.0080,  0.0002,  ..., -0.0180, -0.0156,  0.0083],\n",
       "         [ 0.0041,  0.0157, -0.0164,  ...,  0.0036,  0.0057, -0.0050]],\n",
       "        device='cuda:0', requires_grad=True),\n",
       " Parameter containing:\n",
       " tensor([ 0.0098, -0.0107,  0.0123,  ...,  0.0170,  0.0130,  0.0111],\n",
       "        device='cuda:0', requires_grad=True)]"
      ]
     },
     "execution_count": 37,
     "metadata": {},
     "output_type": "execute_result"
    }
   ],
   "source": [
    "list(Sparse_nonlinear.parameters())"
   ]
  },
  {
   "cell_type": "code",
   "execution_count": null,
   "metadata": {},
   "outputs": [],
   "source": [
    "Sparse_nonlinear.linear.weight.shape"
   ]
  },
  {
   "cell_type": "code",
   "execution_count": null,
   "metadata": {},
   "outputs": [],
   "source": [
    "dictionary_activations[0].count_nonzero(dim=-1).float().mean()"
   ]
  }
 ],
 "metadata": {
  "kernelspec": {
   "display_name": "logan",
   "language": "python",
   "name": "python3"
  },
  "language_info": {
   "codemirror_mode": {
    "name": "ipython",
    "version": 3
   },
   "file_extension": ".py",
   "mimetype": "text/x-python",
   "name": "python",
   "nbconvert_exporter": "python",
   "pygments_lexer": "ipython3",
   "version": "3.10.13"
  }
 },
 "nbformat": 4,
 "nbformat_minor": 2
}
