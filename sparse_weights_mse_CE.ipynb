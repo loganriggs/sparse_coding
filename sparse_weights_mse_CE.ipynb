{
 "cells": [
  {
   "cell_type": "code",
   "execution_count": 1,
   "metadata": {},
   "outputs": [
    {
     "name": "stderr",
     "output_type": "stream",
     "text": [
      "/root/logan/lib/python3.10/site-packages/tqdm/auto.py:21: TqdmWarning: IProgress not found. Please update jupyter and ipywidgets. See https://ipywidgets.readthedocs.io/en/stable/user_install.html\n",
      "  from .autonotebook import tqdm as notebook_tqdm\n"
     ]
    }
   ],
   "source": [
    "import torch\n",
    "import numpy as np\n",
    "from torch.utils.data import DataLoader\n",
    "from datasets import Dataset, load_dataset\n",
    "from tqdm.auto import tqdm\n",
    "from functools import partial\n",
    "from einops import rearrange\n",
    "from huggingface_hub import hf_hub_download\n",
    "from transformers import AutoTokenizer, AutoModelForCausalLM, AutoModelForSequenceClassification\n",
    "from baukit import TraceDict\n",
    "\n",
    "# Download the modelz\n",
    "device = \"cuda:0\"\n",
    "model_name=\"EleutherAI/Pythia-70M-deduped\"\n",
    "model = AutoModelForCausalLM.from_pretrained(model_name).to(device)\n",
    "tokenizer = AutoTokenizer.from_pretrained(model_name)\n",
    "# set seed\n",
    "torch.manual_seed(0)\n",
    "np.random.seed(0)"
   ]
  },
  {
   "cell_type": "code",
   "execution_count": 2,
   "metadata": {},
   "outputs": [],
   "source": [
    "from autoencoders import *\n",
    "# ae_model_id = [\"jbrinkma/Pythia-70M-chess_sp51_r4_gpt_neox.layers.1\", \"jbrinkma/Pythia-70M-chess_sp51_r4_gpt_neox.layers.2.mlp\"]\n",
    "model_id = \"jbrinkma/Pythia-70M-deduped-SAEs\"\n",
    "autoencoders = []\n",
    "layers = model.config.num_hidden_layers\n",
    "cache_names = [(f\"gpt_neox.layers.{i}\", f\"gpt_neox.layers.{i+1}.mlp\") for i in range(layers-1)]\n",
    "# cache_names = [(f\"gpt_neox.layers.{i}\", f\"gpt_neox.layers.{i+1}.attention\") for i in range(layers-1)]\n",
    "# cache_names = [(f\"gpt_neox.layers.{i}\", f\"gpt_neox.layers.{i+1}.mlp\") for i in range(1,2)]\n",
    "num_layers = len(cache_names)\n",
    "cache_names = [item for sublist in cache_names for item in sublist]\n",
    "filenames = [(f\"Pythia-70M-deduped-{i}.pt\", f\"Pythia-70M-deduped-mlp-{i+1}.pt\") for i in range(layers-1)]\n",
    "# filenames = [(f\"Pythia-70M-deduped-{i}.pt\", f\"Pythia-70M-deduped-attention-{i+1}.pt\") for i in range(layers-1)]\n",
    "# filenames = [(f\"Pythia-70M-deduped-{i}.pt\", f\"Pythia-70M-deduped-mlp-{i+1}.pt\") for i in range(1,2)]\n",
    "filenames = [item for sublist in filenames for item in sublist]\n",
    "for filen in filenames:\n",
    "    ae_download_location = hf_hub_download(repo_id=model_id, filename=filen)\n",
    "    autoencoder = torch.load(ae_download_location)\n",
    "    autoencoder.to_device(device)\n",
    "    # Freeze autoencoder weights\n",
    "    autoencoder.encoder.requires_grad_(False)\n",
    "    autoencoder.encoder_bias.requires_grad_(False)\n",
    "    autoencoders.append(autoencoder)"
   ]
  },
  {
   "cell_type": "code",
   "execution_count": 3,
   "metadata": {},
   "outputs": [
    {
     "name": "stderr",
     "output_type": "stream",
     "text": [
      "Found cached dataset openwebtext-10k (/root/.cache/huggingface/datasets/stas___openwebtext-10k/plain_text/1.0.0/3a8df094c671b4cb63ed0b41f40fb3bd855e9ce2e3765e5df50abcdfb5ec144b)\n",
      "Loading cached processed dataset at /root/.cache/huggingface/datasets/stas___openwebtext-10k/plain_text/1.0.0/3a8df094c671b4cb63ed0b41f40fb3bd855e9ce2e3765e5df50abcdfb5ec144b/cache-89f7d956ed9de0f6_*_of_00008.arrow\n"
     ]
    },
    {
     "name": "stdout",
     "output_type": "stream",
     "text": [
      "Number of tokens: 11.23M\n"
     ]
    }
   ],
   "source": [
    "from activation_dataset import chunk_and_tokenize\n",
    "# Download the dataset\n",
    "# This formats it, so every datapoint is max_length tokens long\n",
    "# The batch size is for loading activations from the LLM, not for inference on the autoencoder\n",
    "dataset_name=\"stas/openwebtext-10k\"\n",
    "max_seq_length=256\n",
    "dataset = load_dataset(dataset_name, split=\"train\")\n",
    "dataset, _ = chunk_and_tokenize(dataset, tokenizer, max_length=max_seq_length)\n",
    "max_tokens = dataset.num_rows*max_seq_length\n",
    "print(f\"Number of tokens: {max_tokens/1e6:.2f}M\")"
   ]
  },
  {
   "cell_type": "code",
   "execution_count": 4,
   "metadata": {},
   "outputs": [
    {
     "name": "stdout",
     "output_type": "stream",
     "text": [
      "Number of Train Tokens: 10.10M\n",
      "Number of Test Tokens: 1.12M\n"
     ]
    }
   ],
   "source": [
    "# split dataset into both a train & test set\n",
    "test_size = 0.1\n",
    "test_size = int(len(dataset)*test_size)\n",
    "train_size = len(dataset)-test_size\n",
    "train_dataset, test_dataset = torch.utils.data.random_split(dataset, [train_size, test_size])\n",
    "print(f\"Number of Train Tokens: {len(train_dataset)*max_seq_length/1e6:.2f}M\")\n",
    "print(f\"Number of Test Tokens: {len(test_dataset)*max_seq_length/1e6:.2f}M\")"
   ]
  },
  {
   "cell_type": "code",
   "execution_count": 5,
   "metadata": {},
   "outputs": [],
   "source": [
    "# Create dataloaders\n",
    "batch_size = 32\n",
    "train_dataloader = DataLoader(train_dataset, batch_size=batch_size, shuffle=True, num_workers=8)\n",
    "test_dataloader = DataLoader(test_dataset, batch_size=batch_size, shuffle=True, num_workers=8)"
   ]
  },
  {
   "cell_type": "code",
   "execution_count": 6,
   "metadata": {},
   "outputs": [],
   "source": [
    "from torch.optim import Adam\n",
    "from torch import nn\n",
    "    \n",
    "class mlp(nn.Module):\n",
    "    def __init__(self, input_size, output_size=None, hidden_size=None, bias=True):\n",
    "        super().__init__()\n",
    "        if(output_size is None):\n",
    "            output_size = input_size\n",
    "        if(hidden_size is None):\n",
    "            hidden_size = input_size\n",
    "        # Only adding a bias to the latent layer\n",
    "        self.linear = nn.Linear(input_size, hidden_size, bias=bias)\n",
    "        self.linear2 = nn.Linear(hidden_size, output_size, bias=False)\n",
    "        self.relu = nn.ReLU()\n",
    "    def forward(self, x):\n",
    "        x = self.linear(x)\n",
    "        x = self.relu(x)\n",
    "        x = self.linear2(x)\n",
    "        return x\n",
    "    def latent(self, x):\n",
    "        x = self.linear(x)\n",
    "        x = self.relu(x)\n",
    "        return x\n",
    "    \n",
    "class linear(nn.Module):\n",
    "    def __init__(self, input_size, output_size=None, bias=True):\n",
    "        super().__init__()\n",
    "        if(output_size is None):\n",
    "            output_size = input_size\n",
    "        self.linear = nn.Linear(input_size, output_size, bias=bias)\n",
    "    def forward(self, x):\n",
    "        x = self.linear(x)\n",
    "        return x"
   ]
  },
  {
   "cell_type": "code",
   "execution_count": 7,
   "metadata": {},
   "outputs": [],
   "source": [
    "# Load in the features indices\n",
    "# Note: linear & MLP features are a subet of alive features, not total features\n",
    "import pickle\n",
    "with open(\"linear_features.pkl\", \"rb\") as f:\n",
    "    linear_features = pickle.load(f)\n",
    "with open(\"mlp_features.pkl\", \"rb\") as f:\n",
    "    mlp_features = pickle.load(f)\n",
    "with open(\"alive_features.pkl\", \"rb\") as f:\n",
    "    alive_features_ind = pickle.load(f)\n",
    "normalization_per_layer = torch.load(\"normalization_per_layer.pt\")"
   ]
  },
  {
   "cell_type": "code",
   "execution_count": 8,
   "metadata": {},
   "outputs": [],
   "source": [
    "num_features, d_model = autoencoder.encoder.shape\n",
    "\n",
    "mlp_weights = []\n",
    "mlp_optimizers = []\n",
    "for auto_ind in range(num_layers):\n",
    "    mlp_weights.append(mlp(num_features, bias=False))\n",
    "    mlp_weights[-1].to(device)\n",
    "    mlp_optimizers.append(Adam(mlp_weights[-1].parameters(), lr=1e-3))"
   ]
  },
  {
   "cell_type": "code",
   "execution_count": 43,
   "metadata": {},
   "outputs": [],
   "source": [
    "from baukit import TraceDict, Trace\n",
    "from torch.nn import functional as F\n",
    "def replace_with_reconstructed_features(mlp_out, layer_name, reconstruction):\n",
    "    # We will have the true activations at MLP_out, & the reconstruction. \n",
    "    return reconstruction\n",
    "\n",
    "def replace_with_sae(mlp_out, layer_name, autoencoder):\n",
    "    b, s, n = mlp_out.shape\n",
    "    mlp_flattened = rearrange(mlp_out, \"b s n -> (b s) n\")\n",
    "    reconstruction_flattened = autoencoder.predict(mlp_flattened)\n",
    "    reconstruction = rearrange(reconstruction_flattened, \"(b s) n -> b s n\", b=b, s=s)\n",
    "    return reconstruction\n",
    "\n",
    "def ablate_activations(mlp_out, layer_name):\n",
    "    return torch.zeros_like(mlp_out)\n",
    "\n",
    "def cross_entropy(logits, tokens):\n",
    "    # Print amount in gpu\n",
    "    #Ripped from transformer lens library\n",
    "    log_probs = F.log_softmax(logits, dim=-1)\n",
    "\n",
    "    # Use torch.gather to find the log probs of the correct tokens\n",
    "    # Offsets needed because we're predicting the NEXT token (this means the final logit is meaningless)\n",
    "    # None and [..., 0] needed because the tensor used in gather must have the same rank.\n",
    "    predicted_log_probs = log_probs[..., :-1, :].gather(\n",
    "        dim=-1, index=tokens[..., 1:, None]\n",
    "    )[..., 0]\n",
    "    return -predicted_log_probs.mean()\n",
    "\n",
    "# Overall we need:\n",
    "# - 1. Original loss (1 dashed line)\n",
    "# - 1.5. SAE reconstruction loss ([layer] dashed lines)\n",
    "# - 2. Sparse Weight Reconstruction loss ([layer] lines) (MSE vs CE for x,y)\n",
    "# - 3. zero ablated loss ([layer] dashed lines)\n",
    "# We get original by default, so no special settings needed\n",
    "def calculate_cross_entropy_loss(model, setting, sparse_weights, dataset, autoencoders, cache_names, max_batches):\n",
    "    device = model.device\n",
    "    settings = [\"sae\", \"sparse_weights\", \"ablate\", \"original\"]\n",
    "    setting_ind = settings.index(setting)\n",
    "    intervention_functions = [replace_with_sae, replace_with_reconstructed_features, ablate_activations, None]\n",
    "    intervention_function = intervention_functions[setting_ind]\n",
    "\n",
    "    assert max_batches < len(dataset)\n",
    "    reconstructed_loss = [0]*num_layers\n",
    "    for i, batch in enumerate(tqdm(dataset)):\n",
    "        batch = batch[\"input_ids\"].to(device)\n",
    "        with torch.no_grad():\n",
    "            if(setting == \"sae\" or setting == \"ablate\"):\n",
    "                for cache_name_ind in range(num_layers):\n",
    "                    output_cache_name = cache_names[cache_name_ind * 2 + 1]\n",
    "                    output_autoencoder = autoencoders[cache_name_ind * 2 + 1]\n",
    "                    if(setting==\"sae\"):\n",
    "                        intervention_function = partial(replace_with_sae,  autoencoder=output_autoencoder)\n",
    "                    else:\n",
    "                        intervention_function = partial(ablate_activations)\n",
    "                    with Trace(model, output_cache_name, edit_output=intervention_function) as _:\n",
    "                        logits = model(batch).logits\n",
    "                    recon_loss = cross_entropy(logits, batch).item()\n",
    "                    reconstructed_loss[cache_name_ind] += recon_loss\n",
    "                    # divide_by = i + 1\n",
    "                    # print(f\"Layer:{cache_name_ind+1} Reconstructed Loss: {reconstructed_loss[cache_name_ind]/divide_by:.2f} \")\n",
    "            elif(setting == \"original\"):\n",
    "                logits = model(batch).logits\n",
    "                reconstructed_loss[0] += cross_entropy(logits, batch).item()\n",
    "            elif(setting == \"sparse_weights\"):\n",
    "                with TraceDict(model, cache_names) as ret:\n",
    "                    _ = model(batch).logits\n",
    "                for cache_name_ind in range(num_layers):\n",
    "                    input_cache_name = cache_names[cache_name_ind * 2]\n",
    "                    input_autoencoder = autoencoders[cache_name_ind * 2]\n",
    "                    input_activations = ret[input_cache_name].output\n",
    "                    if isinstance(input_activations, tuple):\n",
    "                        input_activations = input_activations[0]\n",
    "                    input_internal_activations = rearrange(input_activations, \"b s n -> (b s) n\")\n",
    "                    input_internal_activations = input_autoencoder.encode(input_internal_activations)\n",
    "                    x_hat = sparse_weights[cache_name_ind](input_internal_activations)\n",
    "                    # Decode x_hat\n",
    "                    output_autoencoder = autoencoders[cache_name_ind * 2 + 1]\n",
    "                    x_hat = output_autoencoder.decode(x_hat)\n",
    "                    # Rearrange x_hat back to b s n\n",
    "                    x_hat = rearrange(x_hat, \"(b s) n -> b s n\", b=batch.shape[0], s=batch.shape[1])\n",
    "                    # replace the activations with the reconstructed activations\n",
    "                    output_cache_name = cache_names[cache_name_ind * 2 + 1]\n",
    "                    intervention_function = partial(replace_with_reconstructed_features,  reconstruction=x_hat)\n",
    "                    with Trace(model, output_cache_name, edit_output=intervention_function) as _:\n",
    "                        logits = model(batch).logits\n",
    "                    # Calculate loss\n",
    "                    recon_loss = cross_entropy(logits, batch).item()\n",
    "                    reconstructed_loss[cache_name_ind] += recon_loss\n",
    "                    \n",
    "                    del logits\n",
    "                    torch.cuda.empty_cache()\n",
    "                del ret, input_activations, input_internal_activations, x_hat\n",
    "                torch.cuda.empty_cache()\n",
    "                    # divide_by = i + 1\n",
    "                    # print(f\"Layer:{cache_name_ind+1} | Original Loss: {original_loss[cache_name_ind]/divide_by:.2f} | Reconstructed Loss: {reconstructed_loss[cache_name_ind]/divide_by:.2f} | Difference: {loss_diff[cache_name_ind]/divide_by:.2f}\")\n",
    "        if(i > max_batches):\n",
    "            break\n",
    "    # Average\n",
    "    try:\n",
    "        del batch, logits\n",
    "        torch.cuda.empty_cache()\n",
    "    except:\n",
    "        pass\n",
    "    reconstructed_loss = [rec_loss/max_batches for rec_loss in reconstructed_loss]\n",
    "    return reconstructed_loss"
   ]
  },
  {
   "cell_type": "code",
   "execution_count": 44,
   "metadata": {},
   "outputs": [
    {
     "name": "stderr",
     "output_type": "stream",
     "text": [
      "  0%|          | 0/138 [00:01<?, ?it/s]\n"
     ]
    },
    {
     "ename": "OutOfMemoryError",
     "evalue": "CUDA out of memory. Tried to allocate 1.54 GiB. GPU 0 has a total capacty of 11.76 GiB of which 518.88 MiB is free. Process 2799169 has 11.24 GiB memory in use. Of the allocated memory 9.64 GiB is allocated by PyTorch, and 1.48 GiB is reserved by PyTorch but unallocated. If reserved but unallocated memory is large try setting max_split_size_mb to avoid fragmentation.  See documentation for Memory Management and PYTORCH_CUDA_ALLOC_CONF",
     "output_type": "error",
     "traceback": [
      "\u001b[0;31m---------------------------------------------------------------------------\u001b[0m",
      "\u001b[0;31mOutOfMemoryError\u001b[0m                          Traceback (most recent call last)",
      "\u001b[1;32m/root/sparse_coding/sparse_weights_mse_CE.ipynb Cell 10\u001b[0m line \u001b[0;36m2\n\u001b[1;32m      <a href='vscode-notebook-cell://ssh-remote%2B199.195.151.121/root/sparse_coding/sparse_weights_mse_CE.ipynb#X36sdnNjb2RlLXJlbW90ZQ%3D%3D?line=0'>1</a>\u001b[0m max_batches \u001b[39m=\u001b[39m \u001b[39m100\u001b[39m\n\u001b[0;32m----> <a href='vscode-notebook-cell://ssh-remote%2B199.195.151.121/root/sparse_coding/sparse_weights_mse_CE.ipynb#X36sdnNjb2RlLXJlbW90ZQ%3D%3D?line=1'>2</a>\u001b[0m sae_loss\u001b[39m=\u001b[39m calculate_cross_entropy_loss(model, \u001b[39m\"\u001b[39;49m\u001b[39msae\u001b[39;49m\u001b[39m\"\u001b[39;49m, mlp_weights, test_dataloader, autoencoders, cache_names, max_batches)\n\u001b[1;32m      <a href='vscode-notebook-cell://ssh-remote%2B199.195.151.121/root/sparse_coding/sparse_weights_mse_CE.ipynb#X36sdnNjb2RlLXJlbW90ZQ%3D%3D?line=2'>3</a>\u001b[0m \u001b[39m# ablated_loss= calculate_cross_entropy_loss(model, \"ablate\", mlp_weights, test_dataloader, autoencoders, cache_names, max_batches)\u001b[39;00m\n\u001b[1;32m      <a href='vscode-notebook-cell://ssh-remote%2B199.195.151.121/root/sparse_coding/sparse_weights_mse_CE.ipynb#X36sdnNjb2RlLXJlbW90ZQ%3D%3D?line=3'>4</a>\u001b[0m \u001b[39m# original_loss = calculate_cross_entropy_loss(model, \"original\", mlp_weights, test_dataloader, autoencoders, cache_names, max_batches)\u001b[39;00m\n\u001b[1;32m      <a href='vscode-notebook-cell://ssh-remote%2B199.195.151.121/root/sparse_coding/sparse_weights_mse_CE.ipynb#X36sdnNjb2RlLXJlbW90ZQ%3D%3D?line=4'>5</a>\u001b[0m \u001b[39m# sparse_loss = calculate_cross_entropy_loss(model, \"sparse_weights\", mlp_weights, test_dataloader, autoencoders, cache_names, max_batches)\u001b[39;00m\n\u001b[1;32m      <a href='vscode-notebook-cell://ssh-remote%2B199.195.151.121/root/sparse_coding/sparse_weights_mse_CE.ipynb#X36sdnNjb2RlLXJlbW90ZQ%3D%3D?line=5'>6</a>\u001b[0m \u001b[39mprint\u001b[39m(\u001b[39mf\u001b[39m\u001b[39m\"\u001b[39m\u001b[39mSAE Loss: \u001b[39m\u001b[39m{\u001b[39;00mnp\u001b[39m.\u001b[39marray(sae_loss)\u001b[39m.\u001b[39mround(\u001b[39m2\u001b[39m)\u001b[39m}\u001b[39;00m\u001b[39m\"\u001b[39m)\n",
      "\u001b[1;32m/root/sparse_coding/sparse_weights_mse_CE.ipynb Cell 10\u001b[0m line \u001b[0;36m5\n\u001b[1;32m     <a href='vscode-notebook-cell://ssh-remote%2B199.195.151.121/root/sparse_coding/sparse_weights_mse_CE.ipynb#X36sdnNjb2RlLXJlbW90ZQ%3D%3D?line=55'>56</a>\u001b[0m \u001b[39mwith\u001b[39;00m Trace(model, output_cache_name, edit_output\u001b[39m=\u001b[39mintervention_function) \u001b[39mas\u001b[39;00m _:\n\u001b[1;32m     <a href='vscode-notebook-cell://ssh-remote%2B199.195.151.121/root/sparse_coding/sparse_weights_mse_CE.ipynb#X36sdnNjb2RlLXJlbW90ZQ%3D%3D?line=56'>57</a>\u001b[0m     logits \u001b[39m=\u001b[39m model(batch)\u001b[39m.\u001b[39mlogits\n\u001b[0;32m---> <a href='vscode-notebook-cell://ssh-remote%2B199.195.151.121/root/sparse_coding/sparse_weights_mse_CE.ipynb#X36sdnNjb2RlLXJlbW90ZQ%3D%3D?line=57'>58</a>\u001b[0m recon_loss \u001b[39m=\u001b[39m cross_entropy(logits, batch)\u001b[39m.\u001b[39mitem()\n\u001b[1;32m     <a href='vscode-notebook-cell://ssh-remote%2B199.195.151.121/root/sparse_coding/sparse_weights_mse_CE.ipynb#X36sdnNjb2RlLXJlbW90ZQ%3D%3D?line=58'>59</a>\u001b[0m reconstructed_loss[cache_name_ind] \u001b[39m+\u001b[39m\u001b[39m=\u001b[39m recon_loss\n\u001b[1;32m     <a href='vscode-notebook-cell://ssh-remote%2B199.195.151.121/root/sparse_coding/sparse_weights_mse_CE.ipynb#X36sdnNjb2RlLXJlbW90ZQ%3D%3D?line=59'>60</a>\u001b[0m \u001b[39m# divide_by = i + 1\u001b[39;00m\n\u001b[1;32m     <a href='vscode-notebook-cell://ssh-remote%2B199.195.151.121/root/sparse_coding/sparse_weights_mse_CE.ipynb#X36sdnNjb2RlLXJlbW90ZQ%3D%3D?line=60'>61</a>\u001b[0m \u001b[39m# print(f\"Layer:{cache_name_ind+1} Reconstructed Loss: {reconstructed_loss[cache_name_ind]/divide_by:.2f} \")\u001b[39;00m\n",
      "\u001b[1;32m/root/sparse_coding/sparse_weights_mse_CE.ipynb Cell 10\u001b[0m line \u001b[0;36m2\n\u001b[1;32m     <a href='vscode-notebook-cell://ssh-remote%2B199.195.151.121/root/sparse_coding/sparse_weights_mse_CE.ipynb#X36sdnNjb2RlLXJlbW90ZQ%3D%3D?line=16'>17</a>\u001b[0m \u001b[39mdef\u001b[39;00m \u001b[39mcross_entropy\u001b[39m(logits, tokens):\n\u001b[1;32m     <a href='vscode-notebook-cell://ssh-remote%2B199.195.151.121/root/sparse_coding/sparse_weights_mse_CE.ipynb#X36sdnNjb2RlLXJlbW90ZQ%3D%3D?line=17'>18</a>\u001b[0m     \u001b[39m# Print amount in gpu\u001b[39;00m\n\u001b[1;32m     <a href='vscode-notebook-cell://ssh-remote%2B199.195.151.121/root/sparse_coding/sparse_weights_mse_CE.ipynb#X36sdnNjb2RlLXJlbW90ZQ%3D%3D?line=18'>19</a>\u001b[0m     \u001b[39m#Ripped from transformer lens library\u001b[39;00m\n\u001b[0;32m---> <a href='vscode-notebook-cell://ssh-remote%2B199.195.151.121/root/sparse_coding/sparse_weights_mse_CE.ipynb#X36sdnNjb2RlLXJlbW90ZQ%3D%3D?line=19'>20</a>\u001b[0m     log_probs \u001b[39m=\u001b[39m F\u001b[39m.\u001b[39;49mlog_softmax(logits, dim\u001b[39m=\u001b[39;49m\u001b[39m-\u001b[39;49m\u001b[39m1\u001b[39;49m)\n\u001b[1;32m     <a href='vscode-notebook-cell://ssh-remote%2B199.195.151.121/root/sparse_coding/sparse_weights_mse_CE.ipynb#X36sdnNjb2RlLXJlbW90ZQ%3D%3D?line=21'>22</a>\u001b[0m     \u001b[39m# Use torch.gather to find the log probs of the correct tokens\u001b[39;00m\n\u001b[1;32m     <a href='vscode-notebook-cell://ssh-remote%2B199.195.151.121/root/sparse_coding/sparse_weights_mse_CE.ipynb#X36sdnNjb2RlLXJlbW90ZQ%3D%3D?line=22'>23</a>\u001b[0m     \u001b[39m# Offsets needed because we're predicting the NEXT token (this means the final logit is meaningless)\u001b[39;00m\n\u001b[1;32m     <a href='vscode-notebook-cell://ssh-remote%2B199.195.151.121/root/sparse_coding/sparse_weights_mse_CE.ipynb#X36sdnNjb2RlLXJlbW90ZQ%3D%3D?line=23'>24</a>\u001b[0m     \u001b[39m# None and [..., 0] needed because the tensor used in gather must have the same rank.\u001b[39;00m\n\u001b[1;32m     <a href='vscode-notebook-cell://ssh-remote%2B199.195.151.121/root/sparse_coding/sparse_weights_mse_CE.ipynb#X36sdnNjb2RlLXJlbW90ZQ%3D%3D?line=24'>25</a>\u001b[0m     predicted_log_probs \u001b[39m=\u001b[39m log_probs[\u001b[39m.\u001b[39m\u001b[39m.\u001b[39m\u001b[39m.\u001b[39m, :\u001b[39m-\u001b[39m\u001b[39m1\u001b[39m, :]\u001b[39m.\u001b[39mgather(\n\u001b[1;32m     <a href='vscode-notebook-cell://ssh-remote%2B199.195.151.121/root/sparse_coding/sparse_weights_mse_CE.ipynb#X36sdnNjb2RlLXJlbW90ZQ%3D%3D?line=25'>26</a>\u001b[0m         dim\u001b[39m=\u001b[39m\u001b[39m-\u001b[39m\u001b[39m1\u001b[39m, index\u001b[39m=\u001b[39mtokens[\u001b[39m.\u001b[39m\u001b[39m.\u001b[39m\u001b[39m.\u001b[39m, \u001b[39m1\u001b[39m:, \u001b[39mNone\u001b[39;00m]\n\u001b[1;32m     <a href='vscode-notebook-cell://ssh-remote%2B199.195.151.121/root/sparse_coding/sparse_weights_mse_CE.ipynb#X36sdnNjb2RlLXJlbW90ZQ%3D%3D?line=26'>27</a>\u001b[0m     )[\u001b[39m.\u001b[39m\u001b[39m.\u001b[39m\u001b[39m.\u001b[39m, \u001b[39m0\u001b[39m]\n",
      "File \u001b[0;32m~/logan/lib/python3.10/site-packages/torch/nn/functional.py:1945\u001b[0m, in \u001b[0;36mlog_softmax\u001b[0;34m(input, dim, _stacklevel, dtype)\u001b[0m\n\u001b[1;32m   1943\u001b[0m     dim \u001b[39m=\u001b[39m _get_softmax_dim(\u001b[39m\"\u001b[39m\u001b[39mlog_softmax\u001b[39m\u001b[39m\"\u001b[39m, \u001b[39minput\u001b[39m\u001b[39m.\u001b[39mdim(), _stacklevel)\n\u001b[1;32m   1944\u001b[0m \u001b[39mif\u001b[39;00m dtype \u001b[39mis\u001b[39;00m \u001b[39mNone\u001b[39;00m:\n\u001b[0;32m-> 1945\u001b[0m     ret \u001b[39m=\u001b[39m \u001b[39minput\u001b[39;49m\u001b[39m.\u001b[39;49mlog_softmax(dim)\n\u001b[1;32m   1946\u001b[0m \u001b[39melse\u001b[39;00m:\n\u001b[1;32m   1947\u001b[0m     ret \u001b[39m=\u001b[39m \u001b[39minput\u001b[39m\u001b[39m.\u001b[39mlog_softmax(dim, dtype\u001b[39m=\u001b[39mdtype)\n",
      "\u001b[0;31mOutOfMemoryError\u001b[0m: CUDA out of memory. Tried to allocate 1.54 GiB. GPU 0 has a total capacty of 11.76 GiB of which 518.88 MiB is free. Process 2799169 has 11.24 GiB memory in use. Of the allocated memory 9.64 GiB is allocated by PyTorch, and 1.48 GiB is reserved by PyTorch but unallocated. If reserved but unallocated memory is large try setting max_split_size_mb to avoid fragmentation.  See documentation for Memory Management and PYTORCH_CUDA_ALLOC_CONF"
     ]
    }
   ],
   "source": [
    "max_batches = 100\n",
    "sae_loss= calculate_cross_entropy_loss(model, \"sae\", mlp_weights, test_dataloader, autoencoders, cache_names, max_batches)\n",
    "# ablated_loss= calculate_cross_entropy_loss(model, \"ablate\", mlp_weights, test_dataloader, autoencoders, cache_names, max_batches)\n",
    "# original_loss = calculate_cross_entropy_loss(model, \"original\", mlp_weights, test_dataloader, autoencoders, cache_names, max_batches)\n",
    "# sparse_loss = calculate_cross_entropy_loss(model, \"sparse_weights\", mlp_weights, test_dataloader, autoencoders, cache_names, max_batches)\n",
    "print(f\"SAE Loss: {np.array(sae_loss).round(2)}\")\n",
    "# print(f\"Ablated Loss: {np.array(ablated_loss).round(2)}\")\n",
    "# print(f\"Original Loss: {np.array(original_loss).round(2)}\")\n",
    "# print(f\"Sparse Loss: {np.array(sparse_loss).round(2)}\"), sparse_loss"
   ]
  },
  {
   "cell_type": "code",
   "execution_count": 33,
   "metadata": {},
   "outputs": [
    {
     "data": {
      "text/plain": [
       "(array([[1., 0., 0.],\n",
       "        [1., 0., 0.],\n",
       "        [1., 0., 0.],\n",
       "        [1., 0., 0.],\n",
       "        [1., 0., 0.]]),\n",
       " [1, 1, 1, 1, 1])"
      ]
     },
     "execution_count": 33,
     "metadata": {},
     "output_type": "execute_result"
    }
   ],
   "source": [
    "a = np.zeros((num_layers, 3))\n",
    "b = [1]*num_layers\n",
    "# assign the first num_layers in a to b\n",
    "a[:, 0] = b\n",
    "a, b"
   ]
  },
  {
   "cell_type": "code",
   "execution_count": 26,
   "metadata": {},
   "outputs": [
    {
     "name": "stderr",
     "output_type": "stream",
     "text": [
      "  0%|          | 0/1234 [00:00<?, ?it/s]"
     ]
    },
    {
     "name": "stdout",
     "output_type": "stream",
     "text": [
      "Layers: 0 | MSE Loss: 0.0035245150793343782 | L1 Loss: 26.32503318786621\n",
      "Layers: 1 | MSE Loss: 0.04229045286774635 | L1 Loss: 27.799665451049805\n",
      "Layers: 2 | MSE Loss: 0.011477219872176647 | L1 Loss: 28.413433074951172\n",
      "Layers: 3 | MSE Loss: 0.02035048045217991 | L1 Loss: 28.71422576904297\n",
      "Layers: 4 | MSE Loss: 2.411552667617798 | L1 Loss: 32.78802490234375\n"
     ]
    },
    {
     "name": "stderr",
     "output_type": "stream",
     "text": [
      " 15%|█▌        | 21/138 [00:39<03:38,  1.87s/it]\n",
      "  0%|          | 1/1234 [00:41<14:20:14, 41.86s/it]"
     ]
    },
    {
     "name": "stdout",
     "output_type": "stream",
     "text": [
      "Failed to delete batch\n",
      "Layers: 0 | MSE Loss: 0.0034442057367414236 | L1 Loss: 26.300086975097656\n",
      "Layers: 1 | MSE Loss: 0.038861971348524094 | L1 Loss: 27.912710189819336\n",
      "Layers: 2 | MSE Loss: 0.010576254688203335 | L1 Loss: 28.5341854095459\n",
      "Layers: 3 | MSE Loss: 0.01786251924932003 | L1 Loss: 28.844968795776367\n",
      "Layers: 4 | MSE Loss: 2.3519036769866943 | L1 Loss: 33.5914306640625\n"
     ]
    },
    {
     "name": "stderr",
     "output_type": "stream",
     "text": [
      " 15%|█▌        | 21/138 [00:39<03:38,  1.87s/it]\n",
      "  0%|          | 2/1234 [01:22<14:00:36, 40.94s/it]"
     ]
    },
    {
     "name": "stdout",
     "output_type": "stream",
     "text": [
      "Failed to delete batch\n",
      "Layers: 0 | MSE Loss: 0.003487267764285207 | L1 Loss: 26.283554077148438\n",
      "Layers: 1 | MSE Loss: 0.03541006147861481 | L1 Loss: 28.042861938476562\n",
      "Layers: 2 | MSE Loss: 0.01059369370341301 | L1 Loss: 28.65511703491211\n",
      "Layers: 3 | MSE Loss: 0.017537061125040054 | L1 Loss: 28.97562026977539\n",
      "Layers: 4 | MSE Loss: 2.197608470916748 | L1 Loss: 34.45584487915039\n"
     ]
    },
    {
     "name": "stderr",
     "output_type": "stream",
     "text": [
      " 15%|█▌        | 21/138 [00:39<03:38,  1.87s/it]\n",
      "  0%|          | 3/1234 [02:02<13:54:51, 40.69s/it]"
     ]
    },
    {
     "name": "stdout",
     "output_type": "stream",
     "text": [
      "Failed to delete batch\n"
     ]
    },
    {
     "name": "stderr",
     "output_type": "stream",
     "text": [
      "  0%|          | 4/1234 [02:03<8:33:20, 25.04s/it] "
     ]
    },
    {
     "name": "stdout",
     "output_type": "stream",
     "text": [
      "Layers: 0 | MSE Loss: 0.0030550076626241207 | L1 Loss: 26.283851623535156\n",
      "Layers: 1 | MSE Loss: 0.03115616925060749 | L1 Loss: 28.354595184326172\n",
      "Layers: 2 | MSE Loss: 0.009423179551959038 | L1 Loss: 28.885610580444336\n",
      "Layers: 3 | MSE Loss: 0.016455650329589844 | L1 Loss: 29.23208999633789\n",
      "Layers: 4 | MSE Loss: 1.8405691385269165 | L1 Loss: 36.36079406738281\n"
     ]
    },
    {
     "name": "stderr",
     "output_type": "stream",
     "text": [
      " 15%|█▌        | 21/138 [00:40<03:43,  1.91s/it]\n",
      "  0%|          | 5/1234 [02:44<10:31:58, 30.85s/it]"
     ]
    },
    {
     "name": "stdout",
     "output_type": "stream",
     "text": [
      "Failed to delete batch\n"
     ]
    },
    {
     "name": "stderr",
     "output_type": "stream",
     "text": [
      "  1%|          | 8/1234 [02:47<3:26:07, 10.09s/it] "
     ]
    },
    {
     "name": "stdout",
     "output_type": "stream",
     "text": [
      "Layers: 0 | MSE Loss: 0.003020644187927246 | L1 Loss: 26.418455123901367\n",
      "Layers: 1 | MSE Loss: 0.022153012454509735 | L1 Loss: 29.25360679626465\n",
      "Layers: 2 | MSE Loss: 0.008525079116225243 | L1 Loss: 29.3341121673584\n",
      "Layers: 3 | MSE Loss: 0.013160641305148602 | L1 Loss: 29.740371704101562\n",
      "Layers: 4 | MSE Loss: 1.2306838035583496 | L1 Loss: 40.83501052856445\n"
     ]
    },
    {
     "name": "stderr",
     "output_type": "stream",
     "text": [
      " 15%|█▌        | 21/138 [00:41<03:49,  1.96s/it]\n",
      "  1%|          | 9/1234 [03:30<6:51:22, 20.15s/it]"
     ]
    },
    {
     "name": "stdout",
     "output_type": "stream",
     "text": [
      "Failed to delete batch\n"
     ]
    },
    {
     "name": "stderr",
     "output_type": "stream",
     "text": [
      "  1%|▏         | 16/1234 [03:37<52:29,  2.59s/it]  "
     ]
    },
    {
     "name": "stdout",
     "output_type": "stream",
     "text": [
      "Layers: 0 | MSE Loss: 0.0024454055819660425 | L1 Loss: 26.963470458984375\n",
      "Layers: 1 | MSE Loss: 0.009690405800938606 | L1 Loss: 31.544729232788086\n",
      "Layers: 2 | MSE Loss: 0.00683040264993906 | L1 Loss: 30.22693634033203\n",
      "Layers: 3 | MSE Loss: 0.010060451924800873 | L1 Loss: 30.835769653320312\n",
      "Layers: 4 | MSE Loss: 0.46292397379875183 | L1 Loss: 49.55202865600586\n"
     ]
    },
    {
     "name": "stderr",
     "output_type": "stream",
     "text": [
      " 15%|█▌        | 21/138 [00:41<03:52,  1.98s/it]\n",
      "  1%|▏         | 17/1234 [04:20<4:57:46, 14.68s/it]"
     ]
    },
    {
     "name": "stdout",
     "output_type": "stream",
     "text": [
      "Failed to delete batch\n"
     ]
    },
    {
     "name": "stderr",
     "output_type": "stream",
     "text": [
      "  3%|▎         | 32/1234 [04:36<22:58,  1.15s/it]  "
     ]
    },
    {
     "name": "stdout",
     "output_type": "stream",
     "text": [
      "Layers: 0 | MSE Loss: 0.0018937926506623626 | L1 Loss: 28.143077850341797\n",
      "Layers: 1 | MSE Loss: 0.006358506623655558 | L1 Loss: 35.425045013427734\n",
      "Layers: 2 | MSE Loss: 0.0053616599179804325 | L1 Loss: 31.937862396240234\n",
      "Layers: 3 | MSE Loss: 0.00788881815969944 | L1 Loss: 32.86241912841797\n",
      "Layers: 4 | MSE Loss: 0.2462477684020996 | L1 Loss: 52.636207580566406\n"
     ]
    },
    {
     "name": "stderr",
     "output_type": "stream",
     "text": [
      " 15%|█▌        | 21/138 [00:42<03:54,  2.00s/it]\n",
      "  3%|▎         | 33/1234 [05:19<4:35:16, 13.75s/it]"
     ]
    },
    {
     "name": "stdout",
     "output_type": "stream",
     "text": [
      "Failed to delete batch\n"
     ]
    },
    {
     "name": "stderr",
     "output_type": "stream",
     "text": [
      "  3%|▎         | 33/1234 [05:21<3:14:44,  9.73s/it]\n"
     ]
    }
   ],
   "source": [
    "def train_sparse_model_and_check_CE(model, dataset, device, sparse_weights, autoencoders, cache_names, optimizers, test_dataloader):\n",
    "    mse = nn.MSELoss()\n",
    "    losses = [[] for _ in range(len(sparse_weights))]\n",
    "    max_batches_for_ce = 20\n",
    "    max_training_batches = 32\n",
    "    check_ce_every = [0] + [2**ch for ch in range(int(np.log2(max_training_batches))+1)]\n",
    "    ce_losses = np.zeros((num_layers, len(check_ce_every)))\n",
    "    current_mse_losses = np.zeros((num_layers, len(check_ce_every)))\n",
    "\n",
    "    for i, batch in enumerate(tqdm(dataset)):\n",
    "        batch = batch[\"input_ids\"].to(device)\n",
    "        with torch.no_grad():\n",
    "            with TraceDict(model, cache_names) as ret:\n",
    "                _ = model(batch)\n",
    "        \n",
    "        for cache_name_ind in range(len(cache_names) // 2):\n",
    "            sparse_weight = sparse_weights[cache_name_ind]\n",
    "\n",
    "            input_cache_name = cache_names[cache_name_ind * 2]\n",
    "            output_cache_name = cache_names[cache_name_ind * 2 + 1]\n",
    "            input_autoencoder = autoencoders[cache_name_ind * 2]\n",
    "            output_autoencoder = autoencoders[cache_name_ind * 2 + 1]\n",
    "            input_activations = ret[input_cache_name].output\n",
    "            output_activations = ret[output_cache_name].output\n",
    "\n",
    "            if isinstance(input_activations, tuple):\n",
    "                input_activations = input_activations[0]\n",
    "            if isinstance(output_activations, tuple):\n",
    "                output_activations = output_activations[0]\n",
    "\n",
    "            input_internal_activations = rearrange(input_activations, \"b s n -> (b s) n\")\n",
    "            output_internal_activations = rearrange(output_activations, \"b s n -> (b s) n\")\n",
    "\n",
    "            input_internal_activations = input_autoencoder.encode(input_internal_activations)\n",
    "            output_internal_activations = output_autoencoder.encode(output_internal_activations)\n",
    "\n",
    "            x_hat = sparse_weights[cache_name_ind](input_internal_activations)\n",
    "\n",
    "            # loss = mse(x_hat, output_internal_activations)\n",
    "            current_alive_features_ind = alive_features_ind[cache_name_ind].nonzero(as_tuple=True)[0]\n",
    "            indexed_x_hat = x_hat.index_select(dim=1, index=current_alive_features_ind.to(device))\n",
    "            indexed_output_internal_activations = output_internal_activations.index_select(dim=1, index=current_alive_features_ind.to(device))\n",
    "            loss = mse(indexed_x_hat, indexed_output_internal_activations)\n",
    "            l1_loss = torch.norm(sparse_weight.linear.weight, dim=1, p=1).mean()\n",
    "            # loss += l1_alpha * l1_loss\n",
    "\n",
    "            loss.backward()\n",
    "            optimizers[cache_name_ind].step()\n",
    "            optimizers[cache_name_ind].zero_grad()\n",
    "            losses[cache_name_ind].append(loss.item())\n",
    "            if i in check_ce_every:\n",
    "                print(f\"Layers: {cache_name_ind} | MSE Loss: {loss.item()} | L1 Loss: {l1_loss.item()}\")\n",
    "        if i in check_ce_every:\n",
    "            index = check_ce_every.index(i)\n",
    "            ce_losses[:, index] = calculate_cross_entropy_loss(model, \"sparse_weights\", mlp_weights, test_dataloader, autoencoders, cache_names, max_batches_for_ce)\n",
    "            # for losses_layer in losses:\n",
    "            #     current_mse_losses[:, index] = losses_layer[-1]\n",
    "            # change above to enumerate\n",
    "            for loss_ind, losses_layer in enumerate(losses):\n",
    "                current_mse_losses[loss_ind, index] = losses_layer[-1]\n",
    "        if i > max_training_batches:\n",
    "            # Stop training after 1000 batches\n",
    "            break\n",
    "    return losses, ce_losses, current_mse_losses\n",
    "\n",
    "mlp_losses, ce_losses, current_mse_losses = train_sparse_model_and_check_CE(model, train_dataloader, device, mlp_weights, autoencoders, cache_names, mlp_optimizers, test_dataloader)"
   ]
  },
  {
   "cell_type": "code",
   "execution_count": 13,
   "metadata": {},
   "outputs": [
    {
     "data": {
      "text/plain": [
       "(array([[17.51402569, 17.83579779, 17.92674923, 16.55920839, 17.24656582],\n",
       "        [16.76214933, 17.1236558 , 17.09464455, 15.90950537, 16.49893951],\n",
       "        [18.79931641, 17.43049192, 17.38503742, 16.18795967, 17.30828142],\n",
       "        [17.89380693, 17.79901743, 17.75995731, 16.63832045, 17.34812117],\n",
       "        [26.28217793, 23.92018318, 23.79368687, 22.53576088, 23.34414482]]),\n",
       " array([[3.35471964, 3.30281377, 3.2831161 , 3.00685072, 2.6922009 ],\n",
       "        [3.35471964, 3.30281377, 3.2831161 , 3.00685072, 2.6922009 ],\n",
       "        [3.35471964, 3.30281377, 3.2831161 , 3.00685072, 2.6922009 ],\n",
       "        [3.35471964, 3.30281377, 3.2831161 , 3.00685072, 2.6922009 ],\n",
       "        [3.35471964, 3.30281377, 3.2831161 , 3.00685072, 2.6922009 ]]))"
      ]
     },
     "execution_count": 13,
     "metadata": {},
     "output_type": "execute_result"
    }
   ],
   "source": [
    "sae_loss = [5.22, 18.51, 24.61, 28.82, 31.18]\n",
    "ablated_loss = [5.76, 5.56, 5.84, 5.97, 8.34]\n",
    "original_loss = [4.97, 0.0, 0.0, 0.0, 0.0]\n",
    "ce_losses.shape [5, 32]\n",
    "current_mse_losses.shape [5, 32]"
   ]
  },
  {
   "cell_type": "code",
   "execution_count": 36,
   "metadata": {},
   "outputs": [
    {
     "data": {
      "image/png": "[encoded data removed]",
      "text/plain": [
       "<Figure size 1200x600 with 1 Axes>"
      ]
     },
     "metadata": {},
     "output_type": "display_data"
    }
   ],
   "source": [
    "import matplotlib.pyplot as plt\n",
    "import numpy as np\n",
    "\n",
    "# Data\n",
    "sae_loss = [5.22, 18.51, 24.61, 28.82, 31.18]\n",
    "ablated_loss = [5.76, 5.56, 5.84, 5.97, 8.34]\n",
    "original_loss = [4.97, 0.0, 0.0, 0.0, 0.0]\n",
    "\n",
    "# Simulated data for ce_losses and current_mse_losses\n",
    "# Replace these with your actual data\n",
    "\n",
    "# Colors for each set of lines\n",
    "colors = ['green', 'blue', 'red', 'purple', 'orange']\n",
    "# Adjusting the plot to have horizontal lines and setting x-positions based on current_mse_losses\n",
    "\n",
    "plt.figure(figsize=(12, 6))\n",
    "# plot_num_layers = num_layers\n",
    "plot_num_layers = 2\n",
    "# Plot SAE, Ablated, and Original Loss\n",
    "min_mse = np.min(current_mse_losses)\n",
    "max_mse = np.max(current_mse_losses)\n",
    "for i in range(plot_num_layers):\n",
    "    # Find min and max values for current MSE losses for each layer\n",
    "\n",
    "    # Plot horizontal lines for SAE and Ablated Loss\n",
    "    plt.hlines(sae_loss[i], xmin=min_mse, xmax=max_mse, linestyle=':', color=colors[i], label=f'SAE Loss Layer {i+1}' if i==0 else '')\n",
    "    plt.hlines(ablated_loss[i], xmin=min_mse, xmax=max_mse, linestyle='--', color=colors[i], label=f'Ablated Loss Layer {i+1}' if i==0 else '')\n",
    "\n",
    "# Plot Original Loss (only first entry)\n",
    "plt.hlines(original_loss[0], xmin=np.min(current_mse_losses), xmax=np.max(current_mse_losses), linestyle=':', color='black', label='Original Loss')\n",
    "\n",
    "# Plot CE Losses vs MSE Losses\n",
    "for i in range(plot_num_layers):\n",
    "    plt.plot(current_mse_losses[i], ce_losses[i], linestyle='-', color=colors[i], alpha=0.6, label=f'Layer {i+1} MSE vs CE')\n",
    "\n",
    "plt.xlabel('MSE Loss')\n",
    "plt.ylabel('Loss Value')\n",
    "plt.title('Loss Comparison Across Layers')\n",
    "# put x on logscale\n",
    "plt.xscale('log')\n",
    "plt.legend()\n",
    "plt.show()"
   ]
  },
  {
   "cell_type": "code",
   "execution_count": 35,
   "metadata": {},
   "outputs": [
    {
     "data": {
      "text/plain": [
       "(0.0018937926506623626,\n",
       " array([[6.18211966, 6.02914603, 6.06314085, 6.11263404, 5.93586223,\n",
       "         5.96935236, 5.91859512],\n",
       "        [5.9111654 , 5.71812823, 5.84754496, 5.96049926, 5.80268402,\n",
       "         5.93351719, 5.92058692],\n",
       "        [6.12032082, 5.91634316, 6.62616775, 6.46899774, 6.77417388,\n",
       "         6.09019868, 6.08603463],\n",
       "        [6.176105  , 6.03067589, 6.28820269, 6.33069973, 6.14223993,\n",
       "         6.13182864, 6.09218993],\n",
       "        [8.12382634, 7.91630123, 8.8269937 , 8.43445196, 9.0053581 ,\n",
       "         7.81682587, 7.65184128]]))"
      ]
     },
     "execution_count": 35,
     "metadata": {},
     "output_type": "execute_result"
    }
   ],
   "source": [
    "current_mse_losses.min(), ce_losses"
   ]
  },
  {
   "cell_type": "code",
   "execution_count": 28,
   "metadata": {},
   "outputs": [
    {
     "data": {
      "image/png": "[encoded data removed]",
      "text/plain": [
       "<Figure size 1200x600 with 1 Axes>"
      ]
     },
     "metadata": {},
     "output_type": "display_data"
    }
   ],
   "source": [
    "# Adjusting the plot to have horizontal lines and setting x-positions based on current_mse_losses\n",
    "\n",
    "plt.figure(figsize=(12, 6))\n",
    "\n",
    "# Plot SAE, Ablated, and Original Loss\n",
    "for i in range(5):\n",
    "    # Find min and max values for current MSE losses for each layer\n",
    "    min_mse = np.min(current_mse_losses[i])\n",
    "    max_mse = np.max(current_mse_losses[i])\n",
    "\n",
    "    # Plot horizontal lines for SAE and Ablated Loss\n",
    "    plt.hlines(sae_loss[i], xmin=min_mse, xmax=max_mse, linestyle=':', color=colors[i], label=f'SAE Loss Layer {i+1}' if i==0 else '')\n",
    "    plt.hlines(ablated_loss[i], xmin=min_mse, xmax=max_mse, linestyle='--', color=colors[i], label=f'Ablated Loss Layer {i+1}' if i==0 else '')\n",
    "\n",
    "# Plot Original Loss (only first entry)\n",
    "plt.hlines(original_loss[0], xmin=np.min(current_mse_losses), xmax=np.max(current_mse_losses), linestyle=':', color='black', label='Original Loss')\n",
    "\n",
    "# Plot CE Losses vs MSE Losses\n",
    "for i in range(5):\n",
    "    plt.plot(current_mse_losses[i], ce_losses[i], linestyle='-', color=colors[i], alpha=0.6, label=f'Layer {i+1} MSE vs CE')\n",
    "\n",
    "plt.xlabel('MSE Loss')\n",
    "plt.ylabel('Loss Value')\n",
    "plt.title('Loss Comparison Across Layers')\n",
    "plt.legend()\n",
    "plt.show()\n",
    "\n"
   ]
  }
 ],
 "metadata": {
  "kernelspec": {
   "display_name": "logan",
   "language": "python",
   "name": "python3"
  },
  "language_info": {
   "codemirror_mode": {
    "name": "ipython",
    "version": 3
   },
   "file_extension": ".py",
   "mimetype": "text/x-python",
   "name": "python",
   "nbconvert_exporter": "python",
   "pygments_lexer": "ipython3",
   "version": "3.10.13"
  }
 },
 "nbformat": 4,
 "nbformat_minor": 2
}
