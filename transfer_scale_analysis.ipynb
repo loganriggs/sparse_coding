{
 "cells": [
  {
   "cell_type": "code",
   "execution_count": null,
   "metadata": {},
   "outputs": [],
   "source": [
    "import torch \n",
    "import argparse\n",
    "from utils import dotdict\n",
    "from activation_dataset import setup_token_data\n",
    "import wandb\n",
    "import json\n",
    "from datetime import datetime\n",
    "from tqdm import tqdm\n",
    "from einops import rearrange\n",
    "import matplotlib.pyplot as plt\n",
    "\n",
    "cfg = dotdict()\n",
    "# models: \"EleutherAI/pythia-70m-deduped\", \"EleutherAI/pythia-6.9b\", \"usvsnsp/pythia-6.9b-ppo\", \"lomahony/eleuther-pythia6.9b-hh-sft\", \"reciprocate/dahoas-gptj-rm-static\"\n",
    "cfg.model_name=\"EleutherAI/pythia-6.9b\"\n",
    "cfg.target_name=\"lomahony/eleuther-pythia6.9b-hh-sft\"\n",
    "cfg.layers=[10]\n",
    "cfg.setting=\"residual\"\n",
    "# cfg.tensor_name=\"gpt_neox.layers.{layer}\"\n",
    "cfg.tensor_name=\"transformer.h.{layer}\"\n",
    "cfg.target_tensor_name=\"gpt_neox.layers.{layer}\"\n",
    "original_l1_alpha = 8e-4\n",
    "cfg.l1_alpha=original_l1_alpha\n",
    "cfg.sparsity=None\n",
    "cfg.num_epochs=10\n",
    "cfg.model_batch_size=8\n",
    "cfg.lr=1e-3\n",
    "cfg.kl=False\n",
    "cfg.reconstruction=False\n",
    "# cfg.dataset_name=\"NeelNanda/pile-10k\"\n",
    "cfg.dataset_name=\"Elriggs/openwebtext-100k\"\n",
    "cfg.device=\"cuda:0\"\n",
    "cfg.ratio = 4\n",
    "cfg.seed = 0\n",
    "# cfg.device=\"cpu\""
   ]
  },
  {
   "cell_type": "code",
   "execution_count": null,
   "metadata": {},
   "outputs": [],
   "source": [
    "base_name = \"rm\"  # base, rm\n",
    "capitalized_base_name = \"RM\" # Base, RM\n",
    "target_name = \"ppo\"  # sft, ppo\n",
    "finetuning_type = \"RLHF\"  # SFT, RLHF\n"
   ]
  },
  {
   "cell_type": "code",
   "execution_count": null,
   "metadata": {},
   "outputs": [],
   "source": [
    "tensor_names = [cfg.tensor_name.format(layer=layer) for layer in cfg.layers]\n",
    "target_tensor_names = [cfg.target_tensor_name.format(layer=layer) for layer in cfg.layers]"
   ]
  },
  {
   "cell_type": "code",
   "execution_count": null,
   "metadata": {},
   "outputs": [],
   "source": [
    "# Load base and target autoencoders\n",
    "from autoencoders.learned_dict import TiedSAE, UntiedSAE, AnthropicSAE, TransferSAE\n",
    "from torch import nn\n",
    "\n",
    "\n",
    "# save_name = f\"rm_sae_gptj\" if base_name==\"rm\" else f\"base_sae_6b\"  # trim year\n",
    "# autoencoder = torch.load(f\"trained_models/{save_name}.pt\")\n",
    "# print(f\"autoencoder loaded from {save_name}\")\n",
    "# autoencoder.to_device(cfg.device)\n",
    "\n",
    "# save_name = f\"ppo_sae_6b\" if target_name==\"ppo\" else f\"sft_sae_6b\"\n",
    "# target_autoencoder = torch.load(f\"trained_models/{save_name}.pt\")\n",
    "# print(f\"target_autoencoder loaded from {save_name}\")\n",
    "# target_autoencoder.to_device(cfg.device)\n"
   ]
  },
  {
   "cell_type": "code",
   "execution_count": null,
   "metadata": {},
   "outputs": [],
   "source": [
    "# Initialize New transfer autoencoder\n",
    "# from autoencoders.learned_dict import TiedSAE, UntiedSAE, AnthropicSAE, TransferSAE\n",
    "from torch import nn\n",
    "\n",
    "modes = [\"scale\", \"rotation\", \"bias\", \"free\"]\n",
    "mode = \"free\"\n",
    "\n",
    "mode_tsae = torch.load(f\"trained_models/transfer_{base_name}_{target_name}_6b_{mode}.pt\")\n",
    "mode_tsae.to_device(cfg.device)\n",
    "\n"
   ]
  },
  {
   "cell_type": "code",
   "execution_count": null,
   "metadata": {},
   "outputs": [],
   "source": [
    "dead_features = torch.load(f\"trained_models/{base_name}_dead_features.pt\")\n",
    "live_features = dead_features > 0"
   ]
  },
  {
   "cell_type": "code",
   "execution_count": null,
   "metadata": {},
   "outputs": [],
   "source": [
    "import matplotlib.pyplot as plt\n",
    "scales = mode_tsae.get_feature_scales()[live_features]\n",
    "# feature_vectors = transfer_free.get_learned_dict()[live_features]\n",
    "list_scales = list(scales.abs().detach().cpu().numpy())\n",
    "print(sorted(list_scales))\n",
    "# plt.plot(scales.detach().cpu().numpy())"
   ]
  },
  {
   "cell_type": "code",
   "execution_count": null,
   "metadata": {},
   "outputs": [],
   "source": [
    "plt.plot(sorted(list_scales))\n",
    "plt.title(f\"Feature Scaling from {capitalized_base_name} to {finetuning_type}'d LLM\")\n",
    "plt.xlabel(\"Feature\")\n",
    "plt.savefig(f\"feature_scaling_{base_name}_{target_name}_{mode}\")"
   ]
  }
 ],
 "metadata": {
  "kernelspec": {
   "display_name": "logan",
   "language": "python",
   "name": "python3"
  },
  "language_info": {
   "codemirror_mode": {
    "name": "ipython",
    "version": 3
   },
   "file_extension": ".py",
   "mimetype": "text/x-python",
   "name": "python",
   "nbconvert_exporter": "python",
   "pygments_lexer": "ipython3",
   "version": "3.10.13"
  },
  "orig_nbformat": 4
 },
 "nbformat": 4,
 "nbformat_minor": 2
}
