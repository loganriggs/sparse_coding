{
 "cells": [
  {
   "cell_type": "code",
   "execution_count": null,
   "metadata": {},
   "outputs": [],
   "source": [
    "import torch \n",
    "import argparse\n",
    "from utils import dotdict\n",
    "from activation_dataset import setup_token_data\n",
    "import wandb\n",
    "import json\n",
    "from datetime import datetime\n",
    "from tqdm import tqdm\n",
    "from einops import rearrange\n",
    "import matplotlib.pyplot as plt\n",
    "\n",
    "cfg = dotdict()\n",
    "# models: \"EleutherAI/pythia-70m-deduped\", \"EleutherAI/pythia-6.9b\", \"usvsnsp/pythia-6.9b-ppo\", \"lomahony/eleuther-pythia6.9b-hh-sft\", \"reciprocate/dahoas-gptj-rm-static\"\n",
    "cfg.target_name=\"EleutherAI/pythia-70m\"\n",
    "cfg.model_name=\"lomahony/pythia-70m-helpful-sft\"\n",
    "cfg.layers=[4]\n",
    "cfg.setting=\"residual\"\n",
    "# cfg.tensor_name=\"gpt_neox.layers.{layer}\" or \"transformer.h.{layer}\"\n",
    "cfg.tensor_name=\"gpt_neox.layers.{layer}\"\n",
    "cfg.target_tensor_name=\"gpt_neox.layers.{layer}\"\n",
    "original_l1_alpha = 8e-4\n",
    "cfg.l1_alpha=original_l1_alpha\n",
    "cfg.sparsity=None\n",
    "cfg.num_epochs=10\n",
    "cfg.model_batch_size=8\n",
    "cfg.lr=1e-3\n",
    "cfg.kl=False\n",
    "cfg.reconstruction=False\n",
    "# cfg.dataset_name=\"NeelNanda/pile-10k\"\n",
    "cfg.dataset_name=\"Elriggs/openwebtext-100k\"\n",
    "cfg.device=\"cuda:0\"\n",
    "cfg.ratio = 4\n",
    "cfg.seed = 0\n",
    "# cfg.device=\"cpu\""
   ]
  },
  {
   "cell_type": "code",
   "execution_count": null,
   "metadata": {},
   "outputs": [],
   "source": [
    "base_name = \"sft\"  # base, rm\n",
    "capitalized_base_name = \"SFT'd\" # Base, RM, SFT'd\n",
    "target_name = \"base\"  # sft, ppo\n",
    "finetuning_type = \"Base\"  # SFT'd, RLHF'd\n",
    "\n",
    "# base_name = \"base\"  # base, rm\n",
    "# capitalized_base_name = \"Base\" # Base, RM, SFT'd\n",
    "# target_name = \"sft\"  # sft, ppo\n",
    "# finetuning_type = \"SFT'd\"  # SFT'd, RLHF'd\n"
   ]
  },
  {
   "cell_type": "code",
   "execution_count": null,
   "metadata": {},
   "outputs": [],
   "source": [
    "tensor_names = [cfg.tensor_name.format(layer=layer) for layer in cfg.layers]\n",
    "target_tensor_names = [cfg.target_tensor_name.format(layer=layer) for layer in cfg.layers]"
   ]
  },
  {
   "cell_type": "code",
   "execution_count": null,
   "metadata": {},
   "outputs": [],
   "source": [
    "# Initialize New transfer autoencoder\n",
    "# from autoencoders.learned_dict import TiedSAE, UntiedSAE, AnthropicSAE, TransferSAE\n",
    "from torch import nn\n",
    "\n",
    "modes = [\"scale\", \"rotation\", \"bias\", \"free\"]\n",
    "mode = \"free\"\n",
    "\n",
    "mode_tsae = torch.load(f\"trained_models/transfer_{base_name}_{target_name}_70m_{mode}.pt\")\n",
    "mode_tsae.to_device(cfg.device)\n",
    "\n"
   ]
  },
  {
   "cell_type": "code",
   "execution_count": null,
   "metadata": {},
   "outputs": [],
   "source": [
    "dead_features = torch.load(f\"trained_models/{base_name}_dead_features_70m.pt\")\n",
    "live_features = dead_features > 10"
   ]
  },
  {
   "cell_type": "code",
   "execution_count": null,
   "metadata": {},
   "outputs": [],
   "source": [
    "live_features.sum()"
   ]
  },
  {
   "cell_type": "code",
   "execution_count": null,
   "metadata": {},
   "outputs": [],
   "source": [
    "import matplotlib.pyplot as plt\n",
    "scales = mode_tsae.get_feature_scales()[live_features]\n",
    "# feature_vectors = transfer_free.get_learned_dict()[live_features]\n",
    "list_scales = list(scales.abs().detach().cpu().numpy())\n",
    "print(sorted(list_scales))\n",
    "# plt.plot(scales.detach().cpu().numpy())"
   ]
  },
  {
   "cell_type": "code",
   "execution_count": null,
   "metadata": {},
   "outputs": [],
   "source": [
    "plt.plot(sorted(list_scales))\n",
    "plt.title(f\"Feature Scaling from {capitalized_base_name} to {finetuning_type} 70m LLM\")\n",
    "plt.xlabel(\"Feature\")\n",
    "plt.savefig(f\"feature_scaling_{base_name}_{target_name}_{mode}_70m\")"
   ]
  },
  {
   "cell_type": "code",
   "execution_count": null,
   "metadata": {},
   "outputs": [],
   "source": [
    "dead_features[live_features]"
   ]
  },
  {
   "cell_type": "code",
   "execution_count": null,
   "metadata": {},
   "outputs": [],
   "source": [
    "plt.scatter(dead_features[live_features].log10(), list_scales, s=5)\n",
    "plt.title(f\"Feature Scaling from {capitalized_base_name} to {finetuning_type} 70m LLM vs Activations\")\n",
    "plt.xlabel(\"Log10 of Total Feature Activations\")\n",
    "plt.ylabel(\"Feature Scaling\")\n",
    "plt.savefig(f\"feature_scaling_vs_activations_{base_name}_{target_name}_{mode}_70m\")"
   ]
  },
  {
   "cell_type": "code",
   "execution_count": null,
   "metadata": {},
   "outputs": [],
   "source": [
    "(sorted(list(dead_features[live_features])))"
   ]
  },
  {
   "cell_type": "code",
   "execution_count": null,
   "metadata": {},
   "outputs": [],
   "source": []
  }
 ],
 "metadata": {
  "kernelspec": {
   "display_name": "logan",
   "language": "python",
   "name": "python3"
  },
  "language_info": {
   "codemirror_mode": {
    "name": "ipython",
    "version": 3
   },
   "file_extension": ".py",
   "mimetype": "text/x-python",
   "name": "python",
   "nbconvert_exporter": "python",
   "pygments_lexer": "ipython3",
   "version": "3.10.13"
  },
  "orig_nbformat": 4
 },
 "nbformat": 4,
 "nbformat_minor": 2
}
