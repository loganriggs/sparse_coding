{
 "cells": [
  {
   "cell_type": "code",
   "execution_count": null,
   "metadata": {},
   "outputs": [],
   "source": [
    "import torch\n",
    "from matplotlib import pyplot as plt"
   ]
  },
  {
   "cell_type": "code",
   "execution_count": null,
   "metadata": {},
   "outputs": [],
   "source": [
    "def av_norm(p, dim=512, std=1):\n",
    "    batch = torch.randn((1000, dim)) * std\n",
    "    norm = batch.norm(p=p, dim=-1)\n",
    "    return norm.mean()"
   ]
  },
  {
   "cell_type": "code",
   "execution_count": null,
   "metadata": {},
   "outputs": [],
   "source": [
    "ps = torch.arange(0,1,0.01)\n",
    "dims = [100,200,300,400,500]\n",
    "av_norms = torch.zeros((len(ps),len(dims)), dtype=torch.float32)\n",
    "\n",
    "for p_id, p in enumerate(ps):\n",
    "    for dim_id, dim in enumerate(dims):\n",
    "        av_norms[p_id, dim_id] = av_norm(p=p, dim=dim)"
   ]
  },
  {
   "cell_type": "code",
   "execution_count": null,
   "metadata": {},
   "outputs": [],
   "source": [
    "plt.plot(ps.numpy(), av_norms[:,0].log10(), label=\"Log10(Lp norm)\")\n",
    "plt.plot(ps.numpy(), (2/ps).numpy(), label=\"Log10(dim)/p\")\n",
    "plt.title(\"Average Lp norm\")\n",
    "# plt.ylabel(\"Log10 Average Norm\")\n",
    "plt.xlabel(\"p\")\n",
    "plt.xlim((0.04,1))\n",
    "plt.ylim((0,40))\n",
    "plt.legend()\n"
   ]
  },
  {
   "cell_type": "code",
   "execution_count": null,
   "metadata": {},
   "outputs": [],
   "source": [
    "\n",
    "# use either sim_conc_cosim or sim_conc_co_occur\n",
    "# plt.imshow(sim_conc_cosim[...,0]) #.mean(dim=-1))\n",
    "plt.imshow(av_norms)\n",
    "plt.colorbar()\n",
    "plt.xlabel(\"Lp Coefficient\")\n",
    "plt.ylabel(\"p norm\")\n",
    "plt.title(\"MMCS\")\n",
    "\n",
    "# plt.xticks(range(len(ps)), ps.numpy(), rotation=30)\n",
    "# plt.yticks(\n",
    "#     range(len(dims)),\n",
    "#     dims,\n",
    "# )"
   ]
  },
  {
   "cell_type": "code",
   "execution_count": null,
   "metadata": {},
   "outputs": [],
   "source": []
  }
 ],
 "metadata": {
  "kernelspec": {
   "display_name": "logan",
   "language": "python",
   "name": "python3"
  },
  "language_info": {
   "codemirror_mode": {
    "name": "ipython",
    "version": 3
   },
   "file_extension": ".py",
   "mimetype": "text/x-python",
   "name": "python",
   "nbconvert_exporter": "python",
   "pygments_lexer": "ipython3",
   "version": "3.10.13"
  },
  "orig_nbformat": 4
 },
 "nbformat": 4,
 "nbformat_minor": 2
}
