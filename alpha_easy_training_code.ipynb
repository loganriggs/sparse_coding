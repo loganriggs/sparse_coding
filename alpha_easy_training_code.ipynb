{
 "cells": [
  {
   "cell_type": "code",
   "execution_count": 1,
   "metadata": {},
   "outputs": [
    {
     "name": "stderr",
     "output_type": "stream",
     "text": [
      "/root/logan/lib/python3.10/site-packages/tqdm/auto.py:21: TqdmWarning: IProgress not found. Please update jupyter and ipywidgets. See https://ipywidgets.readthedocs.io/en/stable/user_install.html\n",
      "  from .autonotebook import tqdm as notebook_tqdm\n"
     ]
    }
   ],
   "source": [
    "import torch \n",
    "import argparse\n",
    "from utils import dotdict\n",
    "from activation_dataset import setup_token_data\n",
    "import wandb\n",
    "import json\n",
    "from datetime import datetime\n",
    "from tqdm import tqdm\n",
    "from einops import rearrange\n",
    "# from standard_metrics import run_with_model_intervention, perplexity_under_reconstruction, mean_nonzero_activations\n",
    "# Create \n",
    "# # make an argument parser directly below\n",
    "# parser = argparse.ArgumentParser()\n",
    "# parser.add_argument(\"--model_name\", type=str, default=\"EleutherAI/pythia-70m-deduped\")\n",
    "# parser.add_argument(\"--layer\", type=int, default=4)\n",
    "# parser.add_argument(\"--setting\", type=str, default=\"residual\")\n",
    "# parser.add_argument(\"--l1_alpha\", type=float, default=3e-3)\n",
    "# parser.add_argument(\"--num_epochs\", type=int, default=10)\n",
    "# parser.add_argument(\"--model_batch_size\", type=int, default=4)\n",
    "# parser.add_argument(\"--lr\", type=float, default=1e-3)\n",
    "# parser.add_argument(\"--kl\", type=bool, default=False)\n",
    "# parser.add_argument(\"--reconstruction\", type=bool, default=False)\n",
    "# parser.add_argument(\"--dataset_name\", type=str, default=\"NeelNanda/pile-10k\")\n",
    "# parser.add_argument(\"--device\", type=str, default=\"cuda:4\")\n",
    "\n",
    "# args = parser.parse_args()\n",
    "cfg = dotdict()\n",
    "cfg.model_name=\"EleutherAI/pythia-70m-deduped\"\n",
    "# cfg.model_name=\"usvsnsp/pythia-6.9b-rm-full-hh-rlhf\"\n",
    "# cfg.model_name=\"reciprocate/dahoas-gptj-rm-static\"\n",
    "cfg.layers=[1,2]\n",
    "cfg.setting=\"residual\"\n",
    "cfg.tensor_name=\"gpt_neox.layers.{layer}\"\n",
    "# cfg.tensor_name=\"transformer.h.{layer}\"\n",
    "cfg.l1_alpha=8e-4\n",
    "cfg.sparsity=None\n",
    "cfg.num_epochs=10\n",
    "cfg.model_batch_size=4\n",
    "cfg.lr=1e-3\n",
    "cfg.kl=False\n",
    "cfg.reconstruction=False\n",
    "cfg.dataset_name=\"NeelNanda/pile-10k\"\n",
    "# cfg.dataset_name=\"Skylion007/openwebtext\"\n",
    "# cfg.dataset_name=\"Elriggs/openwebtext-100k\"\n",
    "cfg.device=\"cuda:0\"\n",
    "cfg.ratio = 4\n",
    "# cfg.device=\"cpu\""
   ]
  },
  {
   "cell_type": "code",
   "execution_count": 2,
   "metadata": {},
   "outputs": [],
   "source": [
    "tensor_names = [cfg.tensor_name.format(layer=layer) for layer in cfg.layers]"
   ]
  },
  {
   "cell_type": "code",
   "execution_count": 3,
   "metadata": {},
   "outputs": [
    {
     "data": {
      "text/plain": [
       "GPTNeoXForCausalLM(\n",
       "  (gpt_neox): GPTNeoXModel(\n",
       "    (embed_in): Embedding(50304, 512)\n",
       "    (layers): ModuleList(\n",
       "      (0-5): 6 x GPTNeoXLayer(\n",
       "        (input_layernorm): LayerNorm((512,), eps=1e-05, elementwise_affine=True)\n",
       "        (post_attention_layernorm): LayerNorm((512,), eps=1e-05, elementwise_affine=True)\n",
       "        (attention): GPTNeoXAttention(\n",
       "          (rotary_emb): RotaryEmbedding()\n",
       "          (query_key_value): Linear(in_features=512, out_features=1536, bias=True)\n",
       "          (dense): Linear(in_features=512, out_features=512, bias=True)\n",
       "        )\n",
       "        (mlp): GPTNeoXMLP(\n",
       "          (dense_h_to_4h): Linear(in_features=512, out_features=2048, bias=True)\n",
       "          (dense_4h_to_h): Linear(in_features=2048, out_features=512, bias=True)\n",
       "          (act): GELUActivation()\n",
       "        )\n",
       "      )\n",
       "    )\n",
       "    (final_layer_norm): LayerNorm((512,), eps=1e-05, elementwise_affine=True)\n",
       "  )\n",
       "  (embed_out): Linear(in_features=512, out_features=50304, bias=False)\n",
       ")"
      ]
     },
     "execution_count": 3,
     "metadata": {},
     "output_type": "execute_result"
    }
   ],
   "source": [
    "# Load in the model\n",
    "from transformers import AutoModelForCausalLM, AutoTokenizer\n",
    "model = AutoModelForCausalLM.from_pretrained(cfg.model_name).to(cfg.device)\n",
    "tokenizer = AutoTokenizer.from_pretrained(cfg.model_name)\n",
    "model"
   ]
  },
  {
   "cell_type": "code",
   "execution_count": 4,
   "metadata": {},
   "outputs": [
    {
     "name": "stderr",
     "output_type": "stream",
     "text": [
      "Found cached dataset parquet (/root/.cache/huggingface/datasets/NeelNanda___parquet/NeelNanda--pile-10k-72f566e9f7c464ab/0.0.0/2a3b91fbd88a2c90d1dbbb32b460cf621d31bd5b05b934492fdef7d8d6f236ec)\n",
      "Loading cached processed dataset at /root/.cache/huggingface/datasets/NeelNanda___parquet/NeelNanda--pile-10k-72f566e9f7c464ab/0.0.0/2a3b91fbd88a2c90d1dbbb32b460cf621d31bd5b05b934492fdef7d8d6f236ec/cache-bf32bd9ecc05cbbb_*_of_00008.arrow\n"
     ]
    },
    {
     "name": "stdout",
     "output_type": "stream",
     "text": [
      "Number of tokens: 15360000\n"
     ]
    }
   ],
   "source": [
    "# Download the dataset\n",
    "# TODO iteratively grab dataset?\n",
    "cfg.max_length = 256\n",
    "cfg.model_batch_size = 4\n",
    "token_loader = setup_token_data(cfg, tokenizer, model)\n",
    "num_tokens = cfg.max_length*cfg.model_batch_size*len(token_loader)\n",
    "print(f\"Number of tokens: {num_tokens}\")"
   ]
  },
  {
   "cell_type": "code",
   "execution_count": 5,
   "metadata": {},
   "outputs": [
    {
     "name": "stdout",
     "output_type": "stream",
     "text": [
      "Activation size: 512\n"
     ]
    }
   ],
   "source": [
    "# Run 1 datapoint on model to get the activation size (cause don't want to deal w/ different naming schemes in config files)\n",
    "from baukit import Trace\n",
    "\n",
    "text = \"1\"\n",
    "tokens = tokenizer(text, return_tensors=\"pt\").input_ids.to(cfg.device)\n",
    "# Your activation name will be different. In the next cells, we will show you how to find it.\n",
    "with torch.no_grad():\n",
    "    with Trace(model, tensor_names[0]) as ret:\n",
    "        _ = model(tokens)\n",
    "        representation = ret.output\n",
    "        # check if instance tuple\n",
    "        if(isinstance(representation, tuple)):\n",
    "            representation = representation[0]\n",
    "        activation_size = representation.shape[-1]\n",
    "print(f\"Activation size: {activation_size}\")"
   ]
  },
  {
   "cell_type": "code",
   "execution_count": 6,
   "metadata": {},
   "outputs": [],
   "source": [
    "from torch import nn\n",
    "from torchtyping import TensorType\n",
    "\n",
    "\n",
    "class TiedSAE(nn.Module):\n",
    "    def __init__(self, activation_size, n_dict_components):\n",
    "        super().__init__()\n",
    "        self.encoder = nn.Parameter(torch.empty((n_dict_components, activation_size)))\n",
    "        nn.init.xavier_uniform_(self.encoder)\n",
    "        self.encoder_bias = nn.Parameter(torch.zeros((n_dict_components,)))\n",
    "\n",
    "    def get_learned_dict(self):\n",
    "        norms = torch.norm(self.encoder, 2, dim=-1)\n",
    "        return self.encoder / torch.clamp(norms, 1e-8)[:, None]\n",
    "\n",
    "    def to_device(self, device):\n",
    "        self.encoder = self.encoder.to(device)\n",
    "        self.encoder_bias = self.encoder_bias.to(device)\n",
    "\n",
    "    def encode(self, batch):\n",
    "        c = torch.einsum(\"nd,bd->bn\", self.encoder, batch)\n",
    "        c = c + self.encoder_bias\n",
    "        c = torch.clamp(c, min=0.0)\n",
    "        return c\n",
    "\n",
    "    def decode(self, code: TensorType[\"_batch_size\", \"_n_dict_components\"]) -> TensorType[\"_batch_size\", \"_activation_size\"]:\n",
    "        learned_dict = self.get_learned_dict()\n",
    "        x_hat = torch.einsum(\"nd,bn->bd\", learned_dict, code)\n",
    "        return x_hat\n",
    "\n",
    "    def forward(self, batch: TensorType[\"_batch_size\", \"_activation_size\"]) -> TensorType[\"_batch_size\", \"_activation_size\"]:\n",
    "        c = self.encode(batch)\n",
    "        x_hat = self.decode(c)\n",
    "        return x_hat, c\n",
    "\n",
    "    def n_dict_components(self):\n",
    "        return self.get_learned_dict().shape[0]\n",
    "\n",
    "n_dict_components = activation_size*cfg.ratio\n",
    "all_autoencoders = [TiedSAE(activation_size, n_dict_components).to(cfg.device) for _ in range(len(tensor_names))]"
   ]
  },
  {
   "cell_type": "code",
   "execution_count": 36,
   "metadata": {},
   "outputs": [],
   "source": [
    "optimizers = [torch.optim.Adam(autoencoder.parameters(), lr=cfg.learning_rate) for autoencoder in all_autoencoders]"
   ]
  },
  {
   "cell_type": "code",
   "execution_count": 30,
   "metadata": {},
   "outputs": [
    {
     "data": {
      "text/plain": [
       "[]"
      ]
     },
     "execution_count": 30,
     "metadata": {},
     "output_type": "execute_result"
    }
   ],
   "source": [
    "list(all_autoencoders[1].parameters())"
   ]
  },
  {
   "cell_type": "code",
   "execution_count": 14,
   "metadata": {},
   "outputs": [],
   "source": [
    "# # Initialize New autoencoder\n",
    "# from autoencoders.learned_dict import TiedSAE\n",
    "# from torch import nn\n",
    "# params = dict()\n",
    "# n_dict_components = activation_size*cfg.ratio\n",
    "# params[\"encoder\"] = torch.empty((n_dict_components, activation_size), device=cfg.device)\n",
    "# nn.init.xavier_uniform_(params[\"encoder\"])\n",
    "\n",
    "# params[\"encoder_bias\"] = torch.empty((n_dict_components,), device=cfg.device)\n",
    "# nn.init.zeros_(params[\"encoder_bias\"])\n",
    "\n",
    "# autoencoder = TiedSAE(\n",
    "#     # n_feats = n_dict_components, \n",
    "#     # activation_size=activation_size,\n",
    "#     encoder=params[\"encoder\"],\n",
    "#     encoder_bias=params[\"encoder_bias\"],\n",
    "# )\n",
    "# autoencoder.to_device(cfg.device)"
   ]
  },
  {
   "cell_type": "code",
   "execution_count": 16,
   "metadata": {},
   "outputs": [
    {
     "name": "stderr",
     "output_type": "stream",
     "text": [
      "\u001b[34m\u001b[1mwandb\u001b[0m: \u001b[33mWARNING\u001b[0m Calling wandb.login() after wandb.init() has no effect.\n"
     ]
    },
    {
     "name": "stdout",
     "output_type": "stream",
     "text": [
      "WARNING: Only works on tied SAE\n",
      "wandb_run_name: reciprocate/dahoas-gptj-rm-static_1023-171456_409\n"
     ]
    },
    {
     "data": {
      "text/html": [
       "Finishing last run (ID:rahsicvy) before initializing another..."
      ],
      "text/plain": [
       "<IPython.core.display.HTML object>"
      ]
     },
     "metadata": {},
     "output_type": "display_data"
    },
    {
     "data": {
      "text/html": [
       "Waiting for W&B process to finish... <strong style=\"color:green\">(success).</strong>"
      ],
      "text/plain": [
       "<IPython.core.display.HTML object>"
      ]
     },
     "metadata": {},
     "output_type": "display_data"
    },
    {
     "data": {
      "text/html": [
       "<style>\n",
       "    table.wandb td:nth-child(1) { padding: 0 10px; text-align: left ; width: auto;} td:nth-child(2) {text-align: left ; width: 100%}\n",
       "    .wandb-row { display: flex; flex-direction: row; flex-wrap: wrap; justify-content: flex-start; width: 100% }\n",
       "    .wandb-col { display: flex; flex-direction: column; flex-basis: 100%; flex: 1; padding: 10px; }\n",
       "    </style>\n",
       "<div class=\"wandb-row\"><div class=\"wandb-col\"><h3>Run history:</h3><br/><table class=\"wandb\"><tr><td>Dead Features</td><td>▁▁▅▅▅▅▅▅█</td></tr><tr><td>L1 Loss</td><td>█▂▁▁▁▁▁▁▁</td></tr><tr><td>Reconstruction Loss</td><td>█▁▂▁▁▁▁▁▁</td></tr><tr><td>Self Similarity</td><td>█▁▇▇▇▇▇▇█</td></tr><tr><td>Sparsity</td><td>█▁▁▁▁▁▁▁▁</td></tr><tr><td>Tokens</td><td>▁▂▃▄▅▆▇█▁</td></tr><tr><td>Total Loss</td><td>█▁▂▁▁▁▁▁▁</td></tr><tr><td>l1_alpha</td><td>▁▁▁▁▁▁▁▁▁</td></tr></table><br/></div><div class=\"wandb-col\"><h3>Run summary:</h3><br/><table class=\"wandb\"><tr><td>Dead Features</td><td>9693</td></tr><tr><td>L1 Loss</td><td>0.10886</td></tr><tr><td>Reconstruction Loss</td><td>0.60398</td></tr><tr><td>Self Similarity</td><td>1.0</td></tr><tr><td>Sparsity</td><td>40.69141</td></tr><tr><td>Tokens</td><td>0</td></tr><tr><td>Total Loss</td><td>0.71283</td></tr><tr><td>l1_alpha</td><td>0.0008</td></tr></table><br/></div></div>"
      ],
      "text/plain": [
       "<IPython.core.display.HTML object>"
      ]
     },
     "metadata": {},
     "output_type": "display_data"
    },
    {
     "data": {
      "text/html": [
       " View run <strong style=\"color:#cdcd00\">reciprocate/dahoas-gptj-rm-static_1023-165445_409</strong> at: <a href='https://wandb.ai/sparse_coding/sparse%20coding/runs/rahsicvy' target=\"_blank\">https://wandb.ai/sparse_coding/sparse%20coding/runs/rahsicvy</a><br/>Synced 5 W&B file(s), 0 media file(s), 0 artifact file(s) and 0 other file(s)"
      ],
      "text/plain": [
       "<IPython.core.display.HTML object>"
      ]
     },
     "metadata": {},
     "output_type": "display_data"
    },
    {
     "data": {
      "text/html": [
       "Find logs at: <code>./wandb/run-20231023_165445-rahsicvy/logs</code>"
      ],
      "text/plain": [
       "<IPython.core.display.HTML object>"
      ]
     },
     "metadata": {},
     "output_type": "display_data"
    },
    {
     "data": {
      "text/html": [
       "Successfully finished last run (ID:rahsicvy). Initializing new run:<br/>"
      ],
      "text/plain": [
       "<IPython.core.display.HTML object>"
      ]
     },
     "metadata": {},
     "output_type": "display_data"
    },
    {
     "data": {
      "text/html": [
       "wandb version 0.15.12 is available!  To upgrade, please run:\n",
       " $ pip install wandb --upgrade"
      ],
      "text/plain": [
       "<IPython.core.display.HTML object>"
      ]
     },
     "metadata": {},
     "output_type": "display_data"
    },
    {
     "data": {
      "text/html": [
       "Tracking run with wandb version 0.15.3"
      ],
      "text/plain": [
       "<IPython.core.display.HTML object>"
      ]
     },
     "metadata": {},
     "output_type": "display_data"
    },
    {
     "data": {
      "text/html": [
       "Run data is saved locally in <code>/root/sparse_coding/wandb/run-20231023_171456-n0g8jn1c</code>"
      ],
      "text/plain": [
       "<IPython.core.display.HTML object>"
      ]
     },
     "metadata": {},
     "output_type": "display_data"
    },
    {
     "data": {
      "text/html": [
       "Syncing run <strong><a href='https://wandb.ai/sparse_coding/sparse%20coding/runs/n0g8jn1c' target=\"_blank\">reciprocate/dahoas-gptj-rm-static_1023-171456_409</a></strong> to <a href='https://wandb.ai/sparse_coding/sparse%20coding' target=\"_blank\">Weights & Biases</a> (<a href='https://wandb.me/run' target=\"_blank\">docs</a>)<br/>"
      ],
      "text/plain": [
       "<IPython.core.display.HTML object>"
      ]
     },
     "metadata": {},
     "output_type": "display_data"
    },
    {
     "data": {
      "text/html": [
       " View project at <a href='https://wandb.ai/sparse_coding/sparse%20coding' target=\"_blank\">https://wandb.ai/sparse_coding/sparse%20coding</a>"
      ],
      "text/plain": [
       "<IPython.core.display.HTML object>"
      ]
     },
     "metadata": {},
     "output_type": "display_data"
    },
    {
     "data": {
      "text/html": [
       " View run at <a href='https://wandb.ai/sparse_coding/sparse%20coding/runs/n0g8jn1c' target=\"_blank\">https://wandb.ai/sparse_coding/sparse%20coding/runs/n0g8jn1c</a>"
      ],
      "text/plain": [
       "<IPython.core.display.HTML object>"
      ]
     },
     "metadata": {},
     "output_type": "display_data"
    },
    {
     "data": {
      "text/html": [
       "<button onClick=\"this.nextSibling.style.display='block';this.style.display='none';\">Display W&B run</button><iframe src='https://wandb.ai/sparse_coding/sparse%20coding/runs/n0g8jn1c?jupyter=true' style='border:none;width:100%;height:420px;display:none;'></iframe>"
      ],
      "text/plain": [
       "<wandb.sdk.wandb_run.Run at 0x7fc9e66b2fb0>"
      ]
     },
     "execution_count": 16,
     "metadata": {},
     "output_type": "execute_result"
    }
   ],
   "source": [
    "print(\"WARNING: Only works on tied SAE\")\n",
    "# Set gradient to true for encoder & bias\n",
    "autoencoder.encoder.requires_grad = True\n",
    "autoencoder.encoder_bias.requires_grad = True\n",
    "optimizer = torch.optim.Adam([autoencoder.encoder, autoencoder.encoder_bias], lr=1e-3)\n",
    "# Wandb setup\n",
    "secrets = json.load(open(\"secrets.json\"))\n",
    "wandb.login(key=secrets[\"wandb_key\"])\n",
    "start_time = datetime.now().strftime(\"%Y%m%d-%H%M%S\")\n",
    "wandb_run_name = f\"{cfg.model_name}_{start_time[4:]}_{cfg.sparsity}\"  # trim year\n",
    "print(f\"wandb_run_name: {wandb_run_name}\")\n",
    "wandb.init(project=\"sparse coding\", config=dict(cfg), name=wandb_run_name, entity=\"sparse_coding\")"
   ]
  },
  {
   "cell_type": "code",
   "execution_count": 17,
   "metadata": {},
   "outputs": [
    {
     "name": "stdout",
     "output_type": "stream",
     "text": [
      "Sparsity: 8249.7 | Dead Features: 2 | Total Loss: 16.97 | Reconstruction Loss: 13.40 | L1 Loss: 3.57 | l1_alpha: 8.00e-04 | Tokens: 0 | Self Similarity: 1.00\n",
      "Saved model to trained_models/dahoas-gptj-rm-static_sp409_r4_transformer.h.4_3\n",
      "Saved model to trained_models/dahoas-gptj-rm-static_sp409_r4_transformer.h.4_10\n",
      "Saved model to trained_models/dahoas-gptj-rm-static_sp409_r4_transformer.h.4_32\n",
      "Saved model to trained_models/dahoas-gptj-rm-static_sp409_r4_transformer.h.4_104\n",
      "Sparsity: 288.7 | Dead Features: 1 | Total Loss: 0.57 | Reconstruction Loss: 0.30 | L1 Loss: 0.27 | l1_alpha: 8.00e-04 | Tokens: 204800 | Self Similarity: 0.89\n",
      "Saved model to trained_models/dahoas-gptj-rm-static_sp409_r4_transformer.h.4_332\n",
      "Sparsity: 144.7 | Dead Features: 5774 | Total Loss: 0.37 | Reconstruction Loss: 0.23 | L1 Loss: 0.13 | l1_alpha: 8.00e-04 | Tokens: 409600 | Self Similarity: 0.99\n",
      "Sparsity: 103.8 | Dead Features: 6558 | Total Loss: 0.52 | Reconstruction Loss: 0.37 | L1 Loss: 0.15 | l1_alpha: 8.00e-04 | Tokens: 614400 | Self Similarity: 0.99\n",
      "Sparsity: 70.0 | Dead Features: 6355 | Total Loss: 0.52 | Reconstruction Loss: 0.43 | L1 Loss: 0.10 | l1_alpha: 8.00e-04 | Tokens: 819200 | Self Similarity: 0.99\n",
      "Sparsity: 72.9 | Dead Features: 6449 | Total Loss: 0.34 | Reconstruction Loss: 0.25 | L1 Loss: 0.10 | l1_alpha: 8.00e-04 | Tokens: 1024000 | Self Similarity: 0.99\n",
      "Saved model to trained_models/dahoas-gptj-rm-static_sp409_r4_transformer.h.4_1060\n",
      "Sparsity: 80.8 | Dead Features: 6537 | Total Loss: 0.36 | Reconstruction Loss: 0.28 | L1 Loss: 0.08 | l1_alpha: 8.00e-04 | Tokens: 1228800 | Self Similarity: 0.99\n",
      "Sparsity: 55.0 | Dead Features: 6375 | Total Loss: 0.31 | Reconstruction Loss: 0.23 | L1 Loss: 0.08 | l1_alpha: 8.00e-04 | Tokens: 1433600 | Self Similarity: 0.99\n",
      "Sparsity: 51.2 | Dead Features: 6505 | Total Loss: 0.37 | Reconstruction Loss: 0.28 | L1 Loss: 0.10 | l1_alpha: 8.00e-04 | Tokens: 1638400 | Self Similarity: 0.99\n",
      "Sparsity: 35.1 | Dead Features: 6402 | Total Loss: 0.30 | Reconstruction Loss: 0.23 | L1 Loss: 0.08 | l1_alpha: 8.00e-04 | Tokens: 1843200 | Self Similarity: 0.99\n",
      "Sparsity: 40.3 | Dead Features: 6272 | Total Loss: 0.30 | Reconstruction Loss: 0.21 | L1 Loss: 0.09 | l1_alpha: 8.00e-04 | Tokens: 2048000 | Self Similarity: 0.99\n",
      "Sparsity: 33.3 | Dead Features: 6306 | Total Loss: 0.29 | Reconstruction Loss: 0.21 | L1 Loss: 0.09 | l1_alpha: 8.00e-04 | Tokens: 2252800 | Self Similarity: 0.99\n",
      "Sparsity: 24.0 | Dead Features: 6127 | Total Loss: 0.26 | Reconstruction Loss: 0.18 | L1 Loss: 0.08 | l1_alpha: 8.00e-04 | Tokens: 2457600 | Self Similarity: 0.99\n",
      "Sparsity: 34.0 | Dead Features: 6116 | Total Loss: 0.32 | Reconstruction Loss: 0.23 | L1 Loss: 0.09 | l1_alpha: 8.00e-04 | Tokens: 2662400 | Self Similarity: 0.99\n",
      "Sparsity: 28.1 | Dead Features: 6186 | Total Loss: 0.30 | Reconstruction Loss: 0.21 | L1 Loss: 0.10 | l1_alpha: 8.00e-04 | Tokens: 2867200 | Self Similarity: 0.99\n",
      "Sparsity: 28.7 | Dead Features: 6074 | Total Loss: 0.34 | Reconstruction Loss: 0.25 | L1 Loss: 0.10 | l1_alpha: 8.00e-04 | Tokens: 3072000 | Self Similarity: 0.99\n",
      "Sparsity: 26.1 | Dead Features: 6040 | Total Loss: 0.29 | Reconstruction Loss: 0.21 | L1 Loss: 0.08 | l1_alpha: 8.00e-04 | Tokens: 3276800 | Self Similarity: 0.99\n",
      "Saved model to trained_models/dahoas-gptj-rm-static_sp409_r4_transformer.h.4_3387\n",
      "Sparsity: 28.5 | Dead Features: 6029 | Total Loss: 0.31 | Reconstruction Loss: 0.23 | L1 Loss: 0.08 | l1_alpha: 8.00e-04 | Tokens: 3481600 | Self Similarity: 0.99\n",
      "Sparsity: 22.5 | Dead Features: 6015 | Total Loss: 0.30 | Reconstruction Loss: 0.22 | L1 Loss: 0.08 | l1_alpha: 8.00e-04 | Tokens: 3686400 | Self Similarity: 0.99\n",
      "Sparsity: 21.4 | Dead Features: 5987 | Total Loss: 0.27 | Reconstruction Loss: 0.18 | L1 Loss: 0.09 | l1_alpha: 8.00e-04 | Tokens: 3891200 | Self Similarity: 0.99\n",
      "Sparsity: 23.9 | Dead Features: 5779 | Total Loss: 0.31 | Reconstruction Loss: 0.23 | L1 Loss: 0.08 | l1_alpha: 8.00e-04 | Tokens: 4096000 | Self Similarity: 0.99\n",
      "Sparsity: 25.0 | Dead Features: 5934 | Total Loss: 0.27 | Reconstruction Loss: 0.19 | L1 Loss: 0.08 | l1_alpha: 8.00e-04 | Tokens: 4300800 | Self Similarity: 0.99\n",
      "Sparsity: 25.0 | Dead Features: 5771 | Total Loss: 0.31 | Reconstruction Loss: 0.22 | L1 Loss: 0.09 | l1_alpha: 8.00e-04 | Tokens: 4505600 | Self Similarity: 0.99\n",
      "Sparsity: 23.1 | Dead Features: 5924 | Total Loss: 0.30 | Reconstruction Loss: 0.20 | L1 Loss: 0.10 | l1_alpha: 8.00e-04 | Tokens: 4710400 | Self Similarity: 0.99\n",
      "Sparsity: 23.2 | Dead Features: 5819 | Total Loss: 0.31 | Reconstruction Loss: 0.22 | L1 Loss: 0.09 | l1_alpha: 8.00e-04 | Tokens: 4915200 | Self Similarity: 0.99\n",
      "Sparsity: 25.6 | Dead Features: 5809 | Total Loss: 0.36 | Reconstruction Loss: 0.26 | L1 Loss: 0.09 | l1_alpha: 8.00e-04 | Tokens: 5120000 | Self Similarity: 0.98\n",
      "Sparsity: 22.1 | Dead Features: 5671 | Total Loss: 0.38 | Reconstruction Loss: 0.29 | L1 Loss: 0.10 | l1_alpha: 8.00e-04 | Tokens: 5324800 | Self Similarity: 0.99\n",
      "Sparsity: 21.3 | Dead Features: 5562 | Total Loss: 0.28 | Reconstruction Loss: 0.19 | L1 Loss: 0.09 | l1_alpha: 8.00e-04 | Tokens: 5529600 | Self Similarity: 0.99\n",
      "Sparsity: 22.5 | Dead Features: 5606 | Total Loss: 0.30 | Reconstruction Loss: 0.20 | L1 Loss: 0.10 | l1_alpha: 8.00e-04 | Tokens: 5734400 | Self Similarity: 0.98\n",
      "Sparsity: 23.5 | Dead Features: 5528 | Total Loss: 0.31 | Reconstruction Loss: 0.21 | L1 Loss: 0.09 | l1_alpha: 8.00e-04 | Tokens: 5939200 | Self Similarity: 0.98\n",
      "Sparsity: 20.4 | Dead Features: 5398 | Total Loss: 0.29 | Reconstruction Loss: 0.18 | L1 Loss: 0.11 | l1_alpha: 8.00e-04 | Tokens: 6144000 | Self Similarity: 0.98\n",
      "Sparsity: 18.5 | Dead Features: 5366 | Total Loss: 0.25 | Reconstruction Loss: 0.16 | L1 Loss: 0.08 | l1_alpha: 8.00e-04 | Tokens: 6348800 | Self Similarity: 0.98\n",
      "Sparsity: 18.5 | Dead Features: 5377 | Total Loss: 0.26 | Reconstruction Loss: 0.17 | L1 Loss: 0.09 | l1_alpha: 8.00e-04 | Tokens: 6553600 | Self Similarity: 0.98\n",
      "Sparsity: 19.9 | Dead Features: 5337 | Total Loss: 0.30 | Reconstruction Loss: 0.21 | L1 Loss: 0.09 | l1_alpha: 8.00e-04 | Tokens: 6758400 | Self Similarity: 0.98\n",
      "Sparsity: 19.5 | Dead Features: 5254 | Total Loss: 0.26 | Reconstruction Loss: 0.18 | L1 Loss: 0.08 | l1_alpha: 8.00e-04 | Tokens: 6963200 | Self Similarity: 0.98\n",
      "Sparsity: 20.8 | Dead Features: 5203 | Total Loss: 0.33 | Reconstruction Loss: 0.22 | L1 Loss: 0.10 | l1_alpha: 8.00e-04 | Tokens: 7168000 | Self Similarity: 0.98\n",
      "Sparsity: 20.9 | Dead Features: 5255 | Total Loss: 0.29 | Reconstruction Loss: 0.20 | L1 Loss: 0.09 | l1_alpha: 8.00e-04 | Tokens: 7372800 | Self Similarity: 0.98\n",
      "Sparsity: 22.2 | Dead Features: 5133 | Total Loss: 0.33 | Reconstruction Loss: 0.23 | L1 Loss: 0.10 | l1_alpha: 8.00e-04 | Tokens: 7577600 | Self Similarity: 0.98\n",
      "Sparsity: 19.4 | Dead Features: 5109 | Total Loss: 0.28 | Reconstruction Loss: 0.19 | L1 Loss: 0.09 | l1_alpha: 8.00e-04 | Tokens: 7782400 | Self Similarity: 0.98\n",
      "Sparsity: 20.3 | Dead Features: 5087 | Total Loss: 0.28 | Reconstruction Loss: 0.19 | L1 Loss: 0.08 | l1_alpha: 8.00e-04 | Tokens: 7987200 | Self Similarity: 0.98\n",
      "Sparsity: 23.0 | Dead Features: 5024 | Total Loss: 0.30 | Reconstruction Loss: 0.21 | L1 Loss: 0.10 | l1_alpha: 8.00e-04 | Tokens: 8192000 | Self Similarity: 0.98\n",
      "Sparsity: 20.3 | Dead Features: 4984 | Total Loss: 0.28 | Reconstruction Loss: 0.19 | L1 Loss: 0.09 | l1_alpha: 8.00e-04 | Tokens: 8396800 | Self Similarity: 0.98\n",
      "Sparsity: 19.9 | Dead Features: 4964 | Total Loss: 0.27 | Reconstruction Loss: 0.18 | L1 Loss: 0.09 | l1_alpha: 8.00e-04 | Tokens: 8601600 | Self Similarity: 0.98\n",
      "Sparsity: 19.1 | Dead Features: 4877 | Total Loss: 0.28 | Reconstruction Loss: 0.19 | L1 Loss: 0.09 | l1_alpha: 8.00e-04 | Tokens: 8806400 | Self Similarity: 0.98\n",
      "Sparsity: 18.8 | Dead Features: 4831 | Total Loss: 0.28 | Reconstruction Loss: 0.19 | L1 Loss: 0.09 | l1_alpha: 8.00e-04 | Tokens: 9011200 | Self Similarity: 0.98\n",
      "Sparsity: 19.2 | Dead Features: 4496 | Total Loss: 0.29 | Reconstruction Loss: 0.20 | L1 Loss: 0.08 | l1_alpha: 8.00e-04 | Tokens: 9216000 | Self Similarity: 0.97\n",
      "Sparsity: 18.2 | Dead Features: 4499 | Total Loss: 0.27 | Reconstruction Loss: 0.18 | L1 Loss: 0.09 | l1_alpha: 8.00e-04 | Tokens: 9420800 | Self Similarity: 0.97\n",
      "Sparsity: 21.1 | Dead Features: 4638 | Total Loss: 0.34 | Reconstruction Loss: 0.26 | L1 Loss: 0.08 | l1_alpha: 8.00e-04 | Tokens: 9625600 | Self Similarity: 0.98\n",
      "Sparsity: 17.4 | Dead Features: 4730 | Total Loss: 0.24 | Reconstruction Loss: 0.16 | L1 Loss: 0.08 | l1_alpha: 8.00e-04 | Tokens: 9830400 | Self Similarity: 0.98\n",
      "Sparsity: 17.2 | Dead Features: 4661 | Total Loss: 0.24 | Reconstruction Loss: 0.16 | L1 Loss: 0.08 | l1_alpha: 8.00e-04 | Tokens: 10035200 | Self Similarity: 0.98\n",
      "Sparsity: 18.9 | Dead Features: 4664 | Total Loss: 0.27 | Reconstruction Loss: 0.18 | L1 Loss: 0.09 | l1_alpha: 8.00e-04 | Tokens: 10240000 | Self Similarity: 0.98\n",
      "Sparsity: 18.1 | Dead Features: 4532 | Total Loss: 0.25 | Reconstruction Loss: 0.16 | L1 Loss: 0.09 | l1_alpha: 8.00e-04 | Tokens: 10444800 | Self Similarity: 0.97\n",
      "Sparsity: 18.9 | Dead Features: 4584 | Total Loss: 0.27 | Reconstruction Loss: 0.18 | L1 Loss: 0.09 | l1_alpha: 8.00e-04 | Tokens: 10649600 | Self Similarity: 0.98\n",
      "Sparsity: 17.1 | Dead Features: 4644 | Total Loss: 0.27 | Reconstruction Loss: 0.18 | L1 Loss: 0.10 | l1_alpha: 8.00e-04 | Tokens: 10854400 | Self Similarity: 0.98\n",
      "Sparsity: 16.3 | Dead Features: 4739 | Total Loss: 0.26 | Reconstruction Loss: 0.17 | L1 Loss: 0.09 | l1_alpha: 8.00e-04 | Tokens: 11059200 | Self Similarity: 0.98\n",
      "Saved model to trained_models/dahoas-gptj-rm-static_sp409_r4_transformer.h.4_10816\n",
      "Sparsity: 15.6 | Dead Features: 4755 | Total Loss: 0.23 | Reconstruction Loss: 0.15 | L1 Loss: 0.08 | l1_alpha: 8.00e-04 | Tokens: 11264000 | Self Similarity: 0.98\n",
      "Sparsity: 15.8 | Dead Features: 4667 | Total Loss: 0.24 | Reconstruction Loss: 0.15 | L1 Loss: 0.09 | l1_alpha: 8.00e-04 | Tokens: 11468800 | Self Similarity: 0.98\n",
      "Sparsity: 17.3 | Dead Features: 4798 | Total Loss: 0.28 | Reconstruction Loss: 0.19 | L1 Loss: 0.09 | l1_alpha: 8.00e-04 | Tokens: 11673600 | Self Similarity: 0.98\n",
      "Sparsity: 18.6 | Dead Features: 4683 | Total Loss: 0.26 | Reconstruction Loss: 0.16 | L1 Loss: 0.09 | l1_alpha: 8.00e-04 | Tokens: 11878400 | Self Similarity: 0.98\n"
     ]
    }
   ],
   "source": [
    "import numpy as np\n",
    "# Make directory trained_models if it doesn't exist\n",
    "import os\n",
    "if not os.path.exists(\"trained_models\"):\n",
    "    os.makedirs(\"trained_models\")\n",
    "model_save_name = cfg.model_name.split(\"/\")[-1]\n",
    "\n",
    "num_batch = len(token_loader)\n",
    "log_space = np.logspace(0, np.log10(num_batch), 11)  # 11 to get 10 intervals\n",
    "save_batches = [int(x) for x in log_space[1:]]  # Skip the first (0th) interval\n",
    "\n",
    "dead_features = torch.zeros(autoencoder.encoder.shape[0])\n",
    "# max_num_tokens = 100000000\n",
    "# Freeze model parameters \n",
    "model.eval()\n",
    "model.requires_grad_(False)\n",
    "last_encoder = autoencoder.encoder.clone().detach()\n",
    "for i, batch in enumerate(token_loader):\n",
    "    tokens = batch[\"input_ids\"].to(cfg.device)\n",
    "    with torch.no_grad(): # As long as not doing KL divergence, don't need gradients for model\n",
    "        with Trace(model, tensor_names[0]) as ret:\n",
    "            _ = model(tokens)\n",
    "            representation = ret.output\n",
    "            if(isinstance(representation, tuple)):\n",
    "                representation = representation[0]\n",
    "    layer_activations = rearrange(representation, \"b seq d_model -> (b seq) d_model\")\n",
    "\n",
    "    c = autoencoder.encode(layer_activations)\n",
    "    x_hat = autoencoder.decode(c)\n",
    "    \n",
    "    reconstruction_loss = (x_hat - layer_activations).pow(2).mean()\n",
    "    l1_loss = torch.norm(c, 1, dim=-1).mean()\n",
    "    total_loss = reconstruction_loss + cfg.l1_alpha*l1_loss\n",
    "\n",
    "    dead_features += c.sum(dim=0).cpu()\n",
    "    if (i % 200 == 0): # Check here so first check is model w/o change\n",
    "        # self_similarity = torch.cosine_similarity(c, last_encoder, dim=-1).mean().cpu().item()\n",
    "        # Above is wrong, should be similarity between encoder and last encoder\n",
    "        self_similarity = torch.cosine_similarity(autoencoder.encoder, last_encoder, dim=-1).mean().cpu().item()\n",
    "        last_encoder = autoencoder.encoder.clone().detach()\n",
    "        num_tokens_so_far = i*cfg.max_length*cfg.model_batch_size\n",
    "        with torch.no_grad():\n",
    "            sparsity = (c != 0).float().mean(dim=0).sum().cpu().item()\n",
    "            # Count number of dead_features are zero\n",
    "            num_dead_features = (dead_features == 0).sum().item()\n",
    "        print(f\"Sparsity: {sparsity:.1f} | Dead Features: {num_dead_features} | Total Loss: {total_loss:.2f} | Reconstruction Loss: {reconstruction_loss:.2f} | L1 Loss: {cfg.l1_alpha*l1_loss:.2f} | l1_alpha: {cfg.l1_alpha:.2e} | Tokens: {num_tokens_so_far} | Self Similarity: {self_similarity:.2f}\")\n",
    "        wandb.log({\n",
    "            'Sparsity': sparsity,\n",
    "            'Dead Features': num_dead_features,\n",
    "            'Total Loss': total_loss.item(),\n",
    "            'Reconstruction Loss': reconstruction_loss.item(),\n",
    "            'L1 Loss': (cfg.l1_alpha*l1_loss).item(),\n",
    "            'l1_alpha': cfg.l1_alpha,\n",
    "            'Tokens': num_tokens_so_far,\n",
    "            'Self Similarity': self_similarity\n",
    "        })\n",
    "        dead_features = torch.zeros(autoencoder.encoder.shape[0])\n",
    "    # if i in save_batches:\n",
    "    #     save_name = f\"{model_save_name}_sp{cfg.sparsity}_r{cfg.ratio}_{tensor_names[0]}_{i}\"  # trim year\n",
    "    #     torch.save(autoencoder, f\"trained_models/{save_name}.pt\")\n",
    "    #     print(f\"Saved model to trained_models/{save_name}\")\n",
    "        \n",
    "\n",
    "    optimizer.zero_grad()\n",
    "    total_loss.backward()\n",
    "    optimizer.step()\n",
    "\n",
    "    # # Running sparsity check\n",
    "    # if(num_tokens_so_far > 5000000):\n",
    "    #     if(i % 200 == 0):\n",
    "    #         with torch.no_grad():\n",
    "    #             sparsity = (c != 0).float().mean(dim=0).sum().cpu().item()\n",
    "    #         if sparsity > target_upper_sparsity:\n",
    "    #             cfg.l1_alpha *= (1 + adjustment_factor)\n",
    "    #         elif sparsity < target_lower_sparsity:\n",
    "    #             cfg.l1_alpha *= (1 - adjustment_factor)\n",
    "            # print(f\"Sparsity: {sparsity:.1f} | l1_alpha: {cfg.l1_alpha:.2e}\")"
   ]
  },
  {
   "cell_type": "code",
   "execution_count": 1,
   "metadata": {},
   "outputs": [
    {
     "ename": "NameError",
     "evalue": "name 'wandb' is not defined",
     "output_type": "error",
     "traceback": [
      "\u001b[0;31m---------------------------------------------------------------------------\u001b[0m",
      "\u001b[0;31mNameError\u001b[0m                                 Traceback (most recent call last)",
      "\u001b[1;32m/root/sparse_coding/easy_training_code.ipynb Cell 10\u001b[0m line \u001b[0;36m1\n\u001b[0;32m----> <a href='vscode-notebook-cell://ssh-remote%2B209.137.198.14/root/sparse_coding/easy_training_code.ipynb#X12sdnNjb2RlLXJlbW90ZQ%3D%3D?line=0'>1</a>\u001b[0m wandb\u001b[39m.\u001b[39mfinish()\n",
      "\u001b[0;31mNameError\u001b[0m: name 'wandb' is not defined"
     ]
    }
   ],
   "source": [
    "wandb.finish()"
   ]
  },
  {
   "cell_type": "code",
   "execution_count": 2,
   "metadata": {},
   "outputs": [
    {
     "ename": "NameError",
     "evalue": "name 'model_save_name' is not defined",
     "output_type": "error",
     "traceback": [
      "\u001b[0;31m---------------------------------------------------------------------------\u001b[0m",
      "\u001b[0;31mNameError\u001b[0m                                 Traceback (most recent call last)",
      "\u001b[1;32m/root/sparse_coding/easy_training_code.ipynb Cell 11\u001b[0m line \u001b[0;36m1\n\u001b[0;32m----> <a href='vscode-notebook-cell://ssh-remote%2B209.137.198.14/root/sparse_coding/easy_training_code.ipynb#X13sdnNjb2RlLXJlbW90ZQ%3D%3D?line=0'>1</a>\u001b[0m save_name \u001b[39m=\u001b[39m \u001b[39mf\u001b[39m\u001b[39m\"\u001b[39m\u001b[39m{\u001b[39;00mmodel_save_name\u001b[39m}\u001b[39;00m\u001b[39m_sp\u001b[39m\u001b[39m{\u001b[39;00mcfg\u001b[39m.\u001b[39msparsity\u001b[39m}\u001b[39;00m\u001b[39m_r\u001b[39m\u001b[39m{\u001b[39;00mcfg\u001b[39m.\u001b[39mratio\u001b[39m}\u001b[39;00m\u001b[39m_\u001b[39m\u001b[39m{\u001b[39;00mtensor_names[\u001b[39m0\u001b[39m]\u001b[39m}\u001b[39;00m\u001b[39m\"\u001b[39m  \u001b[39m# trim year\u001b[39;00m\n\u001b[1;32m      <a href='vscode-notebook-cell://ssh-remote%2B209.137.198.14/root/sparse_coding/easy_training_code.ipynb#X13sdnNjb2RlLXJlbW90ZQ%3D%3D?line=3'>4</a>\u001b[0m \u001b[39m# Save model\u001b[39;00m\n\u001b[1;32m      <a href='vscode-notebook-cell://ssh-remote%2B209.137.198.14/root/sparse_coding/easy_training_code.ipynb#X13sdnNjb2RlLXJlbW90ZQ%3D%3D?line=4'>5</a>\u001b[0m torch\u001b[39m.\u001b[39msave(autoencoder, \u001b[39mf\u001b[39m\u001b[39m\"\u001b[39m\u001b[39mtrained_models/\u001b[39m\u001b[39m{\u001b[39;00msave_name\u001b[39m}\u001b[39;00m\u001b[39m.pt\u001b[39m\u001b[39m\"\u001b[39m)\n",
      "\u001b[0;31mNameError\u001b[0m: name 'model_save_name' is not defined"
     ]
    }
   ],
   "source": [
    "save_name = f\"{model_save_name}_sp{cfg.sparsity}_r{cfg.ratio}_{tensor_names[0]}\"  # trim year\n",
    "\n",
    "\n",
    "# Save model\n",
    "torch.save(autoencoder, f\"trained_models/{save_name}.pt\")"
   ]
  }
 ],
 "metadata": {
  "kernelspec": {
   "display_name": "logan",
   "language": "python",
   "name": "python3"
  },
  "language_info": {
   "codemirror_mode": {
    "name": "ipython",
    "version": 3
   },
   "file_extension": ".py",
   "mimetype": "text/x-python",
   "name": "python",
   "nbconvert_exporter": "python",
   "pygments_lexer": "ipython3",
   "version": "3.10.13"
  },
  "orig_nbformat": 4
 },
 "nbformat": 4,
 "nbformat_minor": 2
}
